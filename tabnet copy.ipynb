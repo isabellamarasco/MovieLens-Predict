{
 "cells": [
  {
   "cell_type": "code",
   "execution_count": 28,
   "metadata": {},
   "outputs": [],
   "source": [
    "import pandas as pd\n",
    "import torch\n",
    "import copy\n",
    "import os\n",
    "\n",
    "from sklearn.model_selection import train_test_split\n",
    "from itertools import product\n",
    "from sklearn.metrics import r2_score\n",
    "from torch.utils.tensorboard import SummaryWriter\n",
    "from sklearn.metrics import mean_squared_error\n",
    "from sklearn.model_selection import train_test_split\n",
    "from pytorch_tabnet.tab_model import TabNetRegressor\n"
   ]
  },
  {
   "cell_type": "code",
   "execution_count": 29,
   "metadata": {},
   "outputs": [],
   "source": [
    "device = torch.device(\"cuda:0\" if torch.cuda.is_available() else \"cpu\")"
   ]
  },
  {
   "cell_type": "code",
   "execution_count": 30,
   "metadata": {},
   "outputs": [],
   "source": [
    "#import dataset\n",
    "df = pd.read_csv('dataset-ml-25m/dataset.csv')"
   ]
  },
  {
   "cell_type": "code",
   "execution_count": 31,
   "metadata": {},
   "outputs": [
    {
     "name": "stdout",
     "output_type": "stream",
     "text": [
      "Number of train set:  9946\n",
      "Numebr of test set:  2764\n",
      "Number of validation set:  1106\n"
     ]
    }
   ],
   "source": [
    "# Dividi il dataset in feature e target\n",
    "X = df.drop(['rating'], axis=1).to_numpy()\n",
    "y = df['rating'].to_numpy()\n",
    "\n",
    "# Dividi il dataset in training, validation e test\n",
    "X_train_val, X_test, y_train_val, y_test = train_test_split(X, y, test_size=0.20, random_state=42)\n",
    "X_train, X_val, y_train, y_val = train_test_split(X_train_val, y_train_val, test_size=0.1, random_state=42)\n",
    "\n",
    "y_train = y_train.reshape(-1, 1)\n",
    "y_val = y_val.reshape(-1, 1)\n",
    "#count the numebr of x_train \n",
    "print(\"Number of train set: \", X_train.shape[0])\n",
    "print(\"Numebr of test set: \", X_test.shape[0])\n",
    "print(\"Number of validation set: \", X_val.shape[0])\n"
   ]
  },
  {
   "cell_type": "code",
   "execution_count": 32,
   "metadata": {},
   "outputs": [
    {
     "name": "stdout",
     "output_type": "stream",
     "text": [
      "Number of combinations:  162\n"
     ]
    }
   ],
   "source": [
    "batch_sizes = [8, 16, 32]\n",
    "n_epochs = [200]\n",
    "#dimensionality of the output space of the feature transformer network\n",
    "n_d = [8, 16, 32]\n",
    " #dimensionality of the output space of the attention network\n",
    "n_a = [8, 16, 32]\n",
    "#number of sequential steps in the attention mechanism \n",
    "n_steps = [3, 5, 7]\n",
    "#number of independent networks\n",
    "n_indipendent = [3, 5]\n",
    "params = list(product(batch_sizes, n_epochs, n_d, n_a, n_steps, n_indipendent))\n",
    "comb = len(batch_sizes)*len(n_d)*len(n_a) *len(n_steps) *len(n_indipendent)\n",
    "print(\"Number of combinations: \", comb)"
   ]
  },
  {
   "cell_type": "code",
   "execution_count": 37,
   "metadata": {},
   "outputs": [],
   "source": [
    "def get_model(batch_size, n_epochs, n_d, n_a, n_steps, n_indipendent):\n",
    "    model = TabNetRegressor(\n",
    "        n_d=n_d,\n",
    "        n_a=n_a,\n",
    "        n_steps=n_steps\n",
    "    )\n",
    "    return model"
   ]
  },
  {
   "cell_type": "code",
   "execution_count": 38,
   "metadata": {},
   "outputs": [
    {
     "name": "stdout",
     "output_type": "stream",
     "text": [
      "\n",
      "Iteration 1/162\n",
      "Configuration batch size: 8 - epochs: 200 - n_d: 8 - n_a: 8 - steps: 3 - n_indipendent: 3\n"
     ]
    },
    {
     "name": "stderr",
     "output_type": "stream",
     "text": [
      "/usr/local/lib/python3.9/site-packages/pytorch_tabnet/abstract_model.py:75: UserWarning: Device used : cpu\n",
      "  warnings.warn(f\"Device used : {self.device}\")\n"
     ]
    },
    {
     "name": "stdout",
     "output_type": "stream",
     "text": [
      "epoch 0  | loss: 0.2812  | mse_mse: 0.07043 |  0:00:21s\n",
      "epoch 1  | loss: 0.09894 | mse_mse: 0.27305 |  0:00:42s\n",
      "epoch 2  | loss: 0.0819  | mse_mse: 0.07393 |  0:01:04s\n",
      "epoch 3  | loss: 0.07828 | mse_mse: 0.06278 |  0:01:26s\n",
      "epoch 4  | loss: 0.07167 | mse_mse: 0.05142 |  0:01:47s\n",
      "epoch 5  | loss: 0.07409 | mse_mse: 0.06293 |  0:02:09s\n",
      "epoch 6  | loss: 0.07251 | mse_mse: 0.06103 |  0:02:31s\n",
      "epoch 7  | loss: 0.06916 | mse_mse: 0.0606  |  0:02:53s\n",
      "epoch 8  | loss: 0.06491 | mse_mse: 0.0412  |  0:03:16s\n",
      "epoch 9  | loss: 0.0633  | mse_mse: 0.05938 |  0:03:37s\n",
      "epoch 10 | loss: 0.06093 | mse_mse: 0.10407 |  0:04:00s\n",
      "epoch 11 | loss: 0.06202 | mse_mse: 0.06393 |  0:04:22s\n",
      "epoch 12 | loss: 0.0585  | mse_mse: 0.07598 |  0:04:44s\n",
      "epoch 13 | loss: 0.05858 | mse_mse: 0.07784 |  0:05:06s\n",
      "epoch 14 | loss: 0.06011 | mse_mse: 0.04215 |  0:05:28s\n",
      "epoch 15 | loss: 0.05708 | mse_mse: 0.04663 |  0:05:50s\n",
      "epoch 16 | loss: 0.05288 | mse_mse: 0.0658  |  0:06:12s\n",
      "epoch 17 | loss: 0.04876 | mse_mse: 0.05388 |  0:06:33s\n",
      "epoch 18 | loss: 0.04617 | mse_mse: 0.06094 |  0:06:55s\n",
      "\n",
      "Early stopping occurred at epoch 18 with best_epoch = 8 and best_mse_mse = 0.0412\n"
     ]
    },
    {
     "name": "stderr",
     "output_type": "stream",
     "text": [
      "/usr/local/lib/python3.9/site-packages/pytorch_tabnet/callbacks.py:172: UserWarning: Best weights from best epoch are automatically used!\n",
      "  warnings.warn(wrn_msg)\n"
     ]
    },
    {
     "name": "stdout",
     "output_type": "stream",
     "text": [
      "MSE: 0.03906676625632957\n",
      "R2 Score: 0.8237584937093532\n",
      "Best model updated\n",
      "\n",
      "Iteration 2/162\n",
      "Configuration batch size: 8 - epochs: 200 - n_d: 8 - n_a: 8 - steps: 3 - n_indipendent: 5\n"
     ]
    },
    {
     "name": "stderr",
     "output_type": "stream",
     "text": [
      "/usr/local/lib/python3.9/site-packages/pytorch_tabnet/abstract_model.py:75: UserWarning: Device used : cpu\n",
      "  warnings.warn(f\"Device used : {self.device}\")\n"
     ]
    },
    {
     "name": "stdout",
     "output_type": "stream",
     "text": [
      "epoch 0  | loss: 0.2812  | mse_mse: 0.07043 |  0:00:21s\n",
      "epoch 1  | loss: 0.09894 | mse_mse: 0.27305 |  0:00:42s\n",
      "epoch 2  | loss: 0.0819  | mse_mse: 0.07393 |  0:01:04s\n",
      "epoch 3  | loss: 0.07828 | mse_mse: 0.06278 |  0:01:26s\n",
      "epoch 4  | loss: 0.07167 | mse_mse: 0.05142 |  0:01:48s\n",
      "epoch 5  | loss: 0.07409 | mse_mse: 0.06293 |  0:02:09s\n",
      "epoch 6  | loss: 0.07251 | mse_mse: 0.06103 |  0:02:33s\n",
      "epoch 7  | loss: 0.06916 | mse_mse: 0.0606  |  0:02:57s\n",
      "epoch 8  | loss: 0.06491 | mse_mse: 0.0412  |  0:03:20s\n",
      "epoch 9  | loss: 0.0633  | mse_mse: 0.05938 |  0:03:42s\n",
      "epoch 10 | loss: 0.06093 | mse_mse: 0.10407 |  0:04:03s\n",
      "epoch 11 | loss: 0.06202 | mse_mse: 0.06393 |  0:04:23s\n",
      "epoch 12 | loss: 0.0585  | mse_mse: 0.07598 |  0:04:45s\n",
      "epoch 13 | loss: 0.05858 | mse_mse: 0.07784 |  0:05:08s\n",
      "epoch 14 | loss: 0.06011 | mse_mse: 0.04215 |  0:05:27s\n",
      "epoch 15 | loss: 0.05708 | mse_mse: 0.04663 |  0:05:47s\n",
      "epoch 16 | loss: 0.05288 | mse_mse: 0.0658  |  0:06:07s\n",
      "epoch 17 | loss: 0.04876 | mse_mse: 0.05388 |  0:06:26s\n",
      "epoch 18 | loss: 0.04617 | mse_mse: 0.06094 |  0:06:47s\n",
      "\n",
      "Early stopping occurred at epoch 18 with best_epoch = 8 and best_mse_mse = 0.0412\n"
     ]
    },
    {
     "name": "stderr",
     "output_type": "stream",
     "text": [
      "/usr/local/lib/python3.9/site-packages/pytorch_tabnet/callbacks.py:172: UserWarning: Best weights from best epoch are automatically used!\n",
      "  warnings.warn(wrn_msg)\n"
     ]
    },
    {
     "name": "stdout",
     "output_type": "stream",
     "text": [
      "MSE: 0.03906676625632957\n",
      "R2 Score: 0.8237584937093532\n",
      "\n",
      "Iteration 3/162\n",
      "Configuration batch size: 8 - epochs: 200 - n_d: 8 - n_a: 8 - steps: 5 - n_indipendent: 3\n"
     ]
    },
    {
     "name": "stderr",
     "output_type": "stream",
     "text": [
      "/usr/local/lib/python3.9/site-packages/pytorch_tabnet/abstract_model.py:75: UserWarning: Device used : cpu\n",
      "  warnings.warn(f\"Device used : {self.device}\")\n"
     ]
    },
    {
     "name": "stdout",
     "output_type": "stream",
     "text": [
      "epoch 0  | loss: 0.32989 | mse_mse: 0.10701 |  0:00:33s\n",
      "epoch 1  | loss: 0.1243  | mse_mse: 0.05393 |  0:01:11s\n",
      "epoch 2  | loss: 0.10353 | mse_mse: 0.04969 |  0:01:52s\n",
      "epoch 3  | loss: 0.08271 | mse_mse: 0.12712 |  0:02:23s\n",
      "epoch 4  | loss: 0.08123 | mse_mse: 0.05545 |  0:02:53s\n",
      "epoch 5  | loss: 0.06399 | mse_mse: 0.03233 |  0:03:31s\n",
      "epoch 6  | loss: 0.06689 | mse_mse: 0.07231 |  0:04:04s\n",
      "epoch 7  | loss: 0.06172 | mse_mse: 0.06111 |  0:04:42s\n",
      "epoch 8  | loss: 0.0577  | mse_mse: 0.06607 |  0:05:20s\n",
      "epoch 9  | loss: 0.05886 | mse_mse: 0.14951 |  0:05:50s\n",
      "epoch 10 | loss: 0.05395 | mse_mse: 0.08354 |  0:06:23s\n",
      "epoch 11 | loss: 0.05284 | mse_mse: 0.07511 |  0:06:58s\n",
      "epoch 12 | loss: 0.05621 | mse_mse: 0.0935  |  0:07:34s\n",
      "epoch 13 | loss: 0.05552 | mse_mse: 0.06438 |  0:08:08s\n",
      "epoch 14 | loss: 0.05408 | mse_mse: 0.07173 |  0:08:46s\n",
      "epoch 15 | loss: 0.05077 | mse_mse: 0.13308 |  0:09:21s\n",
      "\n",
      "Early stopping occurred at epoch 15 with best_epoch = 5 and best_mse_mse = 0.03233\n"
     ]
    },
    {
     "name": "stderr",
     "output_type": "stream",
     "text": [
      "/usr/local/lib/python3.9/site-packages/pytorch_tabnet/callbacks.py:172: UserWarning: Best weights from best epoch are automatically used!\n",
      "  warnings.warn(wrn_msg)\n"
     ]
    },
    {
     "name": "stdout",
     "output_type": "stream",
     "text": [
      "MSE: 0.04079750032981944\n",
      "R2 Score: 0.8159506506414365\n",
      "\n",
      "Iteration 4/162\n",
      "Configuration batch size: 8 - epochs: 200 - n_d: 8 - n_a: 8 - steps: 5 - n_indipendent: 5\n"
     ]
    },
    {
     "name": "stderr",
     "output_type": "stream",
     "text": [
      "/usr/local/lib/python3.9/site-packages/pytorch_tabnet/abstract_model.py:75: UserWarning: Device used : cpu\n",
      "  warnings.warn(f\"Device used : {self.device}\")\n"
     ]
    },
    {
     "name": "stdout",
     "output_type": "stream",
     "text": [
      "epoch 0  | loss: 0.32989 | mse_mse: 0.10701 |  0:00:40s\n",
      "epoch 1  | loss: 0.1243  | mse_mse: 0.05393 |  0:01:14s\n",
      "epoch 2  | loss: 0.10353 | mse_mse: 0.04969 |  0:01:52s\n",
      "epoch 3  | loss: 0.08271 | mse_mse: 0.12712 |  0:02:30s\n",
      "epoch 4  | loss: 0.08123 | mse_mse: 0.05545 |  0:03:04s\n",
      "epoch 5  | loss: 0.06399 | mse_mse: 0.03233 |  0:03:37s\n",
      "epoch 6  | loss: 0.06689 | mse_mse: 0.07231 |  0:04:13s\n",
      "epoch 7  | loss: 0.06172 | mse_mse: 0.06111 |  0:04:54s\n",
      "epoch 8  | loss: 0.0577  | mse_mse: 0.06607 |  0:05:24s\n",
      "epoch 9  | loss: 0.05886 | mse_mse: 0.14951 |  0:05:58s\n",
      "epoch 10 | loss: 0.05395 | mse_mse: 0.08354 |  0:06:30s\n",
      "epoch 11 | loss: 0.05284 | mse_mse: 0.07511 |  0:07:03s\n",
      "epoch 12 | loss: 0.05621 | mse_mse: 0.0935  |  0:07:35s\n",
      "epoch 13 | loss: 0.05552 | mse_mse: 0.06438 |  0:08:08s\n",
      "epoch 14 | loss: 0.05408 | mse_mse: 0.07173 |  0:08:43s\n",
      "epoch 15 | loss: 0.05077 | mse_mse: 0.13308 |  0:09:15s\n",
      "\n",
      "Early stopping occurred at epoch 15 with best_epoch = 5 and best_mse_mse = 0.03233\n"
     ]
    },
    {
     "name": "stderr",
     "output_type": "stream",
     "text": [
      "/usr/local/lib/python3.9/site-packages/pytorch_tabnet/callbacks.py:172: UserWarning: Best weights from best epoch are automatically used!\n",
      "  warnings.warn(wrn_msg)\n"
     ]
    },
    {
     "name": "stdout",
     "output_type": "stream",
     "text": [
      "MSE: 0.04079750032981944\n",
      "R2 Score: 0.8159506506414365\n",
      "\n",
      "Iteration 5/162\n",
      "Configuration batch size: 8 - epochs: 200 - n_d: 8 - n_a: 8 - steps: 7 - n_indipendent: 3\n"
     ]
    },
    {
     "name": "stderr",
     "output_type": "stream",
     "text": [
      "/usr/local/lib/python3.9/site-packages/pytorch_tabnet/abstract_model.py:75: UserWarning: Device used : cpu\n",
      "  warnings.warn(f\"Device used : {self.device}\")\n"
     ]
    },
    {
     "name": "stdout",
     "output_type": "stream",
     "text": [
      "epoch 0  | loss: 0.413   | mse_mse: 0.26688 |  0:00:43s\n",
      "epoch 1  | loss: 0.1496  | mse_mse: 0.07022 |  0:01:27s\n",
      "epoch 2  | loss: 0.10472 | mse_mse: 0.05354 |  0:02:10s\n",
      "epoch 3  | loss: 0.09538 | mse_mse: 0.07538 |  0:02:56s\n",
      "epoch 4  | loss: 0.0774  | mse_mse: 0.05392 |  0:03:44s\n",
      "epoch 5  | loss: 0.07047 | mse_mse: 0.02969 |  0:04:27s\n",
      "epoch 6  | loss: 0.07262 | mse_mse: 0.06631 |  0:05:10s\n",
      "epoch 7  | loss: 0.06294 | mse_mse: 0.04212 |  0:05:52s\n",
      "epoch 8  | loss: 0.06383 | mse_mse: 0.11067 |  0:06:37s\n",
      "epoch 9  | loss: 0.06452 | mse_mse: 0.09964 |  0:07:23s\n",
      "epoch 10 | loss: 0.06508 | mse_mse: 0.05755 |  0:08:07s\n",
      "epoch 11 | loss: 0.05904 | mse_mse: 0.07429 |  0:08:52s\n",
      "epoch 12 | loss: 0.06274 | mse_mse: 0.09884 |  0:09:36s\n",
      "epoch 13 | loss: 0.05744 | mse_mse: 0.08361 |  0:10:20s\n",
      "epoch 14 | loss: 0.06168 | mse_mse: 0.04374 |  0:11:04s\n",
      "epoch 15 | loss: 0.05902 | mse_mse: 0.064   |  0:11:49s\n",
      "\n",
      "Early stopping occurred at epoch 15 with best_epoch = 5 and best_mse_mse = 0.02969\n"
     ]
    },
    {
     "name": "stderr",
     "output_type": "stream",
     "text": [
      "/usr/local/lib/python3.9/site-packages/pytorch_tabnet/callbacks.py:172: UserWarning: Best weights from best epoch are automatically used!\n",
      "  warnings.warn(wrn_msg)\n"
     ]
    },
    {
     "name": "stdout",
     "output_type": "stream",
     "text": [
      "MSE: 0.030171190992568864\n",
      "R2 Score: 0.8638890121536075\n",
      "Best model updated\n",
      "\n",
      "Iteration 6/162\n",
      "Configuration batch size: 8 - epochs: 200 - n_d: 8 - n_a: 8 - steps: 7 - n_indipendent: 5\n"
     ]
    },
    {
     "name": "stderr",
     "output_type": "stream",
     "text": [
      "/usr/local/lib/python3.9/site-packages/pytorch_tabnet/abstract_model.py:75: UserWarning: Device used : cpu\n",
      "  warnings.warn(f\"Device used : {self.device}\")\n"
     ]
    },
    {
     "name": "stdout",
     "output_type": "stream",
     "text": [
      "epoch 0  | loss: 0.413   | mse_mse: 0.26688 |  0:00:44s\n",
      "epoch 1  | loss: 0.1496  | mse_mse: 0.07022 |  0:01:37s\n",
      "epoch 2  | loss: 0.10472 | mse_mse: 0.05354 |  0:02:23s\n",
      "epoch 3  | loss: 0.09538 | mse_mse: 0.07538 |  0:03:09s\n",
      "epoch 4  | loss: 0.0774  | mse_mse: 0.05392 |  0:03:56s\n",
      "epoch 5  | loss: 0.07047 | mse_mse: 0.02969 |  0:04:42s\n",
      "epoch 6  | loss: 0.07262 | mse_mse: 0.06631 |  0:05:36s\n",
      "epoch 7  | loss: 0.06294 | mse_mse: 0.04212 |  0:06:30s\n",
      "epoch 8  | loss: 0.06383 | mse_mse: 0.11067 |  0:07:19s\n",
      "epoch 9  | loss: 0.06452 | mse_mse: 0.09964 |  0:08:10s\n",
      "epoch 10 | loss: 0.06508 | mse_mse: 0.05755 |  0:09:06s\n",
      "epoch 11 | loss: 0.05904 | mse_mse: 0.07429 |  0:09:56s\n",
      "epoch 12 | loss: 0.06274 | mse_mse: 0.09884 |  0:10:59s\n",
      "epoch 13 | loss: 0.05744 | mse_mse: 0.08361 |  0:12:11s\n",
      "epoch 14 | loss: 0.06168 | mse_mse: 0.04374 |  0:13:08s\n",
      "epoch 15 | loss: 0.05902 | mse_mse: 0.064   |  0:13:59s\n",
      "\n",
      "Early stopping occurred at epoch 15 with best_epoch = 5 and best_mse_mse = 0.02969\n"
     ]
    },
    {
     "name": "stderr",
     "output_type": "stream",
     "text": [
      "/usr/local/lib/python3.9/site-packages/pytorch_tabnet/callbacks.py:172: UserWarning: Best weights from best epoch are automatically used!\n",
      "  warnings.warn(wrn_msg)\n"
     ]
    },
    {
     "name": "stdout",
     "output_type": "stream",
     "text": [
      "MSE: 0.030171190992568864\n",
      "R2 Score: 0.8638890121536075\n",
      "\n",
      "Iteration 7/162\n",
      "Configuration batch size: 8 - epochs: 200 - n_d: 8 - n_a: 16 - steps: 3 - n_indipendent: 3\n"
     ]
    },
    {
     "name": "stderr",
     "output_type": "stream",
     "text": [
      "/usr/local/lib/python3.9/site-packages/pytorch_tabnet/abstract_model.py:75: UserWarning: Device used : cpu\n",
      "  warnings.warn(f\"Device used : {self.device}\")\n"
     ]
    },
    {
     "name": "stdout",
     "output_type": "stream",
     "text": [
      "epoch 0  | loss: 0.29786 | mse_mse: 0.14906 |  0:00:24s\n",
      "epoch 1  | loss: 0.09657 | mse_mse: 0.07042 |  0:00:49s\n",
      "epoch 2  | loss: 0.08241 | mse_mse: 0.043   |  0:01:15s\n",
      "epoch 3  | loss: 0.07389 | mse_mse: 0.12278 |  0:01:39s\n",
      "epoch 4  | loss: 0.06574 | mse_mse: 0.05354 |  0:02:04s\n",
      "epoch 5  | loss: 0.07528 | mse_mse: 0.06415 |  0:02:29s\n",
      "epoch 6  | loss: 0.06734 | mse_mse: 0.03089 |  0:02:54s\n",
      "epoch 7  | loss: 0.06899 | mse_mse: 0.03819 |  0:03:19s\n",
      "epoch 8  | loss: 0.06539 | mse_mse: 0.06944 |  0:03:44s\n",
      "epoch 9  | loss: 0.06205 | mse_mse: 0.05463 |  0:04:09s\n",
      "epoch 10 | loss: 0.0566  | mse_mse: 0.0621  |  0:04:34s\n",
      "epoch 11 | loss: 0.05156 | mse_mse: 0.0597  |  0:04:59s\n",
      "epoch 12 | loss: 0.05151 | mse_mse: 0.07582 |  0:05:25s\n",
      "epoch 13 | loss: 0.06465 | mse_mse: 0.04727 |  0:05:49s\n",
      "epoch 14 | loss: 0.05334 | mse_mse: 0.04072 |  0:06:14s\n",
      "epoch 15 | loss: 0.05885 | mse_mse: 0.08561 |  0:06:39s\n",
      "epoch 16 | loss: 0.05889 | mse_mse: 0.08222 |  0:07:05s\n",
      "\n",
      "Early stopping occurred at epoch 16 with best_epoch = 6 and best_mse_mse = 0.03089\n"
     ]
    },
    {
     "name": "stderr",
     "output_type": "stream",
     "text": [
      "/usr/local/lib/python3.9/site-packages/pytorch_tabnet/callbacks.py:172: UserWarning: Best weights from best epoch are automatically used!\n",
      "  warnings.warn(wrn_msg)\n"
     ]
    },
    {
     "name": "stdout",
     "output_type": "stream",
     "text": [
      "MSE: 0.029391058794823864\n",
      "R2 Score: 0.8674084146230692\n",
      "Best model updated\n",
      "\n",
      "Iteration 8/162\n",
      "Configuration batch size: 8 - epochs: 200 - n_d: 8 - n_a: 16 - steps: 3 - n_indipendent: 5\n"
     ]
    },
    {
     "name": "stderr",
     "output_type": "stream",
     "text": [
      "/usr/local/lib/python3.9/site-packages/pytorch_tabnet/abstract_model.py:75: UserWarning: Device used : cpu\n",
      "  warnings.warn(f\"Device used : {self.device}\")\n"
     ]
    },
    {
     "name": "stdout",
     "output_type": "stream",
     "text": [
      "epoch 0  | loss: 0.29786 | mse_mse: 0.14906 |  0:00:24s\n",
      "epoch 1  | loss: 0.09657 | mse_mse: 0.07042 |  0:00:49s\n",
      "epoch 2  | loss: 0.08241 | mse_mse: 0.043   |  0:01:16s\n",
      "epoch 3  | loss: 0.07389 | mse_mse: 0.12278 |  0:01:42s\n",
      "epoch 4  | loss: 0.06574 | mse_mse: 0.05354 |  0:02:08s\n",
      "epoch 5  | loss: 0.07528 | mse_mse: 0.06415 |  0:02:34s\n",
      "epoch 6  | loss: 0.06734 | mse_mse: 0.03089 |  0:03:00s\n",
      "epoch 7  | loss: 0.06899 | mse_mse: 0.03819 |  0:03:27s\n",
      "epoch 8  | loss: 0.06539 | mse_mse: 0.06944 |  0:03:57s\n",
      "epoch 9  | loss: 0.06205 | mse_mse: 0.05463 |  0:04:28s\n",
      "epoch 10 | loss: 0.0566  | mse_mse: 0.0621  |  0:05:00s\n",
      "epoch 11 | loss: 0.05156 | mse_mse: 0.0597  |  0:05:33s\n",
      "epoch 12 | loss: 0.05151 | mse_mse: 0.07582 |  0:06:05s\n",
      "epoch 13 | loss: 0.06465 | mse_mse: 0.04727 |  0:06:41s\n",
      "epoch 14 | loss: 0.05334 | mse_mse: 0.04072 |  0:07:27s\n",
      "epoch 15 | loss: 0.05885 | mse_mse: 0.08561 |  0:08:10s\n",
      "epoch 16 | loss: 0.05889 | mse_mse: 0.08222 |  0:08:48s\n",
      "\n",
      "Early stopping occurred at epoch 16 with best_epoch = 6 and best_mse_mse = 0.03089\n"
     ]
    },
    {
     "name": "stderr",
     "output_type": "stream",
     "text": [
      "/usr/local/lib/python3.9/site-packages/pytorch_tabnet/callbacks.py:172: UserWarning: Best weights from best epoch are automatically used!\n",
      "  warnings.warn(wrn_msg)\n"
     ]
    },
    {
     "name": "stdout",
     "output_type": "stream",
     "text": [
      "MSE: 0.029391058794823864\n",
      "R2 Score: 0.8674084146230692\n",
      "\n",
      "Iteration 9/162\n",
      "Configuration batch size: 8 - epochs: 200 - n_d: 8 - n_a: 16 - steps: 5 - n_indipendent: 3\n"
     ]
    },
    {
     "name": "stderr",
     "output_type": "stream",
     "text": [
      "/usr/local/lib/python3.9/site-packages/pytorch_tabnet/abstract_model.py:75: UserWarning: Device used : cpu\n",
      "  warnings.warn(f\"Device used : {self.device}\")\n"
     ]
    },
    {
     "name": "stdout",
     "output_type": "stream",
     "text": [
      "epoch 0  | loss: 0.30745 | mse_mse: 0.10441 |  0:01:03s\n",
      "epoch 1  | loss: 0.13235 | mse_mse: 0.15646 |  0:02:18s\n",
      "epoch 2  | loss: 0.11436 | mse_mse: 0.07019 |  0:03:53s\n",
      "epoch 3  | loss: 0.0969  | mse_mse: 0.06328 |  0:04:45s\n",
      "epoch 4  | loss: 0.07805 | mse_mse: 0.17575 |  0:05:25s\n",
      "epoch 5  | loss: 0.08217 | mse_mse: 0.08682 |  0:06:02s\n",
      "epoch 6  | loss: 0.07245 | mse_mse: 0.075   |  0:06:36s\n",
      "epoch 7  | loss: 0.07292 | mse_mse: 0.09765 |  0:07:17s\n",
      "epoch 8  | loss: 0.07299 | mse_mse: 0.07097 |  0:07:55s\n",
      "epoch 9  | loss: 0.06811 | mse_mse: 0.07621 |  0:08:35s\n",
      "epoch 10 | loss: 0.06156 | mse_mse: 0.04193 |  0:09:14s\n",
      "epoch 11 | loss: 0.06074 | mse_mse: 0.04908 |  0:09:51s\n",
      "epoch 12 | loss: 0.06123 | mse_mse: 0.04075 |  0:10:31s\n",
      "epoch 13 | loss: 0.06057 | mse_mse: 0.06694 |  0:11:17s\n",
      "epoch 14 | loss: 0.05968 | mse_mse: 0.11041 |  0:11:53s\n",
      "epoch 15 | loss: 0.05601 | mse_mse: 0.05104 |  0:12:29s\n",
      "epoch 16 | loss: 0.05614 | mse_mse: 0.09924 |  0:13:02s\n",
      "epoch 17 | loss: 0.05659 | mse_mse: 0.06868 |  0:13:39s\n",
      "epoch 18 | loss: 0.05355 | mse_mse: 0.09849 |  0:14:14s\n",
      "epoch 19 | loss: 0.05216 | mse_mse: 0.09043 |  0:14:49s\n",
      "epoch 20 | loss: 0.04811 | mse_mse: 0.07806 |  0:15:24s\n",
      "epoch 21 | loss: 0.05543 | mse_mse: 0.16462 |  0:16:00s\n",
      "epoch 22 | loss: 0.0486  | mse_mse: 0.08824 |  0:16:36s\n",
      "\n",
      "Early stopping occurred at epoch 22 with best_epoch = 12 and best_mse_mse = 0.04075\n"
     ]
    },
    {
     "name": "stderr",
     "output_type": "stream",
     "text": [
      "/usr/local/lib/python3.9/site-packages/pytorch_tabnet/callbacks.py:172: UserWarning: Best weights from best epoch are automatically used!\n",
      "  warnings.warn(wrn_msg)\n"
     ]
    },
    {
     "name": "stdout",
     "output_type": "stream",
     "text": [
      "MSE: 0.040024212335028245\n",
      "R2 Score: 0.8194391769275453\n",
      "\n",
      "Iteration 10/162\n",
      "Configuration batch size: 8 - epochs: 200 - n_d: 8 - n_a: 16 - steps: 5 - n_indipendent: 5\n"
     ]
    },
    {
     "name": "stderr",
     "output_type": "stream",
     "text": [
      "/usr/local/lib/python3.9/site-packages/pytorch_tabnet/abstract_model.py:75: UserWarning: Device used : cpu\n",
      "  warnings.warn(f\"Device used : {self.device}\")\n"
     ]
    },
    {
     "name": "stdout",
     "output_type": "stream",
     "text": [
      "epoch 0  | loss: 0.30745 | mse_mse: 0.10441 |  0:00:34s\n",
      "epoch 1  | loss: 0.13235 | mse_mse: 0.15646 |  0:01:09s\n",
      "epoch 2  | loss: 0.11436 | mse_mse: 0.07019 |  0:01:44s\n",
      "epoch 3  | loss: 0.0969  | mse_mse: 0.06328 |  0:02:20s\n",
      "epoch 4  | loss: 0.07805 | mse_mse: 0.17575 |  0:02:55s\n",
      "epoch 5  | loss: 0.08217 | mse_mse: 0.08682 |  0:03:31s\n",
      "epoch 6  | loss: 0.07245 | mse_mse: 0.075   |  0:04:06s\n",
      "epoch 7  | loss: 0.07292 | mse_mse: 0.09765 |  0:04:41s\n",
      "epoch 8  | loss: 0.07299 | mse_mse: 0.07097 |  0:05:17s\n",
      "epoch 9  | loss: 0.06811 | mse_mse: 0.07621 |  0:05:53s\n",
      "epoch 10 | loss: 0.06156 | mse_mse: 0.04193 |  0:06:29s\n",
      "epoch 11 | loss: 0.06074 | mse_mse: 0.04908 |  0:07:04s\n",
      "epoch 12 | loss: 0.06123 | mse_mse: 0.04075 |  0:07:40s\n",
      "epoch 13 | loss: 0.06057 | mse_mse: 0.06694 |  0:08:15s\n",
      "epoch 14 | loss: 0.05968 | mse_mse: 0.11041 |  0:08:51s\n",
      "epoch 15 | loss: 0.05601 | mse_mse: 0.05104 |  0:09:26s\n",
      "epoch 16 | loss: 0.05614 | mse_mse: 0.09924 |  0:10:02s\n",
      "epoch 17 | loss: 0.05659 | mse_mse: 0.06868 |  0:10:36s\n",
      "epoch 18 | loss: 0.05355 | mse_mse: 0.09849 |  0:11:11s\n",
      "epoch 19 | loss: 0.05216 | mse_mse: 0.09043 |  0:11:46s\n",
      "epoch 20 | loss: 0.04811 | mse_mse: 0.07806 |  0:12:21s\n",
      "epoch 21 | loss: 0.05543 | mse_mse: 0.16462 |  0:12:56s\n",
      "epoch 22 | loss: 0.0486  | mse_mse: 0.08824 |  0:13:32s\n",
      "\n",
      "Early stopping occurred at epoch 22 with best_epoch = 12 and best_mse_mse = 0.04075\n"
     ]
    },
    {
     "name": "stderr",
     "output_type": "stream",
     "text": [
      "/usr/local/lib/python3.9/site-packages/pytorch_tabnet/callbacks.py:172: UserWarning: Best weights from best epoch are automatically used!\n",
      "  warnings.warn(wrn_msg)\n"
     ]
    },
    {
     "name": "stdout",
     "output_type": "stream",
     "text": [
      "MSE: 0.040024212335028245\n",
      "R2 Score: 0.8194391769275453\n",
      "\n",
      "Iteration 11/162\n",
      "Configuration batch size: 8 - epochs: 200 - n_d: 8 - n_a: 16 - steps: 7 - n_indipendent: 3\n"
     ]
    },
    {
     "name": "stderr",
     "output_type": "stream",
     "text": [
      "/usr/local/lib/python3.9/site-packages/pytorch_tabnet/abstract_model.py:75: UserWarning: Device used : cpu\n",
      "  warnings.warn(f\"Device used : {self.device}\")\n"
     ]
    },
    {
     "name": "stdout",
     "output_type": "stream",
     "text": [
      "epoch 0  | loss: 0.56276 | mse_mse: 0.12008 |  0:00:46s\n",
      "epoch 1  | loss: 0.1134  | mse_mse: 0.07957 |  0:01:34s\n",
      "epoch 2  | loss: 0.09403 | mse_mse: 0.04913 |  0:02:22s\n",
      "epoch 3  | loss: 0.0844  | mse_mse: 0.04876 |  0:03:10s\n",
      "epoch 4  | loss: 0.06987 | mse_mse: 0.1457  |  0:03:58s\n",
      "epoch 5  | loss: 0.06728 | mse_mse: 0.09588 |  0:04:46s\n",
      "epoch 6  | loss: 0.06391 | mse_mse: 0.12969 |  0:05:34s\n",
      "epoch 7  | loss: 0.06521 | mse_mse: 0.06886 |  0:06:22s\n",
      "epoch 8  | loss: 0.06193 | mse_mse: 0.06537 |  0:07:11s\n",
      "epoch 9  | loss: 0.05753 | mse_mse: 0.09821 |  0:07:59s\n",
      "epoch 10 | loss: 0.05123 | mse_mse: 0.15654 |  0:08:47s\n",
      "epoch 11 | loss: 0.0546  | mse_mse: 0.10361 |  0:09:36s\n",
      "epoch 12 | loss: 0.05108 | mse_mse: 0.08162 |  0:10:24s\n",
      "epoch 13 | loss: 0.04626 | mse_mse: 0.16285 |  0:11:12s\n",
      "\n",
      "Early stopping occurred at epoch 13 with best_epoch = 3 and best_mse_mse = 0.04876\n"
     ]
    },
    {
     "name": "stderr",
     "output_type": "stream",
     "text": [
      "/usr/local/lib/python3.9/site-packages/pytorch_tabnet/callbacks.py:172: UserWarning: Best weights from best epoch are automatically used!\n",
      "  warnings.warn(wrn_msg)\n"
     ]
    },
    {
     "name": "stdout",
     "output_type": "stream",
     "text": [
      "MSE: 0.048404046656909484\n",
      "R2 Score: 0.7816353153623428\n",
      "\n",
      "Iteration 12/162\n",
      "Configuration batch size: 8 - epochs: 200 - n_d: 8 - n_a: 16 - steps: 7 - n_indipendent: 5\n"
     ]
    },
    {
     "name": "stderr",
     "output_type": "stream",
     "text": [
      "/usr/local/lib/python3.9/site-packages/pytorch_tabnet/abstract_model.py:75: UserWarning: Device used : cpu\n",
      "  warnings.warn(f\"Device used : {self.device}\")\n"
     ]
    },
    {
     "name": "stdout",
     "output_type": "stream",
     "text": [
      "epoch 0  | loss: 0.56276 | mse_mse: 0.12008 |  0:00:46s\n",
      "epoch 1  | loss: 0.1134  | mse_mse: 0.07957 |  0:01:33s\n",
      "epoch 2  | loss: 0.09403 | mse_mse: 0.04913 |  0:02:20s\n",
      "epoch 3  | loss: 0.0844  | mse_mse: 0.04876 |  0:03:07s\n",
      "epoch 4  | loss: 0.06987 | mse_mse: 0.1457  |  0:03:54s\n",
      "epoch 5  | loss: 0.06728 | mse_mse: 0.09588 |  0:04:41s\n",
      "epoch 6  | loss: 0.06391 | mse_mse: 0.12969 |  0:05:30s\n",
      "epoch 7  | loss: 0.06521 | mse_mse: 0.06886 |  0:06:18s\n",
      "epoch 8  | loss: 0.06193 | mse_mse: 0.06537 |  0:07:06s\n",
      "epoch 9  | loss: 0.05753 | mse_mse: 0.09821 |  0:07:54s\n",
      "epoch 10 | loss: 0.05123 | mse_mse: 0.15654 |  0:08:42s\n",
      "epoch 11 | loss: 0.0546  | mse_mse: 0.10361 |  0:09:30s\n",
      "epoch 12 | loss: 0.05108 | mse_mse: 0.08162 |  0:10:18s\n",
      "epoch 13 | loss: 0.04626 | mse_mse: 0.16285 |  0:11:06s\n",
      "\n",
      "Early stopping occurred at epoch 13 with best_epoch = 3 and best_mse_mse = 0.04876\n"
     ]
    },
    {
     "name": "stderr",
     "output_type": "stream",
     "text": [
      "/usr/local/lib/python3.9/site-packages/pytorch_tabnet/callbacks.py:172: UserWarning: Best weights from best epoch are automatically used!\n",
      "  warnings.warn(wrn_msg)\n"
     ]
    },
    {
     "name": "stdout",
     "output_type": "stream",
     "text": [
      "MSE: 0.048404046656909484\n",
      "R2 Score: 0.7816353153623428\n",
      "\n",
      "Iteration 13/162\n",
      "Configuration batch size: 8 - epochs: 200 - n_d: 8 - n_a: 32 - steps: 3 - n_indipendent: 3\n"
     ]
    },
    {
     "name": "stderr",
     "output_type": "stream",
     "text": [
      "/usr/local/lib/python3.9/site-packages/pytorch_tabnet/abstract_model.py:75: UserWarning: Device used : cpu\n",
      "  warnings.warn(f\"Device used : {self.device}\")\n"
     ]
    },
    {
     "name": "stdout",
     "output_type": "stream",
     "text": [
      "epoch 0  | loss: 0.37436 | mse_mse: 0.08338 |  0:00:23s\n",
      "epoch 1  | loss: 0.0888  | mse_mse: 0.06282 |  0:00:47s\n",
      "epoch 2  | loss: 0.07326 | mse_mse: 0.05286 |  0:01:11s\n",
      "epoch 3  | loss: 0.06963 | mse_mse: 0.03848 |  0:01:35s\n",
      "epoch 4  | loss: 0.07166 | mse_mse: 0.04352 |  0:01:59s\n",
      "epoch 5  | loss: 0.07038 | mse_mse: 0.04794 |  0:02:23s\n",
      "epoch 6  | loss: 0.06674 | mse_mse: 0.04154 |  0:02:47s\n",
      "epoch 7  | loss: 0.06732 | mse_mse: 0.06143 |  0:03:11s\n",
      "epoch 8  | loss: 0.06512 | mse_mse: 0.08054 |  0:03:35s\n",
      "epoch 9  | loss: 0.06147 | mse_mse: 0.11446 |  0:03:59s\n",
      "epoch 10 | loss: 0.06252 | mse_mse: 0.13537 |  0:04:24s\n",
      "epoch 11 | loss: 0.06816 | mse_mse: 0.06029 |  0:04:48s\n",
      "epoch 12 | loss: 0.05716 | mse_mse: 0.05399 |  0:05:12s\n",
      "epoch 13 | loss: 0.05457 | mse_mse: 0.05192 |  0:05:36s\n",
      "\n",
      "Early stopping occurred at epoch 13 with best_epoch = 3 and best_mse_mse = 0.03848\n"
     ]
    },
    {
     "name": "stderr",
     "output_type": "stream",
     "text": [
      "/usr/local/lib/python3.9/site-packages/pytorch_tabnet/callbacks.py:172: UserWarning: Best weights from best epoch are automatically used!\n",
      "  warnings.warn(wrn_msg)\n"
     ]
    },
    {
     "name": "stdout",
     "output_type": "stream",
     "text": [
      "MSE: 0.038265780787643755\n",
      "R2 Score: 0.8273719713284595\n",
      "\n",
      "Iteration 14/162\n",
      "Configuration batch size: 8 - epochs: 200 - n_d: 8 - n_a: 32 - steps: 3 - n_indipendent: 5\n"
     ]
    },
    {
     "name": "stderr",
     "output_type": "stream",
     "text": [
      "/usr/local/lib/python3.9/site-packages/pytorch_tabnet/abstract_model.py:75: UserWarning: Device used : cpu\n",
      "  warnings.warn(f\"Device used : {self.device}\")\n"
     ]
    },
    {
     "name": "stdout",
     "output_type": "stream",
     "text": [
      "epoch 0  | loss: 0.37436 | mse_mse: 0.08338 |  0:00:23s\n",
      "epoch 1  | loss: 0.0888  | mse_mse: 0.06282 |  0:00:47s\n",
      "epoch 2  | loss: 0.07326 | mse_mse: 0.05286 |  0:01:11s\n",
      "epoch 3  | loss: 0.06963 | mse_mse: 0.03848 |  0:01:35s\n",
      "epoch 4  | loss: 0.07166 | mse_mse: 0.04352 |  0:01:59s\n",
      "epoch 5  | loss: 0.07038 | mse_mse: 0.04794 |  0:02:23s\n",
      "epoch 6  | loss: 0.06674 | mse_mse: 0.04154 |  0:02:48s\n",
      "epoch 7  | loss: 0.06732 | mse_mse: 0.06143 |  0:03:12s\n",
      "epoch 8  | loss: 0.06512 | mse_mse: 0.08054 |  0:03:36s\n",
      "epoch 9  | loss: 0.06147 | mse_mse: 0.11446 |  0:04:00s\n",
      "epoch 10 | loss: 0.06252 | mse_mse: 0.13537 |  0:04:24s\n",
      "epoch 11 | loss: 0.06816 | mse_mse: 0.06029 |  0:04:49s\n",
      "epoch 12 | loss: 0.05716 | mse_mse: 0.05399 |  0:05:13s\n",
      "epoch 13 | loss: 0.05457 | mse_mse: 0.05192 |  0:05:37s\n",
      "\n",
      "Early stopping occurred at epoch 13 with best_epoch = 3 and best_mse_mse = 0.03848\n"
     ]
    },
    {
     "name": "stderr",
     "output_type": "stream",
     "text": [
      "/usr/local/lib/python3.9/site-packages/pytorch_tabnet/callbacks.py:172: UserWarning: Best weights from best epoch are automatically used!\n",
      "  warnings.warn(wrn_msg)\n"
     ]
    },
    {
     "name": "stdout",
     "output_type": "stream",
     "text": [
      "MSE: 0.038265780787643755\n",
      "R2 Score: 0.8273719713284595\n",
      "\n",
      "Iteration 15/162\n",
      "Configuration batch size: 8 - epochs: 200 - n_d: 8 - n_a: 32 - steps: 5 - n_indipendent: 3\n"
     ]
    },
    {
     "name": "stderr",
     "output_type": "stream",
     "text": [
      "/usr/local/lib/python3.9/site-packages/pytorch_tabnet/abstract_model.py:75: UserWarning: Device used : cpu\n",
      "  warnings.warn(f\"Device used : {self.device}\")\n"
     ]
    },
    {
     "name": "stdout",
     "output_type": "stream",
     "text": [
      "epoch 0  | loss: 0.2854  | mse_mse: 0.14804 |  0:00:36s\n",
      "epoch 1  | loss: 0.11382 | mse_mse: 0.0983  |  0:01:14s\n",
      "epoch 2  | loss: 0.08841 | mse_mse: 0.04195 |  0:01:51s\n",
      "epoch 3  | loss: 0.07536 | mse_mse: 0.11271 |  0:02:29s\n",
      "epoch 4  | loss: 0.0691  | mse_mse: 0.10645 |  0:03:07s\n",
      "epoch 5  | loss: 0.06866 | mse_mse: 0.08987 |  0:03:45s\n",
      "epoch 6  | loss: 0.06428 | mse_mse: 0.04752 |  0:04:24s\n",
      "epoch 7  | loss: 0.06317 | mse_mse: 0.05378 |  0:05:03s\n",
      "epoch 8  | loss: 0.06091 | mse_mse: 0.06616 |  0:05:41s\n",
      "epoch 9  | loss: 0.06143 | mse_mse: 0.13887 |  0:06:19s\n",
      "epoch 10 | loss: 0.05885 | mse_mse: 0.07408 |  0:06:57s\n",
      "epoch 11 | loss: 0.06418 | mse_mse: 0.07348 |  0:07:35s\n",
      "epoch 12 | loss: 0.05648 | mse_mse: 0.12387 |  0:08:13s\n",
      "\n",
      "Early stopping occurred at epoch 12 with best_epoch = 2 and best_mse_mse = 0.04195\n"
     ]
    },
    {
     "name": "stderr",
     "output_type": "stream",
     "text": [
      "/usr/local/lib/python3.9/site-packages/pytorch_tabnet/callbacks.py:172: UserWarning: Best weights from best epoch are automatically used!\n",
      "  warnings.warn(wrn_msg)\n"
     ]
    },
    {
     "name": "stdout",
     "output_type": "stream",
     "text": [
      "MSE: 0.040324990106236386\n",
      "R2 Score: 0.8180822812196012\n",
      "\n",
      "Iteration 16/162\n",
      "Configuration batch size: 8 - epochs: 200 - n_d: 8 - n_a: 32 - steps: 5 - n_indipendent: 5\n"
     ]
    },
    {
     "name": "stderr",
     "output_type": "stream",
     "text": [
      "/usr/local/lib/python3.9/site-packages/pytorch_tabnet/abstract_model.py:75: UserWarning: Device used : cpu\n",
      "  warnings.warn(f\"Device used : {self.device}\")\n"
     ]
    },
    {
     "name": "stdout",
     "output_type": "stream",
     "text": [
      "epoch 0  | loss: 0.2854  | mse_mse: 0.14804 |  0:00:36s\n",
      "epoch 1  | loss: 0.11382 | mse_mse: 0.0983  |  0:01:13s\n",
      "epoch 2  | loss: 0.08841 | mse_mse: 0.04195 |  0:01:50s\n",
      "epoch 3  | loss: 0.07536 | mse_mse: 0.11271 |  0:02:28s\n",
      "epoch 4  | loss: 0.0691  | mse_mse: 0.10645 |  0:03:05s\n",
      "epoch 5  | loss: 0.06866 | mse_mse: 0.08987 |  0:03:43s\n",
      "epoch 6  | loss: 0.06428 | mse_mse: 0.04752 |  0:04:20s\n",
      "epoch 7  | loss: 0.06317 | mse_mse: 0.05378 |  0:04:58s\n",
      "epoch 8  | loss: 0.06091 | mse_mse: 0.06616 |  0:05:35s\n",
      "epoch 9  | loss: 0.06143 | mse_mse: 0.13887 |  0:06:13s\n",
      "epoch 10 | loss: 0.05885 | mse_mse: 0.07408 |  0:06:50s\n",
      "epoch 11 | loss: 0.06418 | mse_mse: 0.07348 |  0:07:28s\n",
      "epoch 12 | loss: 0.05648 | mse_mse: 0.12387 |  0:08:05s\n",
      "\n",
      "Early stopping occurred at epoch 12 with best_epoch = 2 and best_mse_mse = 0.04195\n"
     ]
    },
    {
     "name": "stderr",
     "output_type": "stream",
     "text": [
      "/usr/local/lib/python3.9/site-packages/pytorch_tabnet/callbacks.py:172: UserWarning: Best weights from best epoch are automatically used!\n",
      "  warnings.warn(wrn_msg)\n"
     ]
    },
    {
     "name": "stdout",
     "output_type": "stream",
     "text": [
      "MSE: 0.040324990106236386\n",
      "R2 Score: 0.8180822812196012\n",
      "\n",
      "Iteration 17/162\n",
      "Configuration batch size: 8 - epochs: 200 - n_d: 8 - n_a: 32 - steps: 7 - n_indipendent: 3\n"
     ]
    },
    {
     "name": "stderr",
     "output_type": "stream",
     "text": [
      "/usr/local/lib/python3.9/site-packages/pytorch_tabnet/abstract_model.py:75: UserWarning: Device used : cpu\n",
      "  warnings.warn(f\"Device used : {self.device}\")\n"
     ]
    },
    {
     "name": "stdout",
     "output_type": "stream",
     "text": [
      "epoch 0  | loss: 0.67859 | mse_mse: 0.22039 |  0:00:48s\n",
      "epoch 1  | loss: 0.10226 | mse_mse: 0.06427 |  0:01:39s\n",
      "epoch 2  | loss: 0.09187 | mse_mse: 0.07811 |  0:02:29s\n",
      "epoch 3  | loss: 0.07756 | mse_mse: 0.05418 |  0:03:19s\n",
      "epoch 4  | loss: 0.07697 | mse_mse: 0.19173 |  0:04:09s\n",
      "epoch 5  | loss: 0.07081 | mse_mse: 0.11423 |  0:04:59s\n",
      "epoch 6  | loss: 0.06648 | mse_mse: 0.08379 |  0:05:49s\n",
      "epoch 7  | loss: 0.06689 | mse_mse: 0.04744 |  0:06:40s\n",
      "epoch 8  | loss: 0.06442 | mse_mse: 0.09246 |  0:07:30s\n",
      "epoch 9  | loss: 0.06168 | mse_mse: 0.13785 |  0:08:20s\n",
      "epoch 10 | loss: 0.05853 | mse_mse: 0.06945 |  0:09:10s\n",
      "epoch 11 | loss: 0.05451 | mse_mse: 0.11344 |  0:10:00s\n",
      "epoch 12 | loss: 0.0548  | mse_mse: 0.14321 |  0:10:50s\n",
      "epoch 13 | loss: 0.05373 | mse_mse: 0.11862 |  0:11:41s\n",
      "epoch 14 | loss: 0.05607 | mse_mse: 0.06259 |  0:12:31s\n",
      "epoch 15 | loss: 0.05262 | mse_mse: 0.09195 |  0:13:21s\n",
      "epoch 16 | loss: 0.05269 | mse_mse: 0.22578 |  0:14:11s\n",
      "epoch 17 | loss: 0.04942 | mse_mse: 0.03918 |  0:15:02s\n",
      "epoch 18 | loss: 0.04559 | mse_mse: 0.06405 |  0:15:52s\n",
      "epoch 19 | loss: 0.04442 | mse_mse: 0.13243 |  0:16:42s\n",
      "epoch 20 | loss: 0.04187 | mse_mse: 0.07794 |  0:17:33s\n",
      "epoch 21 | loss: 0.04141 | mse_mse: 0.05041 |  0:18:23s\n",
      "epoch 22 | loss: 0.04137 | mse_mse: 0.04554 |  0:19:13s\n",
      "epoch 23 | loss: 0.03693 | mse_mse: 0.10886 |  0:20:04s\n",
      "epoch 24 | loss: 0.036   | mse_mse: 0.0652  |  0:20:54s\n",
      "epoch 25 | loss: 0.03495 | mse_mse: 0.07442 |  0:21:45s\n",
      "epoch 26 | loss: 0.0347  | mse_mse: 0.28341 |  0:22:35s\n",
      "epoch 27 | loss: 0.03805 | mse_mse: 0.08308 |  0:23:26s\n",
      "\n",
      "Early stopping occurred at epoch 27 with best_epoch = 17 and best_mse_mse = 0.03918\n"
     ]
    },
    {
     "name": "stderr",
     "output_type": "stream",
     "text": [
      "/usr/local/lib/python3.9/site-packages/pytorch_tabnet/callbacks.py:172: UserWarning: Best weights from best epoch are automatically used!\n",
      "  warnings.warn(wrn_msg)\n"
     ]
    },
    {
     "name": "stdout",
     "output_type": "stream",
     "text": [
      "MSE: 0.0400732789583192\n",
      "R2 Score: 0.8192178231676601\n",
      "\n",
      "Iteration 18/162\n",
      "Configuration batch size: 8 - epochs: 200 - n_d: 8 - n_a: 32 - steps: 7 - n_indipendent: 5\n"
     ]
    },
    {
     "name": "stderr",
     "output_type": "stream",
     "text": [
      "/usr/local/lib/python3.9/site-packages/pytorch_tabnet/abstract_model.py:75: UserWarning: Device used : cpu\n",
      "  warnings.warn(f\"Device used : {self.device}\")\n"
     ]
    },
    {
     "name": "stdout",
     "output_type": "stream",
     "text": [
      "epoch 0  | loss: 0.67859 | mse_mse: 0.22039 |  0:00:49s\n",
      "epoch 1  | loss: 0.10226 | mse_mse: 0.06427 |  0:01:39s\n",
      "epoch 2  | loss: 0.09187 | mse_mse: 0.07811 |  0:02:29s\n",
      "epoch 3  | loss: 0.07756 | mse_mse: 0.05418 |  0:03:19s\n",
      "epoch 4  | loss: 0.07697 | mse_mse: 0.19173 |  0:04:10s\n",
      "epoch 5  | loss: 0.07081 | mse_mse: 0.11423 |  0:05:00s\n",
      "epoch 6  | loss: 0.06648 | mse_mse: 0.08379 |  0:05:50s\n",
      "epoch 7  | loss: 0.06689 | mse_mse: 0.04744 |  0:06:41s\n",
      "epoch 8  | loss: 0.06442 | mse_mse: 0.09246 |  0:07:32s\n",
      "epoch 9  | loss: 0.06168 | mse_mse: 0.13785 |  0:08:22s\n",
      "epoch 10 | loss: 0.05853 | mse_mse: 0.06945 |  0:09:13s\n",
      "epoch 11 | loss: 0.05451 | mse_mse: 0.11344 |  0:10:03s\n",
      "epoch 12 | loss: 0.0548  | mse_mse: 0.14321 |  0:10:54s\n",
      "epoch 13 | loss: 0.05373 | mse_mse: 0.11862 |  0:11:44s\n",
      "epoch 14 | loss: 0.05607 | mse_mse: 0.06259 |  0:12:35s\n",
      "epoch 15 | loss: 0.05262 | mse_mse: 0.09195 |  0:13:25s\n",
      "epoch 16 | loss: 0.05269 | mse_mse: 0.22578 |  0:14:16s\n",
      "epoch 17 | loss: 0.04942 | mse_mse: 0.03918 |  0:15:06s\n",
      "epoch 18 | loss: 0.04559 | mse_mse: 0.06405 |  0:15:56s\n",
      "epoch 19 | loss: 0.04442 | mse_mse: 0.13243 |  0:16:47s\n",
      "epoch 20 | loss: 0.04187 | mse_mse: 0.07794 |  0:17:37s\n",
      "epoch 21 | loss: 0.04141 | mse_mse: 0.05041 |  0:18:28s\n",
      "epoch 22 | loss: 0.04137 | mse_mse: 0.04554 |  0:19:18s\n",
      "epoch 23 | loss: 0.03693 | mse_mse: 0.10886 |  0:20:09s\n",
      "epoch 24 | loss: 0.036   | mse_mse: 0.0652  |  0:20:59s\n",
      "epoch 25 | loss: 0.03495 | mse_mse: 0.07442 |  0:21:49s\n",
      "epoch 26 | loss: 0.0347  | mse_mse: 0.28341 |  0:22:40s\n",
      "epoch 27 | loss: 0.03805 | mse_mse: 0.08308 |  0:23:30s\n",
      "\n",
      "Early stopping occurred at epoch 27 with best_epoch = 17 and best_mse_mse = 0.03918\n"
     ]
    },
    {
     "name": "stderr",
     "output_type": "stream",
     "text": [
      "/usr/local/lib/python3.9/site-packages/pytorch_tabnet/callbacks.py:172: UserWarning: Best weights from best epoch are automatically used!\n",
      "  warnings.warn(wrn_msg)\n"
     ]
    },
    {
     "name": "stdout",
     "output_type": "stream",
     "text": [
      "MSE: 0.0400732789583192\n",
      "R2 Score: 0.8192178231676601\n",
      "\n",
      "Iteration 19/162\n",
      "Configuration batch size: 8 - epochs: 200 - n_d: 16 - n_a: 8 - steps: 3 - n_indipendent: 3\n"
     ]
    },
    {
     "name": "stderr",
     "output_type": "stream",
     "text": [
      "/usr/local/lib/python3.9/site-packages/pytorch_tabnet/abstract_model.py:75: UserWarning: Device used : cpu\n",
      "  warnings.warn(f\"Device used : {self.device}\")\n"
     ]
    },
    {
     "name": "stdout",
     "output_type": "stream",
     "text": [
      "epoch 0  | loss: 0.27411 | mse_mse: 0.09776 |  0:00:21s\n",
      "epoch 1  | loss: 0.1153  | mse_mse: 0.04722 |  0:00:42s\n",
      "epoch 2  | loss: 0.09363 | mse_mse: 0.08649 |  0:01:04s\n",
      "epoch 3  | loss: 0.0719  | mse_mse: 0.0552  |  0:01:26s\n",
      "epoch 4  | loss: 0.066   | mse_mse: 0.04249 |  0:01:47s\n",
      "epoch 5  | loss: 0.05973 | mse_mse: 0.04425 |  0:02:09s\n",
      "epoch 6  | loss: 0.05551 | mse_mse: 0.04944 |  0:02:31s\n",
      "epoch 7  | loss: 0.05553 | mse_mse: 0.04696 |  0:02:53s\n",
      "epoch 8  | loss: 0.05414 | mse_mse: 0.03944 |  0:03:15s\n",
      "epoch 9  | loss: 0.05287 | mse_mse: 0.0397  |  0:03:36s\n",
      "epoch 10 | loss: 0.05253 | mse_mse: 0.0649  |  0:03:58s\n",
      "epoch 11 | loss: 0.04678 | mse_mse: 0.06338 |  0:04:20s\n",
      "epoch 12 | loss: 0.04852 | mse_mse: 0.0576  |  0:04:42s\n",
      "epoch 13 | loss: 0.04671 | mse_mse: 0.06261 |  0:05:03s\n",
      "epoch 14 | loss: 0.04489 | mse_mse: 0.03959 |  0:05:25s\n",
      "epoch 15 | loss: 0.04494 | mse_mse: 0.06604 |  0:05:46s\n",
      "epoch 16 | loss: 0.046   | mse_mse: 0.09367 |  0:06:08s\n",
      "epoch 17 | loss: 0.04552 | mse_mse: 0.10458 |  0:06:30s\n",
      "epoch 18 | loss: 0.04072 | mse_mse: 0.05708 |  0:06:52s\n",
      "\n",
      "Early stopping occurred at epoch 18 with best_epoch = 8 and best_mse_mse = 0.03944\n"
     ]
    },
    {
     "name": "stderr",
     "output_type": "stream",
     "text": [
      "/usr/local/lib/python3.9/site-packages/pytorch_tabnet/callbacks.py:172: UserWarning: Best weights from best epoch are automatically used!\n",
      "  warnings.warn(wrn_msg)\n"
     ]
    },
    {
     "name": "stdout",
     "output_type": "stream",
     "text": [
      "MSE: 0.038493551928182795\n",
      "R2 Score: 0.826344429692821\n",
      "\n",
      "Iteration 20/162\n",
      "Configuration batch size: 8 - epochs: 200 - n_d: 16 - n_a: 8 - steps: 3 - n_indipendent: 5\n"
     ]
    },
    {
     "name": "stderr",
     "output_type": "stream",
     "text": [
      "/usr/local/lib/python3.9/site-packages/pytorch_tabnet/abstract_model.py:75: UserWarning: Device used : cpu\n",
      "  warnings.warn(f\"Device used : {self.device}\")\n"
     ]
    },
    {
     "name": "stdout",
     "output_type": "stream",
     "text": [
      "epoch 0  | loss: 0.27411 | mse_mse: 0.09776 |  0:00:21s\n",
      "epoch 1  | loss: 0.1153  | mse_mse: 0.04722 |  0:00:42s\n",
      "epoch 2  | loss: 0.09363 | mse_mse: 0.08649 |  0:01:04s\n",
      "epoch 3  | loss: 0.0719  | mse_mse: 0.0552  |  0:01:26s\n",
      "epoch 4  | loss: 0.066   | mse_mse: 0.04249 |  0:01:48s\n",
      "epoch 5  | loss: 0.05973 | mse_mse: 0.04425 |  0:02:10s\n",
      "epoch 6  | loss: 0.05551 | mse_mse: 0.04944 |  0:02:31s\n",
      "epoch 7  | loss: 0.05553 | mse_mse: 0.04696 |  0:02:52s\n",
      "epoch 8  | loss: 0.05414 | mse_mse: 0.03944 |  0:03:14s\n",
      "epoch 9  | loss: 0.05287 | mse_mse: 0.0397  |  0:03:35s\n",
      "epoch 10 | loss: 0.05253 | mse_mse: 0.0649  |  0:03:57s\n",
      "epoch 11 | loss: 0.04678 | mse_mse: 0.06338 |  0:04:18s\n",
      "epoch 12 | loss: 0.04852 | mse_mse: 0.0576  |  0:04:40s\n",
      "epoch 13 | loss: 0.04671 | mse_mse: 0.06261 |  0:05:02s\n",
      "epoch 14 | loss: 0.04489 | mse_mse: 0.03959 |  0:05:24s\n",
      "epoch 15 | loss: 0.04494 | mse_mse: 0.06604 |  0:05:46s\n",
      "epoch 16 | loss: 0.046   | mse_mse: 0.09367 |  0:06:07s\n",
      "epoch 17 | loss: 0.04552 | mse_mse: 0.10458 |  0:06:29s\n",
      "epoch 18 | loss: 0.04072 | mse_mse: 0.05708 |  0:06:51s\n",
      "\n",
      "Early stopping occurred at epoch 18 with best_epoch = 8 and best_mse_mse = 0.03944\n"
     ]
    },
    {
     "name": "stderr",
     "output_type": "stream",
     "text": [
      "/usr/local/lib/python3.9/site-packages/pytorch_tabnet/callbacks.py:172: UserWarning: Best weights from best epoch are automatically used!\n",
      "  warnings.warn(wrn_msg)\n"
     ]
    },
    {
     "name": "stdout",
     "output_type": "stream",
     "text": [
      "MSE: 0.038493551928182795\n",
      "R2 Score: 0.826344429692821\n",
      "\n",
      "Iteration 21/162\n",
      "Configuration batch size: 8 - epochs: 200 - n_d: 16 - n_a: 8 - steps: 5 - n_indipendent: 3\n"
     ]
    },
    {
     "name": "stderr",
     "output_type": "stream",
     "text": [
      "/usr/local/lib/python3.9/site-packages/pytorch_tabnet/abstract_model.py:75: UserWarning: Device used : cpu\n",
      "  warnings.warn(f\"Device used : {self.device}\")\n"
     ]
    },
    {
     "name": "stdout",
     "output_type": "stream",
     "text": [
      "epoch 0  | loss: 0.51112 | mse_mse: 0.11801 |  0:00:32s\n",
      "epoch 1  | loss: 0.11944 | mse_mse: 0.12005 |  0:01:05s\n",
      "epoch 2  | loss: 0.09457 | mse_mse: 0.15659 |  0:01:38s\n",
      "epoch 3  | loss: 0.08161 | mse_mse: 0.07617 |  0:02:11s\n",
      "epoch 4  | loss: 0.07313 | mse_mse: 0.0656  |  0:02:44s\n",
      "epoch 5  | loss: 0.06619 | mse_mse: 0.05191 |  0:03:17s\n",
      "epoch 6  | loss: 0.06628 | mse_mse: 0.07602 |  0:03:51s\n",
      "epoch 7  | loss: 0.06557 | mse_mse: 0.08507 |  0:04:25s\n",
      "epoch 8  | loss: 0.06438 | mse_mse: 0.08252 |  0:04:59s\n",
      "epoch 9  | loss: 0.05722 | mse_mse: 0.05664 |  0:05:33s\n",
      "epoch 10 | loss: 0.05885 | mse_mse: 0.08132 |  0:06:06s\n",
      "epoch 11 | loss: 0.05946 | mse_mse: 0.05316 |  0:06:40s\n",
      "epoch 12 | loss: 0.05476 | mse_mse: 0.09379 |  0:07:14s\n",
      "epoch 13 | loss: 0.05212 | mse_mse: 0.06643 |  0:07:48s\n",
      "epoch 14 | loss: 0.0528  | mse_mse: 0.07315 |  0:08:22s\n",
      "epoch 15 | loss: 0.04595 | mse_mse: 0.05488 |  0:08:55s\n",
      "\n",
      "Early stopping occurred at epoch 15 with best_epoch = 5 and best_mse_mse = 0.05191\n"
     ]
    },
    {
     "name": "stderr",
     "output_type": "stream",
     "text": [
      "/usr/local/lib/python3.9/site-packages/pytorch_tabnet/callbacks.py:172: UserWarning: Best weights from best epoch are automatically used!\n",
      "  warnings.warn(wrn_msg)\n"
     ]
    },
    {
     "name": "stdout",
     "output_type": "stream",
     "text": [
      "MSE: 0.04787802658355048\n",
      "R2 Score: 0.7840083443829591\n",
      "\n",
      "Iteration 22/162\n",
      "Configuration batch size: 8 - epochs: 200 - n_d: 16 - n_a: 8 - steps: 5 - n_indipendent: 5\n"
     ]
    },
    {
     "name": "stderr",
     "output_type": "stream",
     "text": [
      "/usr/local/lib/python3.9/site-packages/pytorch_tabnet/abstract_model.py:75: UserWarning: Device used : cpu\n",
      "  warnings.warn(f\"Device used : {self.device}\")\n"
     ]
    },
    {
     "name": "stdout",
     "output_type": "stream",
     "text": [
      "epoch 0  | loss: 0.51112 | mse_mse: 0.11801 |  0:00:32s\n",
      "epoch 1  | loss: 0.11944 | mse_mse: 0.12005 |  0:01:05s\n",
      "epoch 2  | loss: 0.09457 | mse_mse: 0.15659 |  0:01:39s\n",
      "epoch 3  | loss: 0.08161 | mse_mse: 0.07617 |  0:02:12s\n",
      "epoch 4  | loss: 0.07313 | mse_mse: 0.0656  |  0:02:46s\n",
      "epoch 5  | loss: 0.06619 | mse_mse: 0.05191 |  0:03:19s\n",
      "epoch 6  | loss: 0.06628 | mse_mse: 0.07602 |  0:03:53s\n",
      "epoch 7  | loss: 0.06557 | mse_mse: 0.08507 |  0:04:25s\n",
      "epoch 8  | loss: 0.06438 | mse_mse: 0.08252 |  0:04:58s\n",
      "epoch 9  | loss: 0.05722 | mse_mse: 0.05664 |  0:05:32s\n",
      "epoch 10 | loss: 0.05885 | mse_mse: 0.08132 |  0:06:06s\n",
      "epoch 11 | loss: 0.05946 | mse_mse: 0.05316 |  0:06:39s\n",
      "epoch 12 | loss: 0.05476 | mse_mse: 0.09379 |  0:07:13s\n",
      "epoch 13 | loss: 0.05212 | mse_mse: 0.06643 |  0:07:47s\n",
      "epoch 14 | loss: 0.0528  | mse_mse: 0.07315 |  0:08:20s\n",
      "epoch 15 | loss: 0.04595 | mse_mse: 0.05488 |  0:08:54s\n",
      "\n",
      "Early stopping occurred at epoch 15 with best_epoch = 5 and best_mse_mse = 0.05191\n"
     ]
    },
    {
     "name": "stderr",
     "output_type": "stream",
     "text": [
      "/usr/local/lib/python3.9/site-packages/pytorch_tabnet/callbacks.py:172: UserWarning: Best weights from best epoch are automatically used!\n",
      "  warnings.warn(wrn_msg)\n"
     ]
    },
    {
     "name": "stdout",
     "output_type": "stream",
     "text": [
      "MSE: 0.04787802658355048\n",
      "R2 Score: 0.7840083443829591\n",
      "\n",
      "Iteration 23/162\n",
      "Configuration batch size: 8 - epochs: 200 - n_d: 16 - n_a: 8 - steps: 7 - n_indipendent: 3\n"
     ]
    },
    {
     "name": "stderr",
     "output_type": "stream",
     "text": [
      "/usr/local/lib/python3.9/site-packages/pytorch_tabnet/abstract_model.py:75: UserWarning: Device used : cpu\n",
      "  warnings.warn(f\"Device used : {self.device}\")\n"
     ]
    },
    {
     "name": "stdout",
     "output_type": "stream",
     "text": [
      "epoch 0  | loss: 0.57584 | mse_mse: 0.10345 |  0:00:43s\n",
      "epoch 1  | loss: 0.13609 | mse_mse: 0.11628 |  0:01:28s\n",
      "epoch 2  | loss: 0.11135 | mse_mse: 0.10208 |  0:02:12s\n",
      "epoch 3  | loss: 0.09382 | mse_mse: 0.04489 |  0:02:57s\n",
      "epoch 4  | loss: 0.07806 | mse_mse: 0.08964 |  0:03:42s\n",
      "epoch 5  | loss: 0.07588 | mse_mse: 0.13724 |  0:04:27s\n",
      "epoch 6  | loss: 0.07435 | mse_mse: 0.05802 |  0:05:11s\n",
      "epoch 7  | loss: 0.0665  | mse_mse: 0.04974 |  0:05:56s\n",
      "epoch 8  | loss: 0.06471 | mse_mse: 0.06523 |  0:06:41s\n",
      "epoch 9  | loss: 0.06219 | mse_mse: 0.05621 |  0:07:25s\n",
      "epoch 10 | loss: 0.06201 | mse_mse: 0.07776 |  0:08:10s\n",
      "epoch 11 | loss: 0.05693 | mse_mse: 0.05887 |  0:08:55s\n",
      "epoch 12 | loss: 0.05283 | mse_mse: 0.04391 |  0:09:40s\n",
      "epoch 13 | loss: 0.04476 | mse_mse: 0.04641 |  0:10:25s\n",
      "epoch 14 | loss: 0.04309 | mse_mse: 0.07964 |  0:11:09s\n",
      "epoch 15 | loss: 0.0399  | mse_mse: 0.08442 |  0:11:54s\n",
      "epoch 16 | loss: 0.039   | mse_mse: 0.09974 |  0:12:38s\n",
      "epoch 17 | loss: 0.04083 | mse_mse: 0.0712  |  0:13:23s\n",
      "epoch 18 | loss: 0.03672 | mse_mse: 0.06559 |  0:14:08s\n",
      "epoch 19 | loss: 0.03885 | mse_mse: 0.10762 |  0:14:52s\n",
      "epoch 20 | loss: 0.03749 | mse_mse: 0.08206 |  0:15:37s\n",
      "epoch 21 | loss: 0.0314  | mse_mse: 0.12389 |  0:16:22s\n",
      "epoch 22 | loss: 0.03487 | mse_mse: 0.06097 |  0:17:06s\n",
      "\n",
      "Early stopping occurred at epoch 22 with best_epoch = 12 and best_mse_mse = 0.04391\n"
     ]
    },
    {
     "name": "stderr",
     "output_type": "stream",
     "text": [
      "/usr/local/lib/python3.9/site-packages/pytorch_tabnet/callbacks.py:172: UserWarning: Best weights from best epoch are automatically used!\n",
      "  warnings.warn(wrn_msg)\n"
     ]
    },
    {
     "name": "stdout",
     "output_type": "stream",
     "text": [
      "MSE: 0.039996035596271906\n",
      "R2 Score: 0.8195662903632516\n",
      "\n",
      "Iteration 24/162\n",
      "Configuration batch size: 8 - epochs: 200 - n_d: 16 - n_a: 8 - steps: 7 - n_indipendent: 5\n"
     ]
    },
    {
     "name": "stderr",
     "output_type": "stream",
     "text": [
      "/usr/local/lib/python3.9/site-packages/pytorch_tabnet/abstract_model.py:75: UserWarning: Device used : cpu\n",
      "  warnings.warn(f\"Device used : {self.device}\")\n"
     ]
    },
    {
     "name": "stdout",
     "output_type": "stream",
     "text": [
      "epoch 0  | loss: 0.57584 | mse_mse: 0.10345 |  0:00:44s\n",
      "epoch 1  | loss: 0.13609 | mse_mse: 0.11628 |  0:01:29s\n",
      "epoch 2  | loss: 0.11135 | mse_mse: 0.10208 |  0:02:13s\n",
      "epoch 3  | loss: 0.09382 | mse_mse: 0.04489 |  0:02:58s\n",
      "epoch 4  | loss: 0.07806 | mse_mse: 0.08964 |  0:03:43s\n",
      "epoch 5  | loss: 0.07588 | mse_mse: 0.13724 |  0:04:28s\n",
      "epoch 6  | loss: 0.07435 | mse_mse: 0.05802 |  0:05:13s\n",
      "epoch 7  | loss: 0.0665  | mse_mse: 0.04974 |  0:05:57s\n",
      "epoch 8  | loss: 0.06471 | mse_mse: 0.06523 |  0:06:42s\n",
      "epoch 9  | loss: 0.06219 | mse_mse: 0.05621 |  0:07:27s\n",
      "epoch 10 | loss: 0.06201 | mse_mse: 0.07776 |  0:08:12s\n",
      "epoch 11 | loss: 0.05693 | mse_mse: 0.05887 |  0:08:56s\n",
      "epoch 12 | loss: 0.05283 | mse_mse: 0.04391 |  0:09:41s\n",
      "epoch 13 | loss: 0.04476 | mse_mse: 0.04641 |  0:10:25s\n",
      "epoch 14 | loss: 0.04309 | mse_mse: 0.07964 |  0:11:10s\n",
      "epoch 15 | loss: 0.0399  | mse_mse: 0.08442 |  0:11:55s\n",
      "epoch 16 | loss: 0.039   | mse_mse: 0.09974 |  0:12:40s\n",
      "epoch 17 | loss: 0.04083 | mse_mse: 0.0712  |  0:13:24s\n",
      "epoch 18 | loss: 0.03672 | mse_mse: 0.06559 |  0:14:10s\n",
      "epoch 19 | loss: 0.03885 | mse_mse: 0.10762 |  0:14:56s\n",
      "epoch 20 | loss: 0.03749 | mse_mse: 0.08206 |  0:15:41s\n",
      "epoch 21 | loss: 0.0314  | mse_mse: 0.12389 |  0:16:27s\n",
      "epoch 22 | loss: 0.03487 | mse_mse: 0.06097 |  0:17:13s\n",
      "\n",
      "Early stopping occurred at epoch 22 with best_epoch = 12 and best_mse_mse = 0.04391\n"
     ]
    },
    {
     "name": "stderr",
     "output_type": "stream",
     "text": [
      "/usr/local/lib/python3.9/site-packages/pytorch_tabnet/callbacks.py:172: UserWarning: Best weights from best epoch are automatically used!\n",
      "  warnings.warn(wrn_msg)\n"
     ]
    },
    {
     "name": "stdout",
     "output_type": "stream",
     "text": [
      "MSE: 0.039996035596271906\n",
      "R2 Score: 0.8195662903632516\n",
      "\n",
      "Iteration 25/162\n",
      "Configuration batch size: 8 - epochs: 200 - n_d: 16 - n_a: 16 - steps: 3 - n_indipendent: 3\n"
     ]
    },
    {
     "name": "stderr",
     "output_type": "stream",
     "text": [
      "/usr/local/lib/python3.9/site-packages/pytorch_tabnet/abstract_model.py:75: UserWarning: Device used : cpu\n",
      "  warnings.warn(f\"Device used : {self.device}\")\n"
     ]
    },
    {
     "name": "stdout",
     "output_type": "stream",
     "text": [
      "epoch 0  | loss: 0.27071 | mse_mse: 0.07555 |  0:00:22s\n",
      "epoch 1  | loss: 0.09284 | mse_mse: 0.06871 |  0:00:45s\n",
      "epoch 2  | loss: 0.08014 | mse_mse: 0.04942 |  0:01:07s\n",
      "epoch 3  | loss: 0.06826 | mse_mse: 0.19064 |  0:01:30s\n",
      "epoch 4  | loss: 0.06847 | mse_mse: 0.07972 |  0:01:53s\n",
      "epoch 5  | loss: 0.06583 | mse_mse: 0.06935 |  0:02:16s\n",
      "epoch 6  | loss: 0.06262 | mse_mse: 0.05872 |  0:02:39s\n",
      "epoch 7  | loss: 0.06182 | mse_mse: 0.10373 |  0:03:02s\n",
      "epoch 8  | loss: 0.0559  | mse_mse: 0.0326  |  0:03:26s\n",
      "epoch 9  | loss: 0.05409 | mse_mse: 0.05934 |  0:03:49s\n",
      "epoch 10 | loss: 0.05266 | mse_mse: 0.04806 |  0:04:12s\n",
      "epoch 11 | loss: 0.05185 | mse_mse: 0.0518  |  0:04:35s\n",
      "epoch 12 | loss: 0.05652 | mse_mse: 0.07889 |  0:04:58s\n",
      "epoch 13 | loss: 0.04988 | mse_mse: 0.03404 |  0:05:21s\n",
      "epoch 14 | loss: 0.04615 | mse_mse: 0.08457 |  0:05:44s\n",
      "epoch 15 | loss: 0.04601 | mse_mse: 0.068   |  0:06:07s\n",
      "epoch 16 | loss: 0.04618 | mse_mse: 0.09046 |  0:06:30s\n",
      "epoch 17 | loss: 0.04243 | mse_mse: 0.0444  |  0:06:53s\n",
      "epoch 18 | loss: 0.04147 | mse_mse: 0.07164 |  0:07:17s\n",
      "\n",
      "Early stopping occurred at epoch 18 with best_epoch = 8 and best_mse_mse = 0.0326\n"
     ]
    },
    {
     "name": "stderr",
     "output_type": "stream",
     "text": [
      "/usr/local/lib/python3.9/site-packages/pytorch_tabnet/callbacks.py:172: UserWarning: Best weights from best epoch are automatically used!\n",
      "  warnings.warn(wrn_msg)\n"
     ]
    },
    {
     "name": "stdout",
     "output_type": "stream",
     "text": [
      "MSE: 0.030658153311717895\n",
      "R2 Score: 0.8616921839833284\n",
      "\n",
      "Iteration 26/162\n",
      "Configuration batch size: 8 - epochs: 200 - n_d: 16 - n_a: 16 - steps: 3 - n_indipendent: 5\n"
     ]
    },
    {
     "name": "stderr",
     "output_type": "stream",
     "text": [
      "/usr/local/lib/python3.9/site-packages/pytorch_tabnet/abstract_model.py:75: UserWarning: Device used : cpu\n",
      "  warnings.warn(f\"Device used : {self.device}\")\n"
     ]
    },
    {
     "name": "stdout",
     "output_type": "stream",
     "text": [
      "epoch 0  | loss: 0.27071 | mse_mse: 0.07555 |  0:00:22s\n",
      "epoch 1  | loss: 0.09284 | mse_mse: 0.06871 |  0:00:45s\n",
      "epoch 2  | loss: 0.08014 | mse_mse: 0.04942 |  0:01:09s\n",
      "epoch 3  | loss: 0.06826 | mse_mse: 0.19064 |  0:01:32s\n",
      "epoch 4  | loss: 0.06847 | mse_mse: 0.07972 |  0:01:55s\n",
      "epoch 5  | loss: 0.06583 | mse_mse: 0.06935 |  0:02:18s\n",
      "epoch 6  | loss: 0.06262 | mse_mse: 0.05872 |  0:02:42s\n",
      "epoch 7  | loss: 0.06182 | mse_mse: 0.10373 |  0:03:05s\n",
      "epoch 8  | loss: 0.0559  | mse_mse: 0.0326  |  0:03:28s\n",
      "epoch 9  | loss: 0.05409 | mse_mse: 0.05934 |  0:03:51s\n",
      "epoch 10 | loss: 0.05266 | mse_mse: 0.04806 |  0:04:15s\n",
      "epoch 11 | loss: 0.05185 | mse_mse: 0.0518  |  0:04:38s\n",
      "epoch 12 | loss: 0.05652 | mse_mse: 0.07889 |  0:05:01s\n",
      "epoch 13 | loss: 0.04988 | mse_mse: 0.03404 |  0:05:24s\n",
      "epoch 14 | loss: 0.04615 | mse_mse: 0.08457 |  0:05:47s\n",
      "epoch 15 | loss: 0.04601 | mse_mse: 0.068   |  0:06:10s\n",
      "epoch 16 | loss: 0.04618 | mse_mse: 0.09046 |  0:06:34s\n",
      "epoch 17 | loss: 0.04243 | mse_mse: 0.0444  |  0:06:57s\n",
      "epoch 18 | loss: 0.04147 | mse_mse: 0.07164 |  0:07:20s\n",
      "\n",
      "Early stopping occurred at epoch 18 with best_epoch = 8 and best_mse_mse = 0.0326\n"
     ]
    },
    {
     "name": "stderr",
     "output_type": "stream",
     "text": [
      "/usr/local/lib/python3.9/site-packages/pytorch_tabnet/callbacks.py:172: UserWarning: Best weights from best epoch are automatically used!\n",
      "  warnings.warn(wrn_msg)\n"
     ]
    },
    {
     "name": "stdout",
     "output_type": "stream",
     "text": [
      "MSE: 0.030658153311717895\n",
      "R2 Score: 0.8616921839833284\n",
      "\n",
      "Iteration 27/162\n",
      "Configuration batch size: 8 - epochs: 200 - n_d: 16 - n_a: 16 - steps: 5 - n_indipendent: 3\n"
     ]
    },
    {
     "name": "stderr",
     "output_type": "stream",
     "text": [
      "/usr/local/lib/python3.9/site-packages/pytorch_tabnet/abstract_model.py:75: UserWarning: Device used : cpu\n",
      "  warnings.warn(f\"Device used : {self.device}\")\n"
     ]
    },
    {
     "name": "stdout",
     "output_type": "stream",
     "text": [
      "epoch 0  | loss: 0.32097 | mse_mse: 0.0896  |  0:00:35s\n",
      "epoch 1  | loss: 0.11791 | mse_mse: 0.07517 |  0:01:10s\n",
      "epoch 2  | loss: 0.08774 | mse_mse: 0.06824 |  0:01:46s\n",
      "epoch 3  | loss: 0.07125 | mse_mse: 0.07092 |  0:02:22s\n",
      "epoch 4  | loss: 0.07953 | mse_mse: 0.0888  |  0:02:58s\n",
      "epoch 5  | loss: 0.07237 | mse_mse: 0.12264 |  0:03:35s\n",
      "epoch 6  | loss: 0.06734 | mse_mse: 0.06478 |  0:04:11s\n",
      "epoch 7  | loss: 0.06622 | mse_mse: 0.07655 |  0:04:47s\n",
      "epoch 8  | loss: 0.06395 | mse_mse: 0.10362 |  0:05:23s\n",
      "epoch 9  | loss: 0.06539 | mse_mse: 0.08838 |  0:05:59s\n",
      "epoch 10 | loss: 0.05832 | mse_mse: 0.09958 |  0:06:36s\n",
      "epoch 11 | loss: 0.05052 | mse_mse: 0.0375  |  0:07:12s\n",
      "epoch 12 | loss: 0.05    | mse_mse: 0.07209 |  0:07:48s\n",
      "epoch 13 | loss: 0.04621 | mse_mse: 0.03544 |  0:08:24s\n",
      "epoch 14 | loss: 0.04369 | mse_mse: 0.05737 |  0:09:00s\n",
      "epoch 15 | loss: 0.04169 | mse_mse: 0.09291 |  0:09:36s\n",
      "epoch 16 | loss: 0.03841 | mse_mse: 0.06679 |  0:10:12s\n",
      "epoch 17 | loss: 0.03763 | mse_mse: 0.08876 |  0:10:48s\n",
      "epoch 18 | loss: 0.03568 | mse_mse: 0.06495 |  0:11:24s\n",
      "epoch 19 | loss: 0.03567 | mse_mse: 0.08531 |  0:12:00s\n",
      "epoch 20 | loss: 0.03116 | mse_mse: 0.06053 |  0:12:36s\n",
      "epoch 21 | loss: 0.03301 | mse_mse: 0.04747 |  0:13:12s\n",
      "epoch 22 | loss: 0.03189 | mse_mse: 0.50623 |  0:13:48s\n",
      "epoch 23 | loss: 0.03483 | mse_mse: 0.62244 |  0:14:24s\n",
      "\n",
      "Early stopping occurred at epoch 23 with best_epoch = 13 and best_mse_mse = 0.03544\n"
     ]
    },
    {
     "name": "stderr",
     "output_type": "stream",
     "text": [
      "/usr/local/lib/python3.9/site-packages/pytorch_tabnet/callbacks.py:172: UserWarning: Best weights from best epoch are automatically used!\n",
      "  warnings.warn(wrn_msg)\n"
     ]
    },
    {
     "name": "stdout",
     "output_type": "stream",
     "text": [
      "MSE: 0.032460515264481744\n",
      "R2 Score: 0.853561206790288\n",
      "\n",
      "Iteration 28/162\n",
      "Configuration batch size: 8 - epochs: 200 - n_d: 16 - n_a: 16 - steps: 5 - n_indipendent: 5\n"
     ]
    },
    {
     "name": "stderr",
     "output_type": "stream",
     "text": [
      "/usr/local/lib/python3.9/site-packages/pytorch_tabnet/abstract_model.py:75: UserWarning: Device used : cpu\n",
      "  warnings.warn(f\"Device used : {self.device}\")\n"
     ]
    },
    {
     "name": "stdout",
     "output_type": "stream",
     "text": [
      "epoch 0  | loss: 0.32097 | mse_mse: 0.0896  |  0:00:34s\n",
      "epoch 1  | loss: 0.11791 | mse_mse: 0.07517 |  0:01:10s\n",
      "epoch 2  | loss: 0.08774 | mse_mse: 0.06824 |  0:01:46s\n",
      "epoch 3  | loss: 0.07125 | mse_mse: 0.07092 |  0:02:22s\n",
      "epoch 4  | loss: 0.07953 | mse_mse: 0.0888  |  0:02:59s\n",
      "epoch 5  | loss: 0.07237 | mse_mse: 0.12264 |  0:03:35s\n",
      "epoch 6  | loss: 0.06734 | mse_mse: 0.06478 |  0:04:12s\n",
      "epoch 7  | loss: 0.06622 | mse_mse: 0.07655 |  0:04:47s\n",
      "epoch 8  | loss: 0.06395 | mse_mse: 0.10362 |  0:05:23s\n",
      "epoch 9  | loss: 0.06539 | mse_mse: 0.08838 |  0:05:59s\n",
      "epoch 10 | loss: 0.05832 | mse_mse: 0.09958 |  0:06:35s\n",
      "epoch 11 | loss: 0.05052 | mse_mse: 0.0375  |  0:07:10s\n",
      "epoch 12 | loss: 0.05    | mse_mse: 0.07209 |  0:07:46s\n",
      "epoch 13 | loss: 0.04621 | mse_mse: 0.03544 |  0:08:22s\n",
      "epoch 14 | loss: 0.04369 | mse_mse: 0.05737 |  0:08:58s\n",
      "epoch 15 | loss: 0.04169 | mse_mse: 0.09291 |  0:09:33s\n",
      "epoch 16 | loss: 0.03841 | mse_mse: 0.06679 |  0:10:09s\n",
      "epoch 17 | loss: 0.03763 | mse_mse: 0.08876 |  0:10:45s\n",
      "epoch 18 | loss: 0.03568 | mse_mse: 0.06495 |  0:11:21s\n",
      "epoch 19 | loss: 0.03567 | mse_mse: 0.08531 |  0:11:57s\n",
      "epoch 20 | loss: 0.03116 | mse_mse: 0.06053 |  0:12:33s\n",
      "epoch 21 | loss: 0.03301 | mse_mse: 0.04747 |  0:13:09s\n",
      "epoch 22 | loss: 0.03189 | mse_mse: 0.50623 |  0:13:45s\n",
      "epoch 23 | loss: 0.03483 | mse_mse: 0.62244 |  0:14:21s\n",
      "\n",
      "Early stopping occurred at epoch 23 with best_epoch = 13 and best_mse_mse = 0.03544\n"
     ]
    },
    {
     "name": "stderr",
     "output_type": "stream",
     "text": [
      "/usr/local/lib/python3.9/site-packages/pytorch_tabnet/callbacks.py:172: UserWarning: Best weights from best epoch are automatically used!\n",
      "  warnings.warn(wrn_msg)\n"
     ]
    },
    {
     "name": "stdout",
     "output_type": "stream",
     "text": [
      "MSE: 0.032460515264481744\n",
      "R2 Score: 0.853561206790288\n",
      "\n",
      "Iteration 29/162\n",
      "Configuration batch size: 8 - epochs: 200 - n_d: 16 - n_a: 16 - steps: 7 - n_indipendent: 3\n"
     ]
    },
    {
     "name": "stderr",
     "output_type": "stream",
     "text": [
      "/usr/local/lib/python3.9/site-packages/pytorch_tabnet/abstract_model.py:75: UserWarning: Device used : cpu\n",
      "  warnings.warn(f\"Device used : {self.device}\")\n"
     ]
    },
    {
     "name": "stdout",
     "output_type": "stream",
     "text": [
      "epoch 0  | loss: 0.41642 | mse_mse: 0.22287 |  0:00:47s\n",
      "epoch 1  | loss: 0.13821 | mse_mse: 0.06227 |  0:01:35s\n",
      "epoch 2  | loss: 0.09384 | mse_mse: 0.07904 |  0:02:24s\n",
      "epoch 3  | loss: 0.08695 | mse_mse: 0.10054 |  0:03:13s\n",
      "epoch 4  | loss: 0.07247 | mse_mse: 0.05996 |  0:04:03s\n",
      "epoch 5  | loss: 0.06713 | mse_mse: 0.11739 |  0:04:52s\n",
      "epoch 6  | loss: 0.06704 | mse_mse: 0.07211 |  0:05:41s\n",
      "epoch 7  | loss: 0.06654 | mse_mse: 0.10635 |  0:06:30s\n",
      "epoch 8  | loss: 0.06154 | mse_mse: 0.09891 |  0:07:19s\n",
      "epoch 9  | loss: 0.06069 | mse_mse: 0.07782 |  0:08:09s\n",
      "epoch 10 | loss: 0.05664 | mse_mse: 0.06287 |  0:08:58s\n",
      "epoch 11 | loss: 0.05624 | mse_mse: 0.10351 |  0:09:47s\n",
      "epoch 12 | loss: 0.05956 | mse_mse: 0.0648  |  0:10:36s\n",
      "epoch 13 | loss: 0.06068 | mse_mse: 0.07157 |  0:11:25s\n",
      "epoch 14 | loss: 0.05151 | mse_mse: 0.10197 |  0:12:14s\n",
      "\n",
      "Early stopping occurred at epoch 14 with best_epoch = 4 and best_mse_mse = 0.05996\n"
     ]
    },
    {
     "name": "stderr",
     "output_type": "stream",
     "text": [
      "/usr/local/lib/python3.9/site-packages/pytorch_tabnet/callbacks.py:172: UserWarning: Best weights from best epoch are automatically used!\n",
      "  warnings.warn(wrn_msg)\n"
     ]
    },
    {
     "name": "stdout",
     "output_type": "stream",
     "text": [
      "MSE: 0.0595688193503808\n",
      "R2 Score: 0.7312677895738149\n",
      "\n",
      "Iteration 30/162\n",
      "Configuration batch size: 8 - epochs: 200 - n_d: 16 - n_a: 16 - steps: 7 - n_indipendent: 5\n"
     ]
    },
    {
     "name": "stderr",
     "output_type": "stream",
     "text": [
      "/usr/local/lib/python3.9/site-packages/pytorch_tabnet/abstract_model.py:75: UserWarning: Device used : cpu\n",
      "  warnings.warn(f\"Device used : {self.device}\")\n"
     ]
    },
    {
     "name": "stdout",
     "output_type": "stream",
     "text": [
      "epoch 0  | loss: 0.41642 | mse_mse: 0.22287 |  0:00:46s\n",
      "epoch 1  | loss: 0.13821 | mse_mse: 0.06227 |  0:01:35s\n",
      "epoch 2  | loss: 0.09384 | mse_mse: 0.07904 |  0:02:24s\n",
      "epoch 3  | loss: 0.08695 | mse_mse: 0.10054 |  0:03:14s\n",
      "epoch 4  | loss: 0.07247 | mse_mse: 0.05996 |  0:04:03s\n",
      "epoch 5  | loss: 0.06713 | mse_mse: 0.11739 |  0:04:52s\n",
      "epoch 6  | loss: 0.06704 | mse_mse: 0.07211 |  0:05:41s\n",
      "epoch 7  | loss: 0.06654 | mse_mse: 0.10635 |  0:06:30s\n",
      "epoch 8  | loss: 0.06154 | mse_mse: 0.09891 |  0:07:19s\n",
      "epoch 9  | loss: 0.06069 | mse_mse: 0.07782 |  0:08:08s\n",
      "epoch 10 | loss: 0.05664 | mse_mse: 0.06287 |  0:08:57s\n",
      "epoch 11 | loss: 0.05624 | mse_mse: 0.10351 |  0:09:46s\n",
      "epoch 12 | loss: 0.05956 | mse_mse: 0.0648  |  0:10:35s\n",
      "epoch 13 | loss: 0.06068 | mse_mse: 0.07157 |  0:11:24s\n",
      "epoch 14 | loss: 0.05151 | mse_mse: 0.10197 |  0:12:13s\n",
      "\n",
      "Early stopping occurred at epoch 14 with best_epoch = 4 and best_mse_mse = 0.05996\n"
     ]
    },
    {
     "name": "stderr",
     "output_type": "stream",
     "text": [
      "/usr/local/lib/python3.9/site-packages/pytorch_tabnet/callbacks.py:172: UserWarning: Best weights from best epoch are automatically used!\n",
      "  warnings.warn(wrn_msg)\n"
     ]
    },
    {
     "name": "stdout",
     "output_type": "stream",
     "text": [
      "MSE: 0.0595688193503808\n",
      "R2 Score: 0.7312677895738149\n",
      "\n",
      "Iteration 31/162\n",
      "Configuration batch size: 8 - epochs: 200 - n_d: 16 - n_a: 32 - steps: 3 - n_indipendent: 3\n"
     ]
    },
    {
     "name": "stderr",
     "output_type": "stream",
     "text": [
      "/usr/local/lib/python3.9/site-packages/pytorch_tabnet/abstract_model.py:75: UserWarning: Device used : cpu\n",
      "  warnings.warn(f\"Device used : {self.device}\")\n"
     ]
    },
    {
     "name": "stdout",
     "output_type": "stream",
     "text": [
      "epoch 0  | loss: 0.2972  | mse_mse: 0.08125 |  0:00:23s\n",
      "epoch 1  | loss: 0.10753 | mse_mse: 0.07165 |  0:00:47s\n",
      "epoch 2  | loss: 0.09332 | mse_mse: 0.04766 |  0:01:12s\n",
      "epoch 3  | loss: 0.07474 | mse_mse: 0.0724  |  0:01:36s\n",
      "epoch 4  | loss: 0.06689 | mse_mse: 0.04997 |  0:02:00s\n",
      "epoch 5  | loss: 0.05951 | mse_mse: 0.03878 |  0:02:25s\n",
      "epoch 6  | loss: 0.05737 | mse_mse: 0.10527 |  0:02:50s\n",
      "epoch 7  | loss: 0.05409 | mse_mse: 0.05244 |  0:03:14s\n",
      "epoch 8  | loss: 0.04998 | mse_mse: 0.03599 |  0:03:39s\n",
      "epoch 9  | loss: 0.04813 | mse_mse: 0.03802 |  0:04:03s\n",
      "epoch 10 | loss: 0.04835 | mse_mse: 0.06225 |  0:04:28s\n",
      "epoch 11 | loss: 0.04815 | mse_mse: 0.0691  |  0:04:53s\n",
      "epoch 12 | loss: 0.04547 | mse_mse: 0.09592 |  0:05:17s\n",
      "epoch 13 | loss: 0.04688 | mse_mse: 0.09736 |  0:05:42s\n",
      "epoch 14 | loss: 0.04582 | mse_mse: 0.03409 |  0:06:07s\n",
      "epoch 15 | loss: 0.04694 | mse_mse: 0.04602 |  0:06:32s\n",
      "epoch 16 | loss: 0.04342 | mse_mse: 0.05649 |  0:06:56s\n",
      "epoch 17 | loss: 0.04107 | mse_mse: 0.04134 |  0:07:21s\n",
      "epoch 18 | loss: 0.04301 | mse_mse: 0.04328 |  0:07:46s\n",
      "epoch 19 | loss: 0.04087 | mse_mse: 0.04956 |  0:08:11s\n",
      "epoch 20 | loss: 0.0431  | mse_mse: 0.04443 |  0:08:36s\n",
      "epoch 21 | loss: 0.03997 | mse_mse: 0.05405 |  0:09:00s\n",
      "epoch 22 | loss: 0.03963 | mse_mse: 0.05658 |  0:09:25s\n",
      "epoch 23 | loss: 0.0385  | mse_mse: 0.06176 |  0:09:50s\n",
      "epoch 24 | loss: 0.0351  | mse_mse: 0.03995 |  0:10:14s\n",
      "\n",
      "Early stopping occurred at epoch 24 with best_epoch = 14 and best_mse_mse = 0.03409\n"
     ]
    },
    {
     "name": "stderr",
     "output_type": "stream",
     "text": [
      "/usr/local/lib/python3.9/site-packages/pytorch_tabnet/callbacks.py:172: UserWarning: Best weights from best epoch are automatically used!\n",
      "  warnings.warn(wrn_msg)\n"
     ]
    },
    {
     "name": "stdout",
     "output_type": "stream",
     "text": [
      "MSE: 0.03436637891837047\n",
      "R2 Score: 0.8449633034229592\n",
      "\n",
      "Iteration 32/162\n",
      "Configuration batch size: 8 - epochs: 200 - n_d: 16 - n_a: 32 - steps: 3 - n_indipendent: 5\n"
     ]
    },
    {
     "name": "stderr",
     "output_type": "stream",
     "text": [
      "/usr/local/lib/python3.9/site-packages/pytorch_tabnet/abstract_model.py:75: UserWarning: Device used : cpu\n",
      "  warnings.warn(f\"Device used : {self.device}\")\n"
     ]
    },
    {
     "name": "stdout",
     "output_type": "stream",
     "text": [
      "epoch 0  | loss: 0.2972  | mse_mse: 0.08125 |  0:00:23s\n",
      "epoch 1  | loss: 0.10753 | mse_mse: 0.07165 |  0:00:48s\n",
      "epoch 2  | loss: 0.09332 | mse_mse: 0.04766 |  0:01:12s\n",
      "epoch 3  | loss: 0.07474 | mse_mse: 0.0724  |  0:01:37s\n",
      "epoch 4  | loss: 0.06689 | mse_mse: 0.04997 |  0:02:01s\n",
      "epoch 5  | loss: 0.05951 | mse_mse: 0.03878 |  0:02:26s\n",
      "epoch 6  | loss: 0.05737 | mse_mse: 0.10527 |  0:02:51s\n",
      "epoch 7  | loss: 0.05409 | mse_mse: 0.05244 |  0:03:15s\n",
      "epoch 8  | loss: 0.04998 | mse_mse: 0.03599 |  0:03:40s\n",
      "epoch 9  | loss: 0.04813 | mse_mse: 0.03802 |  0:04:05s\n",
      "epoch 10 | loss: 0.04835 | mse_mse: 0.06225 |  0:04:30s\n",
      "epoch 11 | loss: 0.04815 | mse_mse: 0.0691  |  0:04:54s\n",
      "epoch 12 | loss: 0.04547 | mse_mse: 0.09592 |  0:05:19s\n",
      "epoch 13 | loss: 0.04688 | mse_mse: 0.09736 |  0:05:44s\n",
      "epoch 14 | loss: 0.04582 | mse_mse: 0.03409 |  0:06:08s\n",
      "epoch 15 | loss: 0.04694 | mse_mse: 0.04602 |  0:06:33s\n",
      "epoch 16 | loss: 0.04342 | mse_mse: 0.05649 |  0:06:58s\n",
      "epoch 17 | loss: 0.04107 | mse_mse: 0.04134 |  0:07:22s\n",
      "epoch 18 | loss: 0.04301 | mse_mse: 0.04328 |  0:07:47s\n",
      "epoch 19 | loss: 0.04087 | mse_mse: 0.04956 |  0:08:12s\n",
      "epoch 20 | loss: 0.0431  | mse_mse: 0.04443 |  0:08:36s\n",
      "epoch 21 | loss: 0.03997 | mse_mse: 0.05405 |  0:09:01s\n",
      "epoch 22 | loss: 0.03963 | mse_mse: 0.05658 |  0:09:26s\n",
      "epoch 23 | loss: 0.0385  | mse_mse: 0.06176 |  0:09:50s\n",
      "epoch 24 | loss: 0.0351  | mse_mse: 0.03995 |  0:10:15s\n",
      "\n",
      "Early stopping occurred at epoch 24 with best_epoch = 14 and best_mse_mse = 0.03409\n"
     ]
    },
    {
     "name": "stderr",
     "output_type": "stream",
     "text": [
      "/usr/local/lib/python3.9/site-packages/pytorch_tabnet/callbacks.py:172: UserWarning: Best weights from best epoch are automatically used!\n",
      "  warnings.warn(wrn_msg)\n"
     ]
    },
    {
     "name": "stdout",
     "output_type": "stream",
     "text": [
      "MSE: 0.03436637891837047\n",
      "R2 Score: 0.8449633034229592\n",
      "\n",
      "Iteration 33/162\n",
      "Configuration batch size: 8 - epochs: 200 - n_d: 16 - n_a: 32 - steps: 5 - n_indipendent: 3\n"
     ]
    },
    {
     "name": "stderr",
     "output_type": "stream",
     "text": [
      "/usr/local/lib/python3.9/site-packages/pytorch_tabnet/abstract_model.py:75: UserWarning: Device used : cpu\n",
      "  warnings.warn(f\"Device used : {self.device}\")\n"
     ]
    },
    {
     "name": "stdout",
     "output_type": "stream",
     "text": [
      "epoch 0  | loss: 0.38915 | mse_mse: 0.19041 |  0:00:37s\n",
      "epoch 1  | loss: 0.11037 | mse_mse: 0.08854 |  0:01:15s\n",
      "epoch 2  | loss: 0.09407 | mse_mse: 0.04241 |  0:01:53s\n",
      "epoch 3  | loss: 0.079   | mse_mse: 0.0786  |  0:02:31s\n",
      "epoch 4  | loss: 0.06815 | mse_mse: 0.14708 |  0:03:10s\n",
      "epoch 5  | loss: 0.07528 | mse_mse: 0.06839 |  0:03:48s\n",
      "epoch 6  | loss: 0.06298 | mse_mse: 0.06445 |  0:04:27s\n",
      "epoch 7  | loss: 0.06369 | mse_mse: 0.07985 |  0:05:05s\n",
      "epoch 8  | loss: 0.06623 | mse_mse: 0.25951 |  0:05:44s\n",
      "epoch 9  | loss: 0.06433 | mse_mse: 0.08206 |  0:06:22s\n",
      "epoch 10 | loss: 0.05781 | mse_mse: 0.08276 |  0:07:01s\n",
      "epoch 11 | loss: 0.05743 | mse_mse: 0.10279 |  0:07:39s\n",
      "epoch 12 | loss: 0.05366 | mse_mse: 0.06952 |  0:08:18s\n",
      "\n",
      "Early stopping occurred at epoch 12 with best_epoch = 2 and best_mse_mse = 0.04241\n"
     ]
    },
    {
     "name": "stderr",
     "output_type": "stream",
     "text": [
      "/usr/local/lib/python3.9/site-packages/pytorch_tabnet/callbacks.py:172: UserWarning: Best weights from best epoch are automatically used!\n",
      "  warnings.warn(wrn_msg)\n"
     ]
    },
    {
     "name": "stdout",
     "output_type": "stream",
     "text": [
      "MSE: 0.038932012100660815\n",
      "R2 Score: 0.824366408764778\n",
      "\n",
      "Iteration 34/162\n",
      "Configuration batch size: 8 - epochs: 200 - n_d: 16 - n_a: 32 - steps: 5 - n_indipendent: 5\n"
     ]
    },
    {
     "name": "stderr",
     "output_type": "stream",
     "text": [
      "/usr/local/lib/python3.9/site-packages/pytorch_tabnet/abstract_model.py:75: UserWarning: Device used : cpu\n",
      "  warnings.warn(f\"Device used : {self.device}\")\n"
     ]
    },
    {
     "name": "stdout",
     "output_type": "stream",
     "text": [
      "epoch 0  | loss: 0.38915 | mse_mse: 0.19041 |  0:00:37s\n",
      "epoch 1  | loss: 0.11037 | mse_mse: 0.08854 |  0:01:15s\n",
      "epoch 2  | loss: 0.09407 | mse_mse: 0.04241 |  0:01:54s\n",
      "epoch 3  | loss: 0.079   | mse_mse: 0.0786  |  0:02:32s\n",
      "epoch 4  | loss: 0.06815 | mse_mse: 0.14708 |  0:03:10s\n",
      "epoch 5  | loss: 0.07528 | mse_mse: 0.06839 |  0:03:49s\n",
      "epoch 6  | loss: 0.06298 | mse_mse: 0.06445 |  0:04:28s\n",
      "epoch 7  | loss: 0.06369 | mse_mse: 0.07985 |  0:05:06s\n",
      "epoch 8  | loss: 0.06623 | mse_mse: 0.25951 |  0:05:45s\n",
      "epoch 9  | loss: 0.06433 | mse_mse: 0.08206 |  0:06:23s\n",
      "epoch 10 | loss: 0.05781 | mse_mse: 0.08276 |  0:07:02s\n",
      "epoch 11 | loss: 0.05743 | mse_mse: 0.10279 |  0:07:40s\n",
      "epoch 12 | loss: 0.05366 | mse_mse: 0.06952 |  0:08:19s\n",
      "\n",
      "Early stopping occurred at epoch 12 with best_epoch = 2 and best_mse_mse = 0.04241\n"
     ]
    },
    {
     "name": "stderr",
     "output_type": "stream",
     "text": [
      "/usr/local/lib/python3.9/site-packages/pytorch_tabnet/callbacks.py:172: UserWarning: Best weights from best epoch are automatically used!\n",
      "  warnings.warn(wrn_msg)\n"
     ]
    },
    {
     "name": "stdout",
     "output_type": "stream",
     "text": [
      "MSE: 0.038932012100660815\n",
      "R2 Score: 0.824366408764778\n",
      "\n",
      "Iteration 35/162\n",
      "Configuration batch size: 8 - epochs: 200 - n_d: 16 - n_a: 32 - steps: 7 - n_indipendent: 3\n"
     ]
    },
    {
     "name": "stderr",
     "output_type": "stream",
     "text": [
      "/usr/local/lib/python3.9/site-packages/pytorch_tabnet/abstract_model.py:75: UserWarning: Device used : cpu\n",
      "  warnings.warn(f\"Device used : {self.device}\")\n"
     ]
    },
    {
     "name": "stdout",
     "output_type": "stream",
     "text": [
      "epoch 0  | loss: 0.52846 | mse_mse: 0.20327 |  0:00:49s\n",
      "epoch 1  | loss: 0.13529 | mse_mse: 0.10063 |  0:01:40s\n",
      "epoch 2  | loss: 0.11049 | mse_mse: 0.07658 |  0:02:32s\n",
      "epoch 3  | loss: 0.07956 | mse_mse: 0.06029 |  0:03:23s\n",
      "epoch 4  | loss: 0.07746 | mse_mse: 0.08982 |  0:04:15s\n",
      "epoch 5  | loss: 0.06879 | mse_mse: 0.06861 |  0:05:07s\n",
      "epoch 6  | loss: 0.0659  | mse_mse: 0.18075 |  0:05:59s\n",
      "epoch 7  | loss: 0.06519 | mse_mse: 0.074   |  0:06:51s\n",
      "epoch 8  | loss: 0.05844 | mse_mse: 0.05245 |  0:07:43s\n",
      "epoch 9  | loss: 0.06215 | mse_mse: 0.08468 |  0:08:34s\n",
      "epoch 10 | loss: 0.0593  | mse_mse: 0.09124 |  0:09:26s\n",
      "epoch 11 | loss: 0.05637 | mse_mse: 0.09029 |  0:10:18s\n",
      "epoch 12 | loss: 0.05591 | mse_mse: 0.06652 |  0:11:10s\n",
      "epoch 13 | loss: 0.05107 | mse_mse: 0.0822  |  0:12:02s\n",
      "epoch 14 | loss: 0.05147 | mse_mse: 0.08545 |  0:12:53s\n",
      "epoch 15 | loss: 0.04653 | mse_mse: 0.09775 |  0:13:45s\n",
      "epoch 16 | loss: 0.04579 | mse_mse: 0.07827 |  0:14:37s\n",
      "epoch 17 | loss: 0.04405 | mse_mse: 0.07874 |  0:15:29s\n",
      "epoch 18 | loss: 0.04121 | mse_mse: 0.18975 |  0:16:21s\n",
      "\n",
      "Early stopping occurred at epoch 18 with best_epoch = 8 and best_mse_mse = 0.05245\n"
     ]
    },
    {
     "name": "stderr",
     "output_type": "stream",
     "text": [
      "/usr/local/lib/python3.9/site-packages/pytorch_tabnet/callbacks.py:172: UserWarning: Best weights from best epoch are automatically used!\n",
      "  warnings.warn(wrn_msg)\n"
     ]
    },
    {
     "name": "stdout",
     "output_type": "stream",
     "text": [
      "MSE: 0.049259029335422734\n",
      "R2 Score: 0.7777782406783286\n",
      "\n",
      "Iteration 36/162\n",
      "Configuration batch size: 8 - epochs: 200 - n_d: 16 - n_a: 32 - steps: 7 - n_indipendent: 5\n"
     ]
    },
    {
     "name": "stderr",
     "output_type": "stream",
     "text": [
      "/usr/local/lib/python3.9/site-packages/pytorch_tabnet/abstract_model.py:75: UserWarning: Device used : cpu\n",
      "  warnings.warn(f\"Device used : {self.device}\")\n"
     ]
    },
    {
     "name": "stdout",
     "output_type": "stream",
     "text": [
      "epoch 0  | loss: 0.52846 | mse_mse: 0.20327 |  0:00:49s\n",
      "epoch 1  | loss: 0.13529 | mse_mse: 0.10063 |  0:01:40s\n",
      "epoch 2  | loss: 0.11049 | mse_mse: 0.07658 |  0:02:31s\n",
      "epoch 3  | loss: 0.07956 | mse_mse: 0.06029 |  0:03:23s\n",
      "epoch 4  | loss: 0.07746 | mse_mse: 0.08982 |  0:04:15s\n",
      "epoch 5  | loss: 0.06879 | mse_mse: 0.06861 |  0:05:06s\n",
      "epoch 6  | loss: 0.0659  | mse_mse: 0.18075 |  0:05:58s\n",
      "epoch 7  | loss: 0.06519 | mse_mse: 0.074   |  0:06:50s\n",
      "epoch 8  | loss: 0.05844 | mse_mse: 0.05245 |  0:07:42s\n",
      "epoch 9  | loss: 0.06215 | mse_mse: 0.08468 |  0:08:34s\n",
      "epoch 10 | loss: 0.0593  | mse_mse: 0.09124 |  0:09:25s\n",
      "epoch 11 | loss: 0.05637 | mse_mse: 0.09029 |  0:10:17s\n",
      "epoch 12 | loss: 0.05591 | mse_mse: 0.06652 |  0:11:09s\n",
      "epoch 13 | loss: 0.05107 | mse_mse: 0.0822  |  0:12:00s\n",
      "epoch 14 | loss: 0.05147 | mse_mse: 0.08545 |  0:12:52s\n",
      "epoch 15 | loss: 0.04653 | mse_mse: 0.09775 |  0:13:44s\n",
      "epoch 16 | loss: 0.04579 | mse_mse: 0.07827 |  0:14:36s\n",
      "epoch 17 | loss: 0.04405 | mse_mse: 0.07874 |  0:15:27s\n",
      "epoch 18 | loss: 0.04121 | mse_mse: 0.18975 |  0:16:19s\n",
      "\n",
      "Early stopping occurred at epoch 18 with best_epoch = 8 and best_mse_mse = 0.05245\n"
     ]
    },
    {
     "name": "stderr",
     "output_type": "stream",
     "text": [
      "/usr/local/lib/python3.9/site-packages/pytorch_tabnet/callbacks.py:172: UserWarning: Best weights from best epoch are automatically used!\n",
      "  warnings.warn(wrn_msg)\n"
     ]
    },
    {
     "name": "stdout",
     "output_type": "stream",
     "text": [
      "MSE: 0.049259029335422734\n",
      "R2 Score: 0.7777782406783286\n",
      "\n",
      "Iteration 37/162\n",
      "Configuration batch size: 8 - epochs: 200 - n_d: 32 - n_a: 8 - steps: 3 - n_indipendent: 3\n"
     ]
    },
    {
     "name": "stderr",
     "output_type": "stream",
     "text": [
      "/usr/local/lib/python3.9/site-packages/pytorch_tabnet/abstract_model.py:75: UserWarning: Device used : cpu\n",
      "  warnings.warn(f\"Device used : {self.device}\")\n"
     ]
    },
    {
     "name": "stdout",
     "output_type": "stream",
     "text": [
      "epoch 0  | loss: 0.26322 | mse_mse: 0.04784 |  0:00:22s\n",
      "epoch 1  | loss: 0.08021 | mse_mse: 0.04184 |  0:00:44s\n",
      "epoch 2  | loss: 0.07404 | mse_mse: 0.07053 |  0:01:07s\n",
      "epoch 3  | loss: 0.07046 | mse_mse: 0.05978 |  0:01:29s\n",
      "epoch 4  | loss: 0.06984 | mse_mse: 0.10274 |  0:01:52s\n",
      "epoch 5  | loss: 0.06407 | mse_mse: 0.07943 |  0:02:15s\n",
      "epoch 6  | loss: 0.0631  | mse_mse: 0.06555 |  0:02:37s\n",
      "epoch 7  | loss: 0.06936 | mse_mse: 0.08885 |  0:03:00s\n",
      "epoch 8  | loss: 0.06168 | mse_mse: 0.06396 |  0:03:23s\n",
      "epoch 9  | loss: 0.05945 | mse_mse: 0.10457 |  0:03:46s\n",
      "epoch 10 | loss: 0.05658 | mse_mse: 0.12399 |  0:04:09s\n",
      "epoch 11 | loss: 0.05497 | mse_mse: 0.0708  |  0:04:31s\n",
      "\n",
      "Early stopping occurred at epoch 11 with best_epoch = 1 and best_mse_mse = 0.04184\n"
     ]
    },
    {
     "name": "stderr",
     "output_type": "stream",
     "text": [
      "/usr/local/lib/python3.9/site-packages/pytorch_tabnet/callbacks.py:172: UserWarning: Best weights from best epoch are automatically used!\n",
      "  warnings.warn(wrn_msg)\n"
     ]
    },
    {
     "name": "stdout",
     "output_type": "stream",
     "text": [
      "MSE: 0.03898220535342702\n",
      "R2 Score: 0.8241399724527705\n",
      "\n",
      "Iteration 38/162\n",
      "Configuration batch size: 8 - epochs: 200 - n_d: 32 - n_a: 8 - steps: 3 - n_indipendent: 5\n"
     ]
    },
    {
     "name": "stderr",
     "output_type": "stream",
     "text": [
      "/usr/local/lib/python3.9/site-packages/pytorch_tabnet/abstract_model.py:75: UserWarning: Device used : cpu\n",
      "  warnings.warn(f\"Device used : {self.device}\")\n"
     ]
    },
    {
     "name": "stdout",
     "output_type": "stream",
     "text": [
      "epoch 0  | loss: 0.26322 | mse_mse: 0.04784 |  0:00:22s\n",
      "epoch 1  | loss: 0.08021 | mse_mse: 0.04184 |  0:00:44s\n",
      "epoch 2  | loss: 0.07404 | mse_mse: 0.07053 |  0:01:07s\n",
      "epoch 3  | loss: 0.07046 | mse_mse: 0.05978 |  0:01:29s\n",
      "epoch 4  | loss: 0.06984 | mse_mse: 0.10274 |  0:01:52s\n",
      "epoch 5  | loss: 0.06407 | mse_mse: 0.07943 |  0:02:15s\n",
      "epoch 6  | loss: 0.0631  | mse_mse: 0.06555 |  0:02:38s\n",
      "epoch 7  | loss: 0.06936 | mse_mse: 0.08885 |  0:03:00s\n",
      "epoch 8  | loss: 0.06168 | mse_mse: 0.06396 |  0:03:23s\n",
      "epoch 9  | loss: 0.05945 | mse_mse: 0.10457 |  0:03:45s\n",
      "epoch 10 | loss: 0.05658 | mse_mse: 0.12399 |  0:04:08s\n",
      "epoch 11 | loss: 0.05497 | mse_mse: 0.0708  |  0:04:31s\n",
      "\n",
      "Early stopping occurred at epoch 11 with best_epoch = 1 and best_mse_mse = 0.04184\n"
     ]
    },
    {
     "name": "stderr",
     "output_type": "stream",
     "text": [
      "/usr/local/lib/python3.9/site-packages/pytorch_tabnet/callbacks.py:172: UserWarning: Best weights from best epoch are automatically used!\n",
      "  warnings.warn(wrn_msg)\n"
     ]
    },
    {
     "name": "stdout",
     "output_type": "stream",
     "text": [
      "MSE: 0.03898220535342702\n",
      "R2 Score: 0.8241399724527705\n",
      "\n",
      "Iteration 39/162\n",
      "Configuration batch size: 8 - epochs: 200 - n_d: 32 - n_a: 8 - steps: 5 - n_indipendent: 3\n"
     ]
    },
    {
     "name": "stderr",
     "output_type": "stream",
     "text": [
      "/usr/local/lib/python3.9/site-packages/pytorch_tabnet/abstract_model.py:75: UserWarning: Device used : cpu\n",
      "  warnings.warn(f\"Device used : {self.device}\")\n"
     ]
    },
    {
     "name": "stdout",
     "output_type": "stream",
     "text": [
      "epoch 0  | loss: 0.41029 | mse_mse: 0.16458 |  0:00:34s\n",
      "epoch 1  | loss: 0.11439 | mse_mse: 0.05879 |  0:01:08s\n",
      "epoch 2  | loss: 0.0953  | mse_mse: 0.11025 |  0:01:42s\n",
      "epoch 3  | loss: 0.08562 | mse_mse: 0.03525 |  0:02:17s\n",
      "epoch 4  | loss: 0.07676 | mse_mse: 0.03716 |  0:02:52s\n",
      "epoch 5  | loss: 0.07084 | mse_mse: 0.03596 |  0:03:27s\n",
      "epoch 6  | loss: 0.06732 | mse_mse: 0.04332 |  0:04:02s\n",
      "epoch 7  | loss: 0.06623 | mse_mse: 0.03617 |  0:04:37s\n",
      "epoch 8  | loss: 0.06022 | mse_mse: 0.11905 |  0:05:12s\n",
      "epoch 9  | loss: 0.06134 | mse_mse: 0.04868 |  0:05:47s\n",
      "epoch 10 | loss: 0.05752 | mse_mse: 0.06178 |  0:06:22s\n",
      "epoch 11 | loss: 0.05464 | mse_mse: 0.07842 |  0:06:57s\n",
      "epoch 12 | loss: 0.05331 | mse_mse: 0.04672 |  0:07:32s\n",
      "epoch 13 | loss: 0.05266 | mse_mse: 0.08018 |  0:08:07s\n",
      "\n",
      "Early stopping occurred at epoch 13 with best_epoch = 3 and best_mse_mse = 0.03525\n"
     ]
    },
    {
     "name": "stderr",
     "output_type": "stream",
     "text": [
      "/usr/local/lib/python3.9/site-packages/pytorch_tabnet/callbacks.py:172: UserWarning: Best weights from best epoch are automatically used!\n",
      "  warnings.warn(wrn_msg)\n"
     ]
    },
    {
     "name": "stdout",
     "output_type": "stream",
     "text": [
      "MSE: 0.03507308386277069\n",
      "R2 Score: 0.8417751525766126\n",
      "\n",
      "Iteration 40/162\n",
      "Configuration batch size: 8 - epochs: 200 - n_d: 32 - n_a: 8 - steps: 5 - n_indipendent: 5\n"
     ]
    },
    {
     "name": "stderr",
     "output_type": "stream",
     "text": [
      "/usr/local/lib/python3.9/site-packages/pytorch_tabnet/abstract_model.py:75: UserWarning: Device used : cpu\n",
      "  warnings.warn(f\"Device used : {self.device}\")\n"
     ]
    },
    {
     "name": "stdout",
     "output_type": "stream",
     "text": [
      "epoch 0  | loss: 0.41029 | mse_mse: 0.16458 |  0:00:33s\n",
      "epoch 1  | loss: 0.11439 | mse_mse: 0.05879 |  0:01:08s\n",
      "epoch 2  | loss: 0.0953  | mse_mse: 0.11025 |  0:01:43s\n",
      "epoch 3  | loss: 0.08562 | mse_mse: 0.03525 |  0:02:17s\n",
      "epoch 4  | loss: 0.07676 | mse_mse: 0.03716 |  0:02:52s\n",
      "epoch 5  | loss: 0.07084 | mse_mse: 0.03596 |  0:03:27s\n",
      "epoch 6  | loss: 0.06732 | mse_mse: 0.04332 |  0:04:02s\n",
      "epoch 7  | loss: 0.06623 | mse_mse: 0.03617 |  0:04:36s\n",
      "epoch 8  | loss: 0.06022 | mse_mse: 0.11905 |  0:05:11s\n",
      "epoch 9  | loss: 0.06134 | mse_mse: 0.04868 |  0:05:46s\n",
      "epoch 10 | loss: 0.05752 | mse_mse: 0.06178 |  0:06:20s\n",
      "epoch 11 | loss: 0.05464 | mse_mse: 0.07842 |  0:06:55s\n",
      "epoch 12 | loss: 0.05331 | mse_mse: 0.04672 |  0:07:29s\n",
      "epoch 13 | loss: 0.05266 | mse_mse: 0.08018 |  0:08:03s\n",
      "\n",
      "Early stopping occurred at epoch 13 with best_epoch = 3 and best_mse_mse = 0.03525\n"
     ]
    },
    {
     "name": "stderr",
     "output_type": "stream",
     "text": [
      "/usr/local/lib/python3.9/site-packages/pytorch_tabnet/callbacks.py:172: UserWarning: Best weights from best epoch are automatically used!\n",
      "  warnings.warn(wrn_msg)\n"
     ]
    },
    {
     "name": "stdout",
     "output_type": "stream",
     "text": [
      "MSE: 0.03507308386277069\n",
      "R2 Score: 0.8417751525766126\n",
      "\n",
      "Iteration 41/162\n",
      "Configuration batch size: 8 - epochs: 200 - n_d: 32 - n_a: 8 - steps: 7 - n_indipendent: 3\n"
     ]
    },
    {
     "name": "stderr",
     "output_type": "stream",
     "text": [
      "/usr/local/lib/python3.9/site-packages/pytorch_tabnet/abstract_model.py:75: UserWarning: Device used : cpu\n",
      "  warnings.warn(f\"Device used : {self.device}\")\n"
     ]
    },
    {
     "name": "stdout",
     "output_type": "stream",
     "text": [
      "epoch 0  | loss: 0.59663 | mse_mse: 0.18051 |  0:00:46s\n",
      "epoch 1  | loss: 0.13686 | mse_mse: 0.09685 |  0:01:33s\n",
      "epoch 2  | loss: 0.10325 | mse_mse: 0.05608 |  0:02:20s\n",
      "epoch 3  | loss: 0.07908 | mse_mse: 0.07233 |  0:03:07s\n",
      "epoch 4  | loss: 0.06971 | mse_mse: 0.08168 |  0:03:54s\n",
      "epoch 5  | loss: 0.0653  | mse_mse: 0.08336 |  0:04:41s\n",
      "epoch 6  | loss: 0.06526 | mse_mse: 0.20188 |  0:05:29s\n",
      "epoch 7  | loss: 0.06332 | mse_mse: 0.1798  |  0:06:16s\n",
      "epoch 8  | loss: 0.05861 | mse_mse: 0.07403 |  0:07:03s\n",
      "epoch 9  | loss: 0.05548 | mse_mse: 0.16331 |  0:07:50s\n",
      "epoch 10 | loss: 0.05575 | mse_mse: 0.12821 |  0:08:37s\n",
      "epoch 11 | loss: 0.04975 | mse_mse: 0.14161 |  0:09:25s\n",
      "epoch 12 | loss: 0.04437 | mse_mse: 0.08217 |  0:10:12s\n",
      "\n",
      "Early stopping occurred at epoch 12 with best_epoch = 2 and best_mse_mse = 0.05608\n"
     ]
    },
    {
     "name": "stderr",
     "output_type": "stream",
     "text": [
      "/usr/local/lib/python3.9/site-packages/pytorch_tabnet/callbacks.py:172: UserWarning: Best weights from best epoch are automatically used!\n",
      "  warnings.warn(wrn_msg)\n"
     ]
    },
    {
     "name": "stdout",
     "output_type": "stream",
     "text": [
      "MSE: 0.05736839207787738\n",
      "R2 Score: 0.7411945548055339\n",
      "\n",
      "Iteration 42/162\n",
      "Configuration batch size: 8 - epochs: 200 - n_d: 32 - n_a: 8 - steps: 7 - n_indipendent: 5\n"
     ]
    },
    {
     "name": "stderr",
     "output_type": "stream",
     "text": [
      "/usr/local/lib/python3.9/site-packages/pytorch_tabnet/abstract_model.py:75: UserWarning: Device used : cpu\n",
      "  warnings.warn(f\"Device used : {self.device}\")\n"
     ]
    },
    {
     "name": "stdout",
     "output_type": "stream",
     "text": [
      "epoch 0  | loss: 0.59663 | mse_mse: 0.18051 |  0:00:48s\n",
      "epoch 1  | loss: 0.13686 | mse_mse: 0.09685 |  0:01:37s\n",
      "epoch 2  | loss: 0.10325 | mse_mse: 0.05608 |  0:02:25s\n",
      "epoch 3  | loss: 0.07908 | mse_mse: 0.07233 |  0:03:11s\n",
      "epoch 4  | loss: 0.06971 | mse_mse: 0.08168 |  0:03:57s\n",
      "epoch 5  | loss: 0.0653  | mse_mse: 0.08336 |  0:04:44s\n",
      "epoch 6  | loss: 0.06526 | mse_mse: 0.20188 |  0:05:30s\n",
      "epoch 7  | loss: 0.06332 | mse_mse: 0.1798  |  0:06:16s\n",
      "epoch 8  | loss: 0.05861 | mse_mse: 0.07403 |  0:07:04s\n",
      "epoch 9  | loss: 0.05548 | mse_mse: 0.16331 |  0:07:51s\n",
      "epoch 10 | loss: 0.05575 | mse_mse: 0.12821 |  0:08:38s\n",
      "epoch 11 | loss: 0.04975 | mse_mse: 0.14161 |  0:09:25s\n",
      "epoch 12 | loss: 0.04437 | mse_mse: 0.08217 |  0:10:13s\n",
      "\n",
      "Early stopping occurred at epoch 12 with best_epoch = 2 and best_mse_mse = 0.05608\n"
     ]
    },
    {
     "name": "stderr",
     "output_type": "stream",
     "text": [
      "/usr/local/lib/python3.9/site-packages/pytorch_tabnet/callbacks.py:172: UserWarning: Best weights from best epoch are automatically used!\n",
      "  warnings.warn(wrn_msg)\n"
     ]
    },
    {
     "name": "stdout",
     "output_type": "stream",
     "text": [
      "MSE: 0.05736839207787738\n",
      "R2 Score: 0.7411945548055339\n",
      "\n",
      "Iteration 43/162\n",
      "Configuration batch size: 8 - epochs: 200 - n_d: 32 - n_a: 16 - steps: 3 - n_indipendent: 3\n"
     ]
    },
    {
     "name": "stderr",
     "output_type": "stream",
     "text": [
      "/usr/local/lib/python3.9/site-packages/pytorch_tabnet/abstract_model.py:75: UserWarning: Device used : cpu\n",
      "  warnings.warn(f\"Device used : {self.device}\")\n"
     ]
    },
    {
     "name": "stdout",
     "output_type": "stream",
     "text": [
      "epoch 0  | loss: 0.27865 | mse_mse: 0.09452 |  0:00:23s\n",
      "epoch 1  | loss: 0.10328 | mse_mse: 0.1925  |  0:00:47s\n",
      "epoch 2  | loss: 0.08572 | mse_mse: 0.04847 |  0:01:10s\n",
      "epoch 3  | loss: 0.08284 | mse_mse: 0.06105 |  0:01:34s\n",
      "epoch 4  | loss: 0.07846 | mse_mse: 0.07525 |  0:01:58s\n",
      "epoch 5  | loss: 0.07803 | mse_mse: 0.06758 |  0:02:22s\n",
      "epoch 6  | loss: 0.06988 | mse_mse: 0.11852 |  0:02:46s\n",
      "epoch 7  | loss: 0.06922 | mse_mse: 0.02948 |  0:03:10s\n",
      "epoch 8  | loss: 0.06521 | mse_mse: 0.09144 |  0:03:34s\n",
      "epoch 9  | loss: 0.06077 | mse_mse: 0.04522 |  0:03:58s\n",
      "epoch 10 | loss: 0.06013 | mse_mse: 0.06047 |  0:04:22s\n",
      "epoch 11 | loss: 0.05457 | mse_mse: 0.08584 |  0:04:47s\n",
      "epoch 12 | loss: 0.05652 | mse_mse: 0.09837 |  0:05:11s\n",
      "epoch 13 | loss: 0.04661 | mse_mse: 0.04605 |  0:05:35s\n",
      "epoch 14 | loss: 0.04425 | mse_mse: 0.0839  |  0:05:59s\n",
      "epoch 15 | loss: 0.04241 | mse_mse: 0.0518  |  0:06:23s\n",
      "epoch 16 | loss: 0.04726 | mse_mse: 0.07609 |  0:06:47s\n",
      "epoch 17 | loss: 0.0413  | mse_mse: 0.05478 |  0:07:11s\n",
      "\n",
      "Early stopping occurred at epoch 17 with best_epoch = 7 and best_mse_mse = 0.02948\n"
     ]
    },
    {
     "name": "stderr",
     "output_type": "stream",
     "text": [
      "/usr/local/lib/python3.9/site-packages/pytorch_tabnet/callbacks.py:172: UserWarning: Best weights from best epoch are automatically used!\n",
      "  warnings.warn(wrn_msg)\n"
     ]
    },
    {
     "name": "stdout",
     "output_type": "stream",
     "text": [
      "MSE: 0.02792458554827347\n",
      "R2 Score: 0.8740241005032667\n",
      "Best model updated\n",
      "\n",
      "Iteration 44/162\n",
      "Configuration batch size: 8 - epochs: 200 - n_d: 32 - n_a: 16 - steps: 3 - n_indipendent: 5\n"
     ]
    },
    {
     "name": "stderr",
     "output_type": "stream",
     "text": [
      "/usr/local/lib/python3.9/site-packages/pytorch_tabnet/abstract_model.py:75: UserWarning: Device used : cpu\n",
      "  warnings.warn(f\"Device used : {self.device}\")\n"
     ]
    },
    {
     "name": "stdout",
     "output_type": "stream",
     "text": [
      "epoch 0  | loss: 0.27865 | mse_mse: 0.09452 |  0:00:23s\n",
      "epoch 1  | loss: 0.10328 | mse_mse: 0.1925  |  0:00:47s\n",
      "epoch 2  | loss: 0.08572 | mse_mse: 0.04847 |  0:01:11s\n",
      "epoch 3  | loss: 0.08284 | mse_mse: 0.06105 |  0:01:35s\n",
      "epoch 4  | loss: 0.07846 | mse_mse: 0.07525 |  0:01:59s\n",
      "epoch 5  | loss: 0.07803 | mse_mse: 0.06758 |  0:02:23s\n",
      "epoch 6  | loss: 0.06988 | mse_mse: 0.11852 |  0:02:47s\n",
      "epoch 7  | loss: 0.06922 | mse_mse: 0.02948 |  0:03:11s\n",
      "epoch 8  | loss: 0.06521 | mse_mse: 0.09144 |  0:03:35s\n",
      "epoch 9  | loss: 0.06077 | mse_mse: 0.04522 |  0:03:59s\n",
      "epoch 10 | loss: 0.06013 | mse_mse: 0.06047 |  0:04:23s\n",
      "epoch 11 | loss: 0.05457 | mse_mse: 0.08584 |  0:04:48s\n",
      "epoch 12 | loss: 0.05652 | mse_mse: 0.09837 |  0:05:12s\n",
      "epoch 13 | loss: 0.04661 | mse_mse: 0.04605 |  0:05:36s\n",
      "epoch 14 | loss: 0.04425 | mse_mse: 0.0839  |  0:06:00s\n",
      "epoch 15 | loss: 0.04241 | mse_mse: 0.0518  |  0:06:24s\n",
      "epoch 16 | loss: 0.04726 | mse_mse: 0.07609 |  0:06:48s\n",
      "epoch 17 | loss: 0.0413  | mse_mse: 0.05478 |  0:07:12s\n",
      "\n",
      "Early stopping occurred at epoch 17 with best_epoch = 7 and best_mse_mse = 0.02948\n"
     ]
    },
    {
     "name": "stderr",
     "output_type": "stream",
     "text": [
      "/usr/local/lib/python3.9/site-packages/pytorch_tabnet/callbacks.py:172: UserWarning: Best weights from best epoch are automatically used!\n",
      "  warnings.warn(wrn_msg)\n"
     ]
    },
    {
     "name": "stdout",
     "output_type": "stream",
     "text": [
      "MSE: 0.02792458554827347\n",
      "R2 Score: 0.8740241005032667\n",
      "\n",
      "Iteration 45/162\n",
      "Configuration batch size: 8 - epochs: 200 - n_d: 32 - n_a: 16 - steps: 5 - n_indipendent: 3\n"
     ]
    },
    {
     "name": "stderr",
     "output_type": "stream",
     "text": [
      "/usr/local/lib/python3.9/site-packages/pytorch_tabnet/abstract_model.py:75: UserWarning: Device used : cpu\n",
      "  warnings.warn(f\"Device used : {self.device}\")\n"
     ]
    },
    {
     "name": "stdout",
     "output_type": "stream",
     "text": [
      "epoch 0  | loss: 0.47786 | mse_mse: 0.21733 |  0:00:35s\n",
      "epoch 1  | loss: 0.15533 | mse_mse: 0.10517 |  0:01:13s\n",
      "epoch 2  | loss: 0.08692 | mse_mse: 0.05313 |  0:01:50s\n",
      "epoch 3  | loss: 0.08132 | mse_mse: 0.05755 |  0:02:27s\n",
      "epoch 4  | loss: 0.06728 | mse_mse: 0.05065 |  0:03:04s\n",
      "epoch 5  | loss: 0.07117 | mse_mse: 0.08012 |  0:03:41s\n",
      "epoch 6  | loss: 0.0644  | mse_mse: 0.0808  |  0:04:18s\n",
      "epoch 7  | loss: 0.06133 | mse_mse: 0.13002 |  0:04:55s\n",
      "epoch 8  | loss: 0.05703 | mse_mse: 0.10038 |  0:05:32s\n",
      "epoch 9  | loss: 0.06114 | mse_mse: 0.16129 |  0:06:10s\n",
      "epoch 10 | loss: 0.05774 | mse_mse: 0.0702  |  0:06:47s\n",
      "epoch 11 | loss: 0.05562 | mse_mse: 0.07371 |  0:07:24s\n",
      "epoch 12 | loss: 0.04904 | mse_mse: 0.17953 |  0:08:01s\n",
      "epoch 13 | loss: 0.05371 | mse_mse: 0.06717 |  0:08:39s\n",
      "epoch 14 | loss: 0.05062 | mse_mse: 0.09566 |  0:09:16s\n",
      "\n",
      "Early stopping occurred at epoch 14 with best_epoch = 4 and best_mse_mse = 0.05065\n"
     ]
    },
    {
     "name": "stderr",
     "output_type": "stream",
     "text": [
      "/usr/local/lib/python3.9/site-packages/pytorch_tabnet/callbacks.py:172: UserWarning: Best weights from best epoch are automatically used!\n",
      "  warnings.warn(wrn_msg)\n"
     ]
    },
    {
     "name": "stdout",
     "output_type": "stream",
     "text": [
      "MSE: 0.0494315251393826\n",
      "R2 Score: 0.7770000621078467\n",
      "\n",
      "Iteration 46/162\n",
      "Configuration batch size: 8 - epochs: 200 - n_d: 32 - n_a: 16 - steps: 5 - n_indipendent: 5\n"
     ]
    },
    {
     "name": "stderr",
     "output_type": "stream",
     "text": [
      "/usr/local/lib/python3.9/site-packages/pytorch_tabnet/abstract_model.py:75: UserWarning: Device used : cpu\n",
      "  warnings.warn(f\"Device used : {self.device}\")\n"
     ]
    },
    {
     "name": "stdout",
     "output_type": "stream",
     "text": [
      "epoch 0  | loss: 0.47786 | mse_mse: 0.21733 |  0:00:35s\n",
      "epoch 1  | loss: 0.15533 | mse_mse: 0.10517 |  0:01:12s\n",
      "epoch 2  | loss: 0.08692 | mse_mse: 0.05313 |  0:01:49s\n",
      "epoch 3  | loss: 0.08132 | mse_mse: 0.05755 |  0:02:26s\n",
      "epoch 4  | loss: 0.06728 | mse_mse: 0.05065 |  0:03:03s\n",
      "epoch 5  | loss: 0.07117 | mse_mse: 0.08012 |  0:03:41s\n",
      "epoch 6  | loss: 0.0644  | mse_mse: 0.0808  |  0:04:18s\n",
      "epoch 7  | loss: 0.06133 | mse_mse: 0.13002 |  0:04:55s\n",
      "epoch 8  | loss: 0.05703 | mse_mse: 0.10038 |  0:05:32s\n",
      "epoch 9  | loss: 0.06114 | mse_mse: 0.16129 |  0:06:10s\n",
      "epoch 10 | loss: 0.05774 | mse_mse: 0.0702  |  0:06:47s\n",
      "epoch 11 | loss: 0.05562 | mse_mse: 0.07371 |  0:07:24s\n",
      "epoch 12 | loss: 0.04904 | mse_mse: 0.17953 |  0:08:01s\n",
      "epoch 13 | loss: 0.05371 | mse_mse: 0.06717 |  0:08:39s\n",
      "epoch 14 | loss: 0.05062 | mse_mse: 0.09566 |  0:09:16s\n",
      "\n",
      "Early stopping occurred at epoch 14 with best_epoch = 4 and best_mse_mse = 0.05065\n"
     ]
    },
    {
     "name": "stderr",
     "output_type": "stream",
     "text": [
      "/usr/local/lib/python3.9/site-packages/pytorch_tabnet/callbacks.py:172: UserWarning: Best weights from best epoch are automatically used!\n",
      "  warnings.warn(wrn_msg)\n"
     ]
    },
    {
     "name": "stdout",
     "output_type": "stream",
     "text": [
      "MSE: 0.0494315251393826\n",
      "R2 Score: 0.7770000621078467\n",
      "\n",
      "Iteration 47/162\n",
      "Configuration batch size: 8 - epochs: 200 - n_d: 32 - n_a: 16 - steps: 7 - n_indipendent: 3\n"
     ]
    },
    {
     "name": "stderr",
     "output_type": "stream",
     "text": [
      "/usr/local/lib/python3.9/site-packages/pytorch_tabnet/abstract_model.py:75: UserWarning: Device used : cpu\n",
      "  warnings.warn(f\"Device used : {self.device}\")\n"
     ]
    },
    {
     "name": "stdout",
     "output_type": "stream",
     "text": [
      "epoch 0  | loss: 0.69644 | mse_mse: 0.14692 |  0:00:48s\n",
      "epoch 1  | loss: 0.15039 | mse_mse: 0.10694 |  0:01:38s\n",
      "epoch 2  | loss: 0.12397 | mse_mse: 0.05767 |  0:02:29s\n",
      "epoch 3  | loss: 0.09349 | mse_mse: 0.06922 |  0:03:19s\n",
      "epoch 4  | loss: 0.08211 | mse_mse: 0.0779  |  0:04:10s\n",
      "epoch 5  | loss: 0.06639 | mse_mse: 0.03316 |  0:05:01s\n",
      "epoch 6  | loss: 0.0618  | mse_mse: 0.05543 |  0:05:51s\n",
      "epoch 7  | loss: 0.05622 | mse_mse: 0.0465  |  0:06:42s\n",
      "epoch 8  | loss: 0.0559  | mse_mse: 0.05196 |  0:07:33s\n",
      "epoch 9  | loss: 0.05417 | mse_mse: 0.04226 |  0:08:24s\n",
      "epoch 10 | loss: 0.05055 | mse_mse: 0.06747 |  0:09:15s\n",
      "epoch 11 | loss: 0.04922 | mse_mse: 0.03986 |  0:10:06s\n",
      "epoch 12 | loss: 0.05485 | mse_mse: 0.04712 |  0:10:57s\n",
      "epoch 13 | loss: 0.05192 | mse_mse: 0.0481  |  0:11:48s\n",
      "epoch 14 | loss: 0.0521  | mse_mse: 0.89294 |  0:12:40s\n",
      "epoch 15 | loss: 0.04749 | mse_mse: 0.77282 |  0:13:31s\n",
      "\n",
      "Early stopping occurred at epoch 15 with best_epoch = 5 and best_mse_mse = 0.03316\n"
     ]
    },
    {
     "name": "stderr",
     "output_type": "stream",
     "text": [
      "/usr/local/lib/python3.9/site-packages/pytorch_tabnet/callbacks.py:172: UserWarning: Best weights from best epoch are automatically used!\n",
      "  warnings.warn(wrn_msg)\n"
     ]
    },
    {
     "name": "stdout",
     "output_type": "stream",
     "text": [
      "MSE: 0.034445827811110226\n",
      "R2 Score: 0.8446048864391293\n",
      "\n",
      "Iteration 48/162\n",
      "Configuration batch size: 8 - epochs: 200 - n_d: 32 - n_a: 16 - steps: 7 - n_indipendent: 5\n"
     ]
    },
    {
     "name": "stderr",
     "output_type": "stream",
     "text": [
      "/usr/local/lib/python3.9/site-packages/pytorch_tabnet/abstract_model.py:75: UserWarning: Device used : cpu\n",
      "  warnings.warn(f\"Device used : {self.device}\")\n"
     ]
    },
    {
     "name": "stdout",
     "output_type": "stream",
     "text": [
      "epoch 0  | loss: 0.69644 | mse_mse: 0.14692 |  0:00:48s\n",
      "epoch 1  | loss: 0.15039 | mse_mse: 0.10694 |  0:01:37s\n",
      "epoch 2  | loss: 0.12397 | mse_mse: 0.05767 |  0:02:27s\n",
      "epoch 3  | loss: 0.09349 | mse_mse: 0.06922 |  0:03:16s\n",
      "epoch 4  | loss: 0.08211 | mse_mse: 0.0779  |  0:04:06s\n",
      "epoch 5  | loss: 0.06639 | mse_mse: 0.03316 |  0:04:56s\n",
      "epoch 6  | loss: 0.0618  | mse_mse: 0.05543 |  0:05:45s\n",
      "epoch 7  | loss: 0.05622 | mse_mse: 0.0465  |  0:06:36s\n",
      "epoch 8  | loss: 0.0559  | mse_mse: 0.05196 |  0:07:26s\n",
      "epoch 9  | loss: 0.05417 | mse_mse: 0.04226 |  0:08:16s\n",
      "epoch 10 | loss: 0.05055 | mse_mse: 0.06747 |  0:09:06s\n",
      "epoch 11 | loss: 0.04922 | mse_mse: 0.03986 |  0:09:56s\n",
      "epoch 12 | loss: 0.05485 | mse_mse: 0.04712 |  0:10:46s\n",
      "epoch 13 | loss: 0.05192 | mse_mse: 0.0481  |  0:11:36s\n",
      "epoch 14 | loss: 0.0521  | mse_mse: 0.89294 |  0:12:26s\n",
      "epoch 15 | loss: 0.04749 | mse_mse: 0.77282 |  0:13:16s\n",
      "\n",
      "Early stopping occurred at epoch 15 with best_epoch = 5 and best_mse_mse = 0.03316\n"
     ]
    },
    {
     "name": "stderr",
     "output_type": "stream",
     "text": [
      "/usr/local/lib/python3.9/site-packages/pytorch_tabnet/callbacks.py:172: UserWarning: Best weights from best epoch are automatically used!\n",
      "  warnings.warn(wrn_msg)\n"
     ]
    },
    {
     "name": "stdout",
     "output_type": "stream",
     "text": [
      "MSE: 0.034445827811110226\n",
      "R2 Score: 0.8446048864391293\n",
      "\n",
      "Iteration 49/162\n",
      "Configuration batch size: 8 - epochs: 200 - n_d: 32 - n_a: 32 - steps: 3 - n_indipendent: 3\n"
     ]
    },
    {
     "name": "stderr",
     "output_type": "stream",
     "text": [
      "/usr/local/lib/python3.9/site-packages/pytorch_tabnet/abstract_model.py:75: UserWarning: Device used : cpu\n",
      "  warnings.warn(f\"Device used : {self.device}\")\n"
     ]
    },
    {
     "name": "stdout",
     "output_type": "stream",
     "text": [
      "epoch 0  | loss: 0.29761 | mse_mse: 0.06403 |  0:00:24s\n",
      "epoch 1  | loss: 0.09713 | mse_mse: 0.05205 |  0:00:49s\n",
      "epoch 2  | loss: 0.07777 | mse_mse: 0.06953 |  0:01:14s\n",
      "epoch 3  | loss: 0.0745  | mse_mse: 0.06327 |  0:01:39s\n",
      "epoch 4  | loss: 0.06471 | mse_mse: 0.04658 |  0:02:05s\n",
      "epoch 5  | loss: 0.0642  | mse_mse: 0.06141 |  0:02:30s\n",
      "epoch 6  | loss: 0.06342 | mse_mse: 0.06766 |  0:02:56s\n",
      "epoch 7  | loss: 0.05409 | mse_mse: 0.08259 |  0:03:21s\n",
      "epoch 8  | loss: 0.05517 | mse_mse: 0.08041 |  0:03:46s\n",
      "epoch 9  | loss: 0.05149 | mse_mse: 0.05378 |  0:04:12s\n",
      "epoch 10 | loss: 0.05053 | mse_mse: 0.11165 |  0:04:37s\n",
      "epoch 11 | loss: 0.04394 | mse_mse: 0.07741 |  0:05:03s\n",
      "epoch 12 | loss: 0.04703 | mse_mse: 0.05424 |  0:05:29s\n",
      "epoch 13 | loss: 0.04346 | mse_mse: 0.0513  |  0:05:54s\n",
      "epoch 14 | loss: 0.04492 | mse_mse: 0.08327 |  0:06:20s\n",
      "\n",
      "Early stopping occurred at epoch 14 with best_epoch = 4 and best_mse_mse = 0.04658\n"
     ]
    },
    {
     "name": "stderr",
     "output_type": "stream",
     "text": [
      "/usr/local/lib/python3.9/site-packages/pytorch_tabnet/callbacks.py:172: UserWarning: Best weights from best epoch are automatically used!\n",
      "  warnings.warn(wrn_msg)\n"
     ]
    },
    {
     "name": "stdout",
     "output_type": "stream",
     "text": [
      "MSE: 0.04456305440004441\n",
      "R2 Score: 0.7989631447649346\n",
      "\n",
      "Iteration 50/162\n",
      "Configuration batch size: 8 - epochs: 200 - n_d: 32 - n_a: 32 - steps: 3 - n_indipendent: 5\n"
     ]
    },
    {
     "name": "stderr",
     "output_type": "stream",
     "text": [
      "/usr/local/lib/python3.9/site-packages/pytorch_tabnet/abstract_model.py:75: UserWarning: Device used : cpu\n",
      "  warnings.warn(f\"Device used : {self.device}\")\n"
     ]
    },
    {
     "name": "stdout",
     "output_type": "stream",
     "text": [
      "epoch 0  | loss: 0.29761 | mse_mse: 0.06403 |  0:00:24s\n",
      "epoch 1  | loss: 0.09713 | mse_mse: 0.05205 |  0:00:49s\n",
      "epoch 2  | loss: 0.07777 | mse_mse: 0.06953 |  0:01:15s\n",
      "epoch 3  | loss: 0.0745  | mse_mse: 0.06327 |  0:01:40s\n",
      "epoch 4  | loss: 0.06471 | mse_mse: 0.04658 |  0:02:06s\n",
      "epoch 5  | loss: 0.0642  | mse_mse: 0.06141 |  0:02:31s\n",
      "epoch 6  | loss: 0.06342 | mse_mse: 0.06766 |  0:02:57s\n",
      "epoch 7  | loss: 0.05409 | mse_mse: 0.08259 |  0:03:22s\n",
      "epoch 8  | loss: 0.05517 | mse_mse: 0.08041 |  0:03:48s\n",
      "epoch 9  | loss: 0.05149 | mse_mse: 0.05378 |  0:04:14s\n",
      "epoch 10 | loss: 0.05053 | mse_mse: 0.11165 |  0:04:39s\n",
      "epoch 11 | loss: 0.04394 | mse_mse: 0.07741 |  0:05:05s\n",
      "epoch 12 | loss: 0.04703 | mse_mse: 0.05424 |  0:05:30s\n",
      "epoch 13 | loss: 0.04346 | mse_mse: 0.0513  |  0:05:56s\n",
      "epoch 14 | loss: 0.04492 | mse_mse: 0.08327 |  0:06:22s\n",
      "\n",
      "Early stopping occurred at epoch 14 with best_epoch = 4 and best_mse_mse = 0.04658\n"
     ]
    },
    {
     "name": "stderr",
     "output_type": "stream",
     "text": [
      "/usr/local/lib/python3.9/site-packages/pytorch_tabnet/callbacks.py:172: UserWarning: Best weights from best epoch are automatically used!\n",
      "  warnings.warn(wrn_msg)\n"
     ]
    },
    {
     "name": "stdout",
     "output_type": "stream",
     "text": [
      "MSE: 0.04456305440004441\n",
      "R2 Score: 0.7989631447649346\n",
      "\n",
      "Iteration 51/162\n",
      "Configuration batch size: 8 - epochs: 200 - n_d: 32 - n_a: 32 - steps: 5 - n_indipendent: 3\n"
     ]
    },
    {
     "name": "stderr",
     "output_type": "stream",
     "text": [
      "/usr/local/lib/python3.9/site-packages/pytorch_tabnet/abstract_model.py:75: UserWarning: Device used : cpu\n",
      "  warnings.warn(f\"Device used : {self.device}\")\n"
     ]
    },
    {
     "name": "stdout",
     "output_type": "stream",
     "text": [
      "epoch 0  | loss: 0.33303 | mse_mse: 0.26953 |  0:00:38s\n",
      "epoch 1  | loss: 0.14226 | mse_mse: 0.09404 |  0:01:18s\n",
      "epoch 2  | loss: 0.10853 | mse_mse: 0.05615 |  0:01:57s\n",
      "epoch 3  | loss: 0.08967 | mse_mse: 0.07274 |  0:02:37s\n",
      "epoch 4  | loss: 0.07554 | mse_mse: 0.04641 |  0:03:16s\n",
      "epoch 5  | loss: 0.07434 | mse_mse: 0.07462 |  0:03:55s\n",
      "epoch 6  | loss: 0.07083 | mse_mse: 0.18905 |  0:04:34s\n",
      "epoch 7  | loss: 0.06378 | mse_mse: 0.21702 |  0:05:13s\n",
      "epoch 8  | loss: 0.05688 | mse_mse: 0.04604 |  0:05:52s\n",
      "epoch 9  | loss: 0.05598 | mse_mse: 0.09003 |  0:06:31s\n",
      "epoch 10 | loss: 0.05028 | mse_mse: 0.13082 |  0:07:10s\n",
      "epoch 11 | loss: 0.04887 | mse_mse: 0.10626 |  0:07:50s\n",
      "epoch 12 | loss: 0.04168 | mse_mse: 0.12959 |  0:08:29s\n",
      "epoch 13 | loss: 0.04166 | mse_mse: 0.05951 |  0:09:08s\n",
      "epoch 14 | loss: 0.03819 | mse_mse: 0.06097 |  0:09:48s\n",
      "epoch 15 | loss: 0.03717 | mse_mse: 0.30511 |  0:10:27s\n",
      "epoch 16 | loss: 0.04122 | mse_mse: 0.22575 |  0:11:06s\n",
      "epoch 17 | loss: 0.03441 | mse_mse: 0.15208 |  0:11:46s\n",
      "epoch 18 | loss: 0.03366 | mse_mse: 0.10257 |  0:12:25s\n",
      "\n",
      "Early stopping occurred at epoch 18 with best_epoch = 8 and best_mse_mse = 0.04604\n"
     ]
    },
    {
     "name": "stderr",
     "output_type": "stream",
     "text": [
      "/usr/local/lib/python3.9/site-packages/pytorch_tabnet/callbacks.py:172: UserWarning: Best weights from best epoch are automatically used!\n",
      "  warnings.warn(wrn_msg)\n"
     ]
    },
    {
     "name": "stdout",
     "output_type": "stream",
     "text": [
      "MSE: 0.04182589501265953\n",
      "R2 Score: 0.8113112641415196\n",
      "\n",
      "Iteration 52/162\n",
      "Configuration batch size: 8 - epochs: 200 - n_d: 32 - n_a: 32 - steps: 5 - n_indipendent: 5\n"
     ]
    },
    {
     "name": "stderr",
     "output_type": "stream",
     "text": [
      "/usr/local/lib/python3.9/site-packages/pytorch_tabnet/abstract_model.py:75: UserWarning: Device used : cpu\n",
      "  warnings.warn(f\"Device used : {self.device}\")\n"
     ]
    },
    {
     "name": "stdout",
     "output_type": "stream",
     "text": [
      "epoch 0  | loss: 0.33303 | mse_mse: 0.26953 |  0:00:37s\n",
      "epoch 1  | loss: 0.14226 | mse_mse: 0.09404 |  0:01:16s\n",
      "epoch 2  | loss: 0.10853 | mse_mse: 0.05615 |  0:01:55s\n",
      "epoch 3  | loss: 0.08967 | mse_mse: 0.07274 |  0:02:34s\n",
      "epoch 4  | loss: 0.07554 | mse_mse: 0.04641 |  0:03:13s\n",
      "epoch 5  | loss: 0.07434 | mse_mse: 0.07462 |  0:03:53s\n",
      "epoch 6  | loss: 0.07083 | mse_mse: 0.18905 |  0:04:32s\n",
      "epoch 7  | loss: 0.06378 | mse_mse: 0.21702 |  0:05:12s\n",
      "epoch 8  | loss: 0.05688 | mse_mse: 0.04604 |  0:05:51s\n",
      "epoch 9  | loss: 0.05598 | mse_mse: 0.09003 |  0:06:31s\n",
      "epoch 10 | loss: 0.05028 | mse_mse: 0.13082 |  0:07:10s\n",
      "epoch 11 | loss: 0.04887 | mse_mse: 0.10626 |  0:07:50s\n",
      "epoch 12 | loss: 0.04168 | mse_mse: 0.12959 |  0:08:29s\n",
      "epoch 13 | loss: 0.04166 | mse_mse: 0.05951 |  0:09:09s\n",
      "epoch 14 | loss: 0.03819 | mse_mse: 0.06097 |  0:09:48s\n",
      "epoch 15 | loss: 0.03717 | mse_mse: 0.30511 |  0:10:28s\n",
      "epoch 16 | loss: 0.04122 | mse_mse: 0.22575 |  0:11:07s\n",
      "epoch 17 | loss: 0.03441 | mse_mse: 0.15208 |  0:11:47s\n",
      "epoch 18 | loss: 0.03366 | mse_mse: 0.10257 |  0:12:26s\n",
      "\n",
      "Early stopping occurred at epoch 18 with best_epoch = 8 and best_mse_mse = 0.04604\n"
     ]
    },
    {
     "name": "stderr",
     "output_type": "stream",
     "text": [
      "/usr/local/lib/python3.9/site-packages/pytorch_tabnet/callbacks.py:172: UserWarning: Best weights from best epoch are automatically used!\n",
      "  warnings.warn(wrn_msg)\n"
     ]
    },
    {
     "name": "stdout",
     "output_type": "stream",
     "text": [
      "MSE: 0.04182589501265953\n",
      "R2 Score: 0.8113112641415196\n",
      "\n",
      "Iteration 53/162\n",
      "Configuration batch size: 8 - epochs: 200 - n_d: 32 - n_a: 32 - steps: 7 - n_indipendent: 3\n"
     ]
    },
    {
     "name": "stderr",
     "output_type": "stream",
     "text": [
      "/usr/local/lib/python3.9/site-packages/pytorch_tabnet/abstract_model.py:75: UserWarning: Device used : cpu\n",
      "  warnings.warn(f\"Device used : {self.device}\")\n"
     ]
    },
    {
     "name": "stdout",
     "output_type": "stream",
     "text": [
      "epoch 0  | loss: 0.64    | mse_mse: 0.15983 |  0:00:50s\n",
      "epoch 1  | loss: 0.12921 | mse_mse: 0.19312 |  0:01:42s\n",
      "epoch 2  | loss: 0.10811 | mse_mse: 0.07471 |  0:02:33s\n",
      "epoch 3  | loss: 0.07677 | mse_mse: 0.07197 |  0:03:26s\n",
      "epoch 4  | loss: 0.07927 | mse_mse: 0.07343 |  0:04:18s\n",
      "epoch 5  | loss: 0.07037 | mse_mse: 0.08598 |  0:05:10s\n",
      "epoch 6  | loss: 0.06318 | mse_mse: 0.0744  |  0:06:03s\n",
      "epoch 7  | loss: 0.06591 | mse_mse: 0.12321 |  0:06:55s\n",
      "epoch 8  | loss: 0.05885 | mse_mse: 0.0971  |  0:07:47s\n",
      "epoch 9  | loss: 0.0548  | mse_mse: 0.06904 |  0:08:40s\n",
      "epoch 10 | loss: 0.05685 | mse_mse: 0.08283 |  0:09:32s\n",
      "epoch 11 | loss: 0.05724 | mse_mse: 0.07429 |  0:10:25s\n",
      "epoch 12 | loss: 0.04953 | mse_mse: 0.05833 |  0:11:18s\n",
      "epoch 13 | loss: 0.04475 | mse_mse: 0.06851 |  0:12:11s\n",
      "epoch 14 | loss: 0.04031 | mse_mse: 0.04971 |  0:13:03s\n",
      "epoch 15 | loss: 0.04187 | mse_mse: 0.06778 |  0:13:56s\n",
      "epoch 16 | loss: 0.03742 | mse_mse: 0.2572  |  0:14:49s\n",
      "epoch 17 | loss: 0.03652 | mse_mse: 0.13803 |  0:15:42s\n",
      "epoch 18 | loss: 0.03481 | mse_mse: 0.08704 |  0:16:35s\n",
      "epoch 19 | loss: 0.0392  | mse_mse: 0.25895 |  0:17:27s\n",
      "epoch 20 | loss: 0.03516 | mse_mse: 0.13882 |  0:18:20s\n",
      "epoch 21 | loss: 0.03368 | mse_mse: 0.13843 |  0:19:13s\n",
      "epoch 22 | loss: 0.03555 | mse_mse: 0.05914 |  0:20:06s\n",
      "epoch 23 | loss: 0.03253 | mse_mse: 0.08487 |  0:20:58s\n",
      "epoch 24 | loss: 0.03156 | mse_mse: 0.10455 |  0:21:52s\n",
      "\n",
      "Early stopping occurred at epoch 24 with best_epoch = 14 and best_mse_mse = 0.04971\n"
     ]
    },
    {
     "name": "stderr",
     "output_type": "stream",
     "text": [
      "/usr/local/lib/python3.9/site-packages/pytorch_tabnet/callbacks.py:172: UserWarning: Best weights from best epoch are automatically used!\n",
      "  warnings.warn(wrn_msg)\n"
     ]
    },
    {
     "name": "stdout",
     "output_type": "stream",
     "text": [
      "MSE: 0.10617911833423048\n",
      "R2 Score: 0.5209952206165587\n",
      "\n",
      "Iteration 54/162\n",
      "Configuration batch size: 8 - epochs: 200 - n_d: 32 - n_a: 32 - steps: 7 - n_indipendent: 5\n"
     ]
    },
    {
     "name": "stderr",
     "output_type": "stream",
     "text": [
      "/usr/local/lib/python3.9/site-packages/pytorch_tabnet/abstract_model.py:75: UserWarning: Device used : cpu\n",
      "  warnings.warn(f\"Device used : {self.device}\")\n"
     ]
    },
    {
     "name": "stdout",
     "output_type": "stream",
     "text": [
      "epoch 0  | loss: 0.64    | mse_mse: 0.15983 |  0:00:49s\n",
      "epoch 1  | loss: 0.12921 | mse_mse: 0.19312 |  0:01:41s\n",
      "epoch 2  | loss: 0.10811 | mse_mse: 0.07471 |  0:02:33s\n",
      "epoch 3  | loss: 0.07677 | mse_mse: 0.07197 |  0:03:26s\n",
      "epoch 4  | loss: 0.07927 | mse_mse: 0.07343 |  0:04:18s\n",
      "epoch 5  | loss: 0.07037 | mse_mse: 0.08598 |  0:05:10s\n",
      "epoch 6  | loss: 0.06318 | mse_mse: 0.0744  |  0:06:02s\n",
      "epoch 7  | loss: 0.06591 | mse_mse: 0.12321 |  0:06:55s\n",
      "epoch 8  | loss: 0.05885 | mse_mse: 0.0971  |  0:07:47s\n",
      "epoch 9  | loss: 0.0548  | mse_mse: 0.06904 |  0:08:39s\n",
      "epoch 10 | loss: 0.05685 | mse_mse: 0.08283 |  0:09:32s\n",
      "epoch 11 | loss: 0.05724 | mse_mse: 0.07429 |  0:10:24s\n",
      "epoch 12 | loss: 0.04953 | mse_mse: 0.05833 |  0:11:16s\n",
      "epoch 13 | loss: 0.04475 | mse_mse: 0.06851 |  0:12:08s\n",
      "epoch 14 | loss: 0.04031 | mse_mse: 0.04971 |  0:13:01s\n",
      "epoch 15 | loss: 0.04187 | mse_mse: 0.06778 |  0:13:54s\n",
      "epoch 16 | loss: 0.03742 | mse_mse: 0.2572  |  0:14:46s\n",
      "epoch 17 | loss: 0.03652 | mse_mse: 0.13803 |  0:15:39s\n",
      "epoch 18 | loss: 0.03481 | mse_mse: 0.08704 |  0:16:32s\n",
      "epoch 19 | loss: 0.0392  | mse_mse: 0.25895 |  0:17:25s\n",
      "epoch 20 | loss: 0.03516 | mse_mse: 0.13882 |  0:18:18s\n",
      "epoch 21 | loss: 0.03368 | mse_mse: 0.13843 |  0:19:11s\n",
      "epoch 22 | loss: 0.03555 | mse_mse: 0.05914 |  0:20:04s\n",
      "epoch 23 | loss: 0.03253 | mse_mse: 0.08487 |  0:20:57s\n",
      "epoch 24 | loss: 0.03156 | mse_mse: 0.10455 |  0:21:50s\n",
      "\n",
      "Early stopping occurred at epoch 24 with best_epoch = 14 and best_mse_mse = 0.04971\n"
     ]
    },
    {
     "name": "stderr",
     "output_type": "stream",
     "text": [
      "/usr/local/lib/python3.9/site-packages/pytorch_tabnet/callbacks.py:172: UserWarning: Best weights from best epoch are automatically used!\n",
      "  warnings.warn(wrn_msg)\n"
     ]
    },
    {
     "name": "stdout",
     "output_type": "stream",
     "text": [
      "MSE: 0.10617911833423048\n",
      "R2 Score: 0.5209952206165587\n",
      "\n",
      "Iteration 55/162\n",
      "Configuration batch size: 16 - epochs: 200 - n_d: 8 - n_a: 8 - steps: 3 - n_indipendent: 3\n"
     ]
    },
    {
     "name": "stderr",
     "output_type": "stream",
     "text": [
      "/usr/local/lib/python3.9/site-packages/pytorch_tabnet/abstract_model.py:75: UserWarning: Device used : cpu\n",
      "  warnings.warn(f\"Device used : {self.device}\")\n"
     ]
    },
    {
     "name": "stdout",
     "output_type": "stream",
     "text": [
      "epoch 0  | loss: 0.37307 | mse_mse: 0.18284 |  0:00:13s\n",
      "epoch 1  | loss: 0.08136 | mse_mse: 0.04746 |  0:00:26s\n",
      "epoch 2  | loss: 0.05797 | mse_mse: 0.03419 |  0:00:39s\n",
      "epoch 3  | loss: 0.05265 | mse_mse: 0.04435 |  0:00:52s\n",
      "epoch 4  | loss: 0.04781 | mse_mse: 0.04221 |  0:01:05s\n",
      "epoch 5  | loss: 0.04944 | mse_mse: 0.02194 |  0:01:18s\n",
      "epoch 6  | loss: 0.04035 | mse_mse: 0.01848 |  0:01:31s\n",
      "epoch 7  | loss: 0.04586 | mse_mse: 0.03127 |  0:01:44s\n",
      "epoch 8  | loss: 0.03787 | mse_mse: 0.03186 |  0:01:57s\n",
      "epoch 9  | loss: 0.04505 | mse_mse: 0.03193 |  0:02:10s\n",
      "epoch 10 | loss: 0.03981 | mse_mse: 0.0191  |  0:02:23s\n",
      "epoch 11 | loss: 0.03851 | mse_mse: 0.02959 |  0:02:36s\n",
      "epoch 12 | loss: 0.0354  | mse_mse: 0.02799 |  0:02:48s\n",
      "epoch 13 | loss: 0.03686 | mse_mse: 0.02106 |  0:03:01s\n",
      "epoch 14 | loss: 0.03715 | mse_mse: 0.01401 |  0:03:14s\n",
      "epoch 15 | loss: 0.03676 | mse_mse: 0.02996 |  0:03:27s\n",
      "epoch 16 | loss: 0.03785 | mse_mse: 0.0315  |  0:03:40s\n",
      "epoch 17 | loss: 0.03696 | mse_mse: 0.02659 |  0:03:52s\n",
      "epoch 18 | loss: 0.03415 | mse_mse: 0.03766 |  0:04:05s\n",
      "epoch 19 | loss: 0.03333 | mse_mse: 0.2172  |  0:04:18s\n",
      "epoch 20 | loss: 0.03127 | mse_mse: 0.04239 |  0:04:31s\n",
      "epoch 21 | loss: 0.02941 | mse_mse: 0.0307  |  0:04:44s\n",
      "epoch 22 | loss: 0.02891 | mse_mse: 0.03463 |  0:04:57s\n",
      "epoch 23 | loss: 0.0291  | mse_mse: 0.0337  |  0:05:09s\n",
      "epoch 24 | loss: 0.02846 | mse_mse: 0.04091 |  0:05:22s\n",
      "\n",
      "Early stopping occurred at epoch 24 with best_epoch = 14 and best_mse_mse = 0.01401\n"
     ]
    },
    {
     "name": "stderr",
     "output_type": "stream",
     "text": [
      "/usr/local/lib/python3.9/site-packages/pytorch_tabnet/callbacks.py:172: UserWarning: Best weights from best epoch are automatically used!\n",
      "  warnings.warn(wrn_msg)\n"
     ]
    },
    {
     "name": "stdout",
     "output_type": "stream",
     "text": [
      "MSE: 0.014037759421841033\n",
      "R2 Score: 0.9366715983294333\n",
      "Best model updated\n",
      "\n",
      "Iteration 56/162\n",
      "Configuration batch size: 16 - epochs: 200 - n_d: 8 - n_a: 8 - steps: 3 - n_indipendent: 5\n"
     ]
    },
    {
     "name": "stderr",
     "output_type": "stream",
     "text": [
      "/usr/local/lib/python3.9/site-packages/pytorch_tabnet/abstract_model.py:75: UserWarning: Device used : cpu\n",
      "  warnings.warn(f\"Device used : {self.device}\")\n"
     ]
    },
    {
     "name": "stdout",
     "output_type": "stream",
     "text": [
      "epoch 0  | loss: 0.37307 | mse_mse: 0.18284 |  0:00:12s\n",
      "epoch 1  | loss: 0.08136 | mse_mse: 0.04746 |  0:00:25s\n",
      "epoch 2  | loss: 0.05797 | mse_mse: 0.03419 |  0:00:38s\n",
      "epoch 3  | loss: 0.05265 | mse_mse: 0.04435 |  0:00:51s\n",
      "epoch 4  | loss: 0.04781 | mse_mse: 0.04221 |  0:01:04s\n",
      "epoch 5  | loss: 0.04944 | mse_mse: 0.02194 |  0:01:17s\n",
      "epoch 6  | loss: 0.04035 | mse_mse: 0.01848 |  0:01:30s\n",
      "epoch 7  | loss: 0.04586 | mse_mse: 0.03127 |  0:01:43s\n",
      "epoch 8  | loss: 0.03787 | mse_mse: 0.03186 |  0:01:57s\n",
      "epoch 9  | loss: 0.04505 | mse_mse: 0.03193 |  0:02:10s\n",
      "epoch 10 | loss: 0.03981 | mse_mse: 0.0191  |  0:02:23s\n",
      "epoch 11 | loss: 0.03851 | mse_mse: 0.02959 |  0:02:36s\n",
      "epoch 12 | loss: 0.0354  | mse_mse: 0.02799 |  0:02:49s\n",
      "epoch 13 | loss: 0.03686 | mse_mse: 0.02106 |  0:03:02s\n",
      "epoch 14 | loss: 0.03715 | mse_mse: 0.01401 |  0:03:15s\n",
      "epoch 15 | loss: 0.03676 | mse_mse: 0.02996 |  0:03:27s\n",
      "epoch 16 | loss: 0.03785 | mse_mse: 0.0315  |  0:03:40s\n",
      "epoch 17 | loss: 0.03696 | mse_mse: 0.02659 |  0:03:54s\n",
      "epoch 18 | loss: 0.03415 | mse_mse: 0.03766 |  0:04:07s\n",
      "epoch 19 | loss: 0.03333 | mse_mse: 0.2172  |  0:04:20s\n",
      "epoch 20 | loss: 0.03127 | mse_mse: 0.04239 |  0:04:33s\n",
      "epoch 21 | loss: 0.02941 | mse_mse: 0.0307  |  0:04:46s\n",
      "epoch 22 | loss: 0.02891 | mse_mse: 0.03463 |  0:04:59s\n",
      "epoch 23 | loss: 0.0291  | mse_mse: 0.0337  |  0:05:12s\n",
      "epoch 24 | loss: 0.02846 | mse_mse: 0.04091 |  0:05:25s\n",
      "\n",
      "Early stopping occurred at epoch 24 with best_epoch = 14 and best_mse_mse = 0.01401\n"
     ]
    },
    {
     "name": "stderr",
     "output_type": "stream",
     "text": [
      "/usr/local/lib/python3.9/site-packages/pytorch_tabnet/callbacks.py:172: UserWarning: Best weights from best epoch are automatically used!\n",
      "  warnings.warn(wrn_msg)\n"
     ]
    },
    {
     "name": "stdout",
     "output_type": "stream",
     "text": [
      "MSE: 0.014037759421841033\n",
      "R2 Score: 0.9366715983294333\n",
      "\n",
      "Iteration 57/162\n",
      "Configuration batch size: 16 - epochs: 200 - n_d: 8 - n_a: 8 - steps: 5 - n_indipendent: 3\n"
     ]
    },
    {
     "name": "stderr",
     "output_type": "stream",
     "text": [
      "/usr/local/lib/python3.9/site-packages/pytorch_tabnet/abstract_model.py:75: UserWarning: Device used : cpu\n",
      "  warnings.warn(f\"Device used : {self.device}\")\n"
     ]
    },
    {
     "name": "stdout",
     "output_type": "stream",
     "text": [
      "epoch 0  | loss: 0.3991  | mse_mse: 0.28101 |  0:00:20s\n",
      "epoch 1  | loss: 0.12874 | mse_mse: 0.09154 |  0:00:40s\n",
      "epoch 2  | loss: 0.09817 | mse_mse: 0.13625 |  0:01:01s\n",
      "epoch 3  | loss: 0.07145 | mse_mse: 0.08195 |  0:01:21s\n",
      "epoch 4  | loss: 0.05815 | mse_mse: 0.02474 |  0:01:41s\n",
      "epoch 5  | loss: 0.05402 | mse_mse: 0.0431  |  0:02:02s\n",
      "epoch 6  | loss: 0.05596 | mse_mse: 0.02408 |  0:02:22s\n",
      "epoch 7  | loss: 0.04784 | mse_mse: 0.0317  |  0:02:43s\n",
      "epoch 8  | loss: 0.04295 | mse_mse: 0.01806 |  0:03:03s\n",
      "epoch 9  | loss: 0.04514 | mse_mse: 0.10439 |  0:03:24s\n",
      "epoch 10 | loss: 0.04139 | mse_mse: 0.02657 |  0:03:44s\n",
      "epoch 11 | loss: 0.04206 | mse_mse: 0.08501 |  0:04:05s\n",
      "epoch 12 | loss: 0.04248 | mse_mse: 0.08818 |  0:04:25s\n",
      "epoch 13 | loss: 0.03843 | mse_mse: 0.02242 |  0:04:46s\n",
      "epoch 14 | loss: 0.04168 | mse_mse: 0.02749 |  0:05:06s\n",
      "epoch 15 | loss: 0.03905 | mse_mse: 0.15818 |  0:05:27s\n",
      "epoch 16 | loss: 0.04108 | mse_mse: 0.01746 |  0:05:47s\n",
      "epoch 17 | loss: 0.03831 | mse_mse: 0.01756 |  0:06:08s\n",
      "epoch 18 | loss: 0.03947 | mse_mse: 0.03914 |  0:06:28s\n",
      "epoch 19 | loss: 0.03777 | mse_mse: 0.04115 |  0:06:48s\n",
      "epoch 20 | loss: 0.03994 | mse_mse: 0.02282 |  0:07:09s\n",
      "epoch 21 | loss: 0.03721 | mse_mse: 0.02398 |  0:07:29s\n",
      "epoch 22 | loss: 0.0295  | mse_mse: 0.03424 |  0:07:50s\n",
      "epoch 23 | loss: 0.0353  | mse_mse: 0.01247 |  0:08:10s\n",
      "epoch 24 | loss: 0.02896 | mse_mse: 0.04124 |  0:08:31s\n",
      "epoch 25 | loss: 0.03574 | mse_mse: 0.05785 |  0:08:51s\n",
      "epoch 26 | loss: 0.03357 | mse_mse: 0.03937 |  0:09:11s\n",
      "epoch 27 | loss: 0.03002 | mse_mse: 0.02225 |  0:09:32s\n",
      "epoch 28 | loss: 0.02832 | mse_mse: 0.06015 |  0:09:52s\n",
      "epoch 29 | loss: 0.02793 | mse_mse: 0.06666 |  0:10:13s\n",
      "epoch 30 | loss: 0.02857 | mse_mse: 0.02729 |  0:10:33s\n",
      "epoch 31 | loss: 0.0273  | mse_mse: 0.03066 |  0:10:53s\n",
      "epoch 32 | loss: 0.02506 | mse_mse: 0.02978 |  0:11:13s\n",
      "epoch 33 | loss: 0.02613 | mse_mse: 0.04719 |  0:11:33s\n",
      "\n",
      "Early stopping occurred at epoch 33 with best_epoch = 23 and best_mse_mse = 0.01247\n"
     ]
    },
    {
     "name": "stderr",
     "output_type": "stream",
     "text": [
      "/usr/local/lib/python3.9/site-packages/pytorch_tabnet/callbacks.py:172: UserWarning: Best weights from best epoch are automatically used!\n",
      "  warnings.warn(wrn_msg)\n"
     ]
    },
    {
     "name": "stdout",
     "output_type": "stream",
     "text": [
      "MSE: 0.012611930154950737\n",
      "R2 Score: 0.9431039274365121\n",
      "Best model updated\n",
      "\n",
      "Iteration 58/162\n",
      "Configuration batch size: 16 - epochs: 200 - n_d: 8 - n_a: 8 - steps: 5 - n_indipendent: 5\n"
     ]
    },
    {
     "name": "stderr",
     "output_type": "stream",
     "text": [
      "/usr/local/lib/python3.9/site-packages/pytorch_tabnet/abstract_model.py:75: UserWarning: Device used : cpu\n",
      "  warnings.warn(f\"Device used : {self.device}\")\n"
     ]
    },
    {
     "name": "stdout",
     "output_type": "stream",
     "text": [
      "epoch 0  | loss: 0.3991  | mse_mse: 0.28101 |  0:00:19s\n",
      "epoch 1  | loss: 0.12874 | mse_mse: 0.09154 |  0:00:39s\n",
      "epoch 2  | loss: 0.09817 | mse_mse: 0.13625 |  0:01:00s\n",
      "epoch 3  | loss: 0.07145 | mse_mse: 0.08195 |  0:01:21s\n",
      "epoch 4  | loss: 0.05815 | mse_mse: 0.02474 |  0:01:41s\n",
      "epoch 5  | loss: 0.05402 | mse_mse: 0.0431  |  0:02:01s\n",
      "epoch 6  | loss: 0.05596 | mse_mse: 0.02408 |  0:02:22s\n",
      "epoch 7  | loss: 0.04784 | mse_mse: 0.0317  |  0:02:42s\n",
      "epoch 8  | loss: 0.04295 | mse_mse: 0.01806 |  0:03:03s\n",
      "epoch 9  | loss: 0.04514 | mse_mse: 0.10439 |  0:03:23s\n",
      "epoch 10 | loss: 0.04139 | mse_mse: 0.02657 |  0:03:44s\n",
      "epoch 11 | loss: 0.04206 | mse_mse: 0.08501 |  0:04:04s\n",
      "epoch 12 | loss: 0.04248 | mse_mse: 0.08818 |  0:04:25s\n",
      "epoch 13 | loss: 0.03843 | mse_mse: 0.02242 |  0:04:45s\n",
      "epoch 14 | loss: 0.04168 | mse_mse: 0.02749 |  0:05:06s\n",
      "epoch 15 | loss: 0.03905 | mse_mse: 0.15818 |  0:05:26s\n",
      "epoch 16 | loss: 0.04108 | mse_mse: 0.01746 |  0:05:46s\n",
      "epoch 17 | loss: 0.03831 | mse_mse: 0.01756 |  0:06:07s\n",
      "epoch 18 | loss: 0.03947 | mse_mse: 0.03914 |  0:06:27s\n",
      "epoch 19 | loss: 0.03777 | mse_mse: 0.04115 |  0:06:48s\n",
      "epoch 20 | loss: 0.03994 | mse_mse: 0.02282 |  0:07:08s\n",
      "epoch 21 | loss: 0.03721 | mse_mse: 0.02398 |  0:07:29s\n",
      "epoch 22 | loss: 0.0295  | mse_mse: 0.03424 |  0:07:49s\n",
      "epoch 23 | loss: 0.0353  | mse_mse: 0.01247 |  0:08:10s\n",
      "epoch 24 | loss: 0.02896 | mse_mse: 0.04124 |  0:08:30s\n",
      "epoch 25 | loss: 0.03574 | mse_mse: 0.05785 |  0:08:51s\n",
      "epoch 26 | loss: 0.03357 | mse_mse: 0.03937 |  0:09:11s\n",
      "epoch 27 | loss: 0.03002 | mse_mse: 0.02225 |  0:09:32s\n",
      "epoch 28 | loss: 0.02832 | mse_mse: 0.06015 |  0:09:52s\n",
      "epoch 29 | loss: 0.02793 | mse_mse: 0.06666 |  0:10:12s\n",
      "epoch 30 | loss: 0.02857 | mse_mse: 0.02729 |  0:10:32s\n",
      "epoch 31 | loss: 0.0273  | mse_mse: 0.03066 |  0:10:53s\n",
      "epoch 32 | loss: 0.02506 | mse_mse: 0.02978 |  0:11:13s\n",
      "epoch 33 | loss: 0.02613 | mse_mse: 0.04719 |  0:11:34s\n",
      "\n",
      "Early stopping occurred at epoch 33 with best_epoch = 23 and best_mse_mse = 0.01247\n"
     ]
    },
    {
     "name": "stderr",
     "output_type": "stream",
     "text": [
      "/usr/local/lib/python3.9/site-packages/pytorch_tabnet/callbacks.py:172: UserWarning: Best weights from best epoch are automatically used!\n",
      "  warnings.warn(wrn_msg)\n"
     ]
    },
    {
     "name": "stdout",
     "output_type": "stream",
     "text": [
      "MSE: 0.012611930154950737\n",
      "R2 Score: 0.9431039274365121\n",
      "\n",
      "Iteration 59/162\n",
      "Configuration batch size: 16 - epochs: 200 - n_d: 8 - n_a: 8 - steps: 7 - n_indipendent: 3\n"
     ]
    },
    {
     "name": "stderr",
     "output_type": "stream",
     "text": [
      "/usr/local/lib/python3.9/site-packages/pytorch_tabnet/abstract_model.py:75: UserWarning: Device used : cpu\n",
      "  warnings.warn(f\"Device used : {self.device}\")\n"
     ]
    },
    {
     "name": "stdout",
     "output_type": "stream",
     "text": [
      "epoch 0  | loss: 0.47927 | mse_mse: 0.14529 |  0:00:26s\n",
      "epoch 1  | loss: 0.14331 | mse_mse: 0.1147  |  0:00:54s\n",
      "epoch 2  | loss: 0.10383 | mse_mse: 0.23638 |  0:01:22s\n",
      "epoch 3  | loss: 0.07615 | mse_mse: 0.04829 |  0:01:50s\n",
      "epoch 4  | loss: 0.06809 | mse_mse: 0.08109 |  0:02:17s\n",
      "epoch 5  | loss: 0.06964 | mse_mse: 0.01983 |  0:02:45s\n",
      "epoch 6  | loss: 0.0631  | mse_mse: 0.0264  |  0:03:13s\n",
      "epoch 7  | loss: 0.0566  | mse_mse: 0.02801 |  0:03:41s\n",
      "epoch 8  | loss: 0.04644 | mse_mse: 0.02879 |  0:04:08s\n",
      "epoch 9  | loss: 0.05329 | mse_mse: 0.05098 |  0:04:35s\n",
      "epoch 10 | loss: 0.04723 | mse_mse: 0.02766 |  0:05:03s\n",
      "epoch 11 | loss: 0.04194 | mse_mse: 0.03766 |  0:05:30s\n",
      "epoch 12 | loss: 0.04299 | mse_mse: 0.02446 |  0:05:57s\n",
      "epoch 13 | loss: 0.04495 | mse_mse: 0.04684 |  0:06:25s\n",
      "epoch 14 | loss: 0.04347 | mse_mse: 0.07514 |  0:06:52s\n",
      "epoch 15 | loss: 0.04192 | mse_mse: 0.25454 |  0:07:20s\n",
      "\n",
      "Early stopping occurred at epoch 15 with best_epoch = 5 and best_mse_mse = 0.01983\n"
     ]
    },
    {
     "name": "stderr",
     "output_type": "stream",
     "text": [
      "/usr/local/lib/python3.9/site-packages/pytorch_tabnet/callbacks.py:172: UserWarning: Best weights from best epoch are automatically used!\n",
      "  warnings.warn(wrn_msg)\n"
     ]
    },
    {
     "name": "stdout",
     "output_type": "stream",
     "text": [
      "MSE: 0.020052962352251128\n",
      "R2 Score: 0.9095352743720433\n",
      "\n",
      "Iteration 60/162\n",
      "Configuration batch size: 16 - epochs: 200 - n_d: 8 - n_a: 8 - steps: 7 - n_indipendent: 5\n"
     ]
    },
    {
     "name": "stderr",
     "output_type": "stream",
     "text": [
      "/usr/local/lib/python3.9/site-packages/pytorch_tabnet/abstract_model.py:75: UserWarning: Device used : cpu\n",
      "  warnings.warn(f\"Device used : {self.device}\")\n"
     ]
    },
    {
     "name": "stdout",
     "output_type": "stream",
     "text": [
      "epoch 0  | loss: 0.47927 | mse_mse: 0.14529 |  0:00:27s\n",
      "epoch 1  | loss: 0.14331 | mse_mse: 0.1147  |  0:00:54s\n",
      "epoch 2  | loss: 0.10383 | mse_mse: 0.23638 |  0:01:22s\n",
      "epoch 3  | loss: 0.07615 | mse_mse: 0.04829 |  0:01:50s\n",
      "epoch 4  | loss: 0.06809 | mse_mse: 0.08109 |  0:02:18s\n",
      "epoch 5  | loss: 0.06964 | mse_mse: 0.01983 |  0:02:45s\n",
      "epoch 6  | loss: 0.0631  | mse_mse: 0.0264  |  0:03:13s\n",
      "epoch 7  | loss: 0.0566  | mse_mse: 0.02801 |  0:03:40s\n",
      "epoch 8  | loss: 0.04644 | mse_mse: 0.02879 |  0:04:07s\n",
      "epoch 9  | loss: 0.05329 | mse_mse: 0.05098 |  0:04:35s\n",
      "epoch 10 | loss: 0.04723 | mse_mse: 0.02766 |  0:05:02s\n",
      "epoch 11 | loss: 0.04194 | mse_mse: 0.03766 |  0:05:29s\n",
      "epoch 12 | loss: 0.04299 | mse_mse: 0.02446 |  0:05:56s\n",
      "epoch 13 | loss: 0.04495 | mse_mse: 0.04684 |  0:06:24s\n",
      "epoch 14 | loss: 0.04347 | mse_mse: 0.07514 |  0:06:51s\n",
      "epoch 15 | loss: 0.04192 | mse_mse: 0.25454 |  0:07:18s\n",
      "\n",
      "Early stopping occurred at epoch 15 with best_epoch = 5 and best_mse_mse = 0.01983\n"
     ]
    },
    {
     "name": "stderr",
     "output_type": "stream",
     "text": [
      "/usr/local/lib/python3.9/site-packages/pytorch_tabnet/callbacks.py:172: UserWarning: Best weights from best epoch are automatically used!\n",
      "  warnings.warn(wrn_msg)\n"
     ]
    },
    {
     "name": "stdout",
     "output_type": "stream",
     "text": [
      "MSE: 0.020052962352251128\n",
      "R2 Score: 0.9095352743720433\n",
      "\n",
      "Iteration 61/162\n",
      "Configuration batch size: 16 - epochs: 200 - n_d: 8 - n_a: 16 - steps: 3 - n_indipendent: 3\n"
     ]
    },
    {
     "name": "stderr",
     "output_type": "stream",
     "text": [
      "/usr/local/lib/python3.9/site-packages/pytorch_tabnet/abstract_model.py:75: UserWarning: Device used : cpu\n",
      "  warnings.warn(f\"Device used : {self.device}\")\n"
     ]
    },
    {
     "name": "stdout",
     "output_type": "stream",
     "text": [
      "epoch 0  | loss: 0.34711 | mse_mse: 0.09219 |  0:00:12s\n",
      "epoch 1  | loss: 0.07894 | mse_mse: 0.03238 |  0:00:25s\n",
      "epoch 2  | loss: 0.05967 | mse_mse: 0.03814 |  0:00:38s\n",
      "epoch 3  | loss: 0.05159 | mse_mse: 0.08352 |  0:00:52s\n",
      "epoch 4  | loss: 0.04455 | mse_mse: 0.01508 |  0:01:05s\n",
      "epoch 5  | loss: 0.04622 | mse_mse: 0.02161 |  0:01:18s\n",
      "epoch 6  | loss: 0.04169 | mse_mse: 0.0227  |  0:01:32s\n",
      "epoch 7  | loss: 0.044   | mse_mse: 0.03203 |  0:01:45s\n",
      "epoch 8  | loss: 0.04259 | mse_mse: 0.03925 |  0:01:58s\n",
      "epoch 9  | loss: 0.04334 | mse_mse: 0.06188 |  0:02:11s\n",
      "epoch 10 | loss: 0.04072 | mse_mse: 0.04636 |  0:02:25s\n",
      "epoch 11 | loss: 0.0355  | mse_mse: 0.05706 |  0:02:38s\n",
      "epoch 12 | loss: 0.03825 | mse_mse: 0.06367 |  0:02:51s\n",
      "epoch 13 | loss: 0.04315 | mse_mse: 0.09872 |  0:03:05s\n",
      "epoch 14 | loss: 0.03561 | mse_mse: 0.06285 |  0:03:18s\n",
      "\n",
      "Early stopping occurred at epoch 14 with best_epoch = 4 and best_mse_mse = 0.01508\n"
     ]
    },
    {
     "name": "stderr",
     "output_type": "stream",
     "text": [
      "/usr/local/lib/python3.9/site-packages/pytorch_tabnet/callbacks.py:172: UserWarning: Best weights from best epoch are automatically used!\n",
      "  warnings.warn(wrn_msg)\n"
     ]
    },
    {
     "name": "stdout",
     "output_type": "stream",
     "text": [
      "MSE: 0.015764945862062875\n",
      "R2 Score: 0.9288797596634889\n",
      "\n",
      "Iteration 62/162\n",
      "Configuration batch size: 16 - epochs: 200 - n_d: 8 - n_a: 16 - steps: 3 - n_indipendent: 5\n"
     ]
    },
    {
     "name": "stderr",
     "output_type": "stream",
     "text": [
      "/usr/local/lib/python3.9/site-packages/pytorch_tabnet/abstract_model.py:75: UserWarning: Device used : cpu\n",
      "  warnings.warn(f\"Device used : {self.device}\")\n"
     ]
    },
    {
     "name": "stdout",
     "output_type": "stream",
     "text": [
      "epoch 0  | loss: 0.34711 | mse_mse: 0.09219 |  0:00:12s\n",
      "epoch 1  | loss: 0.07894 | mse_mse: 0.03238 |  0:00:26s\n",
      "epoch 2  | loss: 0.05967 | mse_mse: 0.03814 |  0:00:39s\n",
      "epoch 3  | loss: 0.05159 | mse_mse: 0.08352 |  0:00:52s\n",
      "epoch 4  | loss: 0.04455 | mse_mse: 0.01508 |  0:01:05s\n",
      "epoch 5  | loss: 0.04622 | mse_mse: 0.02161 |  0:01:19s\n",
      "epoch 6  | loss: 0.04169 | mse_mse: 0.0227  |  0:01:32s\n",
      "epoch 7  | loss: 0.044   | mse_mse: 0.03203 |  0:01:45s\n",
      "epoch 8  | loss: 0.04259 | mse_mse: 0.03925 |  0:01:58s\n",
      "epoch 9  | loss: 0.04334 | mse_mse: 0.06188 |  0:02:12s\n",
      "epoch 10 | loss: 0.04072 | mse_mse: 0.04636 |  0:02:25s\n",
      "epoch 11 | loss: 0.0355  | mse_mse: 0.05706 |  0:02:39s\n",
      "epoch 12 | loss: 0.03825 | mse_mse: 0.06367 |  0:02:52s\n",
      "epoch 13 | loss: 0.04315 | mse_mse: 0.09872 |  0:03:05s\n",
      "epoch 14 | loss: 0.03561 | mse_mse: 0.06285 |  0:03:19s\n",
      "\n",
      "Early stopping occurred at epoch 14 with best_epoch = 4 and best_mse_mse = 0.01508\n"
     ]
    },
    {
     "name": "stderr",
     "output_type": "stream",
     "text": [
      "/usr/local/lib/python3.9/site-packages/pytorch_tabnet/callbacks.py:172: UserWarning: Best weights from best epoch are automatically used!\n",
      "  warnings.warn(wrn_msg)\n"
     ]
    },
    {
     "name": "stdout",
     "output_type": "stream",
     "text": [
      "MSE: 0.015764945862062875\n",
      "R2 Score: 0.9288797596634889\n",
      "\n",
      "Iteration 63/162\n",
      "Configuration batch size: 16 - epochs: 200 - n_d: 8 - n_a: 16 - steps: 5 - n_indipendent: 3\n"
     ]
    },
    {
     "name": "stderr",
     "output_type": "stream",
     "text": [
      "/usr/local/lib/python3.9/site-packages/pytorch_tabnet/abstract_model.py:75: UserWarning: Device used : cpu\n",
      "  warnings.warn(f\"Device used : {self.device}\")\n"
     ]
    },
    {
     "name": "stdout",
     "output_type": "stream",
     "text": [
      "epoch 0  | loss: 0.34692 | mse_mse: 0.10901 |  0:00:20s\n",
      "epoch 1  | loss: 0.13197 | mse_mse: 0.07236 |  0:00:40s\n",
      "epoch 2  | loss: 0.10164 | mse_mse: 0.08809 |  0:01:01s\n",
      "epoch 3  | loss: 0.08741 | mse_mse: 0.06354 |  0:01:22s\n",
      "epoch 4  | loss: 0.08192 | mse_mse: 0.07014 |  0:01:43s\n",
      "epoch 5  | loss: 0.06518 | mse_mse: 0.05352 |  0:02:04s\n",
      "epoch 6  | loss: 0.04861 | mse_mse: 0.03189 |  0:02:25s\n",
      "epoch 7  | loss: 0.04725 | mse_mse: 0.03595 |  0:02:46s\n",
      "epoch 8  | loss: 0.04309 | mse_mse: 0.02715 |  0:03:07s\n",
      "epoch 9  | loss: 0.04033 | mse_mse: 0.02676 |  0:03:28s\n",
      "epoch 10 | loss: 0.04062 | mse_mse: 0.0256  |  0:03:49s\n",
      "epoch 11 | loss: 0.03493 | mse_mse: 0.04541 |  0:04:10s\n",
      "epoch 12 | loss: 0.03697 | mse_mse: 0.01686 |  0:04:31s\n",
      "epoch 13 | loss: 0.03426 | mse_mse: 0.02394 |  0:04:52s\n",
      "epoch 14 | loss: 0.03699 | mse_mse: 0.06026 |  0:05:13s\n",
      "epoch 15 | loss: 0.0319  | mse_mse: 0.03897 |  0:05:34s\n",
      "epoch 16 | loss: 0.03246 | mse_mse: 0.02355 |  0:05:55s\n",
      "epoch 17 | loss: 0.03336 | mse_mse: 0.0255  |  0:06:16s\n",
      "epoch 18 | loss: 0.03031 | mse_mse: 0.02535 |  0:06:37s\n",
      "epoch 19 | loss: 0.03132 | mse_mse: 0.02568 |  0:06:58s\n",
      "epoch 20 | loss: 0.02785 | mse_mse: 0.02543 |  0:07:19s\n",
      "epoch 21 | loss: 0.03334 | mse_mse: 0.02608 |  0:07:40s\n",
      "epoch 22 | loss: 0.02595 | mse_mse: 0.03108 |  0:08:01s\n",
      "\n",
      "Early stopping occurred at epoch 22 with best_epoch = 12 and best_mse_mse = 0.01686\n"
     ]
    },
    {
     "name": "stderr",
     "output_type": "stream",
     "text": [
      "/usr/local/lib/python3.9/site-packages/pytorch_tabnet/callbacks.py:172: UserWarning: Best weights from best epoch are automatically used!\n",
      "  warnings.warn(wrn_msg)\n"
     ]
    },
    {
     "name": "stdout",
     "output_type": "stream",
     "text": [
      "MSE: 0.016814885948323647\n",
      "R2 Score: 0.9241431756036923\n",
      "\n",
      "Iteration 64/162\n",
      "Configuration batch size: 16 - epochs: 200 - n_d: 8 - n_a: 16 - steps: 5 - n_indipendent: 5\n"
     ]
    },
    {
     "name": "stderr",
     "output_type": "stream",
     "text": [
      "/usr/local/lib/python3.9/site-packages/pytorch_tabnet/abstract_model.py:75: UserWarning: Device used : cpu\n",
      "  warnings.warn(f\"Device used : {self.device}\")\n"
     ]
    },
    {
     "name": "stdout",
     "output_type": "stream",
     "text": [
      "epoch 0  | loss: 0.34692 | mse_mse: 0.10901 |  0:00:19s\n",
      "epoch 1  | loss: 0.13197 | mse_mse: 0.07236 |  0:00:40s\n",
      "epoch 2  | loss: 0.10164 | mse_mse: 0.08809 |  0:01:01s\n",
      "epoch 3  | loss: 0.08741 | mse_mse: 0.06354 |  0:01:22s\n",
      "epoch 4  | loss: 0.08192 | mse_mse: 0.07014 |  0:01:43s\n",
      "epoch 5  | loss: 0.06518 | mse_mse: 0.05352 |  0:02:04s\n",
      "epoch 6  | loss: 0.04861 | mse_mse: 0.03189 |  0:02:25s\n",
      "epoch 7  | loss: 0.04725 | mse_mse: 0.03595 |  0:02:46s\n",
      "epoch 8  | loss: 0.04309 | mse_mse: 0.02715 |  0:03:07s\n",
      "epoch 9  | loss: 0.04033 | mse_mse: 0.02676 |  0:03:28s\n",
      "epoch 10 | loss: 0.04062 | mse_mse: 0.0256  |  0:03:49s\n",
      "epoch 11 | loss: 0.03493 | mse_mse: 0.04541 |  0:04:10s\n",
      "epoch 12 | loss: 0.03697 | mse_mse: 0.01686 |  0:04:31s\n",
      "epoch 13 | loss: 0.03426 | mse_mse: 0.02394 |  0:04:52s\n",
      "epoch 14 | loss: 0.03699 | mse_mse: 0.06026 |  0:05:13s\n",
      "epoch 15 | loss: 0.0319  | mse_mse: 0.03897 |  0:05:34s\n",
      "epoch 16 | loss: 0.03246 | mse_mse: 0.02355 |  0:05:55s\n",
      "epoch 17 | loss: 0.03336 | mse_mse: 0.0255  |  0:06:16s\n",
      "epoch 18 | loss: 0.03031 | mse_mse: 0.02535 |  0:06:37s\n",
      "epoch 19 | loss: 0.03132 | mse_mse: 0.02568 |  0:06:58s\n",
      "epoch 20 | loss: 0.02785 | mse_mse: 0.02543 |  0:07:19s\n",
      "epoch 21 | loss: 0.03334 | mse_mse: 0.02608 |  0:07:40s\n",
      "epoch 22 | loss: 0.02595 | mse_mse: 0.03108 |  0:08:01s\n",
      "\n",
      "Early stopping occurred at epoch 22 with best_epoch = 12 and best_mse_mse = 0.01686\n"
     ]
    },
    {
     "name": "stderr",
     "output_type": "stream",
     "text": [
      "/usr/local/lib/python3.9/site-packages/pytorch_tabnet/callbacks.py:172: UserWarning: Best weights from best epoch are automatically used!\n",
      "  warnings.warn(wrn_msg)\n"
     ]
    },
    {
     "name": "stdout",
     "output_type": "stream",
     "text": [
      "MSE: 0.016814885948323647\n",
      "R2 Score: 0.9241431756036923\n",
      "\n",
      "Iteration 65/162\n",
      "Configuration batch size: 16 - epochs: 200 - n_d: 8 - n_a: 16 - steps: 7 - n_indipendent: 3\n"
     ]
    },
    {
     "name": "stderr",
     "output_type": "stream",
     "text": [
      "/usr/local/lib/python3.9/site-packages/pytorch_tabnet/abstract_model.py:75: UserWarning: Device used : cpu\n",
      "  warnings.warn(f\"Device used : {self.device}\")\n"
     ]
    },
    {
     "name": "stdout",
     "output_type": "stream",
     "text": [
      "epoch 0  | loss: 0.647   | mse_mse: 0.13075 |  0:00:26s\n",
      "epoch 1  | loss: 0.13305 | mse_mse: 0.07276 |  0:00:55s\n",
      "epoch 2  | loss: 0.10014 | mse_mse: 0.08965 |  0:01:23s\n",
      "epoch 3  | loss: 0.09086 | mse_mse: 0.04853 |  0:01:52s\n",
      "epoch 4  | loss: 0.07521 | mse_mse: 0.0536  |  0:02:20s\n",
      "epoch 5  | loss: 0.06784 | mse_mse: 0.05696 |  0:02:49s\n",
      "epoch 6  | loss: 0.05761 | mse_mse: 0.04813 |  0:03:17s\n",
      "epoch 7  | loss: 0.05337 | mse_mse: 0.07789 |  0:03:46s\n",
      "epoch 8  | loss: 0.05654 | mse_mse: 0.04808 |  0:04:15s\n",
      "epoch 9  | loss: 0.04245 | mse_mse: 0.03119 |  0:04:43s\n",
      "epoch 10 | loss: 0.04209 | mse_mse: 0.03092 |  0:05:12s\n",
      "epoch 11 | loss: 0.04086 | mse_mse: 0.04093 |  0:05:40s\n",
      "epoch 12 | loss: 0.04176 | mse_mse: 0.02113 |  0:06:08s\n",
      "epoch 13 | loss: 0.04114 | mse_mse: 0.05954 |  0:06:36s\n",
      "epoch 14 | loss: 0.03901 | mse_mse: 0.01749 |  0:07:05s\n",
      "epoch 15 | loss: 0.03968 | mse_mse: 0.04829 |  0:07:33s\n",
      "epoch 16 | loss: 0.03416 | mse_mse: 0.03001 |  0:08:01s\n",
      "epoch 17 | loss: 0.03452 | mse_mse: 0.01546 |  0:08:29s\n",
      "epoch 18 | loss: 0.03488 | mse_mse: 0.03617 |  0:08:57s\n",
      "epoch 19 | loss: 0.03096 | mse_mse: 0.07218 |  0:09:25s\n",
      "epoch 20 | loss: 0.03326 | mse_mse: 0.02863 |  0:09:53s\n",
      "epoch 21 | loss: 0.03137 | mse_mse: 0.08688 |  0:10:22s\n",
      "epoch 22 | loss: 0.02987 | mse_mse: 0.07419 |  0:10:50s\n",
      "epoch 23 | loss: 0.03472 | mse_mse: 0.04202 |  0:11:19s\n",
      "epoch 24 | loss: 0.03037 | mse_mse: 0.03419 |  0:11:48s\n",
      "epoch 25 | loss: 0.02531 | mse_mse: 0.02044 |  0:12:16s\n",
      "epoch 26 | loss: 0.02926 | mse_mse: 0.04788 |  0:12:45s\n",
      "epoch 27 | loss: 0.02832 | mse_mse: 0.03241 |  0:13:13s\n",
      "\n",
      "Early stopping occurred at epoch 27 with best_epoch = 17 and best_mse_mse = 0.01546\n"
     ]
    },
    {
     "name": "stderr",
     "output_type": "stream",
     "text": [
      "/usr/local/lib/python3.9/site-packages/pytorch_tabnet/callbacks.py:172: UserWarning: Best weights from best epoch are automatically used!\n",
      "  warnings.warn(wrn_msg)\n"
     ]
    },
    {
     "name": "stdout",
     "output_type": "stream",
     "text": [
      "MSE: 0.014780584328512978\n",
      "R2 Score: 0.9333204998637172\n",
      "\n",
      "Iteration 66/162\n",
      "Configuration batch size: 16 - epochs: 200 - n_d: 8 - n_a: 16 - steps: 7 - n_indipendent: 5\n"
     ]
    },
    {
     "name": "stderr",
     "output_type": "stream",
     "text": [
      "/usr/local/lib/python3.9/site-packages/pytorch_tabnet/abstract_model.py:75: UserWarning: Device used : cpu\n",
      "  warnings.warn(f\"Device used : {self.device}\")\n"
     ]
    },
    {
     "name": "stdout",
     "output_type": "stream",
     "text": [
      "epoch 0  | loss: 0.647   | mse_mse: 0.13075 |  0:00:26s\n",
      "epoch 1  | loss: 0.13305 | mse_mse: 0.07276 |  0:00:54s\n",
      "epoch 2  | loss: 0.10014 | mse_mse: 0.08965 |  0:01:23s\n",
      "epoch 3  | loss: 0.09086 | mse_mse: 0.04853 |  0:01:51s\n",
      "epoch 4  | loss: 0.07521 | mse_mse: 0.0536  |  0:02:19s\n",
      "epoch 5  | loss: 0.06784 | mse_mse: 0.05696 |  0:02:47s\n",
      "epoch 6  | loss: 0.05761 | mse_mse: 0.04813 |  0:03:15s\n",
      "epoch 7  | loss: 0.05337 | mse_mse: 0.07789 |  0:03:43s\n",
      "epoch 8  | loss: 0.05654 | mse_mse: 0.04808 |  0:04:11s\n",
      "epoch 9  | loss: 0.04245 | mse_mse: 0.03119 |  0:04:39s\n",
      "epoch 10 | loss: 0.04209 | mse_mse: 0.03092 |  0:05:08s\n",
      "epoch 11 | loss: 0.04086 | mse_mse: 0.04093 |  0:05:37s\n",
      "epoch 12 | loss: 0.04176 | mse_mse: 0.02113 |  0:06:05s\n",
      "epoch 13 | loss: 0.04114 | mse_mse: 0.05954 |  0:06:34s\n",
      "epoch 14 | loss: 0.03901 | mse_mse: 0.01749 |  0:07:02s\n",
      "epoch 15 | loss: 0.03968 | mse_mse: 0.04829 |  0:07:31s\n",
      "epoch 16 | loss: 0.03416 | mse_mse: 0.03001 |  0:07:59s\n",
      "epoch 17 | loss: 0.03452 | mse_mse: 0.01546 |  0:08:27s\n",
      "epoch 18 | loss: 0.03488 | mse_mse: 0.03617 |  0:08:56s\n",
      "epoch 19 | loss: 0.03096 | mse_mse: 0.07218 |  0:09:24s\n",
      "epoch 20 | loss: 0.03326 | mse_mse: 0.02863 |  0:09:53s\n",
      "epoch 21 | loss: 0.03137 | mse_mse: 0.08688 |  0:10:21s\n",
      "epoch 22 | loss: 0.02987 | mse_mse: 0.07419 |  0:10:50s\n",
      "epoch 23 | loss: 0.03472 | mse_mse: 0.04202 |  0:11:18s\n",
      "epoch 24 | loss: 0.03037 | mse_mse: 0.03419 |  0:11:47s\n",
      "epoch 25 | loss: 0.02531 | mse_mse: 0.02044 |  0:12:15s\n",
      "epoch 26 | loss: 0.02926 | mse_mse: 0.04788 |  0:12:44s\n",
      "epoch 27 | loss: 0.02832 | mse_mse: 0.03241 |  0:13:12s\n",
      "\n",
      "Early stopping occurred at epoch 27 with best_epoch = 17 and best_mse_mse = 0.01546\n"
     ]
    },
    {
     "name": "stderr",
     "output_type": "stream",
     "text": [
      "/usr/local/lib/python3.9/site-packages/pytorch_tabnet/callbacks.py:172: UserWarning: Best weights from best epoch are automatically used!\n",
      "  warnings.warn(wrn_msg)\n"
     ]
    },
    {
     "name": "stdout",
     "output_type": "stream",
     "text": [
      "MSE: 0.014780584328512978\n",
      "R2 Score: 0.9333204998637172\n",
      "\n",
      "Iteration 67/162\n",
      "Configuration batch size: 16 - epochs: 200 - n_d: 8 - n_a: 32 - steps: 3 - n_indipendent: 3\n"
     ]
    },
    {
     "name": "stderr",
     "output_type": "stream",
     "text": [
      "/usr/local/lib/python3.9/site-packages/pytorch_tabnet/abstract_model.py:75: UserWarning: Device used : cpu\n",
      "  warnings.warn(f\"Device used : {self.device}\")\n"
     ]
    },
    {
     "name": "stdout",
     "output_type": "stream",
     "text": [
      "epoch 0  | loss: 0.54354 | mse_mse: 0.09195 |  0:00:13s\n",
      "epoch 1  | loss: 0.08522 | mse_mse: 0.06158 |  0:00:27s\n",
      "epoch 2  | loss: 0.05766 | mse_mse: 0.03997 |  0:00:41s\n",
      "epoch 3  | loss: 0.04453 | mse_mse: 0.07202 |  0:00:56s\n",
      "epoch 4  | loss: 0.04076 | mse_mse: 0.02308 |  0:01:10s\n",
      "epoch 5  | loss: 0.0395  | mse_mse: 0.01763 |  0:01:24s\n",
      "epoch 6  | loss: 0.04145 | mse_mse: 0.02159 |  0:01:39s\n",
      "epoch 7  | loss: 0.0425  | mse_mse: 0.02803 |  0:01:53s\n",
      "epoch 8  | loss: 0.04208 | mse_mse: 0.04346 |  0:02:07s\n",
      "epoch 9  | loss: 0.03876 | mse_mse: 0.02653 |  0:02:21s\n",
      "epoch 10 | loss: 0.04025 | mse_mse: 0.02404 |  0:02:36s\n",
      "epoch 11 | loss: 0.03846 | mse_mse: 0.03902 |  0:02:50s\n",
      "epoch 12 | loss: 0.03496 | mse_mse: 0.02793 |  0:03:04s\n",
      "epoch 13 | loss: 0.04017 | mse_mse: 0.0334  |  0:03:19s\n",
      "epoch 14 | loss: 0.03816 | mse_mse: 0.02523 |  0:03:33s\n",
      "epoch 15 | loss: 0.03464 | mse_mse: 0.04575 |  0:03:47s\n",
      "\n",
      "Early stopping occurred at epoch 15 with best_epoch = 5 and best_mse_mse = 0.01763\n"
     ]
    },
    {
     "name": "stderr",
     "output_type": "stream",
     "text": [
      "/usr/local/lib/python3.9/site-packages/pytorch_tabnet/callbacks.py:172: UserWarning: Best weights from best epoch are automatically used!\n",
      "  warnings.warn(wrn_msg)\n"
     ]
    },
    {
     "name": "stdout",
     "output_type": "stream",
     "text": [
      "MSE: 0.016932815103690022\n",
      "R2 Score: 0.9236111630014466\n",
      "\n",
      "Iteration 68/162\n",
      "Configuration batch size: 16 - epochs: 200 - n_d: 8 - n_a: 32 - steps: 3 - n_indipendent: 5\n"
     ]
    },
    {
     "name": "stderr",
     "output_type": "stream",
     "text": [
      "/usr/local/lib/python3.9/site-packages/pytorch_tabnet/abstract_model.py:75: UserWarning: Device used : cpu\n",
      "  warnings.warn(f\"Device used : {self.device}\")\n"
     ]
    },
    {
     "name": "stdout",
     "output_type": "stream",
     "text": [
      "epoch 0  | loss: 0.54354 | mse_mse: 0.09195 |  0:00:14s\n",
      "epoch 1  | loss: 0.08522 | mse_mse: 0.06158 |  0:00:28s\n",
      "epoch 2  | loss: 0.05766 | mse_mse: 0.03997 |  0:00:42s\n",
      "epoch 3  | loss: 0.04453 | mse_mse: 0.07202 |  0:00:57s\n",
      "epoch 4  | loss: 0.04076 | mse_mse: 0.02308 |  0:01:11s\n",
      "epoch 5  | loss: 0.0395  | mse_mse: 0.01763 |  0:01:26s\n",
      "epoch 6  | loss: 0.04145 | mse_mse: 0.02159 |  0:01:40s\n",
      "epoch 7  | loss: 0.0425  | mse_mse: 0.02803 |  0:01:54s\n",
      "epoch 8  | loss: 0.04208 | mse_mse: 0.04346 |  0:02:09s\n",
      "epoch 9  | loss: 0.03876 | mse_mse: 0.02653 |  0:02:23s\n",
      "epoch 10 | loss: 0.04025 | mse_mse: 0.02404 |  0:02:38s\n",
      "epoch 11 | loss: 0.03846 | mse_mse: 0.03902 |  0:02:52s\n",
      "epoch 12 | loss: 0.03496 | mse_mse: 0.02793 |  0:03:06s\n",
      "epoch 13 | loss: 0.04017 | mse_mse: 0.0334  |  0:03:21s\n",
      "epoch 14 | loss: 0.03816 | mse_mse: 0.02523 |  0:03:36s\n",
      "epoch 15 | loss: 0.03464 | mse_mse: 0.04575 |  0:03:50s\n",
      "\n",
      "Early stopping occurred at epoch 15 with best_epoch = 5 and best_mse_mse = 0.01763\n"
     ]
    },
    {
     "name": "stderr",
     "output_type": "stream",
     "text": [
      "/usr/local/lib/python3.9/site-packages/pytorch_tabnet/callbacks.py:172: UserWarning: Best weights from best epoch are automatically used!\n",
      "  warnings.warn(wrn_msg)\n"
     ]
    },
    {
     "name": "stdout",
     "output_type": "stream",
     "text": [
      "MSE: 0.016932815103690022\n",
      "R2 Score: 0.9236111630014466\n",
      "\n",
      "Iteration 69/162\n",
      "Configuration batch size: 16 - epochs: 200 - n_d: 8 - n_a: 32 - steps: 5 - n_indipendent: 3\n"
     ]
    },
    {
     "name": "stderr",
     "output_type": "stream",
     "text": [
      "/usr/local/lib/python3.9/site-packages/pytorch_tabnet/abstract_model.py:75: UserWarning: Device used : cpu\n",
      "  warnings.warn(f\"Device used : {self.device}\")\n"
     ]
    },
    {
     "name": "stdout",
     "output_type": "stream",
     "text": [
      "epoch 0  | loss: 0.38715 | mse_mse: 0.14038 |  0:00:21s\n",
      "epoch 1  | loss: 0.12987 | mse_mse: 0.1309  |  0:00:43s\n",
      "epoch 2  | loss: 0.10685 | mse_mse: 0.0776  |  0:01:06s\n",
      "epoch 3  | loss: 0.09256 | mse_mse: 0.10184 |  0:01:29s\n",
      "epoch 4  | loss: 0.07562 | mse_mse: 0.0968  |  0:01:51s\n",
      "epoch 5  | loss: 0.05065 | mse_mse: 0.06644 |  0:02:14s\n",
      "epoch 6  | loss: 0.04686 | mse_mse: 0.04662 |  0:02:37s\n",
      "epoch 7  | loss: 0.04371 | mse_mse: 0.03416 |  0:03:00s\n",
      "epoch 8  | loss: 0.04079 | mse_mse: 0.03452 |  0:03:22s\n",
      "epoch 9  | loss: 0.04236 | mse_mse: 0.0885  |  0:03:45s\n",
      "epoch 10 | loss: 0.03857 | mse_mse: 0.0355  |  0:04:08s\n",
      "epoch 11 | loss: 0.04004 | mse_mse: 0.0186  |  0:04:30s\n",
      "epoch 12 | loss: 0.03753 | mse_mse: 0.07271 |  0:04:53s\n",
      "epoch 13 | loss: 0.03691 | mse_mse: 0.02392 |  0:05:16s\n",
      "epoch 14 | loss: 0.03714 | mse_mse: 0.17116 |  0:05:38s\n",
      "epoch 15 | loss: 0.03258 | mse_mse: 0.02125 |  0:06:01s\n",
      "epoch 16 | loss: 0.03679 | mse_mse: 0.02404 |  0:06:24s\n",
      "epoch 17 | loss: 0.03807 | mse_mse: 0.03372 |  0:06:47s\n",
      "epoch 18 | loss: 0.03268 | mse_mse: 0.05138 |  0:07:09s\n",
      "epoch 19 | loss: 0.03308 | mse_mse: 0.06837 |  0:07:32s\n",
      "epoch 20 | loss: 0.02906 | mse_mse: 0.04009 |  0:07:55s\n",
      "epoch 21 | loss: 0.03005 | mse_mse: 0.03675 |  0:08:17s\n",
      "\n",
      "Early stopping occurred at epoch 21 with best_epoch = 11 and best_mse_mse = 0.0186\n"
     ]
    },
    {
     "name": "stderr",
     "output_type": "stream",
     "text": [
      "/usr/local/lib/python3.9/site-packages/pytorch_tabnet/callbacks.py:172: UserWarning: Best weights from best epoch are automatically used!\n",
      "  warnings.warn(wrn_msg)\n"
     ]
    },
    {
     "name": "stdout",
     "output_type": "stream",
     "text": [
      "MSE: 0.017856830079219572\n",
      "R2 Score: 0.9194426636162164\n",
      "\n",
      "Iteration 70/162\n",
      "Configuration batch size: 16 - epochs: 200 - n_d: 8 - n_a: 32 - steps: 5 - n_indipendent: 5\n"
     ]
    },
    {
     "name": "stderr",
     "output_type": "stream",
     "text": [
      "/usr/local/lib/python3.9/site-packages/pytorch_tabnet/abstract_model.py:75: UserWarning: Device used : cpu\n",
      "  warnings.warn(f\"Device used : {self.device}\")\n"
     ]
    },
    {
     "name": "stdout",
     "output_type": "stream",
     "text": [
      "epoch 0  | loss: 0.38715 | mse_mse: 0.14038 |  0:00:21s\n",
      "epoch 1  | loss: 0.12987 | mse_mse: 0.1309  |  0:00:43s\n",
      "epoch 2  | loss: 0.10685 | mse_mse: 0.0776  |  0:01:06s\n",
      "epoch 3  | loss: 0.09256 | mse_mse: 0.10184 |  0:01:29s\n",
      "epoch 4  | loss: 0.07562 | mse_mse: 0.0968  |  0:01:51s\n",
      "epoch 5  | loss: 0.05065 | mse_mse: 0.06644 |  0:02:14s\n",
      "epoch 6  | loss: 0.04686 | mse_mse: 0.04662 |  0:02:37s\n",
      "epoch 7  | loss: 0.04371 | mse_mse: 0.03416 |  0:02:59s\n",
      "epoch 8  | loss: 0.04079 | mse_mse: 0.03452 |  0:03:22s\n",
      "epoch 9  | loss: 0.04236 | mse_mse: 0.0885  |  0:03:44s\n",
      "epoch 10 | loss: 0.03857 | mse_mse: 0.0355  |  0:04:07s\n",
      "epoch 11 | loss: 0.04004 | mse_mse: 0.0186  |  0:04:30s\n",
      "epoch 12 | loss: 0.03753 | mse_mse: 0.07271 |  0:04:52s\n",
      "epoch 13 | loss: 0.03691 | mse_mse: 0.02392 |  0:05:15s\n",
      "epoch 14 | loss: 0.03714 | mse_mse: 0.17116 |  0:05:38s\n",
      "epoch 15 | loss: 0.03258 | mse_mse: 0.02125 |  0:06:01s\n",
      "epoch 16 | loss: 0.03679 | mse_mse: 0.02404 |  0:06:23s\n",
      "epoch 17 | loss: 0.03807 | mse_mse: 0.03372 |  0:06:46s\n",
      "epoch 18 | loss: 0.03268 | mse_mse: 0.05138 |  0:07:09s\n",
      "epoch 19 | loss: 0.03308 | mse_mse: 0.06837 |  0:07:31s\n",
      "epoch 20 | loss: 0.02906 | mse_mse: 0.04009 |  0:07:54s\n",
      "epoch 21 | loss: 0.03005 | mse_mse: 0.03675 |  0:08:17s\n",
      "\n",
      "Early stopping occurred at epoch 21 with best_epoch = 11 and best_mse_mse = 0.0186\n"
     ]
    },
    {
     "name": "stderr",
     "output_type": "stream",
     "text": [
      "/usr/local/lib/python3.9/site-packages/pytorch_tabnet/callbacks.py:172: UserWarning: Best weights from best epoch are automatically used!\n",
      "  warnings.warn(wrn_msg)\n"
     ]
    },
    {
     "name": "stdout",
     "output_type": "stream",
     "text": [
      "MSE: 0.017856830079219572\n",
      "R2 Score: 0.9194426636162164\n",
      "\n",
      "Iteration 71/162\n",
      "Configuration batch size: 16 - epochs: 200 - n_d: 8 - n_a: 32 - steps: 7 - n_indipendent: 3\n"
     ]
    },
    {
     "name": "stderr",
     "output_type": "stream",
     "text": [
      "/usr/local/lib/python3.9/site-packages/pytorch_tabnet/abstract_model.py:75: UserWarning: Device used : cpu\n",
      "  warnings.warn(f\"Device used : {self.device}\")\n"
     ]
    },
    {
     "name": "stdout",
     "output_type": "stream",
     "text": [
      "epoch 0  | loss: 1.10568 | mse_mse: 0.13516 |  0:00:29s\n",
      "epoch 1  | loss: 0.12185 | mse_mse: 0.19091 |  0:00:59s\n",
      "epoch 2  | loss: 0.10491 | mse_mse: 0.08484 |  0:01:30s\n",
      "epoch 3  | loss: 0.08407 | mse_mse: 0.05746 |  0:02:01s\n",
      "epoch 4  | loss: 0.08158 | mse_mse: 0.04959 |  0:02:32s\n",
      "epoch 5  | loss: 0.07843 | mse_mse: 0.0707  |  0:03:03s\n",
      "epoch 6  | loss: 0.0792  | mse_mse: 0.04931 |  0:03:34s\n",
      "epoch 7  | loss: 0.07671 | mse_mse: 0.05363 |  0:04:05s\n",
      "epoch 8  | loss: 0.06803 | mse_mse: 0.04495 |  0:04:36s\n",
      "epoch 9  | loss: 0.0625  | mse_mse: 0.07748 |  0:05:07s\n",
      "epoch 10 | loss: 0.0587  | mse_mse: 0.10271 |  0:05:38s\n",
      "epoch 11 | loss: 0.05232 | mse_mse: 0.05393 |  0:06:09s\n",
      "epoch 12 | loss: 0.04475 | mse_mse: 0.03413 |  0:06:40s\n",
      "epoch 13 | loss: 0.04816 | mse_mse: 0.04831 |  0:07:11s\n",
      "epoch 14 | loss: 0.04996 | mse_mse: 0.02459 |  0:07:42s\n",
      "epoch 15 | loss: 0.03859 | mse_mse: 0.0568  |  0:08:13s\n",
      "epoch 16 | loss: 0.03826 | mse_mse: 0.02588 |  0:08:44s\n",
      "epoch 17 | loss: 0.03197 | mse_mse: 0.04822 |  0:09:15s\n",
      "epoch 18 | loss: 0.03119 | mse_mse: 0.03436 |  0:09:46s\n",
      "epoch 19 | loss: 0.03503 | mse_mse: 0.02726 |  0:10:17s\n",
      "epoch 20 | loss: 0.03132 | mse_mse: 0.04066 |  0:10:48s\n",
      "epoch 21 | loss: 0.0292  | mse_mse: 0.04309 |  0:11:19s\n",
      "epoch 22 | loss: 0.0304  | mse_mse: 0.02192 |  0:11:50s\n",
      "epoch 23 | loss: 0.03046 | mse_mse: 0.03219 |  0:12:21s\n",
      "epoch 24 | loss: 0.02747 | mse_mse: 0.02917 |  0:12:52s\n",
      "epoch 25 | loss: 0.02649 | mse_mse: 0.04114 |  0:13:23s\n",
      "epoch 26 | loss: 0.03293 | mse_mse: 0.0241  |  0:13:54s\n",
      "epoch 27 | loss: 0.02691 | mse_mse: 0.0304  |  0:14:26s\n",
      "epoch 28 | loss: 0.02651 | mse_mse: 0.02012 |  0:14:57s\n",
      "epoch 29 | loss: 0.02804 | mse_mse: 0.04681 |  0:15:28s\n",
      "epoch 30 | loss: 0.02988 | mse_mse: 0.05362 |  0:15:59s\n",
      "epoch 31 | loss: 0.0272  | mse_mse: 0.02451 |  0:16:30s\n",
      "epoch 32 | loss: 0.02623 | mse_mse: 0.03849 |  0:17:01s\n",
      "epoch 33 | loss: 0.02301 | mse_mse: 0.0277  |  0:17:32s\n",
      "epoch 34 | loss: 0.02533 | mse_mse: 0.03398 |  0:18:03s\n",
      "epoch 35 | loss: 0.02409 | mse_mse: 0.05958 |  0:18:34s\n",
      "epoch 36 | loss: 0.02486 | mse_mse: 0.02721 |  0:19:05s\n",
      "epoch 37 | loss: 0.02352 | mse_mse: 0.02711 |  0:19:36s\n",
      "epoch 38 | loss: 0.02312 | mse_mse: 0.02975 |  0:20:08s\n",
      "\n",
      "Early stopping occurred at epoch 38 with best_epoch = 28 and best_mse_mse = 0.02012\n"
     ]
    },
    {
     "name": "stderr",
     "output_type": "stream",
     "text": [
      "/usr/local/lib/python3.9/site-packages/pytorch_tabnet/callbacks.py:172: UserWarning: Best weights from best epoch are automatically used!\n",
      "  warnings.warn(wrn_msg)\n"
     ]
    },
    {
     "name": "stdout",
     "output_type": "stream",
     "text": [
      "MSE: 0.017752952106205547\n",
      "R2 Score: 0.9199112872620613\n",
      "\n",
      "Iteration 72/162\n",
      "Configuration batch size: 16 - epochs: 200 - n_d: 8 - n_a: 32 - steps: 7 - n_indipendent: 5\n"
     ]
    },
    {
     "name": "stderr",
     "output_type": "stream",
     "text": [
      "/usr/local/lib/python3.9/site-packages/pytorch_tabnet/abstract_model.py:75: UserWarning: Device used : cpu\n",
      "  warnings.warn(f\"Device used : {self.device}\")\n"
     ]
    },
    {
     "name": "stdout",
     "output_type": "stream",
     "text": [
      "epoch 0  | loss: 1.10568 | mse_mse: 0.13516 |  0:00:28s\n",
      "epoch 1  | loss: 0.12185 | mse_mse: 0.19091 |  0:00:59s\n",
      "epoch 2  | loss: 0.10491 | mse_mse: 0.08484 |  0:01:30s\n",
      "epoch 3  | loss: 0.08407 | mse_mse: 0.05746 |  0:02:00s\n",
      "epoch 4  | loss: 0.08158 | mse_mse: 0.04959 |  0:02:31s\n",
      "epoch 5  | loss: 0.07843 | mse_mse: 0.0707  |  0:03:02s\n",
      "epoch 6  | loss: 0.0792  | mse_mse: 0.04931 |  0:03:32s\n",
      "epoch 7  | loss: 0.07671 | mse_mse: 0.05363 |  0:04:03s\n",
      "epoch 8  | loss: 0.06803 | mse_mse: 0.04495 |  0:04:34s\n",
      "epoch 9  | loss: 0.0625  | mse_mse: 0.07748 |  0:05:05s\n",
      "epoch 10 | loss: 0.0587  | mse_mse: 0.10271 |  0:05:36s\n",
      "epoch 11 | loss: 0.05232 | mse_mse: 0.05393 |  0:06:07s\n",
      "epoch 12 | loss: 0.04475 | mse_mse: 0.03413 |  0:06:38s\n",
      "epoch 13 | loss: 0.04816 | mse_mse: 0.04831 |  0:07:09s\n",
      "epoch 14 | loss: 0.04996 | mse_mse: 0.02459 |  0:07:40s\n",
      "epoch 15 | loss: 0.03859 | mse_mse: 0.0568  |  0:08:10s\n",
      "epoch 16 | loss: 0.03826 | mse_mse: 0.02588 |  0:08:42s\n",
      "epoch 17 | loss: 0.03197 | mse_mse: 0.04822 |  0:09:12s\n",
      "epoch 18 | loss: 0.03119 | mse_mse: 0.03436 |  0:09:43s\n",
      "epoch 19 | loss: 0.03503 | mse_mse: 0.02726 |  0:10:14s\n",
      "epoch 20 | loss: 0.03132 | mse_mse: 0.04066 |  0:10:45s\n",
      "epoch 21 | loss: 0.0292  | mse_mse: 0.04309 |  0:11:16s\n",
      "epoch 22 | loss: 0.0304  | mse_mse: 0.02192 |  0:11:47s\n",
      "epoch 23 | loss: 0.03046 | mse_mse: 0.03219 |  0:12:19s\n",
      "epoch 24 | loss: 0.02747 | mse_mse: 0.02917 |  0:12:50s\n",
      "epoch 25 | loss: 0.02649 | mse_mse: 0.04114 |  0:13:21s\n",
      "epoch 26 | loss: 0.03293 | mse_mse: 0.0241  |  0:13:52s\n",
      "epoch 27 | loss: 0.02691 | mse_mse: 0.0304  |  0:14:23s\n",
      "epoch 28 | loss: 0.02651 | mse_mse: 0.02012 |  0:14:54s\n",
      "epoch 29 | loss: 0.02804 | mse_mse: 0.04681 |  0:15:27s\n",
      "epoch 30 | loss: 0.02988 | mse_mse: 0.05362 |  0:15:58s\n",
      "epoch 31 | loss: 0.0272  | mse_mse: 0.02451 |  0:16:29s\n",
      "epoch 32 | loss: 0.02623 | mse_mse: 0.03849 |  0:17:00s\n",
      "epoch 33 | loss: 0.02301 | mse_mse: 0.0277  |  0:17:31s\n",
      "epoch 34 | loss: 0.02533 | mse_mse: 0.03398 |  0:18:02s\n",
      "epoch 35 | loss: 0.02409 | mse_mse: 0.05958 |  0:18:33s\n",
      "epoch 36 | loss: 0.02486 | mse_mse: 0.02721 |  0:19:05s\n",
      "epoch 37 | loss: 0.02352 | mse_mse: 0.02711 |  0:19:36s\n",
      "epoch 38 | loss: 0.02312 | mse_mse: 0.02975 |  0:20:07s\n",
      "\n",
      "Early stopping occurred at epoch 38 with best_epoch = 28 and best_mse_mse = 0.02012\n"
     ]
    },
    {
     "name": "stderr",
     "output_type": "stream",
     "text": [
      "/usr/local/lib/python3.9/site-packages/pytorch_tabnet/callbacks.py:172: UserWarning: Best weights from best epoch are automatically used!\n",
      "  warnings.warn(wrn_msg)\n"
     ]
    },
    {
     "name": "stdout",
     "output_type": "stream",
     "text": [
      "MSE: 0.017752952106205547\n",
      "R2 Score: 0.9199112872620613\n",
      "\n",
      "Iteration 73/162\n",
      "Configuration batch size: 16 - epochs: 200 - n_d: 16 - n_a: 8 - steps: 3 - n_indipendent: 3\n"
     ]
    },
    {
     "name": "stderr",
     "output_type": "stream",
     "text": [
      "/usr/local/lib/python3.9/site-packages/pytorch_tabnet/abstract_model.py:75: UserWarning: Device used : cpu\n",
      "  warnings.warn(f\"Device used : {self.device}\")\n"
     ]
    },
    {
     "name": "stdout",
     "output_type": "stream",
     "text": [
      "epoch 0  | loss: 0.30532 | mse_mse: 0.06111 |  0:00:12s\n",
      "epoch 1  | loss: 0.08319 | mse_mse: 0.03901 |  0:00:26s\n",
      "epoch 2  | loss: 0.06247 | mse_mse: 0.03552 |  0:00:39s\n",
      "epoch 3  | loss: 0.05487 | mse_mse: 0.02764 |  0:00:52s\n",
      "epoch 4  | loss: 0.04945 | mse_mse: 0.04912 |  0:01:06s\n",
      "epoch 5  | loss: 0.04503 | mse_mse: 0.01815 |  0:01:19s\n",
      "epoch 6  | loss: 0.04975 | mse_mse: 0.02538 |  0:01:32s\n",
      "epoch 7  | loss: 0.04071 | mse_mse: 0.05124 |  0:01:46s\n",
      "epoch 8  | loss: 0.04607 | mse_mse: 0.03539 |  0:01:59s\n",
      "epoch 9  | loss: 0.0409  | mse_mse: 0.04663 |  0:02:12s\n",
      "epoch 10 | loss: 0.04048 | mse_mse: 0.01994 |  0:02:26s\n",
      "epoch 11 | loss: 0.03555 | mse_mse: 0.04058 |  0:02:39s\n",
      "epoch 12 | loss: 0.03924 | mse_mse: 0.01723 |  0:02:53s\n",
      "epoch 13 | loss: 0.03326 | mse_mse: 0.01279 |  0:03:06s\n",
      "epoch 14 | loss: 0.03675 | mse_mse: 0.05974 |  0:03:19s\n",
      "epoch 15 | loss: 0.03477 | mse_mse: 0.05183 |  0:03:33s\n",
      "epoch 16 | loss: 0.03505 | mse_mse: 0.03493 |  0:03:46s\n",
      "epoch 17 | loss: 0.03398 | mse_mse: 0.03162 |  0:03:59s\n",
      "epoch 18 | loss: 0.03278 | mse_mse: 0.0242  |  0:04:13s\n",
      "epoch 19 | loss: 0.03065 | mse_mse: 0.02482 |  0:04:27s\n",
      "epoch 20 | loss: 0.03243 | mse_mse: 0.04252 |  0:04:40s\n",
      "epoch 21 | loss: 0.03539 | mse_mse: 0.07373 |  0:04:54s\n",
      "epoch 22 | loss: 0.02964 | mse_mse: 0.03055 |  0:05:07s\n",
      "epoch 23 | loss: 0.03176 | mse_mse: 0.03155 |  0:05:21s\n",
      "\n",
      "Early stopping occurred at epoch 23 with best_epoch = 13 and best_mse_mse = 0.01279\n"
     ]
    },
    {
     "name": "stderr",
     "output_type": "stream",
     "text": [
      "/usr/local/lib/python3.9/site-packages/pytorch_tabnet/callbacks.py:172: UserWarning: Best weights from best epoch are automatically used!\n",
      "  warnings.warn(wrn_msg)\n"
     ]
    },
    {
     "name": "stdout",
     "output_type": "stream",
     "text": [
      "MSE: 0.012739003453038475\n",
      "R2 Score: 0.9425306629559723\n",
      "\n",
      "Iteration 74/162\n",
      "Configuration batch size: 16 - epochs: 200 - n_d: 16 - n_a: 8 - steps: 3 - n_indipendent: 5\n"
     ]
    },
    {
     "name": "stderr",
     "output_type": "stream",
     "text": [
      "/usr/local/lib/python3.9/site-packages/pytorch_tabnet/abstract_model.py:75: UserWarning: Device used : cpu\n",
      "  warnings.warn(f\"Device used : {self.device}\")\n"
     ]
    },
    {
     "name": "stdout",
     "output_type": "stream",
     "text": [
      "epoch 0  | loss: 0.30532 | mse_mse: 0.06111 |  0:00:13s\n",
      "epoch 1  | loss: 0.08319 | mse_mse: 0.03901 |  0:00:26s\n",
      "epoch 2  | loss: 0.06247 | mse_mse: 0.03552 |  0:00:39s\n",
      "epoch 3  | loss: 0.05487 | mse_mse: 0.02764 |  0:00:53s\n",
      "epoch 4  | loss: 0.04945 | mse_mse: 0.04912 |  0:01:06s\n",
      "epoch 5  | loss: 0.04503 | mse_mse: 0.01815 |  0:01:19s\n",
      "epoch 6  | loss: 0.04975 | mse_mse: 0.02538 |  0:01:33s\n",
      "epoch 7  | loss: 0.04071 | mse_mse: 0.05124 |  0:01:46s\n",
      "epoch 8  | loss: 0.04607 | mse_mse: 0.03539 |  0:01:59s\n",
      "epoch 9  | loss: 0.0409  | mse_mse: 0.04663 |  0:02:13s\n",
      "epoch 10 | loss: 0.04048 | mse_mse: 0.01994 |  0:02:26s\n",
      "epoch 11 | loss: 0.03555 | mse_mse: 0.04058 |  0:02:40s\n",
      "epoch 12 | loss: 0.03924 | mse_mse: 0.01723 |  0:02:53s\n",
      "epoch 13 | loss: 0.03326 | mse_mse: 0.01279 |  0:03:06s\n",
      "epoch 14 | loss: 0.03675 | mse_mse: 0.05974 |  0:03:20s\n",
      "epoch 15 | loss: 0.03477 | mse_mse: 0.05183 |  0:03:33s\n",
      "epoch 16 | loss: 0.03505 | mse_mse: 0.03493 |  0:03:46s\n",
      "epoch 17 | loss: 0.03398 | mse_mse: 0.03162 |  0:04:00s\n",
      "epoch 18 | loss: 0.03278 | mse_mse: 0.0242  |  0:04:13s\n",
      "epoch 19 | loss: 0.03065 | mse_mse: 0.02482 |  0:04:26s\n",
      "epoch 20 | loss: 0.03243 | mse_mse: 0.04252 |  0:04:40s\n",
      "epoch 21 | loss: 0.03539 | mse_mse: 0.07373 |  0:04:53s\n",
      "epoch 22 | loss: 0.02964 | mse_mse: 0.03055 |  0:05:07s\n",
      "epoch 23 | loss: 0.03176 | mse_mse: 0.03155 |  0:05:20s\n",
      "\n",
      "Early stopping occurred at epoch 23 with best_epoch = 13 and best_mse_mse = 0.01279\n"
     ]
    },
    {
     "name": "stderr",
     "output_type": "stream",
     "text": [
      "/usr/local/lib/python3.9/site-packages/pytorch_tabnet/callbacks.py:172: UserWarning: Best weights from best epoch are automatically used!\n",
      "  warnings.warn(wrn_msg)\n"
     ]
    },
    {
     "name": "stdout",
     "output_type": "stream",
     "text": [
      "MSE: 0.012739003453038475\n",
      "R2 Score: 0.9425306629559723\n",
      "\n",
      "Iteration 75/162\n",
      "Configuration batch size: 16 - epochs: 200 - n_d: 16 - n_a: 8 - steps: 5 - n_indipendent: 3\n"
     ]
    },
    {
     "name": "stderr",
     "output_type": "stream",
     "text": [
      "/usr/local/lib/python3.9/site-packages/pytorch_tabnet/abstract_model.py:75: UserWarning: Device used : cpu\n",
      "  warnings.warn(f\"Device used : {self.device}\")\n"
     ]
    },
    {
     "name": "stdout",
     "output_type": "stream",
     "text": [
      "epoch 0  | loss: 0.68124 | mse_mse: 0.15305 |  0:00:20s\n",
      "epoch 1  | loss: 0.1636  | mse_mse: 0.14641 |  0:00:41s\n",
      "epoch 2  | loss: 0.13168 | mse_mse: 0.11166 |  0:01:02s\n",
      "epoch 3  | loss: 0.09931 | mse_mse: 0.1169  |  0:01:22s\n",
      "epoch 4  | loss: 0.06999 | mse_mse: 0.04238 |  0:01:43s\n",
      "epoch 5  | loss: 0.06066 | mse_mse: 0.09789 |  0:02:04s\n",
      "epoch 6  | loss: 0.05189 | mse_mse: 0.03687 |  0:02:25s\n",
      "epoch 7  | loss: 0.05022 | mse_mse: 0.02673 |  0:02:46s\n",
      "epoch 8  | loss: 0.0535  | mse_mse: 0.04688 |  0:03:07s\n",
      "epoch 9  | loss: 0.04186 | mse_mse: 0.04137 |  0:03:28s\n",
      "epoch 10 | loss: 0.04404 | mse_mse: 0.16318 |  0:03:49s\n",
      "epoch 11 | loss: 0.0449  | mse_mse: 0.02275 |  0:04:10s\n",
      "epoch 12 | loss: 0.04413 | mse_mse: 0.09738 |  0:04:31s\n",
      "epoch 13 | loss: 0.03921 | mse_mse: 0.0733  |  0:04:52s\n",
      "epoch 14 | loss: 0.03804 | mse_mse: 0.07174 |  0:05:13s\n",
      "epoch 15 | loss: 0.03555 | mse_mse: 0.05084 |  0:05:33s\n",
      "epoch 16 | loss: 0.03515 | mse_mse: 0.10255 |  0:05:55s\n",
      "epoch 17 | loss: 0.03916 | mse_mse: 0.05072 |  0:06:16s\n",
      "epoch 18 | loss: 0.03606 | mse_mse: 0.03943 |  0:06:37s\n",
      "epoch 19 | loss: 0.0358  | mse_mse: 0.05659 |  0:06:58s\n",
      "epoch 20 | loss: 0.03514 | mse_mse: 0.04663 |  0:07:19s\n",
      "epoch 21 | loss: 0.03727 | mse_mse: 0.02802 |  0:07:39s\n",
      "\n",
      "Early stopping occurred at epoch 21 with best_epoch = 11 and best_mse_mse = 0.02275\n"
     ]
    },
    {
     "name": "stderr",
     "output_type": "stream",
     "text": [
      "/usr/local/lib/python3.9/site-packages/pytorch_tabnet/callbacks.py:172: UserWarning: Best weights from best epoch are automatically used!\n",
      "  warnings.warn(wrn_msg)\n"
     ]
    },
    {
     "name": "stdout",
     "output_type": "stream",
     "text": [
      "MSE: 0.027202661175254116\n",
      "R2 Score: 0.877280910603546\n",
      "\n",
      "Iteration 76/162\n",
      "Configuration batch size: 16 - epochs: 200 - n_d: 16 - n_a: 8 - steps: 5 - n_indipendent: 5\n"
     ]
    },
    {
     "name": "stderr",
     "output_type": "stream",
     "text": [
      "/usr/local/lib/python3.9/site-packages/pytorch_tabnet/abstract_model.py:75: UserWarning: Device used : cpu\n",
      "  warnings.warn(f\"Device used : {self.device}\")\n"
     ]
    },
    {
     "name": "stdout",
     "output_type": "stream",
     "text": [
      "epoch 0  | loss: 0.68124 | mse_mse: 0.15305 |  0:00:20s\n",
      "epoch 1  | loss: 0.1636  | mse_mse: 0.14641 |  0:00:40s\n",
      "epoch 2  | loss: 0.13168 | mse_mse: 0.11166 |  0:01:01s\n",
      "epoch 3  | loss: 0.09931 | mse_mse: 0.1169  |  0:01:22s\n",
      "epoch 4  | loss: 0.06999 | mse_mse: 0.04238 |  0:01:43s\n",
      "epoch 5  | loss: 0.06066 | mse_mse: 0.09789 |  0:02:04s\n",
      "epoch 6  | loss: 0.05189 | mse_mse: 0.03687 |  0:02:25s\n",
      "epoch 7  | loss: 0.05022 | mse_mse: 0.02673 |  0:02:46s\n",
      "epoch 8  | loss: 0.0535  | mse_mse: 0.04688 |  0:03:07s\n",
      "epoch 9  | loss: 0.04186 | mse_mse: 0.04137 |  0:03:28s\n",
      "epoch 10 | loss: 0.04404 | mse_mse: 0.16318 |  0:03:49s\n",
      "epoch 11 | loss: 0.0449  | mse_mse: 0.02275 |  0:04:09s\n",
      "epoch 12 | loss: 0.04413 | mse_mse: 0.09738 |  0:04:30s\n",
      "epoch 13 | loss: 0.03921 | mse_mse: 0.0733  |  0:04:51s\n",
      "epoch 14 | loss: 0.03804 | mse_mse: 0.07174 |  0:05:12s\n",
      "epoch 15 | loss: 0.03555 | mse_mse: 0.05084 |  0:05:33s\n",
      "epoch 16 | loss: 0.03515 | mse_mse: 0.10255 |  0:05:54s\n",
      "epoch 17 | loss: 0.03916 | mse_mse: 0.05072 |  0:06:15s\n",
      "epoch 18 | loss: 0.03606 | mse_mse: 0.03943 |  0:06:36s\n",
      "epoch 19 | loss: 0.0358  | mse_mse: 0.05659 |  0:06:57s\n",
      "epoch 20 | loss: 0.03514 | mse_mse: 0.04663 |  0:07:18s\n",
      "epoch 21 | loss: 0.03727 | mse_mse: 0.02802 |  0:07:38s\n",
      "\n",
      "Early stopping occurred at epoch 21 with best_epoch = 11 and best_mse_mse = 0.02275\n"
     ]
    },
    {
     "name": "stderr",
     "output_type": "stream",
     "text": [
      "/usr/local/lib/python3.9/site-packages/pytorch_tabnet/callbacks.py:172: UserWarning: Best weights from best epoch are automatically used!\n",
      "  warnings.warn(wrn_msg)\n"
     ]
    },
    {
     "name": "stdout",
     "output_type": "stream",
     "text": [
      "MSE: 0.027202661175254116\n",
      "R2 Score: 0.877280910603546\n",
      "\n",
      "Iteration 77/162\n",
      "Configuration batch size: 16 - epochs: 200 - n_d: 16 - n_a: 8 - steps: 7 - n_indipendent: 3\n"
     ]
    },
    {
     "name": "stderr",
     "output_type": "stream",
     "text": [
      "/usr/local/lib/python3.9/site-packages/pytorch_tabnet/abstract_model.py:75: UserWarning: Device used : cpu\n",
      "  warnings.warn(f\"Device used : {self.device}\")\n"
     ]
    },
    {
     "name": "stdout",
     "output_type": "stream",
     "text": [
      "epoch 0  | loss: 0.81597 | mse_mse: 0.17429 |  0:00:27s\n",
      "epoch 1  | loss: 0.14503 | mse_mse: 0.12751 |  0:00:56s\n",
      "epoch 2  | loss: 0.11241 | mse_mse: 0.29391 |  0:01:24s\n",
      "epoch 3  | loss: 0.10337 | mse_mse: 0.11751 |  0:01:53s\n",
      "epoch 4  | loss: 0.07002 | mse_mse: 0.04874 |  0:02:22s\n",
      "epoch 5  | loss: 0.05676 | mse_mse: 0.043   |  0:02:50s\n",
      "epoch 6  | loss: 0.05399 | mse_mse: 0.03391 |  0:03:19s\n",
      "epoch 7  | loss: 0.04862 | mse_mse: 0.02839 |  0:03:47s\n",
      "epoch 8  | loss: 0.0442  | mse_mse: 0.04989 |  0:04:16s\n",
      "epoch 9  | loss: 0.04423 | mse_mse: 0.03013 |  0:04:44s\n",
      "epoch 10 | loss: 0.04579 | mse_mse: 0.0321  |  0:05:12s\n",
      "epoch 11 | loss: 0.04705 | mse_mse: 0.0261  |  0:05:41s\n",
      "epoch 12 | loss: 0.04278 | mse_mse: 0.03817 |  0:06:09s\n",
      "epoch 13 | loss: 0.04269 | mse_mse: 0.14248 |  0:06:38s\n",
      "epoch 14 | loss: 0.03859 | mse_mse: 0.06772 |  0:07:06s\n",
      "epoch 15 | loss: 0.03886 | mse_mse: 0.01747 |  0:07:35s\n",
      "epoch 16 | loss: 0.03831 | mse_mse: 0.01674 |  0:08:04s\n",
      "epoch 17 | loss: 0.0364  | mse_mse: 0.06718 |  0:08:32s\n",
      "epoch 18 | loss: 0.0341  | mse_mse: 0.02299 |  0:09:01s\n",
      "epoch 19 | loss: 0.03185 | mse_mse: 0.04097 |  0:09:30s\n",
      "epoch 20 | loss: 0.03444 | mse_mse: 0.07308 |  0:09:58s\n",
      "epoch 21 | loss: 0.03194 | mse_mse: 0.08016 |  0:10:27s\n",
      "epoch 22 | loss: 0.02851 | mse_mse: 0.03746 |  0:10:55s\n",
      "epoch 23 | loss: 0.03234 | mse_mse: 0.12703 |  0:11:25s\n",
      "epoch 24 | loss: 0.03357 | mse_mse: 0.05301 |  0:11:53s\n",
      "epoch 25 | loss: 0.02866 | mse_mse: 0.07024 |  0:12:22s\n",
      "epoch 26 | loss: 0.03118 | mse_mse: 0.09863 |  0:12:50s\n",
      "\n",
      "Early stopping occurred at epoch 26 with best_epoch = 16 and best_mse_mse = 0.01674\n"
     ]
    },
    {
     "name": "stderr",
     "output_type": "stream",
     "text": [
      "/usr/local/lib/python3.9/site-packages/pytorch_tabnet/callbacks.py:172: UserWarning: Best weights from best epoch are automatically used!\n",
      "  warnings.warn(wrn_msg)\n"
     ]
    },
    {
     "name": "stdout",
     "output_type": "stream",
     "text": [
      "MSE: 0.017968930503045023\n",
      "R2 Score: 0.9189369461114404\n",
      "\n",
      "Iteration 78/162\n",
      "Configuration batch size: 16 - epochs: 200 - n_d: 16 - n_a: 8 - steps: 7 - n_indipendent: 5\n"
     ]
    },
    {
     "name": "stderr",
     "output_type": "stream",
     "text": [
      "/usr/local/lib/python3.9/site-packages/pytorch_tabnet/abstract_model.py:75: UserWarning: Device used : cpu\n",
      "  warnings.warn(f\"Device used : {self.device}\")\n"
     ]
    },
    {
     "name": "stdout",
     "output_type": "stream",
     "text": [
      "epoch 0  | loss: 0.81597 | mse_mse: 0.17429 |  0:00:27s\n",
      "epoch 1  | loss: 0.14503 | mse_mse: 0.12751 |  0:00:55s\n",
      "epoch 2  | loss: 0.11241 | mse_mse: 0.29391 |  0:01:24s\n",
      "epoch 3  | loss: 0.10337 | mse_mse: 0.11751 |  0:01:52s\n",
      "epoch 4  | loss: 0.07002 | mse_mse: 0.04874 |  0:02:20s\n",
      "epoch 5  | loss: 0.05676 | mse_mse: 0.043   |  0:02:49s\n",
      "epoch 6  | loss: 0.05399 | mse_mse: 0.03391 |  0:03:17s\n",
      "epoch 7  | loss: 0.04862 | mse_mse: 0.02839 |  0:03:46s\n",
      "epoch 8  | loss: 0.0442  | mse_mse: 0.04989 |  0:04:14s\n",
      "epoch 9  | loss: 0.04423 | mse_mse: 0.03013 |  0:04:43s\n",
      "epoch 10 | loss: 0.04579 | mse_mse: 0.0321  |  0:05:11s\n",
      "epoch 11 | loss: 0.04705 | mse_mse: 0.0261  |  0:05:39s\n",
      "epoch 12 | loss: 0.04278 | mse_mse: 0.03817 |  0:06:07s\n",
      "epoch 13 | loss: 0.04269 | mse_mse: 0.14248 |  0:06:36s\n",
      "epoch 14 | loss: 0.03859 | mse_mse: 0.06772 |  0:07:04s\n",
      "epoch 15 | loss: 0.03886 | mse_mse: 0.01747 |  0:07:32s\n",
      "epoch 16 | loss: 0.03831 | mse_mse: 0.01674 |  0:08:01s\n",
      "epoch 17 | loss: 0.0364  | mse_mse: 0.06718 |  0:08:29s\n",
      "epoch 18 | loss: 0.0341  | mse_mse: 0.02299 |  0:08:58s\n",
      "epoch 19 | loss: 0.03185 | mse_mse: 0.04097 |  0:09:27s\n",
      "epoch 20 | loss: 0.03444 | mse_mse: 0.07308 |  0:09:55s\n",
      "epoch 21 | loss: 0.03194 | mse_mse: 0.08016 |  0:10:24s\n",
      "epoch 22 | loss: 0.02851 | mse_mse: 0.03746 |  0:10:53s\n",
      "epoch 23 | loss: 0.03234 | mse_mse: 0.12703 |  0:11:21s\n",
      "epoch 24 | loss: 0.03357 | mse_mse: 0.05301 |  0:11:50s\n",
      "epoch 25 | loss: 0.02866 | mse_mse: 0.07024 |  0:12:19s\n",
      "epoch 26 | loss: 0.03118 | mse_mse: 0.09863 |  0:12:47s\n",
      "\n",
      "Early stopping occurred at epoch 26 with best_epoch = 16 and best_mse_mse = 0.01674\n"
     ]
    },
    {
     "name": "stderr",
     "output_type": "stream",
     "text": [
      "/usr/local/lib/python3.9/site-packages/pytorch_tabnet/callbacks.py:172: UserWarning: Best weights from best epoch are automatically used!\n",
      "  warnings.warn(wrn_msg)\n"
     ]
    },
    {
     "name": "stdout",
     "output_type": "stream",
     "text": [
      "MSE: 0.017968930503045023\n",
      "R2 Score: 0.9189369461114404\n",
      "\n",
      "Iteration 79/162\n",
      "Configuration batch size: 16 - epochs: 200 - n_d: 16 - n_a: 16 - steps: 3 - n_indipendent: 3\n"
     ]
    },
    {
     "name": "stderr",
     "output_type": "stream",
     "text": [
      "/usr/local/lib/python3.9/site-packages/pytorch_tabnet/abstract_model.py:75: UserWarning: Device used : cpu\n",
      "  warnings.warn(f\"Device used : {self.device}\")\n"
     ]
    },
    {
     "name": "stdout",
     "output_type": "stream",
     "text": [
      "epoch 0  | loss: 0.36895 | mse_mse: 0.07541 |  0:00:12s\n",
      "epoch 1  | loss: 0.09939 | mse_mse: 0.06157 |  0:00:26s\n",
      "epoch 2  | loss: 0.07236 | mse_mse: 0.04066 |  0:00:39s\n",
      "epoch 3  | loss: 0.05811 | mse_mse: 0.05768 |  0:00:53s\n",
      "epoch 4  | loss: 0.05313 | mse_mse: 0.07088 |  0:01:06s\n",
      "epoch 5  | loss: 0.05107 | mse_mse: 0.02794 |  0:01:20s\n",
      "epoch 6  | loss: 0.04295 | mse_mse: 0.06154 |  0:01:34s\n",
      "epoch 7  | loss: 0.04181 | mse_mse: 0.02905 |  0:01:47s\n",
      "epoch 8  | loss: 0.0383  | mse_mse: 0.01498 |  0:02:01s\n",
      "epoch 9  | loss: 0.03375 | mse_mse: 0.06669 |  0:02:14s\n",
      "epoch 10 | loss: 0.03809 | mse_mse: 0.02315 |  0:02:28s\n",
      "epoch 11 | loss: 0.03443 | mse_mse: 0.04376 |  0:02:42s\n",
      "epoch 12 | loss: 0.0326  | mse_mse: 0.03946 |  0:02:55s\n",
      "epoch 13 | loss: 0.03267 | mse_mse: 0.02247 |  0:03:09s\n",
      "epoch 14 | loss: 0.03233 | mse_mse: 0.02754 |  0:03:23s\n",
      "epoch 15 | loss: 0.03661 | mse_mse: 0.04256 |  0:03:36s\n",
      "epoch 16 | loss: 0.03099 | mse_mse: 0.02075 |  0:03:50s\n",
      "epoch 17 | loss: 0.03273 | mse_mse: 0.02704 |  0:04:04s\n",
      "epoch 18 | loss: 0.02957 | mse_mse: 0.02383 |  0:04:17s\n",
      "\n",
      "Early stopping occurred at epoch 18 with best_epoch = 8 and best_mse_mse = 0.01498\n"
     ]
    },
    {
     "name": "stderr",
     "output_type": "stream",
     "text": [
      "/usr/local/lib/python3.9/site-packages/pytorch_tabnet/callbacks.py:172: UserWarning: Best weights from best epoch are automatically used!\n",
      "  warnings.warn(wrn_msg)\n"
     ]
    },
    {
     "name": "stdout",
     "output_type": "stream",
     "text": [
      "MSE: 0.01409254648628736\n",
      "R2 Score: 0.9364244380013961\n",
      "\n",
      "Iteration 80/162\n",
      "Configuration batch size: 16 - epochs: 200 - n_d: 16 - n_a: 16 - steps: 3 - n_indipendent: 5\n"
     ]
    },
    {
     "name": "stderr",
     "output_type": "stream",
     "text": [
      "/usr/local/lib/python3.9/site-packages/pytorch_tabnet/abstract_model.py:75: UserWarning: Device used : cpu\n",
      "  warnings.warn(f\"Device used : {self.device}\")\n"
     ]
    },
    {
     "name": "stdout",
     "output_type": "stream",
     "text": [
      "epoch 0  | loss: 0.36895 | mse_mse: 0.07541 |  0:00:13s\n",
      "epoch 1  | loss: 0.09939 | mse_mse: 0.06157 |  0:00:26s\n",
      "epoch 2  | loss: 0.07236 | mse_mse: 0.04066 |  0:00:40s\n",
      "epoch 3  | loss: 0.05811 | mse_mse: 0.05768 |  0:00:54s\n",
      "epoch 4  | loss: 0.05313 | mse_mse: 0.07088 |  0:01:07s\n",
      "epoch 5  | loss: 0.05107 | mse_mse: 0.02794 |  0:01:21s\n",
      "epoch 6  | loss: 0.04295 | mse_mse: 0.06154 |  0:01:35s\n",
      "epoch 7  | loss: 0.04181 | mse_mse: 0.02905 |  0:01:48s\n",
      "epoch 8  | loss: 0.0383  | mse_mse: 0.01498 |  0:02:02s\n",
      "epoch 9  | loss: 0.03375 | mse_mse: 0.06669 |  0:02:16s\n",
      "epoch 10 | loss: 0.03809 | mse_mse: 0.02315 |  0:02:29s\n",
      "epoch 11 | loss: 0.03443 | mse_mse: 0.04376 |  0:02:43s\n",
      "epoch 12 | loss: 0.0326  | mse_mse: 0.03946 |  0:02:57s\n",
      "epoch 13 | loss: 0.03267 | mse_mse: 0.02247 |  0:03:10s\n",
      "epoch 14 | loss: 0.03233 | mse_mse: 0.02754 |  0:03:24s\n",
      "epoch 15 | loss: 0.03661 | mse_mse: 0.04256 |  0:03:38s\n",
      "epoch 16 | loss: 0.03099 | mse_mse: 0.02075 |  0:03:51s\n",
      "epoch 17 | loss: 0.03273 | mse_mse: 0.02704 |  0:04:05s\n",
      "epoch 18 | loss: 0.02957 | mse_mse: 0.02383 |  0:04:19s\n",
      "\n",
      "Early stopping occurred at epoch 18 with best_epoch = 8 and best_mse_mse = 0.01498\n"
     ]
    },
    {
     "name": "stderr",
     "output_type": "stream",
     "text": [
      "/usr/local/lib/python3.9/site-packages/pytorch_tabnet/callbacks.py:172: UserWarning: Best weights from best epoch are automatically used!\n",
      "  warnings.warn(wrn_msg)\n"
     ]
    },
    {
     "name": "stdout",
     "output_type": "stream",
     "text": [
      "MSE: 0.01409254648628736\n",
      "R2 Score: 0.9364244380013961\n",
      "\n",
      "Iteration 81/162\n",
      "Configuration batch size: 16 - epochs: 200 - n_d: 16 - n_a: 16 - steps: 5 - n_indipendent: 3\n"
     ]
    },
    {
     "name": "stderr",
     "output_type": "stream",
     "text": [
      "/usr/local/lib/python3.9/site-packages/pytorch_tabnet/abstract_model.py:75: UserWarning: Device used : cpu\n",
      "  warnings.warn(f\"Device used : {self.device}\")\n"
     ]
    },
    {
     "name": "stdout",
     "output_type": "stream",
     "text": [
      "epoch 0  | loss: 0.35907 | mse_mse: 0.10461 |  0:00:20s\n",
      "epoch 1  | loss: 0.12218 | mse_mse: 0.08325 |  0:00:41s\n",
      "epoch 2  | loss: 0.09886 | mse_mse: 0.05856 |  0:01:02s\n",
      "epoch 3  | loss: 0.08059 | mse_mse: 0.06796 |  0:01:23s\n",
      "epoch 4  | loss: 0.0829  | mse_mse: 0.06843 |  0:01:45s\n",
      "epoch 5  | loss: 0.0776  | mse_mse: 0.0433  |  0:02:06s\n",
      "epoch 6  | loss: 0.06482 | mse_mse: 0.06845 |  0:02:27s\n",
      "epoch 7  | loss: 0.0687  | mse_mse: 0.03084 |  0:02:48s\n",
      "epoch 8  | loss: 0.05693 | mse_mse: 0.02702 |  0:03:10s\n",
      "epoch 9  | loss: 0.04256 | mse_mse: 0.03005 |  0:03:31s\n",
      "epoch 10 | loss: 0.0405  | mse_mse: 0.02035 |  0:03:53s\n",
      "epoch 11 | loss: 0.04304 | mse_mse: 0.03056 |  0:04:14s\n",
      "epoch 12 | loss: 0.04467 | mse_mse: 0.04294 |  0:04:36s\n",
      "epoch 13 | loss: 0.04053 | mse_mse: 0.0326  |  0:04:57s\n",
      "epoch 14 | loss: 0.04022 | mse_mse: 0.04505 |  0:05:19s\n",
      "epoch 15 | loss: 0.04034 | mse_mse: 0.02345 |  0:05:40s\n",
      "epoch 16 | loss: 0.03559 | mse_mse: 0.02118 |  0:06:01s\n",
      "epoch 17 | loss: 0.03661 | mse_mse: 0.0324  |  0:06:23s\n",
      "epoch 18 | loss: 0.04089 | mse_mse: 0.02163 |  0:06:44s\n",
      "epoch 19 | loss: 0.03626 | mse_mse: 0.04578 |  0:07:06s\n",
      "epoch 20 | loss: 0.03572 | mse_mse: 0.07161 |  0:07:27s\n",
      "\n",
      "Early stopping occurred at epoch 20 with best_epoch = 10 and best_mse_mse = 0.02035\n"
     ]
    },
    {
     "name": "stderr",
     "output_type": "stream",
     "text": [
      "/usr/local/lib/python3.9/site-packages/pytorch_tabnet/callbacks.py:172: UserWarning: Best weights from best epoch are automatically used!\n",
      "  warnings.warn(wrn_msg)\n"
     ]
    },
    {
     "name": "stdout",
     "output_type": "stream",
     "text": [
      "MSE: 0.020035216363103184\n",
      "R2 Score: 0.9096153316728582\n",
      "\n",
      "Iteration 82/162\n",
      "Configuration batch size: 16 - epochs: 200 - n_d: 16 - n_a: 16 - steps: 5 - n_indipendent: 5\n"
     ]
    },
    {
     "name": "stderr",
     "output_type": "stream",
     "text": [
      "/usr/local/lib/python3.9/site-packages/pytorch_tabnet/abstract_model.py:75: UserWarning: Device used : cpu\n",
      "  warnings.warn(f\"Device used : {self.device}\")\n"
     ]
    },
    {
     "name": "stdout",
     "output_type": "stream",
     "text": [
      "epoch 0  | loss: 0.35907 | mse_mse: 0.10461 |  0:00:19s\n",
      "epoch 1  | loss: 0.12218 | mse_mse: 0.08325 |  0:00:41s\n",
      "epoch 2  | loss: 0.09886 | mse_mse: 0.05856 |  0:01:02s\n",
      "epoch 3  | loss: 0.08059 | mse_mse: 0.06796 |  0:01:24s\n",
      "epoch 4  | loss: 0.0829  | mse_mse: 0.06843 |  0:01:45s\n",
      "epoch 5  | loss: 0.0776  | mse_mse: 0.0433  |  0:02:06s\n",
      "epoch 6  | loss: 0.06482 | mse_mse: 0.06845 |  0:02:28s\n",
      "epoch 7  | loss: 0.0687  | mse_mse: 0.03084 |  0:02:49s\n",
      "epoch 8  | loss: 0.05693 | mse_mse: 0.02702 |  0:03:10s\n",
      "epoch 9  | loss: 0.04256 | mse_mse: 0.03005 |  0:03:31s\n",
      "epoch 10 | loss: 0.0405  | mse_mse: 0.02035 |  0:03:53s\n",
      "epoch 11 | loss: 0.04304 | mse_mse: 0.03056 |  0:04:14s\n",
      "epoch 12 | loss: 0.04467 | mse_mse: 0.04294 |  0:04:35s\n",
      "epoch 13 | loss: 0.04053 | mse_mse: 0.0326  |  0:04:57s\n",
      "epoch 14 | loss: 0.04022 | mse_mse: 0.04505 |  0:05:18s\n",
      "epoch 15 | loss: 0.04034 | mse_mse: 0.02345 |  0:05:40s\n",
      "epoch 16 | loss: 0.03559 | mse_mse: 0.02118 |  0:06:01s\n",
      "epoch 17 | loss: 0.03661 | mse_mse: 0.0324  |  0:06:22s\n",
      "epoch 18 | loss: 0.04089 | mse_mse: 0.02163 |  0:06:44s\n",
      "epoch 19 | loss: 0.03626 | mse_mse: 0.04578 |  0:07:05s\n",
      "epoch 20 | loss: 0.03572 | mse_mse: 0.07161 |  0:07:26s\n",
      "\n",
      "Early stopping occurred at epoch 20 with best_epoch = 10 and best_mse_mse = 0.02035\n"
     ]
    },
    {
     "name": "stderr",
     "output_type": "stream",
     "text": [
      "/usr/local/lib/python3.9/site-packages/pytorch_tabnet/callbacks.py:172: UserWarning: Best weights from best epoch are automatically used!\n",
      "  warnings.warn(wrn_msg)\n"
     ]
    },
    {
     "name": "stdout",
     "output_type": "stream",
     "text": [
      "MSE: 0.020035216363103184\n",
      "R2 Score: 0.9096153316728582\n",
      "\n",
      "Iteration 83/162\n",
      "Configuration batch size: 16 - epochs: 200 - n_d: 16 - n_a: 16 - steps: 7 - n_indipendent: 3\n"
     ]
    },
    {
     "name": "stderr",
     "output_type": "stream",
     "text": [
      "/usr/local/lib/python3.9/site-packages/pytorch_tabnet/abstract_model.py:75: UserWarning: Device used : cpu\n",
      "  warnings.warn(f\"Device used : {self.device}\")\n"
     ]
    },
    {
     "name": "stdout",
     "output_type": "stream",
     "text": [
      "epoch 0  | loss: 0.57803 | mse_mse: 0.13386 |  0:00:27s\n",
      "epoch 1  | loss: 0.14475 | mse_mse: 0.07557 |  0:00:56s\n",
      "epoch 2  | loss: 0.09355 | mse_mse: 0.04284 |  0:01:24s\n",
      "epoch 3  | loss: 0.08536 | mse_mse: 0.0426  |  0:01:53s\n",
      "epoch 4  | loss: 0.07983 | mse_mse: 0.03631 |  0:02:22s\n",
      "epoch 5  | loss: 0.0575  | mse_mse: 0.01877 |  0:02:50s\n",
      "epoch 6  | loss: 0.05051 | mse_mse: 0.02653 |  0:03:19s\n",
      "epoch 7  | loss: 0.04994 | mse_mse: 0.03945 |  0:03:48s\n",
      "epoch 8  | loss: 0.04736 | mse_mse: 0.04306 |  0:04:17s\n",
      "epoch 9  | loss: 0.04206 | mse_mse: 0.0382  |  0:04:46s\n",
      "epoch 10 | loss: 0.04168 | mse_mse: 0.03959 |  0:05:15s\n",
      "epoch 11 | loss: 0.04268 | mse_mse: 0.06414 |  0:05:44s\n",
      "epoch 12 | loss: 0.04261 | mse_mse: 0.03627 |  0:06:13s\n",
      "epoch 13 | loss: 0.03993 | mse_mse: 0.04888 |  0:06:43s\n",
      "epoch 14 | loss: 0.03859 | mse_mse: 0.04465 |  0:07:12s\n",
      "epoch 15 | loss: 0.03956 | mse_mse: 0.09214 |  0:07:41s\n",
      "\n",
      "Early stopping occurred at epoch 15 with best_epoch = 5 and best_mse_mse = 0.01877\n"
     ]
    },
    {
     "name": "stderr",
     "output_type": "stream",
     "text": [
      "/usr/local/lib/python3.9/site-packages/pytorch_tabnet/callbacks.py:172: UserWarning: Best weights from best epoch are automatically used!\n",
      "  warnings.warn(wrn_msg)\n"
     ]
    },
    {
     "name": "stdout",
     "output_type": "stream",
     "text": [
      "MSE: 0.023946139454126353\n",
      "R2 Score: 0.8919720240075579\n",
      "\n",
      "Iteration 84/162\n",
      "Configuration batch size: 16 - epochs: 200 - n_d: 16 - n_a: 16 - steps: 7 - n_indipendent: 5\n"
     ]
    },
    {
     "name": "stderr",
     "output_type": "stream",
     "text": [
      "/usr/local/lib/python3.9/site-packages/pytorch_tabnet/abstract_model.py:75: UserWarning: Device used : cpu\n",
      "  warnings.warn(f\"Device used : {self.device}\")\n"
     ]
    },
    {
     "name": "stdout",
     "output_type": "stream",
     "text": [
      "epoch 0  | loss: 0.57803 | mse_mse: 0.13386 |  0:00:28s\n",
      "epoch 1  | loss: 0.14475 | mse_mse: 0.07557 |  0:00:56s\n",
      "epoch 2  | loss: 0.09355 | mse_mse: 0.04284 |  0:01:25s\n",
      "epoch 3  | loss: 0.08536 | mse_mse: 0.0426  |  0:01:55s\n",
      "epoch 4  | loss: 0.07983 | mse_mse: 0.03631 |  0:02:23s\n",
      "epoch 5  | loss: 0.0575  | mse_mse: 0.01877 |  0:02:52s\n",
      "epoch 6  | loss: 0.05051 | mse_mse: 0.02653 |  0:03:21s\n",
      "epoch 7  | loss: 0.04994 | mse_mse: 0.03945 |  0:03:51s\n",
      "epoch 8  | loss: 0.04736 | mse_mse: 0.04306 |  0:04:19s\n",
      "epoch 9  | loss: 0.04206 | mse_mse: 0.0382  |  0:04:49s\n",
      "epoch 10 | loss: 0.04168 | mse_mse: 0.03959 |  0:05:18s\n",
      "epoch 11 | loss: 0.04268 | mse_mse: 0.06414 |  0:05:47s\n",
      "epoch 12 | loss: 0.04261 | mse_mse: 0.03627 |  0:06:16s\n",
      "epoch 13 | loss: 0.03993 | mse_mse: 0.04888 |  0:06:45s\n",
      "epoch 14 | loss: 0.03859 | mse_mse: 0.04465 |  0:07:14s\n",
      "epoch 15 | loss: 0.03956 | mse_mse: 0.09214 |  0:07:43s\n",
      "\n",
      "Early stopping occurred at epoch 15 with best_epoch = 5 and best_mse_mse = 0.01877\n"
     ]
    },
    {
     "name": "stderr",
     "output_type": "stream",
     "text": [
      "/usr/local/lib/python3.9/site-packages/pytorch_tabnet/callbacks.py:172: UserWarning: Best weights from best epoch are automatically used!\n",
      "  warnings.warn(wrn_msg)\n"
     ]
    },
    {
     "name": "stdout",
     "output_type": "stream",
     "text": [
      "MSE: 0.023946139454126353\n",
      "R2 Score: 0.8919720240075579\n",
      "\n",
      "Iteration 85/162\n",
      "Configuration batch size: 16 - epochs: 200 - n_d: 16 - n_a: 32 - steps: 3 - n_indipendent: 3\n"
     ]
    },
    {
     "name": "stderr",
     "output_type": "stream",
     "text": [
      "/usr/local/lib/python3.9/site-packages/pytorch_tabnet/abstract_model.py:75: UserWarning: Device used : cpu\n",
      "  warnings.warn(f\"Device used : {self.device}\")\n"
     ]
    },
    {
     "name": "stdout",
     "output_type": "stream",
     "text": [
      "epoch 0  | loss: 0.35201 | mse_mse: 0.07824 |  0:00:13s\n",
      "epoch 1  | loss: 0.08505 | mse_mse: 0.05097 |  0:00:27s\n",
      "epoch 2  | loss: 0.06642 | mse_mse: 0.05066 |  0:00:42s\n",
      "epoch 3  | loss: 0.05627 | mse_mse: 0.03076 |  0:00:57s\n",
      "epoch 4  | loss: 0.04927 | mse_mse: 0.03156 |  0:01:11s\n",
      "epoch 5  | loss: 0.04691 | mse_mse: 0.03695 |  0:01:26s\n",
      "epoch 6  | loss: 0.04349 | mse_mse: 0.03616 |  0:01:40s\n",
      "epoch 7  | loss: 0.04125 | mse_mse: 0.08065 |  0:01:55s\n",
      "epoch 8  | loss: 0.04148 | mse_mse: 0.02602 |  0:02:09s\n",
      "epoch 9  | loss: 0.03894 | mse_mse: 0.0211  |  0:02:24s\n",
      "epoch 10 | loss: 0.03921 | mse_mse: 0.01688 |  0:02:38s\n",
      "epoch 11 | loss: 0.03868 | mse_mse: 0.02086 |  0:02:53s\n",
      "epoch 12 | loss: 0.03809 | mse_mse: 0.01902 |  0:03:08s\n",
      "epoch 13 | loss: 0.0329  | mse_mse: 0.03981 |  0:03:22s\n",
      "epoch 14 | loss: 0.03089 | mse_mse: 0.07634 |  0:03:37s\n",
      "epoch 15 | loss: 0.03273 | mse_mse: 0.08621 |  0:03:51s\n",
      "epoch 16 | loss: 0.03345 | mse_mse: 0.02064 |  0:04:06s\n",
      "epoch 17 | loss: 0.03285 | mse_mse: 0.03255 |  0:04:21s\n",
      "epoch 18 | loss: 0.03315 | mse_mse: 0.06139 |  0:04:35s\n",
      "epoch 19 | loss: 0.0337  | mse_mse: 0.01532 |  0:04:50s\n",
      "epoch 20 | loss: 0.03317 | mse_mse: 0.03134 |  0:05:05s\n",
      "epoch 21 | loss: 0.03052 | mse_mse: 0.02009 |  0:05:19s\n",
      "epoch 22 | loss: 0.02928 | mse_mse: 0.03966 |  0:05:34s\n",
      "epoch 23 | loss: 0.03231 | mse_mse: 0.04275 |  0:05:49s\n",
      "epoch 24 | loss: 0.02895 | mse_mse: 0.02933 |  0:06:03s\n",
      "epoch 25 | loss: 0.02963 | mse_mse: 0.02604 |  0:06:18s\n",
      "epoch 26 | loss: 0.02845 | mse_mse: 0.03177 |  0:06:33s\n",
      "epoch 27 | loss: 0.02888 | mse_mse: 0.02474 |  0:06:48s\n",
      "epoch 28 | loss: 0.02681 | mse_mse: 0.02117 |  0:07:03s\n",
      "epoch 29 | loss: 0.02759 | mse_mse: 0.03307 |  0:07:18s\n",
      "\n",
      "Early stopping occurred at epoch 29 with best_epoch = 19 and best_mse_mse = 0.01532\n"
     ]
    },
    {
     "name": "stderr",
     "output_type": "stream",
     "text": [
      "/usr/local/lib/python3.9/site-packages/pytorch_tabnet/callbacks.py:172: UserWarning: Best weights from best epoch are automatically used!\n",
      "  warnings.warn(wrn_msg)\n"
     ]
    },
    {
     "name": "stdout",
     "output_type": "stream",
     "text": [
      "MSE: 0.014019015630734403\n",
      "R2 Score: 0.936756157004102\n",
      "\n",
      "Iteration 86/162\n",
      "Configuration batch size: 16 - epochs: 200 - n_d: 16 - n_a: 32 - steps: 3 - n_indipendent: 5\n"
     ]
    },
    {
     "name": "stderr",
     "output_type": "stream",
     "text": [
      "/usr/local/lib/python3.9/site-packages/pytorch_tabnet/abstract_model.py:75: UserWarning: Device used : cpu\n",
      "  warnings.warn(f\"Device used : {self.device}\")\n"
     ]
    },
    {
     "name": "stdout",
     "output_type": "stream",
     "text": [
      "epoch 0  | loss: 0.35201 | mse_mse: 0.07824 |  0:00:13s\n",
      "epoch 1  | loss: 0.08505 | mse_mse: 0.05097 |  0:00:28s\n",
      "epoch 2  | loss: 0.06642 | mse_mse: 0.05066 |  0:00:43s\n",
      "epoch 3  | loss: 0.05627 | mse_mse: 0.03076 |  0:00:57s\n",
      "epoch 4  | loss: 0.04927 | mse_mse: 0.03156 |  0:01:12s\n",
      "epoch 5  | loss: 0.04691 | mse_mse: 0.03695 |  0:01:27s\n",
      "epoch 6  | loss: 0.04349 | mse_mse: 0.03616 |  0:01:42s\n",
      "epoch 7  | loss: 0.04125 | mse_mse: 0.08065 |  0:01:56s\n",
      "epoch 8  | loss: 0.04148 | mse_mse: 0.02602 |  0:02:11s\n",
      "epoch 9  | loss: 0.03894 | mse_mse: 0.0211  |  0:02:26s\n",
      "epoch 10 | loss: 0.03921 | mse_mse: 0.01688 |  0:02:40s\n",
      "epoch 11 | loss: 0.03868 | mse_mse: 0.02086 |  0:02:55s\n",
      "epoch 12 | loss: 0.03809 | mse_mse: 0.01902 |  0:03:09s\n",
      "epoch 13 | loss: 0.0329  | mse_mse: 0.03981 |  0:03:24s\n",
      "epoch 14 | loss: 0.03089 | mse_mse: 0.07634 |  0:03:39s\n",
      "epoch 15 | loss: 0.03273 | mse_mse: 0.08621 |  0:03:54s\n",
      "epoch 16 | loss: 0.03345 | mse_mse: 0.02064 |  0:04:08s\n",
      "epoch 17 | loss: 0.03285 | mse_mse: 0.03255 |  0:04:23s\n",
      "epoch 18 | loss: 0.03315 | mse_mse: 0.06139 |  0:04:38s\n",
      "epoch 19 | loss: 0.0337  | mse_mse: 0.01532 |  0:04:52s\n",
      "epoch 20 | loss: 0.03317 | mse_mse: 0.03134 |  0:05:07s\n",
      "epoch 21 | loss: 0.03052 | mse_mse: 0.02009 |  0:05:22s\n",
      "epoch 22 | loss: 0.02928 | mse_mse: 0.03966 |  0:05:36s\n",
      "epoch 23 | loss: 0.03231 | mse_mse: 0.04275 |  0:05:51s\n",
      "epoch 24 | loss: 0.02895 | mse_mse: 0.02933 |  0:06:06s\n",
      "epoch 25 | loss: 0.02963 | mse_mse: 0.02604 |  0:06:20s\n",
      "epoch 26 | loss: 0.02845 | mse_mse: 0.03177 |  0:06:35s\n",
      "epoch 27 | loss: 0.02888 | mse_mse: 0.02474 |  0:06:49s\n",
      "epoch 28 | loss: 0.02681 | mse_mse: 0.02117 |  0:07:04s\n",
      "epoch 29 | loss: 0.02759 | mse_mse: 0.03307 |  0:07:18s\n",
      "\n",
      "Early stopping occurred at epoch 29 with best_epoch = 19 and best_mse_mse = 0.01532\n"
     ]
    },
    {
     "name": "stderr",
     "output_type": "stream",
     "text": [
      "/usr/local/lib/python3.9/site-packages/pytorch_tabnet/callbacks.py:172: UserWarning: Best weights from best epoch are automatically used!\n",
      "  warnings.warn(wrn_msg)\n"
     ]
    },
    {
     "name": "stdout",
     "output_type": "stream",
     "text": [
      "MSE: 0.014019015630734403\n",
      "R2 Score: 0.936756157004102\n",
      "\n",
      "Iteration 87/162\n",
      "Configuration batch size: 16 - epochs: 200 - n_d: 16 - n_a: 32 - steps: 5 - n_indipendent: 3\n"
     ]
    },
    {
     "name": "stderr",
     "output_type": "stream",
     "text": [
      "/usr/local/lib/python3.9/site-packages/pytorch_tabnet/abstract_model.py:75: UserWarning: Device used : cpu\n",
      "  warnings.warn(f\"Device used : {self.device}\")\n"
     ]
    },
    {
     "name": "stdout",
     "output_type": "stream",
     "text": [
      "epoch 0  | loss: 0.55978 | mse_mse: 0.1222  |  0:00:21s\n",
      "epoch 1  | loss: 0.13871 | mse_mse: 0.08447 |  0:00:44s\n",
      "epoch 2  | loss: 0.08597 | mse_mse: 0.09262 |  0:01:06s\n",
      "epoch 3  | loss: 0.06966 | mse_mse: 0.03914 |  0:01:29s\n",
      "epoch 4  | loss: 0.05144 | mse_mse: 0.04567 |  0:01:52s\n",
      "epoch 5  | loss: 0.05653 | mse_mse: 0.05887 |  0:02:14s\n",
      "epoch 6  | loss: 0.04096 | mse_mse: 0.02218 |  0:02:37s\n",
      "epoch 7  | loss: 0.04451 | mse_mse: 0.03913 |  0:03:00s\n",
      "epoch 8  | loss: 0.04507 | mse_mse: 0.05717 |  0:03:23s\n",
      "epoch 9  | loss: 0.04437 | mse_mse: 0.06581 |  0:03:45s\n",
      "epoch 10 | loss: 0.03652 | mse_mse: 0.02262 |  0:04:08s\n",
      "epoch 11 | loss: 0.03845 | mse_mse: 0.03951 |  0:04:31s\n",
      "epoch 12 | loss: 0.03901 | mse_mse: 0.07444 |  0:04:54s\n",
      "epoch 13 | loss: 0.03769 | mse_mse: 0.03679 |  0:05:16s\n",
      "epoch 14 | loss: 0.03165 | mse_mse: 0.09281 |  0:05:39s\n",
      "epoch 15 | loss: 0.0372  | mse_mse: 0.07944 |  0:06:02s\n",
      "epoch 16 | loss: 0.03407 | mse_mse: 0.06653 |  0:06:25s\n",
      "\n",
      "Early stopping occurred at epoch 16 with best_epoch = 6 and best_mse_mse = 0.02218\n"
     ]
    },
    {
     "name": "stderr",
     "output_type": "stream",
     "text": [
      "/usr/local/lib/python3.9/site-packages/pytorch_tabnet/callbacks.py:172: UserWarning: Best weights from best epoch are automatically used!\n",
      "  warnings.warn(wrn_msg)\n"
     ]
    },
    {
     "name": "stdout",
     "output_type": "stream",
     "text": [
      "MSE: 0.021414746436209983\n",
      "R2 Score: 0.9033918716490024\n",
      "\n",
      "Iteration 88/162\n",
      "Configuration batch size: 16 - epochs: 200 - n_d: 16 - n_a: 32 - steps: 5 - n_indipendent: 5\n"
     ]
    },
    {
     "name": "stderr",
     "output_type": "stream",
     "text": [
      "/usr/local/lib/python3.9/site-packages/pytorch_tabnet/abstract_model.py:75: UserWarning: Device used : cpu\n",
      "  warnings.warn(f\"Device used : {self.device}\")\n"
     ]
    },
    {
     "name": "stdout",
     "output_type": "stream",
     "text": [
      "epoch 0  | loss: 0.55978 | mse_mse: 0.1222  |  0:00:21s\n",
      "epoch 1  | loss: 0.13871 | mse_mse: 0.08447 |  0:00:43s\n",
      "epoch 2  | loss: 0.08597 | mse_mse: 0.09262 |  0:01:06s\n",
      "epoch 3  | loss: 0.06966 | mse_mse: 0.03914 |  0:01:29s\n",
      "epoch 4  | loss: 0.05144 | mse_mse: 0.04567 |  0:01:51s\n",
      "epoch 5  | loss: 0.05653 | mse_mse: 0.05887 |  0:02:14s\n",
      "epoch 6  | loss: 0.04096 | mse_mse: 0.02218 |  0:02:37s\n",
      "epoch 7  | loss: 0.04451 | mse_mse: 0.03913 |  0:03:00s\n",
      "epoch 8  | loss: 0.04507 | mse_mse: 0.05717 |  0:03:22s\n",
      "epoch 9  | loss: 0.04437 | mse_mse: 0.06581 |  0:03:45s\n",
      "epoch 10 | loss: 0.03652 | mse_mse: 0.02262 |  0:04:08s\n",
      "epoch 11 | loss: 0.03845 | mse_mse: 0.03951 |  0:04:31s\n",
      "epoch 12 | loss: 0.03901 | mse_mse: 0.07444 |  0:04:54s\n",
      "epoch 13 | loss: 0.03769 | mse_mse: 0.03679 |  0:05:16s\n",
      "epoch 14 | loss: 0.03165 | mse_mse: 0.09281 |  0:05:39s\n",
      "epoch 15 | loss: 0.0372  | mse_mse: 0.07944 |  0:06:02s\n",
      "epoch 16 | loss: 0.03407 | mse_mse: 0.06653 |  0:06:25s\n",
      "\n",
      "Early stopping occurred at epoch 16 with best_epoch = 6 and best_mse_mse = 0.02218\n"
     ]
    },
    {
     "name": "stderr",
     "output_type": "stream",
     "text": [
      "/usr/local/lib/python3.9/site-packages/pytorch_tabnet/callbacks.py:172: UserWarning: Best weights from best epoch are automatically used!\n",
      "  warnings.warn(wrn_msg)\n"
     ]
    },
    {
     "name": "stdout",
     "output_type": "stream",
     "text": [
      "MSE: 0.021414746436209983\n",
      "R2 Score: 0.9033918716490024\n",
      "\n",
      "Iteration 89/162\n",
      "Configuration batch size: 16 - epochs: 200 - n_d: 16 - n_a: 32 - steps: 7 - n_indipendent: 3\n"
     ]
    },
    {
     "name": "stderr",
     "output_type": "stream",
     "text": [
      "/usr/local/lib/python3.9/site-packages/pytorch_tabnet/abstract_model.py:75: UserWarning: Device used : cpu\n",
      "  warnings.warn(f\"Device used : {self.device}\")\n"
     ]
    },
    {
     "name": "stdout",
     "output_type": "stream",
     "text": [
      "epoch 0  | loss: 0.56289 | mse_mse: 0.27295 |  0:00:29s\n",
      "epoch 1  | loss: 0.1212  | mse_mse: 0.14283 |  0:01:00s\n",
      "epoch 2  | loss: 0.07812 | mse_mse: 0.03354 |  0:01:31s\n",
      "epoch 3  | loss: 0.06044 | mse_mse: 0.06666 |  0:02:02s\n",
      "epoch 4  | loss: 0.05494 | mse_mse: 0.02325 |  0:02:33s\n",
      "epoch 5  | loss: 0.04606 | mse_mse: 0.04824 |  0:03:04s\n",
      "epoch 6  | loss: 0.04865 | mse_mse: 0.01202 |  0:03:35s\n",
      "epoch 7  | loss: 0.04373 | mse_mse: 0.01315 |  0:04:06s\n",
      "epoch 8  | loss: 0.0409  | mse_mse: 0.03028 |  0:04:37s\n",
      "epoch 9  | loss: 0.03721 | mse_mse: 0.02139 |  0:05:08s\n",
      "epoch 10 | loss: 0.04741 | mse_mse: 0.0343  |  0:05:39s\n",
      "epoch 11 | loss: 0.03868 | mse_mse: 0.03554 |  0:06:10s\n",
      "epoch 12 | loss: 0.03516 | mse_mse: 0.07053 |  0:06:41s\n",
      "epoch 13 | loss: 0.04156 | mse_mse: 0.03796 |  0:07:13s\n",
      "epoch 14 | loss: 0.0387  | mse_mse: 0.03905 |  0:07:44s\n",
      "epoch 15 | loss: 0.03889 | mse_mse: 0.03374 |  0:08:15s\n",
      "epoch 16 | loss: 0.03761 | mse_mse: 0.04769 |  0:08:46s\n",
      "\n",
      "Early stopping occurred at epoch 16 with best_epoch = 6 and best_mse_mse = 0.01202\n"
     ]
    },
    {
     "name": "stderr",
     "output_type": "stream",
     "text": [
      "/usr/local/lib/python3.9/site-packages/pytorch_tabnet/callbacks.py:172: UserWarning: Best weights from best epoch are automatically used!\n",
      "  warnings.warn(wrn_msg)\n"
     ]
    },
    {
     "name": "stdout",
     "output_type": "stream",
     "text": [
      "MSE: 0.01250983234892732\n",
      "R2 Score: 0.9435645202330716\n",
      "Best model updated\n",
      "\n",
      "Iteration 90/162\n",
      "Configuration batch size: 16 - epochs: 200 - n_d: 16 - n_a: 32 - steps: 7 - n_indipendent: 5\n"
     ]
    },
    {
     "name": "stderr",
     "output_type": "stream",
     "text": [
      "/usr/local/lib/python3.9/site-packages/pytorch_tabnet/abstract_model.py:75: UserWarning: Device used : cpu\n",
      "  warnings.warn(f\"Device used : {self.device}\")\n"
     ]
    },
    {
     "name": "stdout",
     "output_type": "stream",
     "text": [
      "epoch 0  | loss: 0.56289 | mse_mse: 0.27295 |  0:00:29s\n",
      "epoch 1  | loss: 0.1212  | mse_mse: 0.14283 |  0:00:59s\n",
      "epoch 2  | loss: 0.07812 | mse_mse: 0.03354 |  0:01:30s\n",
      "epoch 3  | loss: 0.06044 | mse_mse: 0.06666 |  0:02:01s\n",
      "epoch 4  | loss: 0.05494 | mse_mse: 0.02325 |  0:02:32s\n",
      "epoch 5  | loss: 0.04606 | mse_mse: 0.04824 |  0:03:03s\n",
      "epoch 6  | loss: 0.04865 | mse_mse: 0.01202 |  0:03:34s\n",
      "epoch 7  | loss: 0.04373 | mse_mse: 0.01315 |  0:04:05s\n",
      "epoch 8  | loss: 0.0409  | mse_mse: 0.03028 |  0:04:36s\n",
      "epoch 9  | loss: 0.03721 | mse_mse: 0.02139 |  0:05:07s\n",
      "epoch 10 | loss: 0.04741 | mse_mse: 0.0343  |  0:05:39s\n",
      "epoch 11 | loss: 0.03868 | mse_mse: 0.03554 |  0:06:10s\n",
      "epoch 12 | loss: 0.03516 | mse_mse: 0.07053 |  0:06:41s\n",
      "epoch 13 | loss: 0.04156 | mse_mse: 0.03796 |  0:07:12s\n",
      "epoch 14 | loss: 0.0387  | mse_mse: 0.03905 |  0:07:43s\n",
      "epoch 15 | loss: 0.03889 | mse_mse: 0.03374 |  0:08:14s\n",
      "epoch 16 | loss: 0.03761 | mse_mse: 0.04769 |  0:08:46s\n",
      "\n",
      "Early stopping occurred at epoch 16 with best_epoch = 6 and best_mse_mse = 0.01202\n"
     ]
    },
    {
     "name": "stderr",
     "output_type": "stream",
     "text": [
      "/usr/local/lib/python3.9/site-packages/pytorch_tabnet/callbacks.py:172: UserWarning: Best weights from best epoch are automatically used!\n",
      "  warnings.warn(wrn_msg)\n"
     ]
    },
    {
     "name": "stdout",
     "output_type": "stream",
     "text": [
      "MSE: 0.01250983234892732\n",
      "R2 Score: 0.9435645202330716\n",
      "\n",
      "Iteration 91/162\n",
      "Configuration batch size: 16 - epochs: 200 - n_d: 32 - n_a: 8 - steps: 3 - n_indipendent: 3\n"
     ]
    },
    {
     "name": "stderr",
     "output_type": "stream",
     "text": [
      "/usr/local/lib/python3.9/site-packages/pytorch_tabnet/abstract_model.py:75: UserWarning: Device used : cpu\n",
      "  warnings.warn(f\"Device used : {self.device}\")\n"
     ]
    },
    {
     "name": "stdout",
     "output_type": "stream",
     "text": [
      "epoch 0  | loss: 0.31734 | mse_mse: 0.0938  |  0:00:13s\n",
      "epoch 1  | loss: 0.08682 | mse_mse: 0.03173 |  0:00:26s\n",
      "epoch 2  | loss: 0.0529  | mse_mse: 0.02189 |  0:00:40s\n",
      "epoch 3  | loss: 0.04717 | mse_mse: 0.03112 |  0:00:54s\n",
      "epoch 4  | loss: 0.0505  | mse_mse: 0.01559 |  0:01:07s\n",
      "epoch 5  | loss: 0.04532 | mse_mse: 0.03824 |  0:01:21s\n",
      "epoch 6  | loss: 0.04192 | mse_mse: 0.05716 |  0:01:35s\n",
      "epoch 7  | loss: 0.04555 | mse_mse: 0.02145 |  0:01:49s\n",
      "epoch 8  | loss: 0.03966 | mse_mse: 0.03029 |  0:02:03s\n",
      "epoch 9  | loss: 0.039   | mse_mse: 0.02323 |  0:02:16s\n",
      "epoch 10 | loss: 0.04041 | mse_mse: 0.02486 |  0:02:30s\n",
      "epoch 11 | loss: 0.03749 | mse_mse: 0.02976 |  0:02:44s\n",
      "epoch 12 | loss: 0.03976 | mse_mse: 0.05894 |  0:02:58s\n",
      "epoch 13 | loss: 0.03806 | mse_mse: 0.03608 |  0:03:12s\n",
      "epoch 14 | loss: 0.04276 | mse_mse: 0.06739 |  0:03:26s\n",
      "\n",
      "Early stopping occurred at epoch 14 with best_epoch = 4 and best_mse_mse = 0.01559\n"
     ]
    },
    {
     "name": "stderr",
     "output_type": "stream",
     "text": [
      "/usr/local/lib/python3.9/site-packages/pytorch_tabnet/callbacks.py:172: UserWarning: Best weights from best epoch are automatically used!\n",
      "  warnings.warn(wrn_msg)\n"
     ]
    },
    {
     "name": "stdout",
     "output_type": "stream",
     "text": [
      "MSE: 0.016320259828841117\n",
      "R2 Score: 0.9263745773986687\n",
      "\n",
      "Iteration 92/162\n",
      "Configuration batch size: 16 - epochs: 200 - n_d: 32 - n_a: 8 - steps: 3 - n_indipendent: 5\n"
     ]
    },
    {
     "name": "stderr",
     "output_type": "stream",
     "text": [
      "/usr/local/lib/python3.9/site-packages/pytorch_tabnet/abstract_model.py:75: UserWarning: Device used : cpu\n",
      "  warnings.warn(f\"Device used : {self.device}\")\n"
     ]
    },
    {
     "name": "stdout",
     "output_type": "stream",
     "text": [
      "epoch 0  | loss: 0.31734 | mse_mse: 0.0938  |  0:00:13s\n",
      "epoch 1  | loss: 0.08682 | mse_mse: 0.03173 |  0:00:27s\n",
      "epoch 2  | loss: 0.0529  | mse_mse: 0.02189 |  0:00:41s\n",
      "epoch 3  | loss: 0.04717 | mse_mse: 0.03112 |  0:00:54s\n",
      "epoch 4  | loss: 0.0505  | mse_mse: 0.01559 |  0:01:08s\n",
      "epoch 5  | loss: 0.04532 | mse_mse: 0.03824 |  0:01:22s\n",
      "epoch 6  | loss: 0.04192 | mse_mse: 0.05716 |  0:01:36s\n",
      "epoch 7  | loss: 0.04555 | mse_mse: 0.02145 |  0:01:50s\n",
      "epoch 8  | loss: 0.03966 | mse_mse: 0.03029 |  0:02:04s\n",
      "epoch 9  | loss: 0.039   | mse_mse: 0.02323 |  0:02:17s\n",
      "epoch 10 | loss: 0.04041 | mse_mse: 0.02486 |  0:02:31s\n",
      "epoch 11 | loss: 0.03749 | mse_mse: 0.02976 |  0:02:45s\n",
      "epoch 12 | loss: 0.03976 | mse_mse: 0.05894 |  0:02:59s\n",
      "epoch 13 | loss: 0.03806 | mse_mse: 0.03608 |  0:03:13s\n",
      "epoch 14 | loss: 0.04276 | mse_mse: 0.06739 |  0:03:27s\n",
      "\n",
      "Early stopping occurred at epoch 14 with best_epoch = 4 and best_mse_mse = 0.01559\n"
     ]
    },
    {
     "name": "stderr",
     "output_type": "stream",
     "text": [
      "/usr/local/lib/python3.9/site-packages/pytorch_tabnet/callbacks.py:172: UserWarning: Best weights from best epoch are automatically used!\n",
      "  warnings.warn(wrn_msg)\n"
     ]
    },
    {
     "name": "stdout",
     "output_type": "stream",
     "text": [
      "MSE: 0.016320259828841117\n",
      "R2 Score: 0.9263745773986687\n",
      "\n",
      "Iteration 93/162\n",
      "Configuration batch size: 16 - epochs: 200 - n_d: 32 - n_a: 8 - steps: 5 - n_indipendent: 3\n"
     ]
    },
    {
     "name": "stderr",
     "output_type": "stream",
     "text": [
      "/usr/local/lib/python3.9/site-packages/pytorch_tabnet/abstract_model.py:75: UserWarning: Device used : cpu\n",
      "  warnings.warn(f\"Device used : {self.device}\")\n"
     ]
    },
    {
     "name": "stdout",
     "output_type": "stream",
     "text": [
      "epoch 0  | loss: 0.46089 | mse_mse: 0.16005 |  0:00:21s\n",
      "epoch 1  | loss: 0.127   | mse_mse: 0.06936 |  0:00:42s\n",
      "epoch 2  | loss: 0.09192 | mse_mse: 0.03744 |  0:01:04s\n",
      "epoch 3  | loss: 0.07024 | mse_mse: 0.05263 |  0:01:26s\n",
      "epoch 4  | loss: 0.06168 | mse_mse: 0.03169 |  0:01:48s\n",
      "epoch 5  | loss: 0.05923 | mse_mse: 0.08463 |  0:02:10s\n",
      "epoch 6  | loss: 0.05352 | mse_mse: 0.03207 |  0:02:31s\n",
      "epoch 7  | loss: 0.05296 | mse_mse: 0.04286 |  0:02:53s\n",
      "epoch 8  | loss: 0.04595 | mse_mse: 0.01572 |  0:03:15s\n",
      "epoch 9  | loss: 0.03935 | mse_mse: 0.03905 |  0:03:37s\n",
      "epoch 10 | loss: 0.03986 | mse_mse: 0.05884 |  0:03:59s\n",
      "epoch 11 | loss: 0.04378 | mse_mse: 0.04481 |  0:04:21s\n",
      "epoch 12 | loss: 0.04152 | mse_mse: 0.02378 |  0:04:43s\n",
      "epoch 13 | loss: 0.03882 | mse_mse: 0.06722 |  0:05:05s\n",
      "epoch 14 | loss: 0.0434  | mse_mse: 0.04566 |  0:05:27s\n",
      "epoch 15 | loss: 0.03866 | mse_mse: 0.07277 |  0:05:49s\n",
      "epoch 16 | loss: 0.04138 | mse_mse: 0.02121 |  0:06:10s\n",
      "epoch 17 | loss: 0.03709 | mse_mse: 0.03874 |  0:06:32s\n",
      "epoch 18 | loss: 0.03889 | mse_mse: 0.09215 |  0:06:54s\n",
      "\n",
      "Early stopping occurred at epoch 18 with best_epoch = 8 and best_mse_mse = 0.01572\n"
     ]
    },
    {
     "name": "stderr",
     "output_type": "stream",
     "text": [
      "/usr/local/lib/python3.9/site-packages/pytorch_tabnet/callbacks.py:172: UserWarning: Best weights from best epoch are automatically used!\n",
      "  warnings.warn(wrn_msg)\n"
     ]
    },
    {
     "name": "stdout",
     "output_type": "stream",
     "text": [
      "MSE: 0.01606651165258192\n",
      "R2 Score: 0.9275193089720218\n",
      "\n",
      "Iteration 94/162\n",
      "Configuration batch size: 16 - epochs: 200 - n_d: 32 - n_a: 8 - steps: 5 - n_indipendent: 5\n"
     ]
    },
    {
     "name": "stderr",
     "output_type": "stream",
     "text": [
      "/usr/local/lib/python3.9/site-packages/pytorch_tabnet/abstract_model.py:75: UserWarning: Device used : cpu\n",
      "  warnings.warn(f\"Device used : {self.device}\")\n"
     ]
    },
    {
     "name": "stdout",
     "output_type": "stream",
     "text": [
      "epoch 0  | loss: 0.46089 | mse_mse: 0.16005 |  0:00:21s\n",
      "epoch 1  | loss: 0.127   | mse_mse: 0.06936 |  0:00:42s\n",
      "epoch 2  | loss: 0.09192 | mse_mse: 0.03744 |  0:01:04s\n",
      "epoch 3  | loss: 0.07024 | mse_mse: 0.05263 |  0:01:26s\n",
      "epoch 4  | loss: 0.06168 | mse_mse: 0.03169 |  0:01:47s\n",
      "epoch 5  | loss: 0.05923 | mse_mse: 0.08463 |  0:02:09s\n",
      "epoch 6  | loss: 0.05352 | mse_mse: 0.03207 |  0:02:31s\n",
      "epoch 7  | loss: 0.05296 | mse_mse: 0.04286 |  0:02:53s\n",
      "epoch 8  | loss: 0.04595 | mse_mse: 0.01572 |  0:03:15s\n",
      "epoch 9  | loss: 0.03935 | mse_mse: 0.03905 |  0:03:37s\n",
      "epoch 10 | loss: 0.03986 | mse_mse: 0.05884 |  0:03:58s\n",
      "epoch 11 | loss: 0.04378 | mse_mse: 0.04481 |  0:04:20s\n",
      "epoch 12 | loss: 0.04152 | mse_mse: 0.02378 |  0:04:42s\n",
      "epoch 13 | loss: 0.03882 | mse_mse: 0.06722 |  0:05:04s\n",
      "epoch 14 | loss: 0.0434  | mse_mse: 0.04566 |  0:05:26s\n",
      "epoch 15 | loss: 0.03866 | mse_mse: 0.07277 |  0:05:48s\n",
      "epoch 16 | loss: 0.04138 | mse_mse: 0.02121 |  0:06:10s\n",
      "epoch 17 | loss: 0.03709 | mse_mse: 0.03874 |  0:06:32s\n",
      "epoch 18 | loss: 0.03889 | mse_mse: 0.09215 |  0:06:53s\n",
      "\n",
      "Early stopping occurred at epoch 18 with best_epoch = 8 and best_mse_mse = 0.01572\n"
     ]
    },
    {
     "name": "stderr",
     "output_type": "stream",
     "text": [
      "/usr/local/lib/python3.9/site-packages/pytorch_tabnet/callbacks.py:172: UserWarning: Best weights from best epoch are automatically used!\n",
      "  warnings.warn(wrn_msg)\n"
     ]
    },
    {
     "name": "stdout",
     "output_type": "stream",
     "text": [
      "MSE: 0.01606651165258192\n",
      "R2 Score: 0.9275193089720218\n",
      "\n",
      "Iteration 95/162\n",
      "Configuration batch size: 16 - epochs: 200 - n_d: 32 - n_a: 8 - steps: 7 - n_indipendent: 3\n"
     ]
    },
    {
     "name": "stderr",
     "output_type": "stream",
     "text": [
      "/usr/local/lib/python3.9/site-packages/pytorch_tabnet/abstract_model.py:75: UserWarning: Device used : cpu\n",
      "  warnings.warn(f\"Device used : {self.device}\")\n"
     ]
    },
    {
     "name": "stdout",
     "output_type": "stream",
     "text": [
      "epoch 0  | loss: 0.89901 | mse_mse: 0.13184 |  0:00:28s\n",
      "epoch 1  | loss: 0.13335 | mse_mse: 0.07789 |  0:00:57s\n",
      "epoch 2  | loss: 0.096   | mse_mse: 0.06129 |  0:01:27s\n",
      "epoch 3  | loss: 0.0723  | mse_mse: 0.10636 |  0:01:56s\n",
      "epoch 4  | loss: 0.05484 | mse_mse: 0.03553 |  0:02:26s\n",
      "epoch 5  | loss: 0.05118 | mse_mse: 0.04007 |  0:02:55s\n",
      "epoch 6  | loss: 0.05072 | mse_mse: 0.04022 |  0:03:25s\n",
      "epoch 7  | loss: 0.0447  | mse_mse: 0.05447 |  0:03:54s\n",
      "epoch 8  | loss: 0.03974 | mse_mse: 0.0389  |  0:04:24s\n",
      "epoch 9  | loss: 0.04208 | mse_mse: 0.03327 |  0:04:53s\n",
      "epoch 10 | loss: 0.03752 | mse_mse: 0.06778 |  0:05:23s\n",
      "epoch 11 | loss: 0.03858 | mse_mse: 0.09989 |  0:05:52s\n",
      "epoch 12 | loss: 0.04299 | mse_mse: 0.06291 |  0:06:22s\n",
      "epoch 13 | loss: 0.04166 | mse_mse: 0.01683 |  0:06:52s\n",
      "epoch 14 | loss: 0.03831 | mse_mse: 0.03774 |  0:07:21s\n",
      "epoch 15 | loss: 0.03648 | mse_mse: 0.06011 |  0:07:51s\n",
      "epoch 16 | loss: 0.03559 | mse_mse: 0.02565 |  0:08:21s\n",
      "epoch 17 | loss: 0.03553 | mse_mse: 0.0178  |  0:08:51s\n",
      "epoch 18 | loss: 0.03422 | mse_mse: 0.04883 |  0:09:20s\n",
      "epoch 19 | loss: 0.04046 | mse_mse: 0.02905 |  0:09:50s\n",
      "epoch 20 | loss: 0.03675 | mse_mse: 0.13419 |  0:10:19s\n",
      "epoch 21 | loss: 0.03514 | mse_mse: 0.05961 |  0:10:49s\n",
      "epoch 22 | loss: 0.03308 | mse_mse: 0.02971 |  0:11:19s\n",
      "epoch 23 | loss: 0.03402 | mse_mse: 0.11147 |  0:11:48s\n",
      "\n",
      "Early stopping occurred at epoch 23 with best_epoch = 13 and best_mse_mse = 0.01683\n"
     ]
    },
    {
     "name": "stderr",
     "output_type": "stream",
     "text": [
      "/usr/local/lib/python3.9/site-packages/pytorch_tabnet/callbacks.py:172: UserWarning: Best weights from best epoch are automatically used!\n",
      "  warnings.warn(wrn_msg)\n"
     ]
    },
    {
     "name": "stdout",
     "output_type": "stream",
     "text": [
      "MSE: 0.017958459694020063\n",
      "R2 Score: 0.9189841829659713\n",
      "\n",
      "Iteration 96/162\n",
      "Configuration batch size: 16 - epochs: 200 - n_d: 32 - n_a: 8 - steps: 7 - n_indipendent: 5\n"
     ]
    },
    {
     "name": "stderr",
     "output_type": "stream",
     "text": [
      "/usr/local/lib/python3.9/site-packages/pytorch_tabnet/abstract_model.py:75: UserWarning: Device used : cpu\n",
      "  warnings.warn(f\"Device used : {self.device}\")\n"
     ]
    },
    {
     "name": "stdout",
     "output_type": "stream",
     "text": [
      "epoch 0  | loss: 0.89901 | mse_mse: 0.13184 |  0:00:28s\n",
      "epoch 1  | loss: 0.13335 | mse_mse: 0.07789 |  0:00:57s\n",
      "epoch 2  | loss: 0.096   | mse_mse: 0.06129 |  0:01:27s\n",
      "epoch 3  | loss: 0.0723  | mse_mse: 0.10636 |  0:01:56s\n",
      "epoch 4  | loss: 0.05484 | mse_mse: 0.03553 |  0:02:25s\n",
      "epoch 5  | loss: 0.05118 | mse_mse: 0.04007 |  0:02:55s\n",
      "epoch 6  | loss: 0.05072 | mse_mse: 0.04022 |  0:03:24s\n",
      "epoch 7  | loss: 0.0447  | mse_mse: 0.05447 |  0:03:54s\n",
      "epoch 8  | loss: 0.03974 | mse_mse: 0.0389  |  0:04:23s\n",
      "epoch 9  | loss: 0.04208 | mse_mse: 0.03327 |  0:04:53s\n",
      "epoch 10 | loss: 0.03752 | mse_mse: 0.06778 |  0:05:22s\n",
      "epoch 11 | loss: 0.03858 | mse_mse: 0.09989 |  0:05:52s\n",
      "epoch 12 | loss: 0.04299 | mse_mse: 0.06291 |  0:06:21s\n",
      "epoch 13 | loss: 0.04166 | mse_mse: 0.01683 |  0:06:51s\n",
      "epoch 14 | loss: 0.03831 | mse_mse: 0.03774 |  0:07:20s\n",
      "epoch 15 | loss: 0.03648 | mse_mse: 0.06011 |  0:07:50s\n",
      "epoch 16 | loss: 0.03559 | mse_mse: 0.02565 |  0:08:19s\n",
      "epoch 17 | loss: 0.03553 | mse_mse: 0.0178  |  0:08:49s\n",
      "epoch 18 | loss: 0.03422 | mse_mse: 0.04883 |  0:09:19s\n",
      "epoch 19 | loss: 0.04046 | mse_mse: 0.02905 |  0:09:48s\n",
      "epoch 20 | loss: 0.03675 | mse_mse: 0.13419 |  0:10:18s\n",
      "epoch 21 | loss: 0.03514 | mse_mse: 0.05961 |  0:10:48s\n",
      "epoch 22 | loss: 0.03308 | mse_mse: 0.02971 |  0:11:17s\n",
      "epoch 23 | loss: 0.03402 | mse_mse: 0.11147 |  0:11:47s\n",
      "\n",
      "Early stopping occurred at epoch 23 with best_epoch = 13 and best_mse_mse = 0.01683\n"
     ]
    },
    {
     "name": "stderr",
     "output_type": "stream",
     "text": [
      "/usr/local/lib/python3.9/site-packages/pytorch_tabnet/callbacks.py:172: UserWarning: Best weights from best epoch are automatically used!\n",
      "  warnings.warn(wrn_msg)\n"
     ]
    },
    {
     "name": "stdout",
     "output_type": "stream",
     "text": [
      "MSE: 0.017958459694020063\n",
      "R2 Score: 0.9189841829659713\n",
      "\n",
      "Iteration 97/162\n",
      "Configuration batch size: 16 - epochs: 200 - n_d: 32 - n_a: 16 - steps: 3 - n_indipendent: 3\n"
     ]
    },
    {
     "name": "stderr",
     "output_type": "stream",
     "text": [
      "/usr/local/lib/python3.9/site-packages/pytorch_tabnet/abstract_model.py:75: UserWarning: Device used : cpu\n",
      "  warnings.warn(f\"Device used : {self.device}\")\n"
     ]
    },
    {
     "name": "stdout",
     "output_type": "stream",
     "text": [
      "epoch 0  | loss: 0.32631 | mse_mse: 0.07624 |  0:00:13s\n",
      "epoch 1  | loss: 0.10757 | mse_mse: 0.0705  |  0:00:27s\n",
      "epoch 2  | loss: 0.07175 | mse_mse: 0.11084 |  0:00:41s\n",
      "epoch 3  | loss: 0.06393 | mse_mse: 0.05576 |  0:00:55s\n",
      "epoch 4  | loss: 0.05839 | mse_mse: 0.06713 |  0:01:09s\n",
      "epoch 5  | loss: 0.04994 | mse_mse: 0.01302 |  0:01:23s\n",
      "epoch 6  | loss: 0.04545 | mse_mse: 0.04252 |  0:01:37s\n",
      "epoch 7  | loss: 0.04838 | mse_mse: 0.0135  |  0:01:52s\n",
      "epoch 8  | loss: 0.04291 | mse_mse: 0.03844 |  0:02:06s\n",
      "epoch 9  | loss: 0.04058 | mse_mse: 0.06372 |  0:02:20s\n",
      "epoch 10 | loss: 0.03957 | mse_mse: 0.0346  |  0:02:34s\n",
      "epoch 11 | loss: 0.04275 | mse_mse: 0.02982 |  0:02:48s\n",
      "epoch 12 | loss: 0.04156 | mse_mse: 0.01056 |  0:03:03s\n",
      "epoch 13 | loss: 0.04139 | mse_mse: 0.02405 |  0:03:17s\n",
      "epoch 14 | loss: 0.03528 | mse_mse: 0.03446 |  0:03:31s\n",
      "epoch 15 | loss: 0.03489 | mse_mse: 0.05824 |  0:03:45s\n",
      "epoch 16 | loss: 0.03676 | mse_mse: 0.03998 |  0:03:59s\n",
      "epoch 17 | loss: 0.04082 | mse_mse: 0.04355 |  0:04:14s\n",
      "epoch 18 | loss: 0.03986 | mse_mse: 0.05421 |  0:04:28s\n",
      "epoch 19 | loss: 0.03906 | mse_mse: 0.03628 |  0:04:42s\n",
      "epoch 20 | loss: 0.03396 | mse_mse: 0.01855 |  0:04:56s\n",
      "epoch 21 | loss: 0.03586 | mse_mse: 0.02983 |  0:05:10s\n",
      "epoch 22 | loss: 0.03223 | mse_mse: 0.15548 |  0:05:25s\n",
      "\n",
      "Early stopping occurred at epoch 22 with best_epoch = 12 and best_mse_mse = 0.01056\n"
     ]
    },
    {
     "name": "stderr",
     "output_type": "stream",
     "text": [
      "/usr/local/lib/python3.9/site-packages/pytorch_tabnet/callbacks.py:172: UserWarning: Best weights from best epoch are automatically used!\n",
      "  warnings.warn(wrn_msg)\n"
     ]
    },
    {
     "name": "stdout",
     "output_type": "stream",
     "text": [
      "MSE: 0.01017757361149846\n",
      "R2 Score: 0.9540860154151148\n",
      "Best model updated\n",
      "\n",
      "Iteration 98/162\n",
      "Configuration batch size: 16 - epochs: 200 - n_d: 32 - n_a: 16 - steps: 3 - n_indipendent: 5\n"
     ]
    },
    {
     "name": "stderr",
     "output_type": "stream",
     "text": [
      "/usr/local/lib/python3.9/site-packages/pytorch_tabnet/abstract_model.py:75: UserWarning: Device used : cpu\n",
      "  warnings.warn(f\"Device used : {self.device}\")\n"
     ]
    },
    {
     "name": "stdout",
     "output_type": "stream",
     "text": [
      "epoch 0  | loss: 0.32631 | mse_mse: 0.07624 |  0:00:13s\n",
      "epoch 1  | loss: 0.10757 | mse_mse: 0.0705  |  0:00:27s\n",
      "epoch 2  | loss: 0.07175 | mse_mse: 0.11084 |  0:00:41s\n",
      "epoch 3  | loss: 0.06393 | mse_mse: 0.05576 |  0:00:55s\n",
      "epoch 4  | loss: 0.05839 | mse_mse: 0.06713 |  0:01:10s\n",
      "epoch 5  | loss: 0.04994 | mse_mse: 0.01302 |  0:01:24s\n",
      "epoch 6  | loss: 0.04545 | mse_mse: 0.04252 |  0:01:38s\n",
      "epoch 7  | loss: 0.04838 | mse_mse: 0.0135  |  0:01:52s\n",
      "epoch 8  | loss: 0.04291 | mse_mse: 0.03844 |  0:02:06s\n",
      "epoch 9  | loss: 0.04058 | mse_mse: 0.06372 |  0:02:20s\n",
      "epoch 10 | loss: 0.03957 | mse_mse: 0.0346  |  0:02:34s\n",
      "epoch 11 | loss: 0.04275 | mse_mse: 0.02982 |  0:02:49s\n",
      "epoch 12 | loss: 0.04156 | mse_mse: 0.01056 |  0:03:03s\n",
      "epoch 13 | loss: 0.04139 | mse_mse: 0.02405 |  0:03:17s\n",
      "epoch 14 | loss: 0.03528 | mse_mse: 0.03446 |  0:03:31s\n",
      "epoch 15 | loss: 0.03489 | mse_mse: 0.05824 |  0:03:46s\n",
      "epoch 16 | loss: 0.03676 | mse_mse: 0.03998 |  0:04:00s\n",
      "epoch 17 | loss: 0.04082 | mse_mse: 0.04355 |  0:04:14s\n",
      "epoch 18 | loss: 0.03986 | mse_mse: 0.05421 |  0:04:28s\n",
      "epoch 19 | loss: 0.03906 | mse_mse: 0.03628 |  0:04:43s\n",
      "epoch 20 | loss: 0.03396 | mse_mse: 0.01855 |  0:04:57s\n",
      "epoch 21 | loss: 0.03586 | mse_mse: 0.02983 |  0:05:11s\n",
      "epoch 22 | loss: 0.03223 | mse_mse: 0.15548 |  0:05:25s\n",
      "\n",
      "Early stopping occurred at epoch 22 with best_epoch = 12 and best_mse_mse = 0.01056\n"
     ]
    },
    {
     "name": "stderr",
     "output_type": "stream",
     "text": [
      "/usr/local/lib/python3.9/site-packages/pytorch_tabnet/callbacks.py:172: UserWarning: Best weights from best epoch are automatically used!\n",
      "  warnings.warn(wrn_msg)\n"
     ]
    },
    {
     "name": "stdout",
     "output_type": "stream",
     "text": [
      "MSE: 0.01017757361149846\n",
      "R2 Score: 0.9540860154151148\n",
      "\n",
      "Iteration 99/162\n",
      "Configuration batch size: 16 - epochs: 200 - n_d: 32 - n_a: 16 - steps: 5 - n_indipendent: 3\n"
     ]
    },
    {
     "name": "stderr",
     "output_type": "stream",
     "text": [
      "/usr/local/lib/python3.9/site-packages/pytorch_tabnet/abstract_model.py:75: UserWarning: Device used : cpu\n",
      "  warnings.warn(f\"Device used : {self.device}\")\n"
     ]
    },
    {
     "name": "stdout",
     "output_type": "stream",
     "text": [
      "epoch 0  | loss: 0.65226 | mse_mse: 0.12134 |  0:00:20s\n",
      "epoch 1  | loss: 0.12312 | mse_mse: 0.0799  |  0:00:42s\n",
      "epoch 2  | loss: 0.10115 | mse_mse: 0.0989  |  0:01:04s\n",
      "epoch 3  | loss: 0.07437 | mse_mse: 0.06565 |  0:01:26s\n",
      "epoch 4  | loss: 0.0573  | mse_mse: 0.07498 |  0:01:49s\n",
      "epoch 5  | loss: 0.05308 | mse_mse: 0.06776 |  0:02:11s\n",
      "epoch 6  | loss: 0.04825 | mse_mse: 0.04004 |  0:02:33s\n",
      "epoch 7  | loss: 0.04288 | mse_mse: 0.0235  |  0:02:55s\n",
      "epoch 8  | loss: 0.03976 | mse_mse: 0.0472  |  0:03:17s\n",
      "epoch 9  | loss: 0.04042 | mse_mse: 0.04729 |  0:03:39s\n",
      "epoch 10 | loss: 0.04264 | mse_mse: 0.05188 |  0:04:02s\n",
      "epoch 11 | loss: 0.04041 | mse_mse: 0.03289 |  0:04:24s\n",
      "epoch 12 | loss: 0.03832 | mse_mse: 0.03983 |  0:04:46s\n",
      "epoch 13 | loss: 0.03718 | mse_mse: 0.04386 |  0:05:09s\n",
      "epoch 14 | loss: 0.037   | mse_mse: 0.05351 |  0:05:31s\n",
      "epoch 15 | loss: 0.03497 | mse_mse: 0.03376 |  0:05:53s\n",
      "epoch 16 | loss: 0.03676 | mse_mse: 0.04959 |  0:06:15s\n",
      "epoch 17 | loss: 0.03211 | mse_mse: 0.06595 |  0:06:37s\n",
      "\n",
      "Early stopping occurred at epoch 17 with best_epoch = 7 and best_mse_mse = 0.0235\n"
     ]
    },
    {
     "name": "stderr",
     "output_type": "stream",
     "text": [
      "/usr/local/lib/python3.9/site-packages/pytorch_tabnet/callbacks.py:172: UserWarning: Best weights from best epoch are automatically used!\n",
      "  warnings.warn(wrn_msg)\n"
     ]
    },
    {
     "name": "stdout",
     "output_type": "stream",
     "text": [
      "MSE: 0.02378127284674168\n",
      "R2 Score: 0.8927157850609263\n",
      "\n",
      "Iteration 100/162\n",
      "Configuration batch size: 16 - epochs: 200 - n_d: 32 - n_a: 16 - steps: 5 - n_indipendent: 5\n"
     ]
    },
    {
     "name": "stderr",
     "output_type": "stream",
     "text": [
      "/usr/local/lib/python3.9/site-packages/pytorch_tabnet/abstract_model.py:75: UserWarning: Device used : cpu\n",
      "  warnings.warn(f\"Device used : {self.device}\")\n"
     ]
    },
    {
     "name": "stdout",
     "output_type": "stream",
     "text": [
      "epoch 0  | loss: 0.65226 | mse_mse: 0.12134 |  0:00:20s\n",
      "epoch 1  | loss: 0.12312 | mse_mse: 0.0799  |  0:00:42s\n",
      "epoch 2  | loss: 0.10115 | mse_mse: 0.0989  |  0:01:04s\n",
      "epoch 3  | loss: 0.07437 | mse_mse: 0.06565 |  0:01:27s\n",
      "epoch 4  | loss: 0.0573  | mse_mse: 0.07498 |  0:01:49s\n",
      "epoch 5  | loss: 0.05308 | mse_mse: 0.06776 |  0:02:11s\n",
      "epoch 6  | loss: 0.04825 | mse_mse: 0.04004 |  0:02:33s\n",
      "epoch 7  | loss: 0.04288 | mse_mse: 0.0235  |  0:02:55s\n",
      "epoch 8  | loss: 0.03976 | mse_mse: 0.0472  |  0:03:17s\n",
      "epoch 9  | loss: 0.04042 | mse_mse: 0.04729 |  0:03:39s\n",
      "epoch 10 | loss: 0.04264 | mse_mse: 0.05188 |  0:04:02s\n",
      "epoch 11 | loss: 0.04041 | mse_mse: 0.03289 |  0:04:24s\n",
      "epoch 12 | loss: 0.03832 | mse_mse: 0.03983 |  0:04:46s\n",
      "epoch 13 | loss: 0.03718 | mse_mse: 0.04386 |  0:05:08s\n",
      "epoch 14 | loss: 0.037   | mse_mse: 0.05351 |  0:05:30s\n",
      "epoch 15 | loss: 0.03497 | mse_mse: 0.03376 |  0:05:53s\n",
      "epoch 16 | loss: 0.03676 | mse_mse: 0.04959 |  0:06:15s\n",
      "epoch 17 | loss: 0.03211 | mse_mse: 0.06595 |  0:06:37s\n",
      "\n",
      "Early stopping occurred at epoch 17 with best_epoch = 7 and best_mse_mse = 0.0235\n"
     ]
    },
    {
     "name": "stderr",
     "output_type": "stream",
     "text": [
      "/usr/local/lib/python3.9/site-packages/pytorch_tabnet/callbacks.py:172: UserWarning: Best weights from best epoch are automatically used!\n",
      "  warnings.warn(wrn_msg)\n"
     ]
    },
    {
     "name": "stdout",
     "output_type": "stream",
     "text": [
      "MSE: 0.02378127284674168\n",
      "R2 Score: 0.8927157850609263\n",
      "\n",
      "Iteration 101/162\n",
      "Configuration batch size: 16 - epochs: 200 - n_d: 32 - n_a: 16 - steps: 7 - n_indipendent: 3\n"
     ]
    },
    {
     "name": "stderr",
     "output_type": "stream",
     "text": [
      "/usr/local/lib/python3.9/site-packages/pytorch_tabnet/abstract_model.py:75: UserWarning: Device used : cpu\n",
      "  warnings.warn(f\"Device used : {self.device}\")\n"
     ]
    },
    {
     "name": "stdout",
     "output_type": "stream",
     "text": [
      "epoch 0  | loss: 0.78708 | mse_mse: 0.21314 |  0:00:27s\n",
      "epoch 1  | loss: 0.15546 | mse_mse: 0.10899 |  0:00:57s\n",
      "epoch 2  | loss: 0.1083  | mse_mse: 0.06431 |  0:01:27s\n",
      "epoch 3  | loss: 0.06839 | mse_mse: 0.10659 |  0:01:57s\n",
      "epoch 4  | loss: 0.056   | mse_mse: 0.02129 |  0:02:27s\n",
      "epoch 5  | loss: 0.05179 | mse_mse: 0.0443  |  0:02:57s\n",
      "epoch 6  | loss: 0.04768 | mse_mse: 0.02204 |  0:03:27s\n",
      "epoch 7  | loss: 0.04543 | mse_mse: 0.05618 |  0:03:57s\n",
      "epoch 8  | loss: 0.04369 | mse_mse: 0.03757 |  0:04:27s\n",
      "epoch 9  | loss: 0.04256 | mse_mse: 0.0389  |  0:04:57s\n",
      "epoch 10 | loss: 0.0415  | mse_mse: 0.04095 |  0:05:27s\n",
      "epoch 11 | loss: 0.03817 | mse_mse: 0.02508 |  0:05:57s\n",
      "epoch 12 | loss: 0.04173 | mse_mse: 0.2322  |  0:06:27s\n",
      "epoch 13 | loss: 0.04214 | mse_mse: 0.04128 |  0:06:58s\n",
      "epoch 14 | loss: 0.03957 | mse_mse: 0.05059 |  0:07:28s\n",
      "\n",
      "Early stopping occurred at epoch 14 with best_epoch = 4 and best_mse_mse = 0.02129\n"
     ]
    },
    {
     "name": "stderr",
     "output_type": "stream",
     "text": [
      "/usr/local/lib/python3.9/site-packages/pytorch_tabnet/callbacks.py:172: UserWarning: Best weights from best epoch are automatically used!\n",
      "  warnings.warn(wrn_msg)\n"
     ]
    },
    {
     "name": "stdout",
     "output_type": "stream",
     "text": [
      "MSE: 0.02404635777226638\n",
      "R2 Score: 0.8915199101256199\n",
      "\n",
      "Iteration 102/162\n",
      "Configuration batch size: 16 - epochs: 200 - n_d: 32 - n_a: 16 - steps: 7 - n_indipendent: 5\n"
     ]
    },
    {
     "name": "stderr",
     "output_type": "stream",
     "text": [
      "/usr/local/lib/python3.9/site-packages/pytorch_tabnet/abstract_model.py:75: UserWarning: Device used : cpu\n",
      "  warnings.warn(f\"Device used : {self.device}\")\n"
     ]
    },
    {
     "name": "stdout",
     "output_type": "stream",
     "text": [
      "epoch 0  | loss: 0.78708 | mse_mse: 0.21314 |  0:00:28s\n",
      "epoch 1  | loss: 0.15546 | mse_mse: 0.10899 |  0:00:57s\n",
      "epoch 2  | loss: 0.1083  | mse_mse: 0.06431 |  0:01:28s\n",
      "epoch 3  | loss: 0.06839 | mse_mse: 0.10659 |  0:01:57s\n",
      "epoch 4  | loss: 0.056   | mse_mse: 0.02129 |  0:02:27s\n",
      "epoch 5  | loss: 0.05179 | mse_mse: 0.0443  |  0:02:57s\n",
      "epoch 6  | loss: 0.04768 | mse_mse: 0.02204 |  0:03:27s\n",
      "epoch 7  | loss: 0.04543 | mse_mse: 0.05618 |  0:03:57s\n",
      "epoch 8  | loss: 0.04369 | mse_mse: 0.03757 |  0:04:27s\n",
      "epoch 9  | loss: 0.04256 | mse_mse: 0.0389  |  0:04:57s\n",
      "epoch 10 | loss: 0.0415  | mse_mse: 0.04095 |  0:05:28s\n",
      "epoch 11 | loss: 0.03817 | mse_mse: 0.02508 |  0:05:58s\n",
      "epoch 12 | loss: 0.04173 | mse_mse: 0.2322  |  0:06:28s\n",
      "epoch 13 | loss: 0.04214 | mse_mse: 0.04128 |  0:06:59s\n",
      "epoch 14 | loss: 0.03957 | mse_mse: 0.05059 |  0:07:29s\n",
      "\n",
      "Early stopping occurred at epoch 14 with best_epoch = 4 and best_mse_mse = 0.02129\n"
     ]
    },
    {
     "name": "stderr",
     "output_type": "stream",
     "text": [
      "/usr/local/lib/python3.9/site-packages/pytorch_tabnet/callbacks.py:172: UserWarning: Best weights from best epoch are automatically used!\n",
      "  warnings.warn(wrn_msg)\n"
     ]
    },
    {
     "name": "stdout",
     "output_type": "stream",
     "text": [
      "MSE: 0.02404635777226638\n",
      "R2 Score: 0.8915199101256199\n",
      "\n",
      "Iteration 103/162\n",
      "Configuration batch size: 16 - epochs: 200 - n_d: 32 - n_a: 32 - steps: 3 - n_indipendent: 3\n"
     ]
    },
    {
     "name": "stderr",
     "output_type": "stream",
     "text": [
      "/usr/local/lib/python3.9/site-packages/pytorch_tabnet/abstract_model.py:75: UserWarning: Device used : cpu\n",
      "  warnings.warn(f\"Device used : {self.device}\")\n"
     ]
    },
    {
     "name": "stdout",
     "output_type": "stream",
     "text": [
      "epoch 0  | loss: 0.38391 | mse_mse: 0.09449 |  0:00:13s\n",
      "epoch 1  | loss: 0.09458 | mse_mse: 0.04254 |  0:00:28s\n",
      "epoch 2  | loss: 0.06556 | mse_mse: 0.04286 |  0:00:43s\n",
      "epoch 3  | loss: 0.05779 | mse_mse: 0.11592 |  0:00:58s\n",
      "epoch 4  | loss: 0.0446  | mse_mse: 0.02697 |  0:01:13s\n",
      "epoch 5  | loss: 0.04726 | mse_mse: 0.1811  |  0:01:28s\n",
      "epoch 6  | loss: 0.0514  | mse_mse: 0.02487 |  0:01:43s\n",
      "epoch 7  | loss: 0.0384  | mse_mse: 0.04613 |  0:01:58s\n",
      "epoch 8  | loss: 0.04437 | mse_mse: 0.06728 |  0:02:13s\n",
      "epoch 9  | loss: 0.04343 | mse_mse: 0.03133 |  0:02:28s\n",
      "epoch 10 | loss: 0.04229 | mse_mse: 0.05197 |  0:02:42s\n",
      "epoch 11 | loss: 0.04154 | mse_mse: 0.01827 |  0:02:57s\n",
      "epoch 12 | loss: 0.0354  | mse_mse: 0.02788 |  0:03:12s\n",
      "epoch 13 | loss: 0.03685 | mse_mse: 0.0205  |  0:03:27s\n",
      "epoch 14 | loss: 0.04072 | mse_mse: 0.05425 |  0:03:42s\n",
      "epoch 15 | loss: 0.03434 | mse_mse: 0.04293 |  0:03:57s\n",
      "epoch 16 | loss: 0.03234 | mse_mse: 0.04579 |  0:04:12s\n",
      "epoch 17 | loss: 0.03277 | mse_mse: 0.03932 |  0:04:27s\n",
      "epoch 18 | loss: 0.03098 | mse_mse: 0.03302 |  0:04:42s\n",
      "epoch 19 | loss: 0.03216 | mse_mse: 0.07499 |  0:04:57s\n",
      "epoch 20 | loss: 0.03322 | mse_mse: 0.02689 |  0:05:12s\n",
      "epoch 21 | loss: 0.03089 | mse_mse: 0.09312 |  0:05:27s\n",
      "\n",
      "Early stopping occurred at epoch 21 with best_epoch = 11 and best_mse_mse = 0.01827\n"
     ]
    },
    {
     "name": "stderr",
     "output_type": "stream",
     "text": [
      "/usr/local/lib/python3.9/site-packages/pytorch_tabnet/callbacks.py:172: UserWarning: Best weights from best epoch are automatically used!\n",
      "  warnings.warn(wrn_msg)\n"
     ]
    },
    {
     "name": "stdout",
     "output_type": "stream",
     "text": [
      "MSE: 0.017332861666353255\n",
      "R2 Score: 0.9218064370016656\n",
      "\n",
      "Iteration 104/162\n",
      "Configuration batch size: 16 - epochs: 200 - n_d: 32 - n_a: 32 - steps: 3 - n_indipendent: 5\n"
     ]
    },
    {
     "name": "stderr",
     "output_type": "stream",
     "text": [
      "/usr/local/lib/python3.9/site-packages/pytorch_tabnet/abstract_model.py:75: UserWarning: Device used : cpu\n",
      "  warnings.warn(f\"Device used : {self.device}\")\n"
     ]
    },
    {
     "name": "stdout",
     "output_type": "stream",
     "text": [
      "epoch 0  | loss: 0.38391 | mse_mse: 0.09449 |  0:00:14s\n",
      "epoch 1  | loss: 0.09458 | mse_mse: 0.04254 |  0:00:29s\n",
      "epoch 2  | loss: 0.06556 | mse_mse: 0.04286 |  0:00:43s\n",
      "epoch 3  | loss: 0.05779 | mse_mse: 0.11592 |  0:00:58s\n",
      "epoch 4  | loss: 0.0446  | mse_mse: 0.02697 |  0:01:13s\n",
      "epoch 5  | loss: 0.04726 | mse_mse: 0.1811  |  0:01:28s\n",
      "epoch 6  | loss: 0.0514  | mse_mse: 0.02487 |  0:01:43s\n",
      "epoch 7  | loss: 0.0384  | mse_mse: 0.04613 |  0:01:58s\n",
      "epoch 8  | loss: 0.04437 | mse_mse: 0.06728 |  0:02:13s\n",
      "epoch 9  | loss: 0.04343 | mse_mse: 0.03133 |  0:02:28s\n",
      "epoch 10 | loss: 0.04229 | mse_mse: 0.05197 |  0:02:43s\n",
      "epoch 11 | loss: 0.04154 | mse_mse: 0.01827 |  0:02:58s\n",
      "epoch 12 | loss: 0.0354  | mse_mse: 0.02788 |  0:03:13s\n",
      "epoch 13 | loss: 0.03685 | mse_mse: 0.0205  |  0:03:28s\n",
      "epoch 14 | loss: 0.04072 | mse_mse: 0.05425 |  0:03:43s\n",
      "epoch 15 | loss: 0.03434 | mse_mse: 0.04293 |  0:03:58s\n",
      "epoch 16 | loss: 0.03234 | mse_mse: 0.04579 |  0:04:13s\n",
      "epoch 17 | loss: 0.03277 | mse_mse: 0.03932 |  0:04:28s\n",
      "epoch 18 | loss: 0.03098 | mse_mse: 0.03302 |  0:04:43s\n",
      "epoch 19 | loss: 0.03216 | mse_mse: 0.07499 |  0:04:58s\n",
      "epoch 20 | loss: 0.03322 | mse_mse: 0.02689 |  0:05:13s\n",
      "epoch 21 | loss: 0.03089 | mse_mse: 0.09312 |  0:05:28s\n",
      "\n",
      "Early stopping occurred at epoch 21 with best_epoch = 11 and best_mse_mse = 0.01827\n"
     ]
    },
    {
     "name": "stderr",
     "output_type": "stream",
     "text": [
      "/usr/local/lib/python3.9/site-packages/pytorch_tabnet/callbacks.py:172: UserWarning: Best weights from best epoch are automatically used!\n",
      "  warnings.warn(wrn_msg)\n"
     ]
    },
    {
     "name": "stdout",
     "output_type": "stream",
     "text": [
      "MSE: 0.017332861666353255\n",
      "R2 Score: 0.9218064370016656\n",
      "\n",
      "Iteration 105/162\n",
      "Configuration batch size: 16 - epochs: 200 - n_d: 32 - n_a: 32 - steps: 5 - n_indipendent: 3\n"
     ]
    },
    {
     "name": "stderr",
     "output_type": "stream",
     "text": [
      "/usr/local/lib/python3.9/site-packages/pytorch_tabnet/abstract_model.py:75: UserWarning: Device used : cpu\n",
      "  warnings.warn(f\"Device used : {self.device}\")\n"
     ]
    },
    {
     "name": "stdout",
     "output_type": "stream",
     "text": [
      "epoch 0  | loss: 0.37816 | mse_mse: 0.1309  |  0:00:22s\n",
      "epoch 1  | loss: 0.11469 | mse_mse: 0.05763 |  0:00:45s\n",
      "epoch 2  | loss: 0.0922  | mse_mse: 0.06428 |  0:01:08s\n",
      "epoch 3  | loss: 0.07379 | mse_mse: 0.04796 |  0:01:31s\n",
      "epoch 4  | loss: 0.05933 | mse_mse: 0.04416 |  0:01:55s\n",
      "epoch 5  | loss: 0.05894 | mse_mse: 0.03253 |  0:02:18s\n",
      "epoch 6  | loss: 0.0543  | mse_mse: 0.02222 |  0:02:42s\n",
      "epoch 7  | loss: 0.04191 | mse_mse: 0.02867 |  0:03:05s\n",
      "epoch 8  | loss: 0.04333 | mse_mse: 0.02145 |  0:03:29s\n",
      "epoch 9  | loss: 0.03879 | mse_mse: 0.03143 |  0:03:53s\n",
      "epoch 10 | loss: 0.03573 | mse_mse: 0.0126  |  0:04:16s\n",
      "epoch 11 | loss: 0.03844 | mse_mse: 0.03172 |  0:04:40s\n",
      "epoch 12 | loss: 0.03206 | mse_mse: 0.0289  |  0:05:03s\n",
      "epoch 13 | loss: 0.03323 | mse_mse: 0.04512 |  0:05:27s\n",
      "epoch 14 | loss: 0.03376 | mse_mse: 0.03659 |  0:05:51s\n",
      "epoch 15 | loss: 0.0335  | mse_mse: 0.12196 |  0:06:14s\n",
      "epoch 16 | loss: 0.03246 | mse_mse: 0.06005 |  0:06:38s\n",
      "epoch 17 | loss: 0.02924 | mse_mse: 0.12527 |  0:07:02s\n",
      "epoch 18 | loss: 0.03143 | mse_mse: 0.04447 |  0:07:25s\n",
      "epoch 19 | loss: 0.02595 | mse_mse: 0.01915 |  0:07:49s\n",
      "epoch 20 | loss: 0.02845 | mse_mse: 0.02297 |  0:08:13s\n",
      "\n",
      "Early stopping occurred at epoch 20 with best_epoch = 10 and best_mse_mse = 0.0126\n"
     ]
    },
    {
     "name": "stderr",
     "output_type": "stream",
     "text": [
      "/usr/local/lib/python3.9/site-packages/pytorch_tabnet/callbacks.py:172: UserWarning: Best weights from best epoch are automatically used!\n",
      "  warnings.warn(wrn_msg)\n"
     ]
    },
    {
     "name": "stdout",
     "output_type": "stream",
     "text": [
      "MSE: 0.013033728064427425\n",
      "R2 Score: 0.9412010748065129\n",
      "\n",
      "Iteration 106/162\n",
      "Configuration batch size: 16 - epochs: 200 - n_d: 32 - n_a: 32 - steps: 5 - n_indipendent: 5\n"
     ]
    },
    {
     "name": "stderr",
     "output_type": "stream",
     "text": [
      "/usr/local/lib/python3.9/site-packages/pytorch_tabnet/abstract_model.py:75: UserWarning: Device used : cpu\n",
      "  warnings.warn(f\"Device used : {self.device}\")\n"
     ]
    },
    {
     "name": "stdout",
     "output_type": "stream",
     "text": [
      "epoch 0  | loss: 0.37816 | mse_mse: 0.1309  |  0:00:22s\n",
      "epoch 1  | loss: 0.11469 | mse_mse: 0.05763 |  0:00:45s\n",
      "epoch 2  | loss: 0.0922  | mse_mse: 0.06428 |  0:01:08s\n",
      "epoch 3  | loss: 0.07379 | mse_mse: 0.04796 |  0:01:32s\n",
      "epoch 4  | loss: 0.05933 | mse_mse: 0.04416 |  0:01:55s\n",
      "epoch 5  | loss: 0.05894 | mse_mse: 0.03253 |  0:02:18s\n",
      "epoch 6  | loss: 0.0543  | mse_mse: 0.02222 |  0:02:42s\n",
      "epoch 7  | loss: 0.04191 | mse_mse: 0.02867 |  0:03:05s\n",
      "epoch 8  | loss: 0.04333 | mse_mse: 0.02145 |  0:03:30s\n",
      "epoch 9  | loss: 0.03879 | mse_mse: 0.03143 |  0:03:53s\n",
      "epoch 10 | loss: 0.03573 | mse_mse: 0.0126  |  0:04:17s\n",
      "epoch 11 | loss: 0.03844 | mse_mse: 0.03172 |  0:04:40s\n",
      "epoch 12 | loss: 0.03206 | mse_mse: 0.0289  |  0:05:04s\n",
      "epoch 13 | loss: 0.03323 | mse_mse: 0.04512 |  0:05:28s\n",
      "epoch 14 | loss: 0.03376 | mse_mse: 0.03659 |  0:05:52s\n",
      "epoch 15 | loss: 0.0335  | mse_mse: 0.12196 |  0:06:15s\n",
      "epoch 16 | loss: 0.03246 | mse_mse: 0.06005 |  0:06:39s\n",
      "epoch 17 | loss: 0.02924 | mse_mse: 0.12527 |  0:07:03s\n",
      "epoch 18 | loss: 0.03143 | mse_mse: 0.04447 |  0:07:26s\n",
      "epoch 19 | loss: 0.02595 | mse_mse: 0.01915 |  0:07:50s\n",
      "epoch 20 | loss: 0.02845 | mse_mse: 0.02297 |  0:08:13s\n",
      "\n",
      "Early stopping occurred at epoch 20 with best_epoch = 10 and best_mse_mse = 0.0126\n"
     ]
    },
    {
     "name": "stderr",
     "output_type": "stream",
     "text": [
      "/usr/local/lib/python3.9/site-packages/pytorch_tabnet/callbacks.py:172: UserWarning: Best weights from best epoch are automatically used!\n",
      "  warnings.warn(wrn_msg)\n"
     ]
    },
    {
     "name": "stdout",
     "output_type": "stream",
     "text": [
      "MSE: 0.013033728064427425\n",
      "R2 Score: 0.9412010748065129\n",
      "\n",
      "Iteration 107/162\n",
      "Configuration batch size: 16 - epochs: 200 - n_d: 32 - n_a: 32 - steps: 7 - n_indipendent: 3\n"
     ]
    },
    {
     "name": "stderr",
     "output_type": "stream",
     "text": [
      "/usr/local/lib/python3.9/site-packages/pytorch_tabnet/abstract_model.py:75: UserWarning: Device used : cpu\n",
      "  warnings.warn(f\"Device used : {self.device}\")\n"
     ]
    },
    {
     "name": "stdout",
     "output_type": "stream",
     "text": [
      "epoch 0  | loss: 0.7303  | mse_mse: 0.11341 |  0:00:30s\n",
      "epoch 1  | loss: 0.14886 | mse_mse: 0.22552 |  0:01:02s\n",
      "epoch 2  | loss: 0.13266 | mse_mse: 0.07661 |  0:01:33s\n",
      "epoch 3  | loss: 0.09582 | mse_mse: 0.0552  |  0:02:05s\n",
      "epoch 4  | loss: 0.08216 | mse_mse: 0.04465 |  0:02:38s\n",
      "epoch 5  | loss: 0.06934 | mse_mse: 0.03092 |  0:03:10s\n",
      "epoch 6  | loss: 0.05532 | mse_mse: 0.09037 |  0:03:42s\n",
      "epoch 7  | loss: 0.05304 | mse_mse: 0.03029 |  0:04:14s\n",
      "epoch 8  | loss: 0.04976 | mse_mse: 0.02645 |  0:04:46s\n",
      "epoch 9  | loss: 0.04447 | mse_mse: 0.04863 |  0:05:18s\n",
      "epoch 10 | loss: 0.04682 | mse_mse: 0.15908 |  0:05:51s\n",
      "epoch 11 | loss: 0.04225 | mse_mse: 0.07019 |  0:06:23s\n",
      "epoch 12 | loss: 0.04102 | mse_mse: 0.01742 |  0:06:55s\n",
      "epoch 13 | loss: 0.03767 | mse_mse: 0.26739 |  0:07:27s\n",
      "epoch 14 | loss: 0.03973 | mse_mse: 0.03674 |  0:07:59s\n",
      "epoch 15 | loss: 0.04038 | mse_mse: 0.02231 |  0:08:31s\n",
      "epoch 16 | loss: 0.04122 | mse_mse: 0.05131 |  0:09:03s\n",
      "epoch 17 | loss: 0.03507 | mse_mse: 0.04036 |  0:09:36s\n",
      "epoch 18 | loss: 0.03385 | mse_mse: 0.06626 |  0:10:08s\n",
      "epoch 19 | loss: 0.03429 | mse_mse: 0.03898 |  0:10:40s\n",
      "epoch 20 | loss: 0.03141 | mse_mse: 0.05853 |  0:11:12s\n",
      "epoch 21 | loss: 0.03155 | mse_mse: 0.14979 |  0:11:45s\n",
      "epoch 22 | loss: 0.02664 | mse_mse: 0.04332 |  0:12:17s\n",
      "\n",
      "Early stopping occurred at epoch 22 with best_epoch = 12 and best_mse_mse = 0.01742\n"
     ]
    },
    {
     "name": "stderr",
     "output_type": "stream",
     "text": [
      "/usr/local/lib/python3.9/site-packages/pytorch_tabnet/callbacks.py:172: UserWarning: Best weights from best epoch are automatically used!\n",
      "  warnings.warn(wrn_msg)\n"
     ]
    },
    {
     "name": "stdout",
     "output_type": "stream",
     "text": [
      "MSE: 0.016335093486892664\n",
      "R2 Score: 0.9263076584675841\n",
      "\n",
      "Iteration 108/162\n",
      "Configuration batch size: 16 - epochs: 200 - n_d: 32 - n_a: 32 - steps: 7 - n_indipendent: 5\n"
     ]
    },
    {
     "name": "stderr",
     "output_type": "stream",
     "text": [
      "/usr/local/lib/python3.9/site-packages/pytorch_tabnet/abstract_model.py:75: UserWarning: Device used : cpu\n",
      "  warnings.warn(f\"Device used : {self.device}\")\n"
     ]
    },
    {
     "name": "stdout",
     "output_type": "stream",
     "text": [
      "epoch 0  | loss: 0.7303  | mse_mse: 0.11341 |  0:00:30s\n",
      "epoch 1  | loss: 0.14886 | mse_mse: 0.22552 |  0:01:01s\n",
      "epoch 2  | loss: 0.13266 | mse_mse: 0.07661 |  0:01:33s\n",
      "epoch 3  | loss: 0.09582 | mse_mse: 0.0552  |  0:02:05s\n",
      "epoch 4  | loss: 0.08216 | mse_mse: 0.04465 |  0:02:37s\n",
      "epoch 5  | loss: 0.06934 | mse_mse: 0.03092 |  0:03:09s\n",
      "epoch 6  | loss: 0.05532 | mse_mse: 0.09037 |  0:03:42s\n",
      "epoch 7  | loss: 0.05304 | mse_mse: 0.03029 |  0:04:14s\n",
      "epoch 8  | loss: 0.04976 | mse_mse: 0.02645 |  0:04:46s\n",
      "epoch 9  | loss: 0.04447 | mse_mse: 0.04863 |  0:05:18s\n",
      "epoch 10 | loss: 0.04682 | mse_mse: 0.15908 |  0:05:50s\n",
      "epoch 11 | loss: 0.04225 | mse_mse: 0.07019 |  0:06:22s\n",
      "epoch 12 | loss: 0.04102 | mse_mse: 0.01742 |  0:06:54s\n",
      "epoch 13 | loss: 0.03767 | mse_mse: 0.26739 |  0:07:27s\n",
      "epoch 14 | loss: 0.03973 | mse_mse: 0.03674 |  0:07:59s\n",
      "epoch 15 | loss: 0.04038 | mse_mse: 0.02231 |  0:08:31s\n",
      "epoch 16 | loss: 0.04122 | mse_mse: 0.05131 |  0:09:03s\n",
      "epoch 17 | loss: 0.03507 | mse_mse: 0.04036 |  0:09:35s\n",
      "epoch 18 | loss: 0.03385 | mse_mse: 0.06626 |  0:10:08s\n",
      "epoch 19 | loss: 0.03429 | mse_mse: 0.03898 |  0:10:40s\n",
      "epoch 20 | loss: 0.03141 | mse_mse: 0.05853 |  0:11:12s\n",
      "epoch 21 | loss: 0.03155 | mse_mse: 0.14979 |  0:11:44s\n",
      "epoch 22 | loss: 0.02664 | mse_mse: 0.04332 |  0:12:16s\n",
      "\n",
      "Early stopping occurred at epoch 22 with best_epoch = 12 and best_mse_mse = 0.01742\n"
     ]
    },
    {
     "name": "stderr",
     "output_type": "stream",
     "text": [
      "/usr/local/lib/python3.9/site-packages/pytorch_tabnet/callbacks.py:172: UserWarning: Best weights from best epoch are automatically used!\n",
      "  warnings.warn(wrn_msg)\n"
     ]
    },
    {
     "name": "stdout",
     "output_type": "stream",
     "text": [
      "MSE: 0.016335093486892664\n",
      "R2 Score: 0.9263076584675841\n",
      "\n",
      "Iteration 109/162\n",
      "Configuration batch size: 32 - epochs: 200 - n_d: 8 - n_a: 8 - steps: 3 - n_indipendent: 3\n"
     ]
    },
    {
     "name": "stderr",
     "output_type": "stream",
     "text": [
      "/usr/local/lib/python3.9/site-packages/pytorch_tabnet/abstract_model.py:75: UserWarning: Device used : cpu\n",
      "  warnings.warn(f\"Device used : {self.device}\")\n"
     ]
    },
    {
     "name": "stdout",
     "output_type": "stream",
     "text": [
      "epoch 0  | loss: 0.56587 | mse_mse: 0.11559 |  0:00:07s\n",
      "epoch 1  | loss: 0.09193 | mse_mse: 0.08077 |  0:00:14s\n",
      "epoch 2  | loss: 0.05669 | mse_mse: 0.02321 |  0:00:21s\n",
      "epoch 3  | loss: 0.04191 | mse_mse: 0.01921 |  0:00:28s\n",
      "epoch 4  | loss: 0.04042 | mse_mse: 0.03239 |  0:00:36s\n",
      "epoch 5  | loss: 0.03491 | mse_mse: 0.14355 |  0:00:43s\n",
      "epoch 6  | loss: 0.02939 | mse_mse: 0.02637 |  0:00:50s\n",
      "epoch 7  | loss: 0.03219 | mse_mse: 0.02354 |  0:00:57s\n",
      "epoch 8  | loss: 0.03056 | mse_mse: 0.01333 |  0:01:05s\n",
      "epoch 9  | loss: 0.02802 | mse_mse: 0.01333 |  0:01:12s\n",
      "epoch 10 | loss: 0.02395 | mse_mse: 0.01877 |  0:01:19s\n",
      "epoch 11 | loss: 0.02219 | mse_mse: 0.05317 |  0:01:27s\n",
      "epoch 12 | loss: 0.0206  | mse_mse: 0.01427 |  0:01:34s\n",
      "epoch 13 | loss: 0.02512 | mse_mse: 0.00807 |  0:01:41s\n",
      "epoch 14 | loss: 0.02462 | mse_mse: 0.01214 |  0:01:49s\n",
      "epoch 15 | loss: 0.0227  | mse_mse: 0.01908 |  0:01:56s\n",
      "epoch 16 | loss: 0.02025 | mse_mse: 0.01736 |  0:02:03s\n",
      "epoch 17 | loss: 0.02025 | mse_mse: 0.01223 |  0:02:11s\n",
      "epoch 18 | loss: 0.02178 | mse_mse: 0.0391  |  0:02:18s\n",
      "epoch 19 | loss: 0.02685 | mse_mse: 0.04955 |  0:02:25s\n",
      "epoch 20 | loss: 0.02151 | mse_mse: 0.0142  |  0:02:32s\n",
      "epoch 21 | loss: 0.02957 | mse_mse: 0.01037 |  0:02:40s\n",
      "epoch 22 | loss: 0.02671 | mse_mse: 0.03083 |  0:02:47s\n",
      "epoch 23 | loss: 0.02347 | mse_mse: 0.03801 |  0:02:54s\n",
      "\n",
      "Early stopping occurred at epoch 23 with best_epoch = 13 and best_mse_mse = 0.00807\n"
     ]
    },
    {
     "name": "stderr",
     "output_type": "stream",
     "text": [
      "/usr/local/lib/python3.9/site-packages/pytorch_tabnet/callbacks.py:172: UserWarning: Best weights from best epoch are automatically used!\n",
      "  warnings.warn(wrn_msg)\n"
     ]
    },
    {
     "name": "stdout",
     "output_type": "stream",
     "text": [
      "MSE: 0.008589156559801159\n",
      "R2 Score: 0.9612518251463854\n",
      "Best model updated\n",
      "\n",
      "Iteration 110/162\n",
      "Configuration batch size: 32 - epochs: 200 - n_d: 8 - n_a: 8 - steps: 3 - n_indipendent: 5\n"
     ]
    },
    {
     "name": "stderr",
     "output_type": "stream",
     "text": [
      "/usr/local/lib/python3.9/site-packages/pytorch_tabnet/abstract_model.py:75: UserWarning: Device used : cpu\n",
      "  warnings.warn(f\"Device used : {self.device}\")\n"
     ]
    },
    {
     "name": "stdout",
     "output_type": "stream",
     "text": [
      "epoch 0  | loss: 0.56587 | mse_mse: 0.11559 |  0:00:07s\n",
      "epoch 1  | loss: 0.09193 | mse_mse: 0.08077 |  0:00:14s\n",
      "epoch 2  | loss: 0.05669 | mse_mse: 0.02321 |  0:00:21s\n",
      "epoch 3  | loss: 0.04191 | mse_mse: 0.01921 |  0:00:28s\n",
      "epoch 4  | loss: 0.04042 | mse_mse: 0.03239 |  0:00:36s\n",
      "epoch 5  | loss: 0.03491 | mse_mse: 0.14355 |  0:00:43s\n",
      "epoch 6  | loss: 0.02939 | mse_mse: 0.02637 |  0:00:50s\n",
      "epoch 7  | loss: 0.03219 | mse_mse: 0.02354 |  0:00:57s\n",
      "epoch 8  | loss: 0.03056 | mse_mse: 0.01333 |  0:01:05s\n",
      "epoch 9  | loss: 0.02802 | mse_mse: 0.01333 |  0:01:12s\n",
      "epoch 10 | loss: 0.02395 | mse_mse: 0.01877 |  0:01:19s\n",
      "epoch 11 | loss: 0.02219 | mse_mse: 0.05317 |  0:01:27s\n",
      "epoch 12 | loss: 0.0206  | mse_mse: 0.01427 |  0:01:34s\n",
      "epoch 13 | loss: 0.02512 | mse_mse: 0.00807 |  0:01:41s\n",
      "epoch 14 | loss: 0.02462 | mse_mse: 0.01214 |  0:01:49s\n",
      "epoch 15 | loss: 0.0227  | mse_mse: 0.01908 |  0:01:56s\n",
      "epoch 16 | loss: 0.02025 | mse_mse: 0.01736 |  0:02:03s\n",
      "epoch 17 | loss: 0.02025 | mse_mse: 0.01223 |  0:02:10s\n",
      "epoch 18 | loss: 0.02178 | mse_mse: 0.0391  |  0:02:18s\n",
      "epoch 19 | loss: 0.02685 | mse_mse: 0.04955 |  0:02:25s\n",
      "epoch 20 | loss: 0.02151 | mse_mse: 0.0142  |  0:02:32s\n",
      "epoch 21 | loss: 0.02957 | mse_mse: 0.01037 |  0:02:40s\n",
      "epoch 22 | loss: 0.02671 | mse_mse: 0.03083 |  0:02:47s\n",
      "epoch 23 | loss: 0.02347 | mse_mse: 0.03801 |  0:02:54s\n",
      "\n",
      "Early stopping occurred at epoch 23 with best_epoch = 13 and best_mse_mse = 0.00807\n"
     ]
    },
    {
     "name": "stderr",
     "output_type": "stream",
     "text": [
      "/usr/local/lib/python3.9/site-packages/pytorch_tabnet/callbacks.py:172: UserWarning: Best weights from best epoch are automatically used!\n",
      "  warnings.warn(wrn_msg)\n"
     ]
    },
    {
     "name": "stdout",
     "output_type": "stream",
     "text": [
      "MSE: 0.008589156559801159\n",
      "R2 Score: 0.9612518251463854\n",
      "\n",
      "Iteration 111/162\n",
      "Configuration batch size: 32 - epochs: 200 - n_d: 8 - n_a: 8 - steps: 5 - n_indipendent: 3\n"
     ]
    },
    {
     "name": "stderr",
     "output_type": "stream",
     "text": [
      "/usr/local/lib/python3.9/site-packages/pytorch_tabnet/abstract_model.py:75: UserWarning: Device used : cpu\n",
      "  warnings.warn(f\"Device used : {self.device}\")\n"
     ]
    },
    {
     "name": "stdout",
     "output_type": "stream",
     "text": [
      "epoch 0  | loss: 0.54178 | mse_mse: 0.18532 |  0:00:11s\n",
      "epoch 1  | loss: 0.13328 | mse_mse: 0.08607 |  0:00:22s\n",
      "epoch 2  | loss: 0.10231 | mse_mse: 0.08088 |  0:00:34s\n",
      "epoch 3  | loss: 0.07223 | mse_mse: 0.04764 |  0:00:45s\n",
      "epoch 4  | loss: 0.05655 | mse_mse: 0.05346 |  0:00:57s\n",
      "epoch 5  | loss: 0.03762 | mse_mse: 0.04135 |  0:01:08s\n",
      "epoch 6  | loss: 0.04624 | mse_mse: 0.03061 |  0:01:20s\n",
      "epoch 7  | loss: 0.03492 | mse_mse: 0.01913 |  0:01:31s\n",
      "epoch 8  | loss: 0.02831 | mse_mse: 0.03641 |  0:01:43s\n",
      "epoch 9  | loss: 0.03311 | mse_mse: 0.02966 |  0:01:55s\n",
      "epoch 10 | loss: 0.02613 | mse_mse: 0.01572 |  0:02:06s\n",
      "epoch 11 | loss: 0.02444 | mse_mse: 0.02503 |  0:02:18s\n",
      "epoch 12 | loss: 0.03021 | mse_mse: 0.023   |  0:02:29s\n",
      "epoch 13 | loss: 0.03035 | mse_mse: 0.02471 |  0:02:41s\n",
      "epoch 14 | loss: 0.02749 | mse_mse: 0.015   |  0:02:52s\n",
      "epoch 15 | loss: 0.0254  | mse_mse: 0.03487 |  0:03:04s\n",
      "epoch 16 | loss: 0.02351 | mse_mse: 0.02386 |  0:03:16s\n",
      "epoch 17 | loss: 0.02493 | mse_mse: 0.01688 |  0:03:27s\n",
      "epoch 18 | loss: 0.02406 | mse_mse: 0.01878 |  0:03:39s\n",
      "epoch 19 | loss: 0.02291 | mse_mse: 0.00905 |  0:03:50s\n",
      "epoch 20 | loss: 0.02567 | mse_mse: 0.04191 |  0:04:02s\n",
      "epoch 21 | loss: 0.02552 | mse_mse: 0.06802 |  0:04:13s\n",
      "epoch 22 | loss: 0.01937 | mse_mse: 0.01904 |  0:04:25s\n",
      "epoch 23 | loss: 0.03836 | mse_mse: 0.03421 |  0:04:37s\n",
      "epoch 24 | loss: 0.0259  | mse_mse: 0.19621 |  0:04:48s\n",
      "epoch 25 | loss: 0.02762 | mse_mse: 0.02399 |  0:05:00s\n",
      "epoch 26 | loss: 0.02438 | mse_mse: 0.01132 |  0:05:11s\n",
      "epoch 27 | loss: 0.02236 | mse_mse: 0.0238  |  0:05:23s\n",
      "epoch 28 | loss: 0.02364 | mse_mse: 0.01243 |  0:05:35s\n",
      "epoch 29 | loss: 0.02285 | mse_mse: 0.02607 |  0:05:46s\n",
      "\n",
      "Early stopping occurred at epoch 29 with best_epoch = 19 and best_mse_mse = 0.00905\n"
     ]
    },
    {
     "name": "stderr",
     "output_type": "stream",
     "text": [
      "/usr/local/lib/python3.9/site-packages/pytorch_tabnet/callbacks.py:172: UserWarning: Best weights from best epoch are automatically used!\n",
      "  warnings.warn(wrn_msg)\n"
     ]
    },
    {
     "name": "stdout",
     "output_type": "stream",
     "text": [
      "MSE: 0.009407084999573549\n",
      "R2 Score: 0.957561912873698\n",
      "\n",
      "Iteration 112/162\n",
      "Configuration batch size: 32 - epochs: 200 - n_d: 8 - n_a: 8 - steps: 5 - n_indipendent: 5\n"
     ]
    },
    {
     "name": "stderr",
     "output_type": "stream",
     "text": [
      "/usr/local/lib/python3.9/site-packages/pytorch_tabnet/abstract_model.py:75: UserWarning: Device used : cpu\n",
      "  warnings.warn(f\"Device used : {self.device}\")\n"
     ]
    },
    {
     "name": "stdout",
     "output_type": "stream",
     "text": [
      "epoch 0  | loss: 0.54178 | mse_mse: 0.18532 |  0:00:11s\n",
      "epoch 1  | loss: 0.13328 | mse_mse: 0.08607 |  0:00:22s\n",
      "epoch 2  | loss: 0.10231 | mse_mse: 0.08088 |  0:00:33s\n",
      "epoch 3  | loss: 0.07223 | mse_mse: 0.04764 |  0:00:45s\n",
      "epoch 4  | loss: 0.05655 | mse_mse: 0.05346 |  0:00:56s\n",
      "epoch 5  | loss: 0.03762 | mse_mse: 0.04135 |  0:01:08s\n",
      "epoch 6  | loss: 0.04624 | mse_mse: 0.03061 |  0:01:20s\n",
      "epoch 7  | loss: 0.03492 | mse_mse: 0.01913 |  0:01:31s\n",
      "epoch 8  | loss: 0.02831 | mse_mse: 0.03641 |  0:01:43s\n",
      "epoch 9  | loss: 0.03311 | mse_mse: 0.02966 |  0:01:55s\n",
      "epoch 10 | loss: 0.02613 | mse_mse: 0.01572 |  0:02:06s\n",
      "epoch 11 | loss: 0.02444 | mse_mse: 0.02503 |  0:02:18s\n",
      "epoch 12 | loss: 0.03021 | mse_mse: 0.023   |  0:02:29s\n",
      "epoch 13 | loss: 0.03035 | mse_mse: 0.02471 |  0:02:41s\n",
      "epoch 14 | loss: 0.02749 | mse_mse: 0.015   |  0:02:52s\n",
      "epoch 15 | loss: 0.0254  | mse_mse: 0.03487 |  0:03:04s\n",
      "epoch 16 | loss: 0.02351 | mse_mse: 0.02386 |  0:03:16s\n",
      "epoch 17 | loss: 0.02493 | mse_mse: 0.01688 |  0:03:27s\n",
      "epoch 18 | loss: 0.02406 | mse_mse: 0.01878 |  0:03:39s\n",
      "epoch 19 | loss: 0.02291 | mse_mse: 0.00905 |  0:03:50s\n",
      "epoch 20 | loss: 0.02567 | mse_mse: 0.04191 |  0:04:02s\n",
      "epoch 21 | loss: 0.02552 | mse_mse: 0.06802 |  0:04:14s\n",
      "epoch 22 | loss: 0.01937 | mse_mse: 0.01904 |  0:04:25s\n",
      "epoch 23 | loss: 0.03836 | mse_mse: 0.03421 |  0:04:37s\n",
      "epoch 24 | loss: 0.0259  | mse_mse: 0.19621 |  0:04:48s\n",
      "epoch 25 | loss: 0.02762 | mse_mse: 0.02399 |  0:05:00s\n",
      "epoch 26 | loss: 0.02438 | mse_mse: 0.01132 |  0:05:11s\n",
      "epoch 27 | loss: 0.02236 | mse_mse: 0.0238  |  0:05:23s\n",
      "epoch 28 | loss: 0.02364 | mse_mse: 0.01243 |  0:05:34s\n",
      "epoch 29 | loss: 0.02285 | mse_mse: 0.02607 |  0:05:46s\n",
      "\n",
      "Early stopping occurred at epoch 29 with best_epoch = 19 and best_mse_mse = 0.00905\n"
     ]
    },
    {
     "name": "stderr",
     "output_type": "stream",
     "text": [
      "/usr/local/lib/python3.9/site-packages/pytorch_tabnet/callbacks.py:172: UserWarning: Best weights from best epoch are automatically used!\n",
      "  warnings.warn(wrn_msg)\n"
     ]
    },
    {
     "name": "stdout",
     "output_type": "stream",
     "text": [
      "MSE: 0.009407084999573549\n",
      "R2 Score: 0.957561912873698\n",
      "\n",
      "Iteration 113/162\n",
      "Configuration batch size: 32 - epochs: 200 - n_d: 8 - n_a: 8 - steps: 7 - n_indipendent: 3\n"
     ]
    },
    {
     "name": "stderr",
     "output_type": "stream",
     "text": [
      "/usr/local/lib/python3.9/site-packages/pytorch_tabnet/abstract_model.py:75: UserWarning: Device used : cpu\n",
      "  warnings.warn(f\"Device used : {self.device}\")\n"
     ]
    },
    {
     "name": "stdout",
     "output_type": "stream",
     "text": [
      "epoch 0  | loss: 0.715   | mse_mse: 0.1545  |  0:00:15s\n",
      "epoch 1  | loss: 0.17374 | mse_mse: 0.12864 |  0:00:30s\n",
      "epoch 2  | loss: 0.11474 | mse_mse: 0.0829  |  0:00:46s\n",
      "epoch 3  | loss: 0.09107 | mse_mse: 0.07713 |  0:01:02s\n",
      "epoch 4  | loss: 0.09365 | mse_mse: 0.08065 |  0:01:18s\n",
      "epoch 5  | loss: 0.07793 | mse_mse: 0.0502  |  0:01:33s\n",
      "epoch 6  | loss: 0.06251 | mse_mse: 0.04927 |  0:01:49s\n",
      "epoch 7  | loss: 0.04985 | mse_mse: 0.05583 |  0:02:05s\n",
      "epoch 8  | loss: 0.03987 | mse_mse: 0.05785 |  0:02:21s\n",
      "epoch 9  | loss: 0.04037 | mse_mse: 0.0231  |  0:02:37s\n",
      "epoch 10 | loss: 0.0394  | mse_mse: 0.04252 |  0:02:53s\n",
      "epoch 11 | loss: 0.03015 | mse_mse: 0.02532 |  0:03:10s\n",
      "epoch 12 | loss: 0.02652 | mse_mse: 0.10159 |  0:03:26s\n",
      "epoch 13 | loss: 0.02993 | mse_mse: 0.01251 |  0:03:41s\n",
      "epoch 14 | loss: 0.02824 | mse_mse: 0.01415 |  0:03:57s\n",
      "epoch 15 | loss: 0.02804 | mse_mse: 0.01608 |  0:04:13s\n",
      "epoch 16 | loss: 0.03005 | mse_mse: 0.02858 |  0:04:28s\n",
      "epoch 17 | loss: 0.02479 | mse_mse: 0.12142 |  0:04:44s\n",
      "epoch 18 | loss: 0.02587 | mse_mse: 0.01916 |  0:05:00s\n",
      "epoch 19 | loss: 0.02817 | mse_mse: 0.02401 |  0:05:15s\n",
      "epoch 20 | loss: 0.02323 | mse_mse: 0.0698  |  0:05:31s\n",
      "epoch 21 | loss: 0.02285 | mse_mse: 0.01407 |  0:05:47s\n",
      "epoch 22 | loss: 0.02411 | mse_mse: 0.13548 |  0:06:02s\n",
      "epoch 23 | loss: 0.02976 | mse_mse: 0.00956 |  0:06:18s\n",
      "epoch 24 | loss: 0.03323 | mse_mse: 0.09106 |  0:06:34s\n",
      "epoch 25 | loss: 0.02825 | mse_mse: 0.02735 |  0:06:50s\n",
      "epoch 26 | loss: 0.02389 | mse_mse: 0.02143 |  0:07:05s\n",
      "epoch 27 | loss: 0.02533 | mse_mse: 0.03325 |  0:07:21s\n",
      "epoch 28 | loss: 0.02518 | mse_mse: 0.01286 |  0:07:37s\n",
      "epoch 29 | loss: 0.02209 | mse_mse: 0.01184 |  0:07:52s\n",
      "epoch 30 | loss: 0.02332 | mse_mse: 0.01761 |  0:08:08s\n",
      "epoch 31 | loss: 0.02131 | mse_mse: 0.03408 |  0:08:24s\n",
      "epoch 32 | loss: 0.0226  | mse_mse: 0.01601 |  0:08:40s\n",
      "epoch 33 | loss: 0.02073 | mse_mse: 0.01581 |  0:08:56s\n",
      "\n",
      "Early stopping occurred at epoch 33 with best_epoch = 23 and best_mse_mse = 0.00956\n"
     ]
    },
    {
     "name": "stderr",
     "output_type": "stream",
     "text": [
      "/usr/local/lib/python3.9/site-packages/pytorch_tabnet/callbacks.py:172: UserWarning: Best weights from best epoch are automatically used!\n",
      "  warnings.warn(wrn_msg)\n"
     ]
    },
    {
     "name": "stdout",
     "output_type": "stream",
     "text": [
      "MSE: 0.009803099316000548\n",
      "R2 Score: 0.9557753775054565\n",
      "\n",
      "Iteration 114/162\n",
      "Configuration batch size: 32 - epochs: 200 - n_d: 8 - n_a: 8 - steps: 7 - n_indipendent: 5\n"
     ]
    },
    {
     "name": "stderr",
     "output_type": "stream",
     "text": [
      "/usr/local/lib/python3.9/site-packages/pytorch_tabnet/abstract_model.py:75: UserWarning: Device used : cpu\n",
      "  warnings.warn(f\"Device used : {self.device}\")\n"
     ]
    },
    {
     "name": "stdout",
     "output_type": "stream",
     "text": [
      "epoch 0  | loss: 0.715   | mse_mse: 0.1545  |  0:00:15s\n",
      "epoch 1  | loss: 0.17374 | mse_mse: 0.12864 |  0:00:30s\n",
      "epoch 2  | loss: 0.11474 | mse_mse: 0.0829  |  0:00:45s\n",
      "epoch 3  | loss: 0.09107 | mse_mse: 0.07713 |  0:01:01s\n",
      "epoch 4  | loss: 0.09365 | mse_mse: 0.08065 |  0:01:17s\n",
      "epoch 5  | loss: 0.07793 | mse_mse: 0.0502  |  0:01:32s\n",
      "epoch 6  | loss: 0.06251 | mse_mse: 0.04927 |  0:01:48s\n",
      "epoch 7  | loss: 0.04985 | mse_mse: 0.05583 |  0:02:04s\n",
      "epoch 8  | loss: 0.03987 | mse_mse: 0.05785 |  0:02:19s\n",
      "epoch 9  | loss: 0.04037 | mse_mse: 0.0231  |  0:02:35s\n",
      "epoch 10 | loss: 0.0394  | mse_mse: 0.04252 |  0:02:51s\n",
      "epoch 11 | loss: 0.03015 | mse_mse: 0.02532 |  0:03:06s\n",
      "epoch 12 | loss: 0.02652 | mse_mse: 0.10159 |  0:03:22s\n",
      "epoch 13 | loss: 0.02993 | mse_mse: 0.01251 |  0:03:38s\n",
      "epoch 14 | loss: 0.02824 | mse_mse: 0.01415 |  0:03:53s\n",
      "epoch 15 | loss: 0.02804 | mse_mse: 0.01608 |  0:04:09s\n",
      "epoch 16 | loss: 0.03005 | mse_mse: 0.02858 |  0:04:25s\n",
      "epoch 17 | loss: 0.02479 | mse_mse: 0.12142 |  0:04:40s\n",
      "epoch 18 | loss: 0.02587 | mse_mse: 0.01916 |  0:04:56s\n",
      "epoch 19 | loss: 0.02817 | mse_mse: 0.02401 |  0:05:12s\n",
      "epoch 20 | loss: 0.02323 | mse_mse: 0.0698  |  0:05:28s\n",
      "epoch 21 | loss: 0.02285 | mse_mse: 0.01407 |  0:05:44s\n",
      "epoch 22 | loss: 0.02411 | mse_mse: 0.13548 |  0:05:59s\n",
      "epoch 23 | loss: 0.02976 | mse_mse: 0.00956 |  0:06:15s\n",
      "epoch 24 | loss: 0.03323 | mse_mse: 0.09106 |  0:06:31s\n",
      "epoch 25 | loss: 0.02825 | mse_mse: 0.02735 |  0:06:47s\n",
      "epoch 26 | loss: 0.02389 | mse_mse: 0.02143 |  0:07:02s\n",
      "epoch 27 | loss: 0.02533 | mse_mse: 0.03325 |  0:07:18s\n",
      "epoch 28 | loss: 0.02518 | mse_mse: 0.01286 |  0:07:34s\n",
      "epoch 29 | loss: 0.02209 | mse_mse: 0.01184 |  0:07:50s\n",
      "epoch 30 | loss: 0.02332 | mse_mse: 0.01761 |  0:08:06s\n",
      "epoch 31 | loss: 0.02131 | mse_mse: 0.03408 |  0:08:22s\n",
      "epoch 32 | loss: 0.0226  | mse_mse: 0.01601 |  0:08:37s\n",
      "epoch 33 | loss: 0.02073 | mse_mse: 0.01581 |  0:08:53s\n",
      "\n",
      "Early stopping occurred at epoch 33 with best_epoch = 23 and best_mse_mse = 0.00956\n"
     ]
    },
    {
     "name": "stderr",
     "output_type": "stream",
     "text": [
      "/usr/local/lib/python3.9/site-packages/pytorch_tabnet/callbacks.py:172: UserWarning: Best weights from best epoch are automatically used!\n",
      "  warnings.warn(wrn_msg)\n"
     ]
    },
    {
     "name": "stdout",
     "output_type": "stream",
     "text": [
      "MSE: 0.009803099316000548\n",
      "R2 Score: 0.9557753775054565\n",
      "\n",
      "Iteration 115/162\n",
      "Configuration batch size: 32 - epochs: 200 - n_d: 8 - n_a: 16 - steps: 3 - n_indipendent: 3\n"
     ]
    },
    {
     "name": "stderr",
     "output_type": "stream",
     "text": [
      "/usr/local/lib/python3.9/site-packages/pytorch_tabnet/abstract_model.py:75: UserWarning: Device used : cpu\n",
      "  warnings.warn(f\"Device used : {self.device}\")\n"
     ]
    },
    {
     "name": "stdout",
     "output_type": "stream",
     "text": [
      "epoch 0  | loss: 0.50471 | mse_mse: 0.12943 |  0:00:07s\n",
      "epoch 1  | loss: 0.06795 | mse_mse: 0.0267  |  0:00:14s\n",
      "epoch 2  | loss: 0.04693 | mse_mse: 0.04221 |  0:00:22s\n",
      "epoch 3  | loss: 0.03819 | mse_mse: 0.01533 |  0:00:29s\n",
      "epoch 4  | loss: 0.04079 | mse_mse: 0.05096 |  0:00:37s\n",
      "epoch 5  | loss: 0.02954 | mse_mse: 0.02356 |  0:00:45s\n",
      "epoch 6  | loss: 0.02685 | mse_mse: 0.03696 |  0:00:52s\n",
      "epoch 7  | loss: 0.0323  | mse_mse: 0.02772 |  0:01:00s\n",
      "epoch 8  | loss: 0.02657 | mse_mse: 0.01458 |  0:01:07s\n",
      "epoch 9  | loss: 0.02929 | mse_mse: 0.10997 |  0:01:15s\n",
      "epoch 10 | loss: 0.02842 | mse_mse: 0.03246 |  0:01:23s\n",
      "epoch 11 | loss: 0.03028 | mse_mse: 0.0452  |  0:01:30s\n",
      "epoch 12 | loss: 0.03224 | mse_mse: 0.02156 |  0:01:38s\n",
      "epoch 13 | loss: 0.02779 | mse_mse: 0.02318 |  0:01:46s\n",
      "epoch 14 | loss: 0.02385 | mse_mse: 0.02111 |  0:01:53s\n",
      "epoch 15 | loss: 0.02794 | mse_mse: 0.02039 |  0:02:01s\n",
      "epoch 16 | loss: 0.02241 | mse_mse: 0.01584 |  0:02:09s\n",
      "epoch 17 | loss: 0.02517 | mse_mse: 0.01805 |  0:02:16s\n",
      "epoch 18 | loss: 0.0246  | mse_mse: 0.01242 |  0:02:24s\n",
      "epoch 19 | loss: 0.02718 | mse_mse: 0.02319 |  0:02:32s\n",
      "epoch 20 | loss: 0.02455 | mse_mse: 0.05844 |  0:02:39s\n",
      "epoch 21 | loss: 0.02229 | mse_mse: 0.01133 |  0:02:47s\n",
      "epoch 22 | loss: 0.02319 | mse_mse: 0.01976 |  0:02:55s\n",
      "epoch 23 | loss: 0.02447 | mse_mse: 0.02105 |  0:03:03s\n",
      "epoch 24 | loss: 0.02446 | mse_mse: 0.03054 |  0:03:10s\n",
      "epoch 25 | loss: 0.02253 | mse_mse: 0.06098 |  0:03:18s\n",
      "epoch 26 | loss: 0.02459 | mse_mse: 0.04926 |  0:03:26s\n",
      "epoch 27 | loss: 0.02115 | mse_mse: 0.01355 |  0:03:33s\n",
      "epoch 28 | loss: 0.02201 | mse_mse: 0.05227 |  0:03:41s\n",
      "epoch 29 | loss: 0.02724 | mse_mse: 0.00941 |  0:03:49s\n",
      "epoch 30 | loss: 0.02321 | mse_mse: 0.02425 |  0:03:56s\n",
      "epoch 31 | loss: 0.02035 | mse_mse: 0.01616 |  0:04:04s\n",
      "epoch 32 | loss: 0.02417 | mse_mse: 0.03676 |  0:04:12s\n",
      "epoch 33 | loss: 0.02263 | mse_mse: 0.0189  |  0:04:19s\n",
      "epoch 34 | loss: 0.021   | mse_mse: 0.01242 |  0:04:27s\n",
      "epoch 35 | loss: 0.02171 | mse_mse: 0.02759 |  0:04:35s\n",
      "epoch 36 | loss: 0.02184 | mse_mse: 0.01877 |  0:04:42s\n",
      "epoch 37 | loss: 0.0215  | mse_mse: 0.01732 |  0:04:50s\n",
      "epoch 38 | loss: 0.02187 | mse_mse: 0.02641 |  0:04:58s\n",
      "epoch 39 | loss: 0.02016 | mse_mse: 0.03091 |  0:05:05s\n",
      "\n",
      "Early stopping occurred at epoch 39 with best_epoch = 29 and best_mse_mse = 0.00941\n"
     ]
    },
    {
     "name": "stderr",
     "output_type": "stream",
     "text": [
      "/usr/local/lib/python3.9/site-packages/pytorch_tabnet/callbacks.py:172: UserWarning: Best weights from best epoch are automatically used!\n",
      "  warnings.warn(wrn_msg)\n"
     ]
    },
    {
     "name": "stdout",
     "output_type": "stream",
     "text": [
      "MSE: 0.009130119495046952\n",
      "R2 Score: 0.9588113845445304\n",
      "\n",
      "Iteration 116/162\n",
      "Configuration batch size: 32 - epochs: 200 - n_d: 8 - n_a: 16 - steps: 3 - n_indipendent: 5\n"
     ]
    },
    {
     "name": "stderr",
     "output_type": "stream",
     "text": [
      "/usr/local/lib/python3.9/site-packages/pytorch_tabnet/abstract_model.py:75: UserWarning: Device used : cpu\n",
      "  warnings.warn(f\"Device used : {self.device}\")\n"
     ]
    },
    {
     "name": "stdout",
     "output_type": "stream",
     "text": [
      "epoch 0  | loss: 0.50471 | mse_mse: 0.12943 |  0:00:07s\n",
      "epoch 1  | loss: 0.06795 | mse_mse: 0.0267  |  0:00:14s\n",
      "epoch 2  | loss: 0.04693 | mse_mse: 0.04221 |  0:00:22s\n",
      "epoch 3  | loss: 0.03819 | mse_mse: 0.01533 |  0:00:30s\n",
      "epoch 4  | loss: 0.04079 | mse_mse: 0.05096 |  0:00:37s\n",
      "epoch 5  | loss: 0.02954 | mse_mse: 0.02356 |  0:00:45s\n",
      "epoch 6  | loss: 0.02685 | mse_mse: 0.03696 |  0:00:52s\n",
      "epoch 7  | loss: 0.0323  | mse_mse: 0.02772 |  0:01:00s\n",
      "epoch 8  | loss: 0.02657 | mse_mse: 0.01458 |  0:01:08s\n",
      "epoch 9  | loss: 0.02929 | mse_mse: 0.10997 |  0:01:15s\n",
      "epoch 10 | loss: 0.02842 | mse_mse: 0.03246 |  0:01:23s\n",
      "epoch 11 | loss: 0.03028 | mse_mse: 0.0452  |  0:01:31s\n",
      "epoch 12 | loss: 0.03224 | mse_mse: 0.02156 |  0:01:38s\n",
      "epoch 13 | loss: 0.02779 | mse_mse: 0.02318 |  0:01:46s\n",
      "epoch 14 | loss: 0.02385 | mse_mse: 0.02111 |  0:01:54s\n",
      "epoch 15 | loss: 0.02794 | mse_mse: 0.02039 |  0:02:01s\n",
      "epoch 16 | loss: 0.02241 | mse_mse: 0.01584 |  0:02:09s\n",
      "epoch 17 | loss: 0.02517 | mse_mse: 0.01805 |  0:02:17s\n",
      "epoch 18 | loss: 0.0246  | mse_mse: 0.01242 |  0:02:24s\n",
      "epoch 19 | loss: 0.02718 | mse_mse: 0.02319 |  0:02:32s\n",
      "epoch 20 | loss: 0.02455 | mse_mse: 0.05844 |  0:02:40s\n",
      "epoch 21 | loss: 0.02229 | mse_mse: 0.01133 |  0:02:48s\n",
      "epoch 22 | loss: 0.02319 | mse_mse: 0.01976 |  0:02:55s\n",
      "epoch 23 | loss: 0.02447 | mse_mse: 0.02105 |  0:03:03s\n",
      "epoch 24 | loss: 0.02446 | mse_mse: 0.03054 |  0:03:11s\n",
      "epoch 25 | loss: 0.02253 | mse_mse: 0.06098 |  0:03:18s\n",
      "epoch 26 | loss: 0.02459 | mse_mse: 0.04926 |  0:03:26s\n",
      "epoch 27 | loss: 0.02115 | mse_mse: 0.01355 |  0:03:34s\n",
      "epoch 28 | loss: 0.02201 | mse_mse: 0.05227 |  0:03:41s\n",
      "epoch 29 | loss: 0.02724 | mse_mse: 0.00941 |  0:03:49s\n",
      "epoch 30 | loss: 0.02321 | mse_mse: 0.02425 |  0:03:57s\n",
      "epoch 31 | loss: 0.02035 | mse_mse: 0.01616 |  0:04:04s\n",
      "epoch 32 | loss: 0.02417 | mse_mse: 0.03676 |  0:04:12s\n",
      "epoch 33 | loss: 0.02263 | mse_mse: 0.0189  |  0:04:20s\n",
      "epoch 34 | loss: 0.021   | mse_mse: 0.01242 |  0:04:27s\n",
      "epoch 35 | loss: 0.02171 | mse_mse: 0.02759 |  0:04:35s\n",
      "epoch 36 | loss: 0.02184 | mse_mse: 0.01877 |  0:04:43s\n",
      "epoch 37 | loss: 0.0215  | mse_mse: 0.01732 |  0:04:50s\n",
      "epoch 38 | loss: 0.02187 | mse_mse: 0.02641 |  0:04:58s\n",
      "epoch 39 | loss: 0.02016 | mse_mse: 0.03091 |  0:05:06s\n",
      "\n",
      "Early stopping occurred at epoch 39 with best_epoch = 29 and best_mse_mse = 0.00941\n"
     ]
    },
    {
     "name": "stderr",
     "output_type": "stream",
     "text": [
      "/usr/local/lib/python3.9/site-packages/pytorch_tabnet/callbacks.py:172: UserWarning: Best weights from best epoch are automatically used!\n",
      "  warnings.warn(wrn_msg)\n"
     ]
    },
    {
     "name": "stdout",
     "output_type": "stream",
     "text": [
      "MSE: 0.009130119495046952\n",
      "R2 Score: 0.9588113845445304\n",
      "\n",
      "Iteration 117/162\n",
      "Configuration batch size: 32 - epochs: 200 - n_d: 8 - n_a: 16 - steps: 5 - n_indipendent: 3\n"
     ]
    },
    {
     "name": "stderr",
     "output_type": "stream",
     "text": [
      "/usr/local/lib/python3.9/site-packages/pytorch_tabnet/abstract_model.py:75: UserWarning: Device used : cpu\n",
      "  warnings.warn(f\"Device used : {self.device}\")\n"
     ]
    },
    {
     "name": "stdout",
     "output_type": "stream",
     "text": [
      "epoch 0  | loss: 0.48158 | mse_mse: 0.16291 |  0:00:11s\n",
      "epoch 1  | loss: 0.15844 | mse_mse: 0.13137 |  0:00:23s\n",
      "epoch 2  | loss: 0.12271 | mse_mse: 0.11516 |  0:00:35s\n",
      "epoch 3  | loss: 0.09861 | mse_mse: 0.1263  |  0:00:47s\n",
      "epoch 4  | loss: 0.06801 | mse_mse: 0.08681 |  0:00:59s\n",
      "epoch 5  | loss: 0.05668 | mse_mse: 0.03803 |  0:01:12s\n",
      "epoch 6  | loss: 0.04857 | mse_mse: 0.05913 |  0:01:24s\n",
      "epoch 7  | loss: 0.04758 | mse_mse: 0.0553  |  0:01:36s\n",
      "epoch 8  | loss: 0.04097 | mse_mse: 0.02974 |  0:01:48s\n",
      "epoch 9  | loss: 0.03339 | mse_mse: 0.02576 |  0:02:00s\n",
      "epoch 10 | loss: 0.03143 | mse_mse: 0.04198 |  0:02:13s\n",
      "epoch 11 | loss: 0.02713 | mse_mse: 0.01552 |  0:02:24s\n",
      "epoch 12 | loss: 0.02685 | mse_mse: 0.02088 |  0:02:37s\n",
      "epoch 13 | loss: 0.0315  | mse_mse: 0.01302 |  0:02:49s\n",
      "epoch 14 | loss: 0.03239 | mse_mse: 0.01665 |  0:03:01s\n",
      "epoch 15 | loss: 0.02476 | mse_mse: 0.00978 |  0:03:13s\n",
      "epoch 16 | loss: 0.02655 | mse_mse: 0.01078 |  0:03:25s\n",
      "epoch 17 | loss: 0.02822 | mse_mse: 0.03076 |  0:03:38s\n",
      "epoch 18 | loss: 0.02559 | mse_mse: 0.02756 |  0:03:50s\n",
      "epoch 19 | loss: 0.03535 | mse_mse: 0.01816 |  0:04:02s\n",
      "epoch 20 | loss: 0.02842 | mse_mse: 0.01915 |  0:04:14s\n",
      "epoch 21 | loss: 0.03115 | mse_mse: 0.019   |  0:04:26s\n",
      "epoch 22 | loss: 0.02248 | mse_mse: 0.00959 |  0:04:38s\n",
      "epoch 23 | loss: 0.02499 | mse_mse: 0.00717 |  0:04:51s\n",
      "epoch 24 | loss: 0.02597 | mse_mse: 0.03441 |  0:05:02s\n",
      "epoch 25 | loss: 0.02592 | mse_mse: 0.00821 |  0:05:15s\n",
      "epoch 26 | loss: 0.02843 | mse_mse: 0.01139 |  0:05:27s\n",
      "epoch 27 | loss: 0.02463 | mse_mse: 0.01449 |  0:05:39s\n",
      "epoch 28 | loss: 0.02786 | mse_mse: 0.01183 |  0:05:51s\n",
      "epoch 29 | loss: 0.02465 | mse_mse: 0.08561 |  0:06:03s\n",
      "epoch 30 | loss: 0.02429 | mse_mse: 0.05124 |  0:06:15s\n",
      "epoch 31 | loss: 0.02712 | mse_mse: 0.02315 |  0:06:27s\n",
      "epoch 32 | loss: 0.02305 | mse_mse: 0.00851 |  0:06:39s\n",
      "epoch 33 | loss: 0.02346 | mse_mse: 0.02721 |  0:06:52s\n",
      "\n",
      "Early stopping occurred at epoch 33 with best_epoch = 23 and best_mse_mse = 0.00717\n"
     ]
    },
    {
     "name": "stderr",
     "output_type": "stream",
     "text": [
      "/usr/local/lib/python3.9/site-packages/pytorch_tabnet/callbacks.py:172: UserWarning: Best weights from best epoch are automatically used!\n",
      "  warnings.warn(wrn_msg)\n"
     ]
    },
    {
     "name": "stdout",
     "output_type": "stream",
     "text": [
      "MSE: 0.007495143315045525\n",
      "R2 Score: 0.9661872359989899\n",
      "Best model updated\n",
      "\n",
      "Iteration 118/162\n",
      "Configuration batch size: 32 - epochs: 200 - n_d: 8 - n_a: 16 - steps: 5 - n_indipendent: 5\n"
     ]
    },
    {
     "name": "stderr",
     "output_type": "stream",
     "text": [
      "/usr/local/lib/python3.9/site-packages/pytorch_tabnet/abstract_model.py:75: UserWarning: Device used : cpu\n",
      "  warnings.warn(f\"Device used : {self.device}\")\n"
     ]
    },
    {
     "name": "stdout",
     "output_type": "stream",
     "text": [
      "epoch 0  | loss: 0.48158 | mse_mse: 0.16291 |  0:00:11s\n",
      "epoch 1  | loss: 0.15844 | mse_mse: 0.13137 |  0:00:23s\n",
      "epoch 2  | loss: 0.12271 | mse_mse: 0.11516 |  0:00:35s\n",
      "epoch 3  | loss: 0.09861 | mse_mse: 0.1263  |  0:00:47s\n",
      "epoch 4  | loss: 0.06801 | mse_mse: 0.08681 |  0:00:59s\n",
      "epoch 5  | loss: 0.05668 | mse_mse: 0.03803 |  0:01:11s\n",
      "epoch 6  | loss: 0.04857 | mse_mse: 0.05913 |  0:01:23s\n",
      "epoch 7  | loss: 0.04758 | mse_mse: 0.0553  |  0:01:35s\n",
      "epoch 8  | loss: 0.04097 | mse_mse: 0.02974 |  0:01:48s\n",
      "epoch 9  | loss: 0.03339 | mse_mse: 0.02576 |  0:02:00s\n",
      "epoch 10 | loss: 0.03143 | mse_mse: 0.04198 |  0:02:12s\n",
      "epoch 11 | loss: 0.02713 | mse_mse: 0.01552 |  0:02:25s\n",
      "epoch 12 | loss: 0.02685 | mse_mse: 0.02088 |  0:02:37s\n",
      "epoch 13 | loss: 0.0315  | mse_mse: 0.01302 |  0:02:49s\n",
      "epoch 14 | loss: 0.03239 | mse_mse: 0.01665 |  0:03:01s\n",
      "epoch 15 | loss: 0.02476 | mse_mse: 0.00978 |  0:03:13s\n",
      "epoch 16 | loss: 0.02655 | mse_mse: 0.01078 |  0:03:25s\n",
      "epoch 17 | loss: 0.02822 | mse_mse: 0.03076 |  0:03:37s\n",
      "epoch 18 | loss: 0.02559 | mse_mse: 0.02756 |  0:03:50s\n",
      "epoch 19 | loss: 0.03535 | mse_mse: 0.01816 |  0:04:02s\n",
      "epoch 20 | loss: 0.02842 | mse_mse: 0.01915 |  0:04:14s\n",
      "epoch 21 | loss: 0.03115 | mse_mse: 0.019   |  0:04:26s\n",
      "epoch 22 | loss: 0.02248 | mse_mse: 0.00959 |  0:04:38s\n",
      "epoch 23 | loss: 0.02499 | mse_mse: 0.00717 |  0:04:51s\n",
      "epoch 24 | loss: 0.02597 | mse_mse: 0.03441 |  0:05:03s\n",
      "epoch 25 | loss: 0.02592 | mse_mse: 0.00821 |  0:05:15s\n",
      "epoch 26 | loss: 0.02843 | mse_mse: 0.01139 |  0:05:27s\n",
      "epoch 27 | loss: 0.02463 | mse_mse: 0.01449 |  0:05:39s\n",
      "epoch 28 | loss: 0.02786 | mse_mse: 0.01183 |  0:05:52s\n",
      "epoch 29 | loss: 0.02465 | mse_mse: 0.08561 |  0:06:04s\n",
      "epoch 30 | loss: 0.02429 | mse_mse: 0.05124 |  0:06:16s\n",
      "epoch 31 | loss: 0.02712 | mse_mse: 0.02315 |  0:06:28s\n",
      "epoch 32 | loss: 0.02305 | mse_mse: 0.00851 |  0:06:41s\n",
      "epoch 33 | loss: 0.02346 | mse_mse: 0.02721 |  0:06:53s\n",
      "\n",
      "Early stopping occurred at epoch 33 with best_epoch = 23 and best_mse_mse = 0.00717\n"
     ]
    },
    {
     "name": "stderr",
     "output_type": "stream",
     "text": [
      "/usr/local/lib/python3.9/site-packages/pytorch_tabnet/callbacks.py:172: UserWarning: Best weights from best epoch are automatically used!\n",
      "  warnings.warn(wrn_msg)\n"
     ]
    },
    {
     "name": "stdout",
     "output_type": "stream",
     "text": [
      "MSE: 0.007495143315045525\n",
      "R2 Score: 0.9661872359989899\n",
      "\n",
      "Iteration 119/162\n",
      "Configuration batch size: 32 - epochs: 200 - n_d: 8 - n_a: 16 - steps: 7 - n_indipendent: 3\n"
     ]
    },
    {
     "name": "stderr",
     "output_type": "stream",
     "text": [
      "/usr/local/lib/python3.9/site-packages/pytorch_tabnet/abstract_model.py:75: UserWarning: Device used : cpu\n",
      "  warnings.warn(f\"Device used : {self.device}\")\n"
     ]
    },
    {
     "name": "stdout",
     "output_type": "stream",
     "text": [
      "epoch 0  | loss: 0.96342 | mse_mse: 0.15684 |  0:00:15s\n",
      "epoch 1  | loss: 0.15988 | mse_mse: 0.15219 |  0:00:31s\n",
      "epoch 2  | loss: 0.14023 | mse_mse: 0.12132 |  0:00:48s\n",
      "epoch 3  | loss: 0.12889 | mse_mse: 0.09931 |  0:01:04s\n",
      "epoch 4  | loss: 0.12511 | mse_mse: 0.1002  |  0:01:21s\n",
      "epoch 5  | loss: 0.12166 | mse_mse: 0.13918 |  0:01:37s\n",
      "epoch 6  | loss: 0.11518 | mse_mse: 0.10116 |  0:01:53s\n",
      "epoch 7  | loss: 0.11129 | mse_mse: 0.08203 |  0:02:10s\n",
      "epoch 8  | loss: 0.10165 | mse_mse: 0.09987 |  0:02:26s\n",
      "epoch 9  | loss: 0.10101 | mse_mse: 0.07465 |  0:02:42s\n",
      "epoch 10 | loss: 0.09167 | mse_mse: 0.08843 |  0:02:59s\n",
      "epoch 11 | loss: 0.09108 | mse_mse: 0.06974 |  0:03:15s\n",
      "epoch 12 | loss: 0.08307 | mse_mse: 0.07581 |  0:03:32s\n",
      "epoch 13 | loss: 0.07386 | mse_mse: 0.09723 |  0:03:48s\n",
      "epoch 14 | loss: 0.06653 | mse_mse: 0.04654 |  0:04:04s\n",
      "epoch 15 | loss: 0.05444 | mse_mse: 0.05696 |  0:04:21s\n",
      "epoch 16 | loss: 0.04693 | mse_mse: 0.03538 |  0:04:37s\n",
      "epoch 17 | loss: 0.04663 | mse_mse: 0.05244 |  0:04:54s\n",
      "epoch 18 | loss: 0.04509 | mse_mse: 0.02659 |  0:05:10s\n",
      "epoch 19 | loss: 0.03972 | mse_mse: 0.03637 |  0:05:26s\n",
      "epoch 20 | loss: 0.03984 | mse_mse: 0.05976 |  0:05:43s\n",
      "epoch 21 | loss: 0.03376 | mse_mse: 0.03465 |  0:05:59s\n",
      "epoch 22 | loss: 0.02668 | mse_mse: 0.02295 |  0:06:16s\n",
      "epoch 23 | loss: 0.03227 | mse_mse: 0.03106 |  0:06:32s\n",
      "epoch 24 | loss: 0.03035 | mse_mse: 0.02472 |  0:06:48s\n",
      "epoch 25 | loss: 0.02489 | mse_mse: 0.06265 |  0:07:05s\n",
      "epoch 26 | loss: 0.02768 | mse_mse: 0.03623 |  0:07:21s\n",
      "epoch 27 | loss: 0.0247  | mse_mse: 0.01034 |  0:07:38s\n",
      "epoch 28 | loss: 0.0234  | mse_mse: 0.01355 |  0:07:54s\n",
      "epoch 29 | loss: 0.02449 | mse_mse: 0.12653 |  0:08:10s\n",
      "epoch 30 | loss: 0.02314 | mse_mse: 0.03405 |  0:08:27s\n",
      "epoch 31 | loss: 0.02369 | mse_mse: 0.00904 |  0:08:43s\n",
      "epoch 32 | loss: 0.02195 | mse_mse: 0.02223 |  0:08:59s\n",
      "epoch 33 | loss: 0.02636 | mse_mse: 0.0164  |  0:09:16s\n",
      "epoch 34 | loss: 0.02224 | mse_mse: 0.01524 |  0:09:32s\n",
      "epoch 35 | loss: 0.02274 | mse_mse: 0.02485 |  0:09:48s\n",
      "epoch 36 | loss: 0.02152 | mse_mse: 0.07242 |  0:10:04s\n",
      "epoch 37 | loss: 0.02289 | mse_mse: 0.02671 |  0:10:21s\n",
      "epoch 38 | loss: 0.0218  | mse_mse: 0.08806 |  0:10:37s\n",
      "epoch 39 | loss: 0.02311 | mse_mse: 0.0194  |  0:10:53s\n",
      "epoch 40 | loss: 0.02394 | mse_mse: 0.02778 |  0:11:10s\n",
      "epoch 41 | loss: 0.01944 | mse_mse: 0.00928 |  0:11:26s\n",
      "\n",
      "Early stopping occurred at epoch 41 with best_epoch = 31 and best_mse_mse = 0.00904\n"
     ]
    },
    {
     "name": "stderr",
     "output_type": "stream",
     "text": [
      "/usr/local/lib/python3.9/site-packages/pytorch_tabnet/callbacks.py:172: UserWarning: Best weights from best epoch are automatically used!\n",
      "  warnings.warn(wrn_msg)\n"
     ]
    },
    {
     "name": "stdout",
     "output_type": "stream",
     "text": [
      "MSE: 0.009119257615892643\n",
      "R2 Score: 0.9588603856297685\n",
      "\n",
      "Iteration 120/162\n",
      "Configuration batch size: 32 - epochs: 200 - n_d: 8 - n_a: 16 - steps: 7 - n_indipendent: 5\n"
     ]
    },
    {
     "name": "stderr",
     "output_type": "stream",
     "text": [
      "/usr/local/lib/python3.9/site-packages/pytorch_tabnet/abstract_model.py:75: UserWarning: Device used : cpu\n",
      "  warnings.warn(f\"Device used : {self.device}\")\n"
     ]
    },
    {
     "name": "stdout",
     "output_type": "stream",
     "text": [
      "epoch 0  | loss: 0.96342 | mse_mse: 0.15684 |  0:00:15s\n",
      "epoch 1  | loss: 0.15988 | mse_mse: 0.15219 |  0:00:31s\n",
      "epoch 2  | loss: 0.14023 | mse_mse: 0.12132 |  0:00:47s\n",
      "epoch 3  | loss: 0.12889 | mse_mse: 0.09931 |  0:01:03s\n",
      "epoch 4  | loss: 0.12511 | mse_mse: 0.1002  |  0:01:19s\n",
      "epoch 5  | loss: 0.12166 | mse_mse: 0.13918 |  0:01:36s\n",
      "epoch 6  | loss: 0.11518 | mse_mse: 0.10116 |  0:01:52s\n",
      "epoch 7  | loss: 0.11129 | mse_mse: 0.08203 |  0:02:09s\n",
      "epoch 8  | loss: 0.10165 | mse_mse: 0.09987 |  0:02:25s\n",
      "epoch 9  | loss: 0.10101 | mse_mse: 0.07465 |  0:02:42s\n",
      "epoch 10 | loss: 0.09167 | mse_mse: 0.08843 |  0:02:58s\n",
      "epoch 11 | loss: 0.09108 | mse_mse: 0.06974 |  0:03:15s\n",
      "epoch 12 | loss: 0.08307 | mse_mse: 0.07581 |  0:03:31s\n",
      "epoch 13 | loss: 0.07386 | mse_mse: 0.09723 |  0:03:47s\n",
      "epoch 14 | loss: 0.06653 | mse_mse: 0.04654 |  0:04:04s\n",
      "epoch 15 | loss: 0.05444 | mse_mse: 0.05696 |  0:04:20s\n",
      "epoch 16 | loss: 0.04693 | mse_mse: 0.03538 |  0:04:36s\n",
      "epoch 17 | loss: 0.04663 | mse_mse: 0.05244 |  0:04:53s\n",
      "epoch 18 | loss: 0.04509 | mse_mse: 0.02659 |  0:05:09s\n",
      "epoch 19 | loss: 0.03972 | mse_mse: 0.03637 |  0:05:25s\n",
      "epoch 20 | loss: 0.03984 | mse_mse: 0.05976 |  0:05:42s\n",
      "epoch 21 | loss: 0.03376 | mse_mse: 0.03465 |  0:05:58s\n",
      "epoch 22 | loss: 0.02668 | mse_mse: 0.02295 |  0:06:15s\n",
      "epoch 23 | loss: 0.03227 | mse_mse: 0.03106 |  0:06:31s\n",
      "epoch 24 | loss: 0.03035 | mse_mse: 0.02472 |  0:06:48s\n",
      "epoch 25 | loss: 0.02489 | mse_mse: 0.06265 |  0:07:04s\n",
      "epoch 26 | loss: 0.02768 | mse_mse: 0.03623 |  0:07:21s\n",
      "epoch 27 | loss: 0.0247  | mse_mse: 0.01034 |  0:07:37s\n",
      "epoch 28 | loss: 0.0234  | mse_mse: 0.01355 |  0:07:54s\n",
      "epoch 29 | loss: 0.02449 | mse_mse: 0.12653 |  0:08:10s\n",
      "epoch 30 | loss: 0.02314 | mse_mse: 0.03405 |  0:08:27s\n",
      "epoch 31 | loss: 0.02369 | mse_mse: 0.00904 |  0:08:43s\n",
      "epoch 32 | loss: 0.02195 | mse_mse: 0.02223 |  0:09:00s\n",
      "epoch 33 | loss: 0.02636 | mse_mse: 0.0164  |  0:09:16s\n",
      "epoch 34 | loss: 0.02224 | mse_mse: 0.01524 |  0:09:32s\n",
      "epoch 35 | loss: 0.02274 | mse_mse: 0.02485 |  0:09:49s\n",
      "epoch 36 | loss: 0.02152 | mse_mse: 0.07242 |  0:10:06s\n",
      "epoch 37 | loss: 0.02289 | mse_mse: 0.02671 |  0:10:22s\n",
      "epoch 38 | loss: 0.0218  | mse_mse: 0.08806 |  0:10:39s\n",
      "epoch 39 | loss: 0.02311 | mse_mse: 0.0194  |  0:10:55s\n",
      "epoch 40 | loss: 0.02394 | mse_mse: 0.02778 |  0:11:12s\n",
      "epoch 41 | loss: 0.01944 | mse_mse: 0.00928 |  0:11:28s\n",
      "\n",
      "Early stopping occurred at epoch 41 with best_epoch = 31 and best_mse_mse = 0.00904\n"
     ]
    },
    {
     "name": "stderr",
     "output_type": "stream",
     "text": [
      "/usr/local/lib/python3.9/site-packages/pytorch_tabnet/callbacks.py:172: UserWarning: Best weights from best epoch are automatically used!\n",
      "  warnings.warn(wrn_msg)\n"
     ]
    },
    {
     "name": "stdout",
     "output_type": "stream",
     "text": [
      "MSE: 0.009119257615892643\n",
      "R2 Score: 0.9588603856297685\n",
      "\n",
      "Iteration 121/162\n",
      "Configuration batch size: 32 - epochs: 200 - n_d: 8 - n_a: 32 - steps: 3 - n_indipendent: 3\n"
     ]
    },
    {
     "name": "stderr",
     "output_type": "stream",
     "text": [
      "/usr/local/lib/python3.9/site-packages/pytorch_tabnet/abstract_model.py:75: UserWarning: Device used : cpu\n",
      "  warnings.warn(f\"Device used : {self.device}\")\n"
     ]
    },
    {
     "name": "stdout",
     "output_type": "stream",
     "text": [
      "epoch 0  | loss: 0.79036 | mse_mse: 0.07394 |  0:00:07s\n",
      "epoch 1  | loss: 0.0593  | mse_mse: 0.03796 |  0:00:14s\n",
      "epoch 2  | loss: 0.03977 | mse_mse: 0.03701 |  0:00:22s\n",
      "epoch 3  | loss: 0.0324  | mse_mse: 0.02762 |  0:00:30s\n",
      "epoch 4  | loss: 0.02842 | mse_mse: 0.01006 |  0:00:37s\n",
      "epoch 5  | loss: 0.02735 | mse_mse: 0.01042 |  0:00:45s\n",
      "epoch 6  | loss: 0.02952 | mse_mse: 0.01453 |  0:00:53s\n",
      "epoch 7  | loss: 0.0249  | mse_mse: 0.07636 |  0:01:00s\n",
      "epoch 8  | loss: 0.02635 | mse_mse: 0.01062 |  0:01:08s\n",
      "epoch 9  | loss: 0.02504 | mse_mse: 0.04725 |  0:01:16s\n",
      "epoch 10 | loss: 0.02254 | mse_mse: 0.02055 |  0:01:24s\n",
      "epoch 11 | loss: 0.0224  | mse_mse: 0.01058 |  0:01:31s\n",
      "epoch 12 | loss: 0.02319 | mse_mse: 0.02384 |  0:01:39s\n",
      "epoch 13 | loss: 0.02373 | mse_mse: 0.01075 |  0:01:47s\n",
      "epoch 14 | loss: 0.02148 | mse_mse: 0.0112  |  0:01:55s\n",
      "\n",
      "Early stopping occurred at epoch 14 with best_epoch = 4 and best_mse_mse = 0.01006\n"
     ]
    },
    {
     "name": "stderr",
     "output_type": "stream",
     "text": [
      "/usr/local/lib/python3.9/site-packages/pytorch_tabnet/callbacks.py:172: UserWarning: Best weights from best epoch are automatically used!\n",
      "  warnings.warn(wrn_msg)\n"
     ]
    },
    {
     "name": "stdout",
     "output_type": "stream",
     "text": [
      "MSE: 0.009774326019300098\n",
      "R2 Score: 0.9559051821869641\n",
      "\n",
      "Iteration 122/162\n",
      "Configuration batch size: 32 - epochs: 200 - n_d: 8 - n_a: 32 - steps: 3 - n_indipendent: 5\n"
     ]
    },
    {
     "name": "stderr",
     "output_type": "stream",
     "text": [
      "/usr/local/lib/python3.9/site-packages/pytorch_tabnet/abstract_model.py:75: UserWarning: Device used : cpu\n",
      "  warnings.warn(f\"Device used : {self.device}\")\n"
     ]
    },
    {
     "name": "stdout",
     "output_type": "stream",
     "text": [
      "epoch 0  | loss: 0.79036 | mse_mse: 0.07394 |  0:00:07s\n",
      "epoch 1  | loss: 0.0593  | mse_mse: 0.03796 |  0:00:14s\n",
      "epoch 2  | loss: 0.03977 | mse_mse: 0.03701 |  0:00:22s\n",
      "epoch 3  | loss: 0.0324  | mse_mse: 0.02762 |  0:00:30s\n",
      "epoch 4  | loss: 0.02842 | mse_mse: 0.01006 |  0:00:38s\n",
      "epoch 5  | loss: 0.02735 | mse_mse: 0.01042 |  0:00:45s\n",
      "epoch 6  | loss: 0.02952 | mse_mse: 0.01453 |  0:00:53s\n",
      "epoch 7  | loss: 0.0249  | mse_mse: 0.07636 |  0:01:01s\n",
      "epoch 8  | loss: 0.02635 | mse_mse: 0.01062 |  0:01:09s\n",
      "epoch 9  | loss: 0.02504 | mse_mse: 0.04725 |  0:01:16s\n",
      "epoch 10 | loss: 0.02254 | mse_mse: 0.02055 |  0:01:24s\n",
      "epoch 11 | loss: 0.0224  | mse_mse: 0.01058 |  0:01:32s\n",
      "epoch 12 | loss: 0.02319 | mse_mse: 0.02384 |  0:01:39s\n",
      "epoch 13 | loss: 0.02373 | mse_mse: 0.01075 |  0:01:47s\n",
      "epoch 14 | loss: 0.02148 | mse_mse: 0.0112  |  0:01:55s\n",
      "\n",
      "Early stopping occurred at epoch 14 with best_epoch = 4 and best_mse_mse = 0.01006\n"
     ]
    },
    {
     "name": "stderr",
     "output_type": "stream",
     "text": [
      "/usr/local/lib/python3.9/site-packages/pytorch_tabnet/callbacks.py:172: UserWarning: Best weights from best epoch are automatically used!\n",
      "  warnings.warn(wrn_msg)\n"
     ]
    },
    {
     "name": "stdout",
     "output_type": "stream",
     "text": [
      "MSE: 0.009774326019300098\n",
      "R2 Score: 0.9559051821869641\n",
      "\n",
      "Iteration 123/162\n",
      "Configuration batch size: 32 - epochs: 200 - n_d: 8 - n_a: 32 - steps: 5 - n_indipendent: 3\n"
     ]
    },
    {
     "name": "stderr",
     "output_type": "stream",
     "text": [
      "/usr/local/lib/python3.9/site-packages/pytorch_tabnet/abstract_model.py:75: UserWarning: Device used : cpu\n",
      "  warnings.warn(f\"Device used : {self.device}\")\n"
     ]
    },
    {
     "name": "stdout",
     "output_type": "stream",
     "text": [
      "epoch 0  | loss: 0.40143 | mse_mse: 0.15993 |  0:00:11s\n",
      "epoch 1  | loss: 0.11956 | mse_mse: 0.07582 |  0:00:23s\n",
      "epoch 2  | loss: 0.08199 | mse_mse: 0.05206 |  0:00:35s\n",
      "epoch 3  | loss: 0.07196 | mse_mse: 0.09579 |  0:00:47s\n",
      "epoch 4  | loss: 0.05203 | mse_mse: 0.02585 |  0:00:59s\n",
      "epoch 5  | loss: 0.04598 | mse_mse: 0.03512 |  0:01:11s\n",
      "epoch 6  | loss: 0.04245 | mse_mse: 0.02335 |  0:01:23s\n",
      "epoch 7  | loss: 0.04449 | mse_mse: 0.01708 |  0:01:35s\n",
      "epoch 8  | loss: 0.03635 | mse_mse: 0.02073 |  0:01:48s\n",
      "epoch 9  | loss: 0.03078 | mse_mse: 0.01488 |  0:02:00s\n",
      "epoch 10 | loss: 0.02841 | mse_mse: 0.02693 |  0:02:12s\n",
      "epoch 11 | loss: 0.02914 | mse_mse: 0.01585 |  0:02:24s\n",
      "epoch 12 | loss: 0.02599 | mse_mse: 0.13928 |  0:02:36s\n",
      "epoch 13 | loss: 0.02501 | mse_mse: 0.02909 |  0:02:49s\n",
      "epoch 14 | loss: 0.02803 | mse_mse: 0.01487 |  0:03:01s\n",
      "epoch 15 | loss: 0.02656 | mse_mse: 0.01954 |  0:03:13s\n",
      "epoch 16 | loss: 0.02628 | mse_mse: 0.01588 |  0:03:25s\n",
      "epoch 17 | loss: 0.02297 | mse_mse: 0.01272 |  0:03:37s\n",
      "epoch 18 | loss: 0.02551 | mse_mse: 0.02589 |  0:03:49s\n",
      "epoch 19 | loss: 0.02338 | mse_mse: 0.0147  |  0:04:02s\n",
      "epoch 20 | loss: 0.02022 | mse_mse: 0.01439 |  0:04:14s\n",
      "epoch 21 | loss: 0.02122 | mse_mse: 0.01089 |  0:04:26s\n",
      "epoch 22 | loss: 0.02169 | mse_mse: 0.01136 |  0:04:38s\n",
      "epoch 23 | loss: 0.02422 | mse_mse: 0.01364 |  0:04:51s\n",
      "epoch 24 | loss: 0.02182 | mse_mse: 0.12979 |  0:05:03s\n",
      "epoch 25 | loss: 0.01989 | mse_mse: 0.00935 |  0:05:15s\n",
      "epoch 26 | loss: 0.02192 | mse_mse: 0.02427 |  0:05:27s\n",
      "epoch 27 | loss: 0.02476 | mse_mse: 0.07115 |  0:05:39s\n",
      "epoch 28 | loss: 0.02206 | mse_mse: 0.0122  |  0:05:52s\n",
      "epoch 29 | loss: 0.01861 | mse_mse: 0.01721 |  0:06:04s\n",
      "epoch 30 | loss: 0.02069 | mse_mse: 0.01435 |  0:06:16s\n",
      "epoch 31 | loss: 0.02088 | mse_mse: 0.00884 |  0:06:28s\n",
      "epoch 32 | loss: 0.01967 | mse_mse: 0.03294 |  0:06:40s\n",
      "epoch 33 | loss: 0.01768 | mse_mse: 0.011   |  0:06:53s\n",
      "epoch 34 | loss: 0.01722 | mse_mse: 0.01169 |  0:07:05s\n",
      "epoch 35 | loss: 0.01566 | mse_mse: 0.04731 |  0:07:17s\n",
      "epoch 36 | loss: 0.01707 | mse_mse: 0.00937 |  0:07:29s\n",
      "epoch 37 | loss: 0.01734 | mse_mse: 0.01964 |  0:07:42s\n",
      "epoch 38 | loss: 0.01547 | mse_mse: 0.02755 |  0:07:54s\n",
      "epoch 39 | loss: 0.01462 | mse_mse: 0.04042 |  0:08:06s\n",
      "epoch 40 | loss: 0.0193  | mse_mse: 0.03544 |  0:08:18s\n",
      "epoch 41 | loss: 0.01674 | mse_mse: 0.01631 |  0:08:30s\n",
      "\n",
      "Early stopping occurred at epoch 41 with best_epoch = 31 and best_mse_mse = 0.00884\n"
     ]
    },
    {
     "name": "stderr",
     "output_type": "stream",
     "text": [
      "/usr/local/lib/python3.9/site-packages/pytorch_tabnet/callbacks.py:172: UserWarning: Best weights from best epoch are automatically used!\n",
      "  warnings.warn(wrn_msg)\n"
     ]
    },
    {
     "name": "stdout",
     "output_type": "stream",
     "text": [
      "MSE: 0.009139100661444625\n",
      "R2 Score: 0.958770867899672\n",
      "\n",
      "Iteration 124/162\n",
      "Configuration batch size: 32 - epochs: 200 - n_d: 8 - n_a: 32 - steps: 5 - n_indipendent: 5\n"
     ]
    },
    {
     "name": "stderr",
     "output_type": "stream",
     "text": [
      "/usr/local/lib/python3.9/site-packages/pytorch_tabnet/abstract_model.py:75: UserWarning: Device used : cpu\n",
      "  warnings.warn(f\"Device used : {self.device}\")\n"
     ]
    },
    {
     "name": "stdout",
     "output_type": "stream",
     "text": [
      "epoch 0  | loss: 0.40143 | mse_mse: 0.15993 |  0:00:11s\n",
      "epoch 1  | loss: 0.11956 | mse_mse: 0.07582 |  0:00:23s\n",
      "epoch 2  | loss: 0.08199 | mse_mse: 0.05206 |  0:00:35s\n",
      "epoch 3  | loss: 0.07196 | mse_mse: 0.09579 |  0:00:47s\n",
      "epoch 4  | loss: 0.05203 | mse_mse: 0.02585 |  0:00:59s\n",
      "epoch 5  | loss: 0.04598 | mse_mse: 0.03512 |  0:01:11s\n",
      "epoch 6  | loss: 0.04245 | mse_mse: 0.02335 |  0:01:24s\n",
      "epoch 7  | loss: 0.04449 | mse_mse: 0.01708 |  0:01:36s\n",
      "epoch 8  | loss: 0.03635 | mse_mse: 0.02073 |  0:01:48s\n",
      "epoch 9  | loss: 0.03078 | mse_mse: 0.01488 |  0:02:00s\n",
      "epoch 10 | loss: 0.02841 | mse_mse: 0.02693 |  0:02:12s\n",
      "epoch 11 | loss: 0.02914 | mse_mse: 0.01585 |  0:02:25s\n",
      "epoch 12 | loss: 0.02599 | mse_mse: 0.13928 |  0:02:37s\n",
      "epoch 13 | loss: 0.02501 | mse_mse: 0.02909 |  0:02:49s\n",
      "epoch 14 | loss: 0.02803 | mse_mse: 0.01487 |  0:03:01s\n",
      "epoch 15 | loss: 0.02656 | mse_mse: 0.01954 |  0:03:14s\n",
      "epoch 16 | loss: 0.02628 | mse_mse: 0.01588 |  0:03:26s\n",
      "epoch 17 | loss: 0.02297 | mse_mse: 0.01272 |  0:03:38s\n",
      "epoch 18 | loss: 0.02551 | mse_mse: 0.02589 |  0:03:50s\n",
      "epoch 19 | loss: 0.02338 | mse_mse: 0.0147  |  0:04:03s\n",
      "epoch 20 | loss: 0.02022 | mse_mse: 0.01439 |  0:04:15s\n",
      "epoch 21 | loss: 0.02122 | mse_mse: 0.01089 |  0:04:27s\n",
      "epoch 22 | loss: 0.02169 | mse_mse: 0.01136 |  0:04:40s\n",
      "epoch 23 | loss: 0.02422 | mse_mse: 0.01364 |  0:04:52s\n",
      "epoch 24 | loss: 0.02182 | mse_mse: 0.12979 |  0:05:04s\n",
      "epoch 25 | loss: 0.01989 | mse_mse: 0.00935 |  0:05:16s\n",
      "epoch 26 | loss: 0.02192 | mse_mse: 0.02427 |  0:05:28s\n",
      "epoch 27 | loss: 0.02476 | mse_mse: 0.07115 |  0:05:41s\n",
      "epoch 28 | loss: 0.02206 | mse_mse: 0.0122  |  0:05:53s\n",
      "epoch 29 | loss: 0.01861 | mse_mse: 0.01721 |  0:06:05s\n",
      "epoch 30 | loss: 0.02069 | mse_mse: 0.01435 |  0:06:17s\n",
      "epoch 31 | loss: 0.02088 | mse_mse: 0.00884 |  0:06:29s\n",
      "epoch 32 | loss: 0.01967 | mse_mse: 0.03294 |  0:06:42s\n",
      "epoch 33 | loss: 0.01768 | mse_mse: 0.011   |  0:06:54s\n",
      "epoch 34 | loss: 0.01722 | mse_mse: 0.01169 |  0:07:06s\n",
      "epoch 35 | loss: 0.01566 | mse_mse: 0.04731 |  0:07:19s\n",
      "epoch 36 | loss: 0.01707 | mse_mse: 0.00937 |  0:07:31s\n",
      "epoch 37 | loss: 0.01734 | mse_mse: 0.01964 |  0:07:43s\n",
      "epoch 38 | loss: 0.01547 | mse_mse: 0.02755 |  0:07:55s\n",
      "epoch 39 | loss: 0.01462 | mse_mse: 0.04042 |  0:08:07s\n",
      "epoch 40 | loss: 0.0193  | mse_mse: 0.03544 |  0:08:20s\n",
      "epoch 41 | loss: 0.01674 | mse_mse: 0.01631 |  0:08:32s\n",
      "\n",
      "Early stopping occurred at epoch 41 with best_epoch = 31 and best_mse_mse = 0.00884\n"
     ]
    },
    {
     "name": "stderr",
     "output_type": "stream",
     "text": [
      "/usr/local/lib/python3.9/site-packages/pytorch_tabnet/callbacks.py:172: UserWarning: Best weights from best epoch are automatically used!\n",
      "  warnings.warn(wrn_msg)\n"
     ]
    },
    {
     "name": "stdout",
     "output_type": "stream",
     "text": [
      "MSE: 0.009139100661444625\n",
      "R2 Score: 0.958770867899672\n",
      "\n",
      "Iteration 125/162\n",
      "Configuration batch size: 32 - epochs: 200 - n_d: 8 - n_a: 32 - steps: 7 - n_indipendent: 3\n"
     ]
    },
    {
     "name": "stderr",
     "output_type": "stream",
     "text": [
      "/usr/local/lib/python3.9/site-packages/pytorch_tabnet/abstract_model.py:75: UserWarning: Device used : cpu\n",
      "  warnings.warn(f\"Device used : {self.device}\")\n"
     ]
    },
    {
     "name": "stdout",
     "output_type": "stream",
     "text": [
      "epoch 0  | loss: 1.51943 | mse_mse: 0.17318 |  0:00:15s\n",
      "epoch 1  | loss: 0.12678 | mse_mse: 0.07294 |  0:00:31s\n",
      "epoch 2  | loss: 0.1053  | mse_mse: 0.06508 |  0:00:48s\n",
      "epoch 3  | loss: 0.09021 | mse_mse: 0.05592 |  0:01:04s\n",
      "epoch 4  | loss: 0.09065 | mse_mse: 0.07572 |  0:01:21s\n",
      "epoch 5  | loss: 0.08378 | mse_mse: 0.06652 |  0:01:37s\n",
      "epoch 6  | loss: 0.07635 | mse_mse: 0.05221 |  0:01:54s\n",
      "epoch 7  | loss: 0.07678 | mse_mse: 0.06476 |  0:02:11s\n",
      "epoch 8  | loss: 0.06451 | mse_mse: 0.05915 |  0:02:27s\n",
      "epoch 9  | loss: 0.06289 | mse_mse: 0.04661 |  0:02:44s\n",
      "epoch 10 | loss: 0.04996 | mse_mse: 0.04958 |  0:03:00s\n",
      "epoch 11 | loss: 0.04356 | mse_mse: 0.02729 |  0:03:17s\n",
      "epoch 12 | loss: 0.03761 | mse_mse: 0.02123 |  0:03:34s\n",
      "epoch 13 | loss: 0.03069 | mse_mse: 0.02014 |  0:03:50s\n",
      "epoch 14 | loss: 0.03337 | mse_mse: 0.01294 |  0:04:07s\n",
      "epoch 15 | loss: 0.0252  | mse_mse: 0.01593 |  0:04:24s\n",
      "epoch 16 | loss: 0.02881 | mse_mse: 0.02839 |  0:04:41s\n",
      "epoch 17 | loss: 0.02218 | mse_mse: 0.01111 |  0:04:57s\n",
      "epoch 18 | loss: 0.02023 | mse_mse: 0.03784 |  0:05:14s\n",
      "epoch 19 | loss: 0.0221  | mse_mse: 0.01126 |  0:05:31s\n",
      "epoch 20 | loss: 0.02334 | mse_mse: 0.01683 |  0:05:47s\n",
      "epoch 21 | loss: 0.0215  | mse_mse: 0.04463 |  0:06:04s\n",
      "epoch 22 | loss: 0.02287 | mse_mse: 0.05502 |  0:06:21s\n",
      "epoch 23 | loss: 0.02266 | mse_mse: 0.01013 |  0:06:38s\n",
      "epoch 24 | loss: 0.02274 | mse_mse: 0.01623 |  0:06:54s\n",
      "epoch 25 | loss: 0.02071 | mse_mse: 0.02502 |  0:07:11s\n",
      "epoch 26 | loss: 0.01929 | mse_mse: 0.02033 |  0:07:28s\n",
      "epoch 27 | loss: 0.02186 | mse_mse: 0.01294 |  0:07:44s\n",
      "epoch 28 | loss: 0.01678 | mse_mse: 0.01046 |  0:08:01s\n",
      "epoch 29 | loss: 0.02355 | mse_mse: 0.08657 |  0:08:18s\n",
      "epoch 30 | loss: 0.01947 | mse_mse: 0.02255 |  0:08:34s\n",
      "epoch 31 | loss: 0.01828 | mse_mse: 0.01516 |  0:08:51s\n",
      "epoch 32 | loss: 0.01868 | mse_mse: 0.03021 |  0:09:08s\n",
      "epoch 33 | loss: 0.01734 | mse_mse: 0.01388 |  0:09:24s\n",
      "\n",
      "Early stopping occurred at epoch 33 with best_epoch = 23 and best_mse_mse = 0.01013\n"
     ]
    },
    {
     "name": "stderr",
     "output_type": "stream",
     "text": [
      "/usr/local/lib/python3.9/site-packages/pytorch_tabnet/callbacks.py:172: UserWarning: Best weights from best epoch are automatically used!\n",
      "  warnings.warn(wrn_msg)\n"
     ]
    },
    {
     "name": "stdout",
     "output_type": "stream",
     "text": [
      "MSE: 0.00975105059888524\n",
      "R2 Score: 0.9560101843549589\n",
      "\n",
      "Iteration 126/162\n",
      "Configuration batch size: 32 - epochs: 200 - n_d: 8 - n_a: 32 - steps: 7 - n_indipendent: 5\n"
     ]
    },
    {
     "name": "stderr",
     "output_type": "stream",
     "text": [
      "/usr/local/lib/python3.9/site-packages/pytorch_tabnet/abstract_model.py:75: UserWarning: Device used : cpu\n",
      "  warnings.warn(f\"Device used : {self.device}\")\n"
     ]
    },
    {
     "name": "stdout",
     "output_type": "stream",
     "text": [
      "epoch 0  | loss: 1.51943 | mse_mse: 0.17318 |  0:00:15s\n",
      "epoch 1  | loss: 0.12678 | mse_mse: 0.07294 |  0:00:30s\n",
      "epoch 2  | loss: 0.1053  | mse_mse: 0.06508 |  0:00:47s\n",
      "epoch 3  | loss: 0.09021 | mse_mse: 0.05592 |  0:01:03s\n",
      "epoch 4  | loss: 0.09065 | mse_mse: 0.07572 |  0:01:20s\n",
      "epoch 5  | loss: 0.08378 | mse_mse: 0.06652 |  0:01:37s\n",
      "epoch 6  | loss: 0.07635 | mse_mse: 0.05221 |  0:01:53s\n",
      "epoch 7  | loss: 0.07678 | mse_mse: 0.06476 |  0:02:10s\n",
      "epoch 8  | loss: 0.06451 | mse_mse: 0.05915 |  0:02:26s\n",
      "epoch 9  | loss: 0.06289 | mse_mse: 0.04661 |  0:02:43s\n",
      "epoch 10 | loss: 0.04996 | mse_mse: 0.04958 |  0:03:00s\n",
      "epoch 11 | loss: 0.04356 | mse_mse: 0.02729 |  0:03:16s\n",
      "epoch 12 | loss: 0.03761 | mse_mse: 0.02123 |  0:03:33s\n",
      "epoch 13 | loss: 0.03069 | mse_mse: 0.02014 |  0:03:49s\n",
      "epoch 14 | loss: 0.03337 | mse_mse: 0.01294 |  0:04:06s\n",
      "epoch 15 | loss: 0.0252  | mse_mse: 0.01593 |  0:04:22s\n",
      "epoch 16 | loss: 0.02881 | mse_mse: 0.02839 |  0:04:39s\n",
      "epoch 17 | loss: 0.02218 | mse_mse: 0.01111 |  0:04:56s\n",
      "epoch 18 | loss: 0.02023 | mse_mse: 0.03784 |  0:05:12s\n",
      "epoch 19 | loss: 0.0221  | mse_mse: 0.01126 |  0:05:29s\n",
      "epoch 20 | loss: 0.02334 | mse_mse: 0.01683 |  0:05:46s\n",
      "epoch 21 | loss: 0.0215  | mse_mse: 0.04463 |  0:06:02s\n",
      "epoch 22 | loss: 0.02287 | mse_mse: 0.05502 |  0:06:19s\n",
      "epoch 23 | loss: 0.02266 | mse_mse: 0.01013 |  0:06:35s\n",
      "epoch 24 | loss: 0.02274 | mse_mse: 0.01623 |  0:06:52s\n",
      "epoch 25 | loss: 0.02071 | mse_mse: 0.02502 |  0:07:09s\n",
      "epoch 26 | loss: 0.01929 | mse_mse: 0.02033 |  0:07:25s\n",
      "epoch 27 | loss: 0.02186 | mse_mse: 0.01294 |  0:07:42s\n",
      "epoch 28 | loss: 0.01678 | mse_mse: 0.01046 |  0:07:59s\n",
      "epoch 29 | loss: 0.02355 | mse_mse: 0.08657 |  0:08:15s\n",
      "epoch 30 | loss: 0.01947 | mse_mse: 0.02255 |  0:08:32s\n",
      "epoch 31 | loss: 0.01828 | mse_mse: 0.01516 |  0:08:49s\n",
      "epoch 32 | loss: 0.01868 | mse_mse: 0.03021 |  0:09:06s\n",
      "epoch 33 | loss: 0.01734 | mse_mse: 0.01388 |  0:09:22s\n",
      "\n",
      "Early stopping occurred at epoch 33 with best_epoch = 23 and best_mse_mse = 0.01013\n"
     ]
    },
    {
     "name": "stderr",
     "output_type": "stream",
     "text": [
      "/usr/local/lib/python3.9/site-packages/pytorch_tabnet/callbacks.py:172: UserWarning: Best weights from best epoch are automatically used!\n",
      "  warnings.warn(wrn_msg)\n"
     ]
    },
    {
     "name": "stdout",
     "output_type": "stream",
     "text": [
      "MSE: 0.00975105059888524\n",
      "R2 Score: 0.9560101843549589\n",
      "\n",
      "Iteration 127/162\n",
      "Configuration batch size: 32 - epochs: 200 - n_d: 16 - n_a: 8 - steps: 3 - n_indipendent: 3\n"
     ]
    },
    {
     "name": "stderr",
     "output_type": "stream",
     "text": [
      "/usr/local/lib/python3.9/site-packages/pytorch_tabnet/abstract_model.py:75: UserWarning: Device used : cpu\n",
      "  warnings.warn(f\"Device used : {self.device}\")\n"
     ]
    },
    {
     "name": "stdout",
     "output_type": "stream",
     "text": [
      "epoch 0  | loss: 0.47029 | mse_mse: 0.09047 |  0:00:07s\n",
      "epoch 1  | loss: 0.08929 | mse_mse: 0.08004 |  0:00:14s\n",
      "epoch 2  | loss: 0.06946 | mse_mse: 0.09022 |  0:00:22s\n",
      "epoch 3  | loss: 0.05252 | mse_mse: 0.03961 |  0:00:29s\n",
      "epoch 4  | loss: 0.04284 | mse_mse: 0.03374 |  0:00:37s\n",
      "epoch 5  | loss: 0.03381 | mse_mse: 0.01378 |  0:00:44s\n",
      "epoch 6  | loss: 0.03378 | mse_mse: 0.01804 |  0:00:51s\n",
      "epoch 7  | loss: 0.03092 | mse_mse: 0.02832 |  0:00:58s\n",
      "epoch 8  | loss: 0.02909 | mse_mse: 0.03759 |  0:01:06s\n",
      "epoch 9  | loss: 0.02336 | mse_mse: 0.01471 |  0:01:13s\n",
      "epoch 10 | loss: 0.02785 | mse_mse: 0.01084 |  0:01:20s\n",
      "epoch 11 | loss: 0.02382 | mse_mse: 0.00929 |  0:01:28s\n",
      "epoch 12 | loss: 0.02423 | mse_mse: 0.01161 |  0:01:35s\n",
      "epoch 13 | loss: 0.0233  | mse_mse: 0.01588 |  0:01:42s\n",
      "epoch 14 | loss: 0.02485 | mse_mse: 0.01207 |  0:01:50s\n",
      "epoch 15 | loss: 0.02242 | mse_mse: 0.01706 |  0:01:57s\n",
      "epoch 16 | loss: 0.01864 | mse_mse: 0.02531 |  0:02:04s\n",
      "epoch 17 | loss: 0.02117 | mse_mse: 0.02242 |  0:02:12s\n",
      "epoch 18 | loss: 0.01901 | mse_mse: 0.01581 |  0:02:19s\n",
      "epoch 19 | loss: 0.02149 | mse_mse: 0.01426 |  0:02:26s\n",
      "epoch 20 | loss: 0.01757 | mse_mse: 0.01359 |  0:02:34s\n",
      "epoch 21 | loss: 0.02056 | mse_mse: 0.01531 |  0:02:41s\n",
      "\n",
      "Early stopping occurred at epoch 21 with best_epoch = 11 and best_mse_mse = 0.00929\n"
     ]
    },
    {
     "name": "stderr",
     "output_type": "stream",
     "text": [
      "/usr/local/lib/python3.9/site-packages/pytorch_tabnet/callbacks.py:172: UserWarning: Best weights from best epoch are automatically used!\n",
      "  warnings.warn(wrn_msg)\n"
     ]
    },
    {
     "name": "stdout",
     "output_type": "stream",
     "text": [
      "MSE: 0.009776232447164327\n",
      "R2 Score: 0.9558965817382804\n",
      "\n",
      "Iteration 128/162\n",
      "Configuration batch size: 32 - epochs: 200 - n_d: 16 - n_a: 8 - steps: 3 - n_indipendent: 5\n"
     ]
    },
    {
     "name": "stderr",
     "output_type": "stream",
     "text": [
      "/usr/local/lib/python3.9/site-packages/pytorch_tabnet/abstract_model.py:75: UserWarning: Device used : cpu\n",
      "  warnings.warn(f\"Device used : {self.device}\")\n"
     ]
    },
    {
     "name": "stdout",
     "output_type": "stream",
     "text": [
      "epoch 0  | loss: 0.47029 | mse_mse: 0.09047 |  0:00:07s\n",
      "epoch 1  | loss: 0.08929 | mse_mse: 0.08004 |  0:00:14s\n",
      "epoch 2  | loss: 0.06946 | mse_mse: 0.09022 |  0:00:21s\n",
      "epoch 3  | loss: 0.05252 | mse_mse: 0.03961 |  0:00:29s\n",
      "epoch 4  | loss: 0.04284 | mse_mse: 0.03374 |  0:00:36s\n",
      "epoch 5  | loss: 0.03381 | mse_mse: 0.01378 |  0:00:43s\n",
      "epoch 6  | loss: 0.03378 | mse_mse: 0.01804 |  0:00:50s\n",
      "epoch 7  | loss: 0.03092 | mse_mse: 0.02832 |  0:00:58s\n",
      "epoch 8  | loss: 0.02909 | mse_mse: 0.03759 |  0:01:05s\n",
      "epoch 9  | loss: 0.02336 | mse_mse: 0.01471 |  0:01:12s\n",
      "epoch 10 | loss: 0.02785 | mse_mse: 0.01084 |  0:01:20s\n",
      "epoch 11 | loss: 0.02382 | mse_mse: 0.00929 |  0:01:27s\n",
      "epoch 12 | loss: 0.02423 | mse_mse: 0.01161 |  0:01:34s\n",
      "epoch 13 | loss: 0.0233  | mse_mse: 0.01588 |  0:01:42s\n",
      "epoch 14 | loss: 0.02485 | mse_mse: 0.01207 |  0:01:49s\n",
      "epoch 15 | loss: 0.02242 | mse_mse: 0.01706 |  0:01:56s\n",
      "epoch 16 | loss: 0.01864 | mse_mse: 0.02531 |  0:02:04s\n",
      "epoch 17 | loss: 0.02117 | mse_mse: 0.02242 |  0:02:11s\n",
      "epoch 18 | loss: 0.01901 | mse_mse: 0.01581 |  0:02:19s\n",
      "epoch 19 | loss: 0.02149 | mse_mse: 0.01426 |  0:02:26s\n",
      "epoch 20 | loss: 0.01757 | mse_mse: 0.01359 |  0:02:33s\n",
      "epoch 21 | loss: 0.02056 | mse_mse: 0.01531 |  0:02:41s\n",
      "\n",
      "Early stopping occurred at epoch 21 with best_epoch = 11 and best_mse_mse = 0.00929\n"
     ]
    },
    {
     "name": "stderr",
     "output_type": "stream",
     "text": [
      "/usr/local/lib/python3.9/site-packages/pytorch_tabnet/callbacks.py:172: UserWarning: Best weights from best epoch are automatically used!\n",
      "  warnings.warn(wrn_msg)\n"
     ]
    },
    {
     "name": "stdout",
     "output_type": "stream",
     "text": [
      "MSE: 0.009776232447164327\n",
      "R2 Score: 0.9558965817382804\n",
      "\n",
      "Iteration 129/162\n",
      "Configuration batch size: 32 - epochs: 200 - n_d: 16 - n_a: 8 - steps: 5 - n_indipendent: 3\n"
     ]
    },
    {
     "name": "stderr",
     "output_type": "stream",
     "text": [
      "/usr/local/lib/python3.9/site-packages/pytorch_tabnet/abstract_model.py:75: UserWarning: Device used : cpu\n",
      "  warnings.warn(f\"Device used : {self.device}\")\n"
     ]
    },
    {
     "name": "stdout",
     "output_type": "stream",
     "text": [
      "epoch 0  | loss: 1.11399 | mse_mse: 0.11114 |  0:00:11s\n",
      "epoch 1  | loss: 0.10643 | mse_mse: 0.12737 |  0:00:22s\n",
      "epoch 2  | loss: 0.08827 | mse_mse: 0.07978 |  0:00:34s\n",
      "epoch 3  | loss: 0.0897  | mse_mse: 0.07367 |  0:00:45s\n",
      "epoch 4  | loss: 0.07453 | mse_mse: 0.06771 |  0:00:57s\n",
      "epoch 5  | loss: 0.06291 | mse_mse: 0.07162 |  0:01:08s\n",
      "epoch 6  | loss: 0.05386 | mse_mse: 0.03607 |  0:01:20s\n",
      "epoch 7  | loss: 0.05226 | mse_mse: 0.03033 |  0:01:32s\n",
      "epoch 8  | loss: 0.04718 | mse_mse: 0.02333 |  0:01:43s\n",
      "epoch 9  | loss: 0.03827 | mse_mse: 0.02118 |  0:01:55s\n",
      "epoch 10 | loss: 0.03178 | mse_mse: 0.02369 |  0:02:06s\n",
      "epoch 11 | loss: 0.04489 | mse_mse: 0.01958 |  0:02:18s\n",
      "epoch 12 | loss: 0.03918 | mse_mse: 0.02929 |  0:02:29s\n",
      "epoch 13 | loss: 0.02935 | mse_mse: 0.01875 |  0:02:41s\n",
      "epoch 14 | loss: 0.03159 | mse_mse: 0.02264 |  0:02:53s\n",
      "epoch 15 | loss: 0.02771 | mse_mse: 0.01754 |  0:03:04s\n",
      "epoch 16 | loss: 0.02871 | mse_mse: 0.01388 |  0:03:16s\n",
      "epoch 17 | loss: 0.0249  | mse_mse: 0.01543 |  0:03:27s\n",
      "epoch 18 | loss: 0.02466 | mse_mse: 0.01006 |  0:03:39s\n",
      "epoch 19 | loss: 0.02552 | mse_mse: 0.01457 |  0:03:51s\n",
      "epoch 20 | loss: 0.0222  | mse_mse: 0.01557 |  0:04:02s\n",
      "epoch 21 | loss: 0.02805 | mse_mse: 0.01903 |  0:04:14s\n",
      "epoch 22 | loss: 0.02489 | mse_mse: 0.5176  |  0:04:25s\n",
      "epoch 23 | loss: 0.02372 | mse_mse: 0.02186 |  0:04:37s\n",
      "epoch 24 | loss: 0.02702 | mse_mse: 0.00924 |  0:04:49s\n",
      "epoch 25 | loss: 0.02472 | mse_mse: 0.01498 |  0:05:00s\n",
      "epoch 26 | loss: 0.02571 | mse_mse: 0.02161 |  0:05:12s\n",
      "epoch 27 | loss: 0.02201 | mse_mse: 0.0243  |  0:05:23s\n",
      "epoch 28 | loss: 0.02863 | mse_mse: 0.0296  |  0:05:35s\n",
      "epoch 29 | loss: 0.02672 | mse_mse: 0.03566 |  0:05:47s\n",
      "epoch 30 | loss: 0.02382 | mse_mse: 0.04656 |  0:05:58s\n",
      "epoch 31 | loss: 0.02292 | mse_mse: 0.01766 |  0:06:10s\n",
      "epoch 32 | loss: 0.02353 | mse_mse: 0.01313 |  0:06:22s\n",
      "epoch 33 | loss: 0.02403 | mse_mse: 0.01235 |  0:06:33s\n",
      "epoch 34 | loss: 0.02085 | mse_mse: 0.08589 |  0:06:45s\n",
      "\n",
      "Early stopping occurred at epoch 34 with best_epoch = 24 and best_mse_mse = 0.00924\n"
     ]
    },
    {
     "name": "stderr",
     "output_type": "stream",
     "text": [
      "/usr/local/lib/python3.9/site-packages/pytorch_tabnet/callbacks.py:172: UserWarning: Best weights from best epoch are automatically used!\n",
      "  warnings.warn(wrn_msg)\n"
     ]
    },
    {
     "name": "stdout",
     "output_type": "stream",
     "text": [
      "MSE: 0.009076268184789694\n",
      "R2 Score: 0.9590543234141873\n",
      "\n",
      "Iteration 130/162\n",
      "Configuration batch size: 32 - epochs: 200 - n_d: 16 - n_a: 8 - steps: 5 - n_indipendent: 5\n"
     ]
    },
    {
     "name": "stderr",
     "output_type": "stream",
     "text": [
      "/usr/local/lib/python3.9/site-packages/pytorch_tabnet/abstract_model.py:75: UserWarning: Device used : cpu\n",
      "  warnings.warn(f\"Device used : {self.device}\")\n"
     ]
    },
    {
     "name": "stdout",
     "output_type": "stream",
     "text": [
      "epoch 0  | loss: 1.11399 | mse_mse: 0.11114 |  0:00:11s\n",
      "epoch 1  | loss: 0.10643 | mse_mse: 0.12737 |  0:00:22s\n",
      "epoch 2  | loss: 0.08827 | mse_mse: 0.07978 |  0:00:34s\n",
      "epoch 3  | loss: 0.0897  | mse_mse: 0.07367 |  0:00:45s\n",
      "epoch 4  | loss: 0.07453 | mse_mse: 0.06771 |  0:00:57s\n",
      "epoch 5  | loss: 0.06291 | mse_mse: 0.07162 |  0:01:08s\n",
      "epoch 6  | loss: 0.05386 | mse_mse: 0.03607 |  0:01:20s\n",
      "epoch 7  | loss: 0.05226 | mse_mse: 0.03033 |  0:01:31s\n",
      "epoch 8  | loss: 0.04718 | mse_mse: 0.02333 |  0:01:43s\n",
      "epoch 9  | loss: 0.03827 | mse_mse: 0.02118 |  0:01:55s\n",
      "epoch 10 | loss: 0.03178 | mse_mse: 0.02369 |  0:02:06s\n",
      "epoch 11 | loss: 0.04489 | mse_mse: 0.01958 |  0:02:18s\n",
      "epoch 12 | loss: 0.03918 | mse_mse: 0.02929 |  0:02:30s\n",
      "epoch 13 | loss: 0.02935 | mse_mse: 0.01875 |  0:02:41s\n",
      "epoch 14 | loss: 0.03159 | mse_mse: 0.02264 |  0:02:53s\n",
      "epoch 15 | loss: 0.02771 | mse_mse: 0.01754 |  0:03:05s\n",
      "epoch 16 | loss: 0.02871 | mse_mse: 0.01388 |  0:03:16s\n",
      "epoch 17 | loss: 0.0249  | mse_mse: 0.01543 |  0:03:28s\n",
      "epoch 18 | loss: 0.02466 | mse_mse: 0.01006 |  0:03:40s\n",
      "epoch 19 | loss: 0.02552 | mse_mse: 0.01457 |  0:03:51s\n",
      "epoch 20 | loss: 0.0222  | mse_mse: 0.01557 |  0:04:03s\n",
      "epoch 21 | loss: 0.02805 | mse_mse: 0.01903 |  0:04:14s\n",
      "epoch 22 | loss: 0.02489 | mse_mse: 0.5176  |  0:04:26s\n",
      "epoch 23 | loss: 0.02372 | mse_mse: 0.02186 |  0:04:37s\n",
      "epoch 24 | loss: 0.02702 | mse_mse: 0.00924 |  0:04:49s\n",
      "epoch 25 | loss: 0.02472 | mse_mse: 0.01498 |  0:05:01s\n",
      "epoch 26 | loss: 0.02571 | mse_mse: 0.02161 |  0:05:12s\n",
      "epoch 27 | loss: 0.02201 | mse_mse: 0.0243  |  0:05:24s\n",
      "epoch 28 | loss: 0.02863 | mse_mse: 0.0296  |  0:05:36s\n",
      "epoch 29 | loss: 0.02672 | mse_mse: 0.03566 |  0:05:47s\n",
      "epoch 30 | loss: 0.02382 | mse_mse: 0.04656 |  0:05:59s\n",
      "epoch 31 | loss: 0.02292 | mse_mse: 0.01766 |  0:06:10s\n",
      "epoch 32 | loss: 0.02353 | mse_mse: 0.01313 |  0:06:22s\n",
      "epoch 33 | loss: 0.02403 | mse_mse: 0.01235 |  0:06:33s\n",
      "epoch 34 | loss: 0.02085 | mse_mse: 0.08589 |  0:06:45s\n",
      "\n",
      "Early stopping occurred at epoch 34 with best_epoch = 24 and best_mse_mse = 0.00924\n"
     ]
    },
    {
     "name": "stderr",
     "output_type": "stream",
     "text": [
      "/usr/local/lib/python3.9/site-packages/pytorch_tabnet/callbacks.py:172: UserWarning: Best weights from best epoch are automatically used!\n",
      "  warnings.warn(wrn_msg)\n"
     ]
    },
    {
     "name": "stdout",
     "output_type": "stream",
     "text": [
      "MSE: 0.009076268184789694\n",
      "R2 Score: 0.9590543234141873\n",
      "\n",
      "Iteration 131/162\n",
      "Configuration batch size: 32 - epochs: 200 - n_d: 16 - n_a: 8 - steps: 7 - n_indipendent: 3\n"
     ]
    },
    {
     "name": "stderr",
     "output_type": "stream",
     "text": [
      "/usr/local/lib/python3.9/site-packages/pytorch_tabnet/abstract_model.py:75: UserWarning: Device used : cpu\n",
      "  warnings.warn(f\"Device used : {self.device}\")\n"
     ]
    },
    {
     "name": "stdout",
     "output_type": "stream",
     "text": [
      "epoch 0  | loss: 1.08276 | mse_mse: 0.36886 |  0:00:15s\n",
      "epoch 1  | loss: 0.1702  | mse_mse: 0.09582 |  0:00:30s\n",
      "epoch 2  | loss: 0.11448 | mse_mse: 0.0853  |  0:00:46s\n",
      "epoch 3  | loss: 0.10512 | mse_mse: 0.10088 |  0:01:02s\n",
      "epoch 4  | loss: 0.08948 | mse_mse: 0.05663 |  0:01:18s\n",
      "epoch 5  | loss: 0.07243 | mse_mse: 0.04151 |  0:01:34s\n",
      "epoch 6  | loss: 0.05949 | mse_mse: 0.03062 |  0:01:50s\n",
      "epoch 7  | loss: 0.04136 | mse_mse: 0.02422 |  0:02:06s\n",
      "epoch 8  | loss: 0.04045 | mse_mse: 0.0338  |  0:02:22s\n",
      "epoch 9  | loss: 0.03852 | mse_mse: 0.01942 |  0:02:38s\n",
      "epoch 10 | loss: 0.03257 | mse_mse: 0.04882 |  0:02:53s\n",
      "epoch 11 | loss: 0.03692 | mse_mse: 0.10605 |  0:03:09s\n",
      "epoch 12 | loss: 0.0305  | mse_mse: 0.01899 |  0:03:25s\n",
      "epoch 13 | loss: 0.02894 | mse_mse: 0.02106 |  0:03:41s\n",
      "epoch 14 | loss: 0.02758 | mse_mse: 0.01824 |  0:03:57s\n",
      "epoch 15 | loss: 0.02874 | mse_mse: 0.01154 |  0:04:13s\n",
      "epoch 16 | loss: 0.02735 | mse_mse: 0.01087 |  0:04:28s\n",
      "epoch 17 | loss: 0.0257  | mse_mse: 0.01712 |  0:04:44s\n",
      "epoch 18 | loss: 0.02265 | mse_mse: 0.01196 |  0:05:00s\n",
      "epoch 19 | loss: 0.02064 | mse_mse: 0.03979 |  0:05:16s\n",
      "epoch 20 | loss: 0.02848 | mse_mse: 0.0318  |  0:05:32s\n",
      "epoch 21 | loss: 0.02644 | mse_mse: 0.03221 |  0:05:48s\n",
      "epoch 22 | loss: 0.02488 | mse_mse: 0.00944 |  0:06:04s\n",
      "epoch 23 | loss: 0.025   | mse_mse: 0.02155 |  0:06:20s\n",
      "epoch 24 | loss: 0.02876 | mse_mse: 0.00856 |  0:06:36s\n",
      "epoch 25 | loss: 0.0237  | mse_mse: 0.03071 |  0:06:52s\n",
      "epoch 26 | loss: 0.0246  | mse_mse: 0.04409 |  0:07:07s\n",
      "epoch 27 | loss: 0.02349 | mse_mse: 0.01871 |  0:07:23s\n",
      "epoch 28 | loss: 0.0209  | mse_mse: 0.00788 |  0:07:39s\n",
      "epoch 29 | loss: 0.02187 | mse_mse: 0.00995 |  0:07:55s\n",
      "epoch 30 | loss: 0.02117 | mse_mse: 0.04624 |  0:08:11s\n",
      "epoch 31 | loss: 0.01894 | mse_mse: 0.01161 |  0:08:27s\n",
      "epoch 32 | loss: 0.01936 | mse_mse: 0.01486 |  0:08:43s\n",
      "epoch 33 | loss: 0.02048 | mse_mse: 0.00938 |  0:08:59s\n",
      "epoch 34 | loss: 0.02137 | mse_mse: 0.00902 |  0:09:15s\n",
      "epoch 35 | loss: 0.02163 | mse_mse: 0.01154 |  0:09:31s\n",
      "epoch 36 | loss: 0.01954 | mse_mse: 0.01206 |  0:09:47s\n",
      "epoch 37 | loss: 0.01826 | mse_mse: 0.04979 |  0:10:03s\n",
      "epoch 38 | loss: 0.02123 | mse_mse: 0.02361 |  0:10:19s\n",
      "\n",
      "Early stopping occurred at epoch 38 with best_epoch = 28 and best_mse_mse = 0.00788\n"
     ]
    },
    {
     "name": "stderr",
     "output_type": "stream",
     "text": [
      "/usr/local/lib/python3.9/site-packages/pytorch_tabnet/callbacks.py:172: UserWarning: Best weights from best epoch are automatically used!\n",
      "  warnings.warn(wrn_msg)\n"
     ]
    },
    {
     "name": "stdout",
     "output_type": "stream",
     "text": [
      "MSE: 0.007812431456156499\n",
      "R2 Score: 0.9647558572267964\n",
      "\n",
      "Iteration 132/162\n",
      "Configuration batch size: 32 - epochs: 200 - n_d: 16 - n_a: 8 - steps: 7 - n_indipendent: 5\n"
     ]
    },
    {
     "name": "stderr",
     "output_type": "stream",
     "text": [
      "/usr/local/lib/python3.9/site-packages/pytorch_tabnet/abstract_model.py:75: UserWarning: Device used : cpu\n",
      "  warnings.warn(f\"Device used : {self.device}\")\n"
     ]
    },
    {
     "name": "stdout",
     "output_type": "stream",
     "text": [
      "epoch 0  | loss: 1.08276 | mse_mse: 0.36886 |  0:00:15s\n",
      "epoch 1  | loss: 0.1702  | mse_mse: 0.09582 |  0:00:30s\n",
      "epoch 2  | loss: 0.11448 | mse_mse: 0.0853  |  0:00:46s\n",
      "epoch 3  | loss: 0.10512 | mse_mse: 0.10088 |  0:01:02s\n",
      "epoch 4  | loss: 0.08948 | mse_mse: 0.05663 |  0:01:18s\n",
      "epoch 5  | loss: 0.07243 | mse_mse: 0.04151 |  0:01:34s\n",
      "epoch 6  | loss: 0.05949 | mse_mse: 0.03062 |  0:01:50s\n",
      "epoch 7  | loss: 0.04136 | mse_mse: 0.02422 |  0:02:05s\n",
      "epoch 8  | loss: 0.04045 | mse_mse: 0.0338  |  0:02:21s\n",
      "epoch 9  | loss: 0.03852 | mse_mse: 0.01942 |  0:02:37s\n",
      "epoch 10 | loss: 0.03257 | mse_mse: 0.04882 |  0:02:53s\n",
      "epoch 11 | loss: 0.03692 | mse_mse: 0.10605 |  0:03:09s\n",
      "epoch 12 | loss: 0.0305  | mse_mse: 0.01899 |  0:03:25s\n",
      "epoch 13 | loss: 0.02894 | mse_mse: 0.02106 |  0:03:40s\n",
      "epoch 14 | loss: 0.02758 | mse_mse: 0.01824 |  0:03:57s\n",
      "epoch 15 | loss: 0.02874 | mse_mse: 0.01154 |  0:04:12s\n",
      "epoch 16 | loss: 0.02735 | mse_mse: 0.01087 |  0:04:28s\n",
      "epoch 17 | loss: 0.0257  | mse_mse: 0.01712 |  0:04:44s\n",
      "epoch 18 | loss: 0.02265 | mse_mse: 0.01196 |  0:05:00s\n",
      "epoch 19 | loss: 0.02064 | mse_mse: 0.03979 |  0:05:16s\n",
      "epoch 20 | loss: 0.02848 | mse_mse: 0.0318  |  0:05:32s\n",
      "epoch 21 | loss: 0.02644 | mse_mse: 0.03221 |  0:05:48s\n",
      "epoch 22 | loss: 0.02488 | mse_mse: 0.00944 |  0:06:03s\n",
      "epoch 23 | loss: 0.025   | mse_mse: 0.02155 |  0:06:20s\n",
      "epoch 24 | loss: 0.02876 | mse_mse: 0.00856 |  0:06:35s\n",
      "epoch 25 | loss: 0.0237  | mse_mse: 0.03071 |  0:06:51s\n",
      "epoch 26 | loss: 0.0246  | mse_mse: 0.04409 |  0:07:07s\n",
      "epoch 27 | loss: 0.02349 | mse_mse: 0.01871 |  0:07:23s\n",
      "epoch 28 | loss: 0.0209  | mse_mse: 0.00788 |  0:07:39s\n",
      "epoch 29 | loss: 0.02187 | mse_mse: 0.00995 |  0:07:55s\n",
      "epoch 30 | loss: 0.02117 | mse_mse: 0.04624 |  0:08:11s\n",
      "epoch 31 | loss: 0.01894 | mse_mse: 0.01161 |  0:08:27s\n",
      "epoch 32 | loss: 0.01936 | mse_mse: 0.01486 |  0:08:43s\n",
      "epoch 33 | loss: 0.02048 | mse_mse: 0.00938 |  0:08:58s\n",
      "epoch 34 | loss: 0.02137 | mse_mse: 0.00902 |  0:09:14s\n",
      "epoch 35 | loss: 0.02163 | mse_mse: 0.01154 |  0:09:30s\n",
      "epoch 36 | loss: 0.01954 | mse_mse: 0.01206 |  0:09:46s\n",
      "epoch 37 | loss: 0.01826 | mse_mse: 0.04979 |  0:10:02s\n",
      "epoch 38 | loss: 0.02123 | mse_mse: 0.02361 |  0:10:18s\n",
      "\n",
      "Early stopping occurred at epoch 38 with best_epoch = 28 and best_mse_mse = 0.00788\n"
     ]
    },
    {
     "name": "stderr",
     "output_type": "stream",
     "text": [
      "/usr/local/lib/python3.9/site-packages/pytorch_tabnet/callbacks.py:172: UserWarning: Best weights from best epoch are automatically used!\n",
      "  warnings.warn(wrn_msg)\n"
     ]
    },
    {
     "name": "stdout",
     "output_type": "stream",
     "text": [
      "MSE: 0.007812431456156499\n",
      "R2 Score: 0.9647558572267964\n",
      "\n",
      "Iteration 133/162\n",
      "Configuration batch size: 32 - epochs: 200 - n_d: 16 - n_a: 16 - steps: 3 - n_indipendent: 3\n"
     ]
    },
    {
     "name": "stderr",
     "output_type": "stream",
     "text": [
      "/usr/local/lib/python3.9/site-packages/pytorch_tabnet/abstract_model.py:75: UserWarning: Device used : cpu\n",
      "  warnings.warn(f\"Device used : {self.device}\")\n"
     ]
    },
    {
     "name": "stdout",
     "output_type": "stream",
     "text": [
      "epoch 0  | loss: 0.53237 | mse_mse: 0.09493 |  0:00:07s\n",
      "epoch 1  | loss: 0.0943  | mse_mse: 0.08602 |  0:00:14s\n",
      "epoch 2  | loss: 0.07364 | mse_mse: 0.0437  |  0:00:22s\n",
      "epoch 3  | loss: 0.04768 | mse_mse: 0.02869 |  0:00:29s\n",
      "epoch 4  | loss: 0.03999 | mse_mse: 0.02504 |  0:00:37s\n",
      "epoch 5  | loss: 0.03711 | mse_mse: 0.04605 |  0:00:44s\n",
      "epoch 6  | loss: 0.03296 | mse_mse: 0.01868 |  0:00:52s\n",
      "epoch 7  | loss: 0.02919 | mse_mse: 0.01638 |  0:01:00s\n",
      "epoch 8  | loss: 0.02717 | mse_mse: 0.01121 |  0:01:07s\n",
      "epoch 9  | loss: 0.02844 | mse_mse: 0.02203 |  0:01:15s\n",
      "epoch 10 | loss: 0.02456 | mse_mse: 0.01735 |  0:01:23s\n",
      "epoch 11 | loss: 0.02577 | mse_mse: 0.02803 |  0:01:31s\n",
      "epoch 12 | loss: 0.02636 | mse_mse: 0.03143 |  0:01:38s\n",
      "epoch 13 | loss: 0.02503 | mse_mse: 0.01269 |  0:01:46s\n",
      "epoch 14 | loss: 0.02573 | mse_mse: 0.02598 |  0:01:54s\n",
      "epoch 15 | loss: 0.03049 | mse_mse: 0.01019 |  0:02:01s\n",
      "epoch 16 | loss: 0.03016 | mse_mse: 0.01101 |  0:02:09s\n",
      "epoch 17 | loss: 0.02496 | mse_mse: 0.01319 |  0:02:17s\n",
      "epoch 18 | loss: 0.02364 | mse_mse: 0.01187 |  0:02:24s\n",
      "epoch 19 | loss: 0.02472 | mse_mse: 0.02915 |  0:02:32s\n",
      "epoch 20 | loss: 0.02327 | mse_mse: 0.04747 |  0:02:40s\n",
      "epoch 21 | loss: 0.02478 | mse_mse: 0.02976 |  0:02:48s\n",
      "epoch 22 | loss: 0.02714 | mse_mse: 0.03177 |  0:02:55s\n",
      "epoch 23 | loss: 0.02354 | mse_mse: 0.02574 |  0:03:03s\n",
      "epoch 24 | loss: 0.02436 | mse_mse: 0.01466 |  0:03:11s\n",
      "epoch 25 | loss: 0.02172 | mse_mse: 0.05266 |  0:03:18s\n",
      "\n",
      "Early stopping occurred at epoch 25 with best_epoch = 15 and best_mse_mse = 0.01019\n"
     ]
    },
    {
     "name": "stderr",
     "output_type": "stream",
     "text": [
      "/usr/local/lib/python3.9/site-packages/pytorch_tabnet/callbacks.py:172: UserWarning: Best weights from best epoch are automatically used!\n",
      "  warnings.warn(wrn_msg)\n"
     ]
    },
    {
     "name": "stdout",
     "output_type": "stream",
     "text": [
      "MSE: 0.010577111588510666\n",
      "R2 Score: 0.9522835837926219\n",
      "\n",
      "Iteration 134/162\n",
      "Configuration batch size: 32 - epochs: 200 - n_d: 16 - n_a: 16 - steps: 3 - n_indipendent: 5\n"
     ]
    },
    {
     "name": "stderr",
     "output_type": "stream",
     "text": [
      "/usr/local/lib/python3.9/site-packages/pytorch_tabnet/abstract_model.py:75: UserWarning: Device used : cpu\n",
      "  warnings.warn(f\"Device used : {self.device}\")\n"
     ]
    },
    {
     "name": "stdout",
     "output_type": "stream",
     "text": [
      "epoch 0  | loss: 0.53237 | mse_mse: 0.09493 |  0:00:07s\n",
      "epoch 1  | loss: 0.0943  | mse_mse: 0.08602 |  0:00:14s\n",
      "epoch 2  | loss: 0.07364 | mse_mse: 0.0437  |  0:00:22s\n",
      "epoch 3  | loss: 0.04768 | mse_mse: 0.02869 |  0:00:30s\n",
      "epoch 4  | loss: 0.03999 | mse_mse: 0.02504 |  0:00:38s\n",
      "epoch 5  | loss: 0.03711 | mse_mse: 0.04605 |  0:00:45s\n",
      "epoch 6  | loss: 0.03296 | mse_mse: 0.01868 |  0:00:53s\n",
      "epoch 7  | loss: 0.02919 | mse_mse: 0.01638 |  0:01:00s\n",
      "epoch 8  | loss: 0.02717 | mse_mse: 0.01121 |  0:01:09s\n",
      "epoch 9  | loss: 0.02844 | mse_mse: 0.02203 |  0:01:16s\n",
      "epoch 10 | loss: 0.02456 | mse_mse: 0.01735 |  0:01:24s\n",
      "epoch 11 | loss: 0.02577 | mse_mse: 0.02803 |  0:01:32s\n",
      "epoch 12 | loss: 0.02636 | mse_mse: 0.03143 |  0:01:39s\n",
      "epoch 13 | loss: 0.02503 | mse_mse: 0.01269 |  0:01:47s\n",
      "epoch 14 | loss: 0.02573 | mse_mse: 0.02598 |  0:01:55s\n",
      "epoch 15 | loss: 0.03049 | mse_mse: 0.01019 |  0:02:03s\n",
      "epoch 16 | loss: 0.03016 | mse_mse: 0.01101 |  0:02:10s\n",
      "epoch 17 | loss: 0.02496 | mse_mse: 0.01319 |  0:02:18s\n",
      "epoch 18 | loss: 0.02364 | mse_mse: 0.01187 |  0:02:26s\n",
      "epoch 19 | loss: 0.02472 | mse_mse: 0.02915 |  0:02:33s\n",
      "epoch 20 | loss: 0.02327 | mse_mse: 0.04747 |  0:02:41s\n",
      "epoch 21 | loss: 0.02478 | mse_mse: 0.02976 |  0:02:49s\n",
      "epoch 22 | loss: 0.02714 | mse_mse: 0.03177 |  0:02:57s\n",
      "epoch 23 | loss: 0.02354 | mse_mse: 0.02574 |  0:03:04s\n",
      "epoch 24 | loss: 0.02436 | mse_mse: 0.01466 |  0:03:12s\n",
      "epoch 25 | loss: 0.02172 | mse_mse: 0.05266 |  0:03:20s\n",
      "\n",
      "Early stopping occurred at epoch 25 with best_epoch = 15 and best_mse_mse = 0.01019\n"
     ]
    },
    {
     "name": "stderr",
     "output_type": "stream",
     "text": [
      "/usr/local/lib/python3.9/site-packages/pytorch_tabnet/callbacks.py:172: UserWarning: Best weights from best epoch are automatically used!\n",
      "  warnings.warn(wrn_msg)\n"
     ]
    },
    {
     "name": "stdout",
     "output_type": "stream",
     "text": [
      "MSE: 0.010577111588510666\n",
      "R2 Score: 0.9522835837926219\n",
      "\n",
      "Iteration 135/162\n",
      "Configuration batch size: 32 - epochs: 200 - n_d: 16 - n_a: 16 - steps: 5 - n_indipendent: 3\n"
     ]
    },
    {
     "name": "stderr",
     "output_type": "stream",
     "text": [
      "/usr/local/lib/python3.9/site-packages/pytorch_tabnet/abstract_model.py:75: UserWarning: Device used : cpu\n",
      "  warnings.warn(f\"Device used : {self.device}\")\n"
     ]
    },
    {
     "name": "stdout",
     "output_type": "stream",
     "text": [
      "epoch 0  | loss: 0.48214 | mse_mse: 0.11663 |  0:00:11s\n",
      "epoch 1  | loss: 0.10268 | mse_mse: 0.06969 |  0:00:23s\n",
      "epoch 2  | loss: 0.07626 | mse_mse: 0.0711  |  0:00:35s\n",
      "epoch 3  | loss: 0.08437 | mse_mse: 0.08162 |  0:00:47s\n",
      "epoch 4  | loss: 0.06239 | mse_mse: 0.03628 |  0:00:59s\n",
      "epoch 5  | loss: 0.04954 | mse_mse: 0.03375 |  0:01:12s\n",
      "epoch 6  | loss: 0.04547 | mse_mse: 0.08051 |  0:01:24s\n",
      "epoch 7  | loss: 0.03637 | mse_mse: 0.01948 |  0:01:36s\n",
      "epoch 8  | loss: 0.03846 | mse_mse: 0.05275 |  0:01:48s\n",
      "epoch 9  | loss: 0.04037 | mse_mse: 0.03052 |  0:02:00s\n",
      "epoch 10 | loss: 0.02756 | mse_mse: 0.03015 |  0:02:13s\n",
      "epoch 11 | loss: 0.03553 | mse_mse: 0.01245 |  0:02:25s\n",
      "epoch 12 | loss: 0.02766 | mse_mse: 0.01996 |  0:02:37s\n",
      "epoch 13 | loss: 0.02595 | mse_mse: 0.04569 |  0:02:50s\n",
      "epoch 14 | loss: 0.02603 | mse_mse: 0.01627 |  0:03:02s\n",
      "epoch 15 | loss: 0.02802 | mse_mse: 0.01702 |  0:03:14s\n",
      "epoch 16 | loss: 0.02472 | mse_mse: 0.00879 |  0:03:26s\n",
      "epoch 17 | loss: 0.0308  | mse_mse: 0.03094 |  0:03:38s\n",
      "epoch 18 | loss: 0.02463 | mse_mse: 0.0251  |  0:03:51s\n",
      "epoch 19 | loss: 0.02289 | mse_mse: 0.01764 |  0:04:03s\n",
      "epoch 20 | loss: 0.02394 | mse_mse: 0.01652 |  0:04:15s\n",
      "epoch 21 | loss: 0.02253 | mse_mse: 0.01905 |  0:04:27s\n",
      "epoch 22 | loss: 0.01993 | mse_mse: 0.01197 |  0:04:40s\n",
      "epoch 23 | loss: 0.02318 | mse_mse: 0.00949 |  0:04:52s\n",
      "epoch 24 | loss: 0.02144 | mse_mse: 0.0112  |  0:05:04s\n",
      "epoch 25 | loss: 0.02225 | mse_mse: 0.01647 |  0:05:16s\n",
      "epoch 26 | loss: 0.02088 | mse_mse: 0.02004 |  0:05:29s\n",
      "\n",
      "Early stopping occurred at epoch 26 with best_epoch = 16 and best_mse_mse = 0.00879\n"
     ]
    },
    {
     "name": "stderr",
     "output_type": "stream",
     "text": [
      "/usr/local/lib/python3.9/site-packages/pytorch_tabnet/callbacks.py:172: UserWarning: Best weights from best epoch are automatically used!\n",
      "  warnings.warn(wrn_msg)\n"
     ]
    },
    {
     "name": "stdout",
     "output_type": "stream",
     "text": [
      "MSE: 0.008751719056684305\n",
      "R2 Score: 0.9605184586033481\n",
      "\n",
      "Iteration 136/162\n",
      "Configuration batch size: 32 - epochs: 200 - n_d: 16 - n_a: 16 - steps: 5 - n_indipendent: 5\n"
     ]
    },
    {
     "name": "stderr",
     "output_type": "stream",
     "text": [
      "/usr/local/lib/python3.9/site-packages/pytorch_tabnet/abstract_model.py:75: UserWarning: Device used : cpu\n",
      "  warnings.warn(f\"Device used : {self.device}\")\n"
     ]
    },
    {
     "name": "stdout",
     "output_type": "stream",
     "text": [
      "epoch 0  | loss: 0.48214 | mse_mse: 0.11663 |  0:00:11s\n",
      "epoch 1  | loss: 0.10268 | mse_mse: 0.06969 |  0:00:23s\n",
      "epoch 2  | loss: 0.07626 | mse_mse: 0.0711  |  0:00:35s\n",
      "epoch 3  | loss: 0.08437 | mse_mse: 0.08162 |  0:00:47s\n",
      "epoch 4  | loss: 0.06239 | mse_mse: 0.03628 |  0:00:59s\n",
      "epoch 5  | loss: 0.04954 | mse_mse: 0.03375 |  0:01:12s\n",
      "epoch 6  | loss: 0.04547 | mse_mse: 0.08051 |  0:01:24s\n",
      "epoch 7  | loss: 0.03637 | mse_mse: 0.01948 |  0:01:36s\n",
      "epoch 8  | loss: 0.03846 | mse_mse: 0.05275 |  0:01:48s\n",
      "epoch 9  | loss: 0.04037 | mse_mse: 0.03052 |  0:02:00s\n",
      "epoch 10 | loss: 0.02756 | mse_mse: 0.03015 |  0:02:12s\n",
      "epoch 11 | loss: 0.03553 | mse_mse: 0.01245 |  0:02:25s\n",
      "epoch 12 | loss: 0.02766 | mse_mse: 0.01996 |  0:02:37s\n",
      "epoch 13 | loss: 0.02595 | mse_mse: 0.04569 |  0:02:49s\n",
      "epoch 14 | loss: 0.02603 | mse_mse: 0.01627 |  0:03:01s\n",
      "epoch 15 | loss: 0.02802 | mse_mse: 0.01702 |  0:03:14s\n",
      "epoch 16 | loss: 0.02472 | mse_mse: 0.00879 |  0:03:26s\n",
      "epoch 17 | loss: 0.0308  | mse_mse: 0.03094 |  0:03:38s\n",
      "epoch 18 | loss: 0.02463 | mse_mse: 0.0251  |  0:03:50s\n",
      "epoch 19 | loss: 0.02289 | mse_mse: 0.01764 |  0:04:03s\n",
      "epoch 20 | loss: 0.02394 | mse_mse: 0.01652 |  0:04:15s\n",
      "epoch 21 | loss: 0.02253 | mse_mse: 0.01905 |  0:04:27s\n",
      "epoch 22 | loss: 0.01993 | mse_mse: 0.01197 |  0:04:39s\n",
      "epoch 23 | loss: 0.02318 | mse_mse: 0.00949 |  0:04:51s\n",
      "epoch 24 | loss: 0.02144 | mse_mse: 0.0112  |  0:05:04s\n",
      "epoch 25 | loss: 0.02225 | mse_mse: 0.01647 |  0:05:16s\n",
      "epoch 26 | loss: 0.02088 | mse_mse: 0.02004 |  0:05:28s\n",
      "\n",
      "Early stopping occurred at epoch 26 with best_epoch = 16 and best_mse_mse = 0.00879\n"
     ]
    },
    {
     "name": "stderr",
     "output_type": "stream",
     "text": [
      "/usr/local/lib/python3.9/site-packages/pytorch_tabnet/callbacks.py:172: UserWarning: Best weights from best epoch are automatically used!\n",
      "  warnings.warn(wrn_msg)\n"
     ]
    },
    {
     "name": "stdout",
     "output_type": "stream",
     "text": [
      "MSE: 0.008751719056684305\n",
      "R2 Score: 0.9605184586033481\n",
      "\n",
      "Iteration 137/162\n",
      "Configuration batch size: 32 - epochs: 200 - n_d: 16 - n_a: 16 - steps: 7 - n_indipendent: 3\n"
     ]
    },
    {
     "name": "stderr",
     "output_type": "stream",
     "text": [
      "/usr/local/lib/python3.9/site-packages/pytorch_tabnet/abstract_model.py:75: UserWarning: Device used : cpu\n",
      "  warnings.warn(f\"Device used : {self.device}\")\n"
     ]
    },
    {
     "name": "stdout",
     "output_type": "stream",
     "text": [
      "epoch 0  | loss: 0.67597 | mse_mse: 0.17023 |  0:00:15s\n",
      "epoch 1  | loss: 0.16212 | mse_mse: 0.08806 |  0:00:31s\n",
      "epoch 2  | loss: 0.10803 | mse_mse: 0.09164 |  0:00:48s\n",
      "epoch 3  | loss: 0.08541 | mse_mse: 0.04916 |  0:01:05s\n",
      "epoch 4  | loss: 0.05759 | mse_mse: 0.03401 |  0:01:21s\n",
      "epoch 5  | loss: 0.05367 | mse_mse: 0.03671 |  0:01:38s\n",
      "epoch 6  | loss: 0.05306 | mse_mse: 0.0785  |  0:01:55s\n",
      "epoch 7  | loss: 0.04627 | mse_mse: 0.03104 |  0:02:12s\n",
      "epoch 8  | loss: 0.03617 | mse_mse: 0.02861 |  0:02:28s\n",
      "epoch 9  | loss: 0.03546 | mse_mse: 0.01985 |  0:02:45s\n",
      "epoch 10 | loss: 0.03255 | mse_mse: 0.04442 |  0:03:02s\n",
      "epoch 11 | loss: 0.02998 | mse_mse: 0.03385 |  0:03:19s\n",
      "epoch 12 | loss: 0.03028 | mse_mse: 0.01392 |  0:03:36s\n",
      "epoch 13 | loss: 0.02536 | mse_mse: 0.03362 |  0:03:52s\n",
      "epoch 14 | loss: 0.02195 | mse_mse: 0.04663 |  0:04:09s\n",
      "epoch 15 | loss: 0.02208 | mse_mse: 0.02056 |  0:04:26s\n",
      "epoch 16 | loss: 0.02279 | mse_mse: 0.01032 |  0:04:43s\n",
      "epoch 17 | loss: 0.022   | mse_mse: 0.0125  |  0:05:00s\n",
      "epoch 18 | loss: 0.02465 | mse_mse: 0.0223  |  0:05:17s\n",
      "epoch 19 | loss: 0.02064 | mse_mse: 0.0406  |  0:05:33s\n",
      "epoch 20 | loss: 0.0213  | mse_mse: 0.0143  |  0:05:50s\n",
      "epoch 21 | loss: 0.02376 | mse_mse: 0.01082 |  0:06:07s\n",
      "epoch 22 | loss: 0.02098 | mse_mse: 0.0099  |  0:06:24s\n",
      "epoch 23 | loss: 0.02019 | mse_mse: 0.03878 |  0:06:41s\n",
      "epoch 24 | loss: 0.01823 | mse_mse: 0.01962 |  0:06:58s\n",
      "epoch 25 | loss: 0.021   | mse_mse: 0.02264 |  0:07:14s\n",
      "epoch 26 | loss: 0.02016 | mse_mse: 0.01798 |  0:07:31s\n",
      "epoch 27 | loss: 0.0216  | mse_mse: 0.01448 |  0:07:48s\n",
      "epoch 28 | loss: 0.01962 | mse_mse: 0.0088  |  0:08:05s\n",
      "epoch 29 | loss: 0.01936 | mse_mse: 0.01686 |  0:08:21s\n",
      "epoch 30 | loss: 0.01923 | mse_mse: 0.03068 |  0:08:38s\n",
      "epoch 31 | loss: 0.02462 | mse_mse: 0.0107  |  0:08:55s\n",
      "epoch 32 | loss: 0.01842 | mse_mse: 0.01155 |  0:09:12s\n",
      "epoch 33 | loss: 0.02045 | mse_mse: 0.00968 |  0:09:29s\n",
      "epoch 34 | loss: 0.01823 | mse_mse: 0.01641 |  0:09:46s\n",
      "epoch 35 | loss: 0.02185 | mse_mse: 0.0285  |  0:10:02s\n",
      "epoch 36 | loss: 0.01981 | mse_mse: 0.01451 |  0:10:19s\n",
      "epoch 37 | loss: 0.02085 | mse_mse: 0.01796 |  0:10:36s\n",
      "epoch 38 | loss: 0.01766 | mse_mse: 0.02837 |  0:10:53s\n",
      "\n",
      "Early stopping occurred at epoch 38 with best_epoch = 28 and best_mse_mse = 0.0088\n"
     ]
    },
    {
     "name": "stderr",
     "output_type": "stream",
     "text": [
      "/usr/local/lib/python3.9/site-packages/pytorch_tabnet/callbacks.py:172: UserWarning: Best weights from best epoch are automatically used!\n",
      "  warnings.warn(wrn_msg)\n"
     ]
    },
    {
     "name": "stdout",
     "output_type": "stream",
     "text": [
      "MSE: 0.008381687076023799\n",
      "R2 Score: 0.9621877801238298\n",
      "\n",
      "Iteration 138/162\n",
      "Configuration batch size: 32 - epochs: 200 - n_d: 16 - n_a: 16 - steps: 7 - n_indipendent: 5\n"
     ]
    },
    {
     "name": "stderr",
     "output_type": "stream",
     "text": [
      "/usr/local/lib/python3.9/site-packages/pytorch_tabnet/abstract_model.py:75: UserWarning: Device used : cpu\n",
      "  warnings.warn(f\"Device used : {self.device}\")\n"
     ]
    },
    {
     "name": "stdout",
     "output_type": "stream",
     "text": [
      "epoch 0  | loss: 0.67597 | mse_mse: 0.17023 |  0:00:15s\n",
      "epoch 1  | loss: 0.16212 | mse_mse: 0.08806 |  0:00:31s\n",
      "epoch 2  | loss: 0.10803 | mse_mse: 0.09164 |  0:00:48s\n",
      "epoch 3  | loss: 0.08541 | mse_mse: 0.04916 |  0:01:05s\n",
      "epoch 4  | loss: 0.05759 | mse_mse: 0.03401 |  0:01:21s\n",
      "epoch 5  | loss: 0.05367 | mse_mse: 0.03671 |  0:01:38s\n",
      "epoch 6  | loss: 0.05306 | mse_mse: 0.0785  |  0:01:55s\n",
      "epoch 7  | loss: 0.04627 | mse_mse: 0.03104 |  0:02:12s\n",
      "epoch 8  | loss: 0.03617 | mse_mse: 0.02861 |  0:02:29s\n",
      "epoch 9  | loss: 0.03546 | mse_mse: 0.01985 |  0:02:46s\n",
      "epoch 10 | loss: 0.03255 | mse_mse: 0.04442 |  0:03:02s\n",
      "epoch 11 | loss: 0.02998 | mse_mse: 0.03385 |  0:03:19s\n",
      "epoch 12 | loss: 0.03028 | mse_mse: 0.01392 |  0:03:36s\n",
      "epoch 13 | loss: 0.02536 | mse_mse: 0.03362 |  0:03:53s\n",
      "epoch 14 | loss: 0.02195 | mse_mse: 0.04663 |  0:04:10s\n",
      "epoch 15 | loss: 0.02208 | mse_mse: 0.02056 |  0:04:26s\n",
      "epoch 16 | loss: 0.02279 | mse_mse: 0.01032 |  0:04:43s\n",
      "epoch 17 | loss: 0.022   | mse_mse: 0.0125  |  0:05:00s\n",
      "epoch 18 | loss: 0.02465 | mse_mse: 0.0223  |  0:05:16s\n",
      "epoch 19 | loss: 0.02064 | mse_mse: 0.0406  |  0:05:33s\n",
      "epoch 20 | loss: 0.0213  | mse_mse: 0.0143  |  0:05:50s\n",
      "epoch 21 | loss: 0.02376 | mse_mse: 0.01082 |  0:06:07s\n",
      "epoch 22 | loss: 0.02098 | mse_mse: 0.0099  |  0:06:24s\n",
      "epoch 23 | loss: 0.02019 | mse_mse: 0.03878 |  0:06:40s\n",
      "epoch 24 | loss: 0.01823 | mse_mse: 0.01962 |  0:06:57s\n",
      "epoch 25 | loss: 0.021   | mse_mse: 0.02264 |  0:07:14s\n",
      "epoch 26 | loss: 0.02016 | mse_mse: 0.01798 |  0:07:31s\n",
      "epoch 27 | loss: 0.0216  | mse_mse: 0.01448 |  0:07:47s\n",
      "epoch 28 | loss: 0.01962 | mse_mse: 0.0088  |  0:08:04s\n",
      "epoch 29 | loss: 0.01936 | mse_mse: 0.01686 |  0:08:21s\n",
      "epoch 30 | loss: 0.01923 | mse_mse: 0.03068 |  0:08:38s\n",
      "epoch 31 | loss: 0.02462 | mse_mse: 0.0107  |  0:08:55s\n",
      "epoch 32 | loss: 0.01842 | mse_mse: 0.01155 |  0:09:12s\n",
      "epoch 33 | loss: 0.02045 | mse_mse: 0.00968 |  0:09:29s\n",
      "epoch 34 | loss: 0.01823 | mse_mse: 0.01641 |  0:09:46s\n",
      "epoch 35 | loss: 0.02185 | mse_mse: 0.0285  |  0:10:02s\n",
      "epoch 36 | loss: 0.01981 | mse_mse: 0.01451 |  0:10:19s\n",
      "epoch 37 | loss: 0.02085 | mse_mse: 0.01796 |  0:10:36s\n",
      "epoch 38 | loss: 0.01766 | mse_mse: 0.02837 |  0:10:53s\n",
      "\n",
      "Early stopping occurred at epoch 38 with best_epoch = 28 and best_mse_mse = 0.0088\n"
     ]
    },
    {
     "name": "stderr",
     "output_type": "stream",
     "text": [
      "/usr/local/lib/python3.9/site-packages/pytorch_tabnet/callbacks.py:172: UserWarning: Best weights from best epoch are automatically used!\n",
      "  warnings.warn(wrn_msg)\n"
     ]
    },
    {
     "name": "stdout",
     "output_type": "stream",
     "text": [
      "MSE: 0.008381687076023799\n",
      "R2 Score: 0.9621877801238298\n",
      "\n",
      "Iteration 139/162\n",
      "Configuration batch size: 32 - epochs: 200 - n_d: 16 - n_a: 32 - steps: 3 - n_indipendent: 3\n"
     ]
    },
    {
     "name": "stderr",
     "output_type": "stream",
     "text": [
      "/usr/local/lib/python3.9/site-packages/pytorch_tabnet/abstract_model.py:75: UserWarning: Device used : cpu\n",
      "  warnings.warn(f\"Device used : {self.device}\")\n"
     ]
    },
    {
     "name": "stdout",
     "output_type": "stream",
     "text": [
      "epoch 0  | loss: 0.54545 | mse_mse: 0.09002 |  0:00:07s\n",
      "epoch 1  | loss: 0.09124 | mse_mse: 0.04827 |  0:00:14s\n",
      "epoch 2  | loss: 0.05007 | mse_mse: 0.05493 |  0:00:22s\n",
      "epoch 3  | loss: 0.04014 | mse_mse: 0.02059 |  0:00:30s\n",
      "epoch 4  | loss: 0.03547 | mse_mse: 0.01646 |  0:00:38s\n",
      "epoch 5  | loss: 0.0341  | mse_mse: 0.28733 |  0:00:45s\n",
      "epoch 6  | loss: 0.02702 | mse_mse: 0.06378 |  0:00:53s\n",
      "epoch 7  | loss: 0.02738 | mse_mse: 0.0121  |  0:01:01s\n",
      "epoch 8  | loss: 0.02968 | mse_mse: 0.01789 |  0:01:09s\n",
      "epoch 9  | loss: 0.02481 | mse_mse: 0.01383 |  0:01:17s\n",
      "epoch 10 | loss: 0.02645 | mse_mse: 0.01521 |  0:01:25s\n",
      "epoch 11 | loss: 0.02867 | mse_mse: 0.04539 |  0:01:32s\n",
      "epoch 12 | loss: 0.02753 | mse_mse: 0.02857 |  0:01:40s\n",
      "epoch 13 | loss: 0.02813 | mse_mse: 0.01646 |  0:01:48s\n",
      "epoch 14 | loss: 0.0232  | mse_mse: 0.04761 |  0:01:56s\n",
      "epoch 15 | loss: 0.02477 | mse_mse: 0.02128 |  0:02:04s\n",
      "epoch 16 | loss: 0.02337 | mse_mse: 0.01119 |  0:02:11s\n",
      "epoch 17 | loss: 0.02437 | mse_mse: 0.00711 |  0:02:20s\n",
      "epoch 18 | loss: 0.01986 | mse_mse: 0.00806 |  0:02:27s\n",
      "epoch 19 | loss: 0.02379 | mse_mse: 0.02062 |  0:02:35s\n",
      "epoch 20 | loss: 0.02635 | mse_mse: 0.0201  |  0:02:43s\n",
      "epoch 21 | loss: 0.02346 | mse_mse: 0.00921 |  0:02:51s\n",
      "epoch 22 | loss: 0.0236  | mse_mse: 0.02555 |  0:02:59s\n",
      "epoch 23 | loss: 0.02795 | mse_mse: 0.01798 |  0:03:07s\n",
      "epoch 24 | loss: 0.02219 | mse_mse: 0.00769 |  0:03:15s\n",
      "epoch 25 | loss: 0.02386 | mse_mse: 0.04037 |  0:03:23s\n",
      "epoch 26 | loss: 0.0256  | mse_mse: 0.01606 |  0:03:30s\n",
      "epoch 27 | loss: 0.02145 | mse_mse: 0.01686 |  0:03:38s\n",
      "\n",
      "Early stopping occurred at epoch 27 with best_epoch = 17 and best_mse_mse = 0.00711\n"
     ]
    },
    {
     "name": "stderr",
     "output_type": "stream",
     "text": [
      "/usr/local/lib/python3.9/site-packages/pytorch_tabnet/callbacks.py:172: UserWarning: Best weights from best epoch are automatically used!\n",
      "  warnings.warn(wrn_msg)\n"
     ]
    },
    {
     "name": "stdout",
     "output_type": "stream",
     "text": [
      "MSE: 0.006862233944342286\n",
      "R2 Score: 0.9690424736223531\n",
      "Best model updated\n",
      "\n",
      "Iteration 140/162\n",
      "Configuration batch size: 32 - epochs: 200 - n_d: 16 - n_a: 32 - steps: 3 - n_indipendent: 5\n"
     ]
    },
    {
     "name": "stderr",
     "output_type": "stream",
     "text": [
      "/usr/local/lib/python3.9/site-packages/pytorch_tabnet/abstract_model.py:75: UserWarning: Device used : cpu\n",
      "  warnings.warn(f\"Device used : {self.device}\")\n"
     ]
    },
    {
     "name": "stdout",
     "output_type": "stream",
     "text": [
      "epoch 0  | loss: 0.54545 | mse_mse: 0.09002 |  0:00:07s\n",
      "epoch 1  | loss: 0.09124 | mse_mse: 0.04827 |  0:00:15s\n",
      "epoch 2  | loss: 0.05007 | mse_mse: 0.05493 |  0:00:22s\n",
      "epoch 3  | loss: 0.04014 | mse_mse: 0.02059 |  0:00:30s\n",
      "epoch 4  | loss: 0.03547 | mse_mse: 0.01646 |  0:00:38s\n",
      "epoch 5  | loss: 0.0341  | mse_mse: 0.28733 |  0:00:46s\n",
      "epoch 6  | loss: 0.02702 | mse_mse: 0.06378 |  0:00:53s\n",
      "epoch 7  | loss: 0.02738 | mse_mse: 0.0121  |  0:01:01s\n",
      "epoch 8  | loss: 0.02968 | mse_mse: 0.01789 |  0:01:09s\n",
      "epoch 9  | loss: 0.02481 | mse_mse: 0.01383 |  0:01:17s\n",
      "epoch 10 | loss: 0.02645 | mse_mse: 0.01521 |  0:01:25s\n",
      "epoch 11 | loss: 0.02867 | mse_mse: 0.04539 |  0:01:33s\n",
      "epoch 12 | loss: 0.02753 | mse_mse: 0.02857 |  0:01:41s\n",
      "epoch 13 | loss: 0.02813 | mse_mse: 0.01646 |  0:01:48s\n",
      "epoch 14 | loss: 0.0232  | mse_mse: 0.04761 |  0:01:56s\n",
      "epoch 15 | loss: 0.02477 | mse_mse: 0.02128 |  0:02:04s\n",
      "epoch 16 | loss: 0.02337 | mse_mse: 0.01119 |  0:02:12s\n",
      "epoch 17 | loss: 0.02437 | mse_mse: 0.00711 |  0:02:20s\n",
      "epoch 18 | loss: 0.01986 | mse_mse: 0.00806 |  0:02:28s\n",
      "epoch 19 | loss: 0.02379 | mse_mse: 0.02062 |  0:02:36s\n",
      "epoch 20 | loss: 0.02635 | mse_mse: 0.0201  |  0:02:44s\n",
      "epoch 21 | loss: 0.02346 | mse_mse: 0.00921 |  0:02:51s\n",
      "epoch 22 | loss: 0.0236  | mse_mse: 0.02555 |  0:02:59s\n",
      "epoch 23 | loss: 0.02795 | mse_mse: 0.01798 |  0:03:07s\n",
      "epoch 24 | loss: 0.02219 | mse_mse: 0.00769 |  0:03:15s\n",
      "epoch 25 | loss: 0.02386 | mse_mse: 0.04037 |  0:03:23s\n",
      "epoch 26 | loss: 0.0256  | mse_mse: 0.01606 |  0:03:31s\n",
      "epoch 27 | loss: 0.02145 | mse_mse: 0.01686 |  0:03:39s\n",
      "\n",
      "Early stopping occurred at epoch 27 with best_epoch = 17 and best_mse_mse = 0.00711\n"
     ]
    },
    {
     "name": "stderr",
     "output_type": "stream",
     "text": [
      "/usr/local/lib/python3.9/site-packages/pytorch_tabnet/callbacks.py:172: UserWarning: Best weights from best epoch are automatically used!\n",
      "  warnings.warn(wrn_msg)\n"
     ]
    },
    {
     "name": "stdout",
     "output_type": "stream",
     "text": [
      "MSE: 0.006862233944342286\n",
      "R2 Score: 0.9690424736223531\n",
      "\n",
      "Iteration 141/162\n",
      "Configuration batch size: 32 - epochs: 200 - n_d: 16 - n_a: 32 - steps: 5 - n_indipendent: 3\n"
     ]
    },
    {
     "name": "stderr",
     "output_type": "stream",
     "text": [
      "/usr/local/lib/python3.9/site-packages/pytorch_tabnet/abstract_model.py:75: UserWarning: Device used : cpu\n",
      "  warnings.warn(f\"Device used : {self.device}\")\n"
     ]
    },
    {
     "name": "stdout",
     "output_type": "stream",
     "text": [
      "epoch 0  | loss: 0.82313 | mse_mse: 0.11846 |  0:00:11s\n",
      "epoch 1  | loss: 0.12235 | mse_mse: 0.08586 |  0:00:23s\n",
      "epoch 2  | loss: 0.09841 | mse_mse: 0.06815 |  0:00:35s\n",
      "epoch 3  | loss: 0.07873 | mse_mse: 0.05214 |  0:00:48s\n",
      "epoch 4  | loss: 0.05106 | mse_mse: 0.04371 |  0:01:00s\n",
      "epoch 5  | loss: 0.04745 | mse_mse: 0.03617 |  0:01:12s\n",
      "epoch 6  | loss: 0.03607 | mse_mse: 0.02581 |  0:01:24s\n",
      "epoch 7  | loss: 0.03971 | mse_mse: 0.02922 |  0:01:37s\n",
      "epoch 8  | loss: 0.03813 | mse_mse: 0.0969  |  0:01:49s\n",
      "epoch 9  | loss: 0.03234 | mse_mse: 0.04426 |  0:02:01s\n",
      "epoch 10 | loss: 0.02704 | mse_mse: 0.0105  |  0:02:14s\n",
      "epoch 11 | loss: 0.02707 | mse_mse: 0.02861 |  0:02:26s\n",
      "epoch 12 | loss: 0.0291  | mse_mse: 0.03048 |  0:02:38s\n",
      "epoch 13 | loss: 0.02773 | mse_mse: 0.0134  |  0:02:51s\n",
      "epoch 14 | loss: 0.0243  | mse_mse: 0.0226  |  0:03:03s\n",
      "epoch 15 | loss: 0.02644 | mse_mse: 0.09193 |  0:03:15s\n",
      "epoch 16 | loss: 0.03456 | mse_mse: 0.02526 |  0:03:28s\n",
      "epoch 17 | loss: 0.03237 | mse_mse: 0.01277 |  0:03:40s\n",
      "epoch 18 | loss: 0.03233 | mse_mse: 0.01756 |  0:03:52s\n",
      "epoch 19 | loss: 0.03053 | mse_mse: 0.03679 |  0:04:05s\n",
      "epoch 20 | loss: 0.02919 | mse_mse: 0.01466 |  0:04:17s\n",
      "\n",
      "Early stopping occurred at epoch 20 with best_epoch = 10 and best_mse_mse = 0.0105\n"
     ]
    },
    {
     "name": "stderr",
     "output_type": "stream",
     "text": [
      "/usr/local/lib/python3.9/site-packages/pytorch_tabnet/callbacks.py:172: UserWarning: Best weights from best epoch are automatically used!\n",
      "  warnings.warn(wrn_msg)\n"
     ]
    },
    {
     "name": "stdout",
     "output_type": "stream",
     "text": [
      "MSE: 0.0108048616393812\n",
      "R2 Score: 0.9512561372985909\n",
      "\n",
      "Iteration 142/162\n",
      "Configuration batch size: 32 - epochs: 200 - n_d: 16 - n_a: 32 - steps: 5 - n_indipendent: 5\n"
     ]
    },
    {
     "name": "stderr",
     "output_type": "stream",
     "text": [
      "/usr/local/lib/python3.9/site-packages/pytorch_tabnet/abstract_model.py:75: UserWarning: Device used : cpu\n",
      "  warnings.warn(f\"Device used : {self.device}\")\n"
     ]
    },
    {
     "name": "stdout",
     "output_type": "stream",
     "text": [
      "epoch 0  | loss: 0.82313 | mse_mse: 0.11846 |  0:00:11s\n",
      "epoch 1  | loss: 0.12235 | mse_mse: 0.08586 |  0:00:23s\n",
      "epoch 2  | loss: 0.09841 | mse_mse: 0.06815 |  0:00:35s\n",
      "epoch 3  | loss: 0.07873 | mse_mse: 0.05214 |  0:00:47s\n",
      "epoch 4  | loss: 0.05106 | mse_mse: 0.04371 |  0:00:59s\n",
      "epoch 5  | loss: 0.04745 | mse_mse: 0.03617 |  0:01:12s\n",
      "epoch 6  | loss: 0.03607 | mse_mse: 0.02581 |  0:01:24s\n",
      "epoch 7  | loss: 0.03971 | mse_mse: 0.02922 |  0:01:36s\n",
      "epoch 8  | loss: 0.03813 | mse_mse: 0.0969  |  0:01:49s\n",
      "epoch 9  | loss: 0.03234 | mse_mse: 0.04426 |  0:02:01s\n",
      "epoch 10 | loss: 0.02704 | mse_mse: 0.0105  |  0:02:13s\n",
      "epoch 11 | loss: 0.02707 | mse_mse: 0.02861 |  0:02:26s\n",
      "epoch 12 | loss: 0.0291  | mse_mse: 0.03048 |  0:02:38s\n",
      "epoch 13 | loss: 0.02773 | mse_mse: 0.0134  |  0:02:50s\n",
      "epoch 14 | loss: 0.0243  | mse_mse: 0.0226  |  0:03:02s\n",
      "epoch 15 | loss: 0.02644 | mse_mse: 0.09193 |  0:03:15s\n",
      "epoch 16 | loss: 0.03456 | mse_mse: 0.02526 |  0:03:27s\n",
      "epoch 17 | loss: 0.03237 | mse_mse: 0.01277 |  0:03:39s\n",
      "epoch 18 | loss: 0.03233 | mse_mse: 0.01756 |  0:03:52s\n",
      "epoch 19 | loss: 0.03053 | mse_mse: 0.03679 |  0:04:04s\n",
      "epoch 20 | loss: 0.02919 | mse_mse: 0.01466 |  0:04:16s\n",
      "\n",
      "Early stopping occurred at epoch 20 with best_epoch = 10 and best_mse_mse = 0.0105\n"
     ]
    },
    {
     "name": "stderr",
     "output_type": "stream",
     "text": [
      "/usr/local/lib/python3.9/site-packages/pytorch_tabnet/callbacks.py:172: UserWarning: Best weights from best epoch are automatically used!\n",
      "  warnings.warn(wrn_msg)\n"
     ]
    },
    {
     "name": "stdout",
     "output_type": "stream",
     "text": [
      "MSE: 0.0108048616393812\n",
      "R2 Score: 0.9512561372985909\n",
      "\n",
      "Iteration 143/162\n",
      "Configuration batch size: 32 - epochs: 200 - n_d: 16 - n_a: 32 - steps: 7 - n_indipendent: 3\n"
     ]
    },
    {
     "name": "stderr",
     "output_type": "stream",
     "text": [
      "/usr/local/lib/python3.9/site-packages/pytorch_tabnet/abstract_model.py:75: UserWarning: Device used : cpu\n",
      "  warnings.warn(f\"Device used : {self.device}\")\n"
     ]
    },
    {
     "name": "stdout",
     "output_type": "stream",
     "text": [
      "epoch 0  | loss: 0.85757 | mse_mse: 0.1811  |  0:00:15s\n",
      "epoch 1  | loss: 0.12528 | mse_mse: 0.10404 |  0:00:31s\n",
      "epoch 2  | loss: 0.12371 | mse_mse: 0.11426 |  0:00:48s\n",
      "epoch 3  | loss: 0.12434 | mse_mse: 0.08675 |  0:01:05s\n",
      "epoch 4  | loss: 0.10477 | mse_mse: 0.08463 |  0:01:22s\n",
      "epoch 5  | loss: 0.10094 | mse_mse: 0.10801 |  0:01:39s\n",
      "epoch 6  | loss: 0.08047 | mse_mse: 0.06645 |  0:01:55s\n",
      "epoch 7  | loss: 0.06695 | mse_mse: 0.05076 |  0:02:12s\n",
      "epoch 8  | loss: 0.04841 | mse_mse: 0.07426 |  0:02:29s\n",
      "epoch 9  | loss: 0.03661 | mse_mse: 0.02597 |  0:02:46s\n",
      "epoch 10 | loss: 0.03728 | mse_mse: 0.07662 |  0:03:03s\n",
      "epoch 11 | loss: 0.03603 | mse_mse: 0.0168  |  0:03:20s\n",
      "epoch 12 | loss: 0.02805 | mse_mse: 0.01368 |  0:03:37s\n",
      "epoch 13 | loss: 0.02499 | mse_mse: 0.01959 |  0:03:54s\n",
      "epoch 14 | loss: 0.03075 | mse_mse: 0.03117 |  0:04:11s\n",
      "epoch 15 | loss: 0.02567 | mse_mse: 0.01423 |  0:04:28s\n",
      "epoch 16 | loss: 0.0259  | mse_mse: 0.07107 |  0:04:45s\n",
      "epoch 17 | loss: 0.02522 | mse_mse: 0.011   |  0:05:02s\n",
      "epoch 18 | loss: 0.02385 | mse_mse: 0.009   |  0:05:19s\n",
      "epoch 19 | loss: 0.02273 | mse_mse: 0.03383 |  0:05:35s\n",
      "epoch 20 | loss: 0.02071 | mse_mse: 0.01024 |  0:05:52s\n",
      "epoch 21 | loss: 0.02357 | mse_mse: 0.01192 |  0:06:09s\n",
      "epoch 22 | loss: 0.02175 | mse_mse: 0.0249  |  0:06:26s\n",
      "epoch 23 | loss: 0.02146 | mse_mse: 0.02137 |  0:06:43s\n",
      "epoch 24 | loss: 0.02198 | mse_mse: 0.00984 |  0:07:00s\n",
      "epoch 25 | loss: 0.02126 | mse_mse: 0.02675 |  0:07:17s\n",
      "epoch 26 | loss: 0.01991 | mse_mse: 0.0063  |  0:07:34s\n",
      "epoch 27 | loss: 0.01789 | mse_mse: 0.04296 |  0:07:51s\n",
      "epoch 28 | loss: 0.02594 | mse_mse: 0.01602 |  0:08:08s\n",
      "epoch 29 | loss: 0.02158 | mse_mse: 0.01119 |  0:08:25s\n",
      "epoch 30 | loss: 0.019   | mse_mse: 0.0217  |  0:08:42s\n",
      "epoch 31 | loss: 0.01924 | mse_mse: 0.04619 |  0:08:59s\n",
      "epoch 32 | loss: 0.01904 | mse_mse: 0.01797 |  0:09:15s\n",
      "epoch 33 | loss: 0.02087 | mse_mse: 0.01383 |  0:09:32s\n",
      "epoch 34 | loss: 0.02141 | mse_mse: 0.01196 |  0:09:49s\n",
      "epoch 35 | loss: 0.01841 | mse_mse: 0.01966 |  0:10:06s\n",
      "epoch 36 | loss: 0.01791 | mse_mse: 0.01321 |  0:10:23s\n",
      "\n",
      "Early stopping occurred at epoch 36 with best_epoch = 26 and best_mse_mse = 0.0063\n"
     ]
    },
    {
     "name": "stderr",
     "output_type": "stream",
     "text": [
      "/usr/local/lib/python3.9/site-packages/pytorch_tabnet/callbacks.py:172: UserWarning: Best weights from best epoch are automatically used!\n",
      "  warnings.warn(wrn_msg)\n"
     ]
    },
    {
     "name": "stdout",
     "output_type": "stream",
     "text": [
      "MSE: 0.00639599107305163\n",
      "R2 Score: 0.9711458303577016\n",
      "Best model updated\n",
      "\n",
      "Iteration 144/162\n",
      "Configuration batch size: 32 - epochs: 200 - n_d: 16 - n_a: 32 - steps: 7 - n_indipendent: 5\n"
     ]
    },
    {
     "name": "stderr",
     "output_type": "stream",
     "text": [
      "/usr/local/lib/python3.9/site-packages/pytorch_tabnet/abstract_model.py:75: UserWarning: Device used : cpu\n",
      "  warnings.warn(f\"Device used : {self.device}\")\n"
     ]
    },
    {
     "name": "stdout",
     "output_type": "stream",
     "text": [
      "epoch 0  | loss: 0.85757 | mse_mse: 0.1811  |  0:00:16s\n",
      "epoch 1  | loss: 0.12528 | mse_mse: 0.10404 |  0:00:32s\n",
      "epoch 2  | loss: 0.12371 | mse_mse: 0.11426 |  0:00:49s\n",
      "epoch 3  | loss: 0.12434 | mse_mse: 0.08675 |  0:01:05s\n",
      "epoch 4  | loss: 0.10477 | mse_mse: 0.08463 |  0:01:22s\n",
      "epoch 5  | loss: 0.10094 | mse_mse: 0.10801 |  0:01:39s\n",
      "epoch 6  | loss: 0.08047 | mse_mse: 0.06645 |  0:01:56s\n",
      "epoch 7  | loss: 0.06695 | mse_mse: 0.05076 |  0:02:13s\n",
      "epoch 8  | loss: 0.04841 | mse_mse: 0.07426 |  0:02:29s\n",
      "epoch 9  | loss: 0.03661 | mse_mse: 0.02597 |  0:02:46s\n",
      "epoch 10 | loss: 0.03728 | mse_mse: 0.07662 |  0:03:03s\n",
      "epoch 11 | loss: 0.03603 | mse_mse: 0.0168  |  0:03:20s\n",
      "epoch 12 | loss: 0.02805 | mse_mse: 0.01368 |  0:03:37s\n",
      "epoch 13 | loss: 0.02499 | mse_mse: 0.01959 |  0:03:54s\n",
      "epoch 14 | loss: 0.03075 | mse_mse: 0.03117 |  0:04:11s\n",
      "epoch 15 | loss: 0.02567 | mse_mse: 0.01423 |  0:04:27s\n",
      "epoch 16 | loss: 0.0259  | mse_mse: 0.07107 |  0:04:44s\n",
      "epoch 17 | loss: 0.02522 | mse_mse: 0.011   |  0:05:01s\n",
      "epoch 18 | loss: 0.02385 | mse_mse: 0.009   |  0:05:18s\n",
      "epoch 19 | loss: 0.02273 | mse_mse: 0.03383 |  0:05:35s\n",
      "epoch 20 | loss: 0.02071 | mse_mse: 0.01024 |  0:05:52s\n",
      "epoch 21 | loss: 0.02357 | mse_mse: 0.01192 |  0:06:09s\n",
      "epoch 22 | loss: 0.02175 | mse_mse: 0.0249  |  0:06:26s\n",
      "epoch 23 | loss: 0.02146 | mse_mse: 0.02137 |  0:06:42s\n",
      "epoch 24 | loss: 0.02198 | mse_mse: 0.00984 |  0:06:59s\n",
      "epoch 25 | loss: 0.02126 | mse_mse: 0.02675 |  0:07:16s\n",
      "epoch 26 | loss: 0.01991 | mse_mse: 0.0063  |  0:07:33s\n",
      "epoch 27 | loss: 0.01789 | mse_mse: 0.04296 |  0:07:50s\n",
      "epoch 28 | loss: 0.02594 | mse_mse: 0.01602 |  0:08:07s\n",
      "epoch 29 | loss: 0.02158 | mse_mse: 0.01119 |  0:08:24s\n",
      "epoch 30 | loss: 0.019   | mse_mse: 0.0217  |  0:08:41s\n",
      "epoch 31 | loss: 0.01924 | mse_mse: 0.04619 |  0:08:58s\n",
      "epoch 32 | loss: 0.01904 | mse_mse: 0.01797 |  0:09:14s\n",
      "epoch 33 | loss: 0.02087 | mse_mse: 0.01383 |  0:09:31s\n",
      "epoch 34 | loss: 0.02141 | mse_mse: 0.01196 |  0:09:48s\n",
      "epoch 35 | loss: 0.01841 | mse_mse: 0.01966 |  0:10:05s\n",
      "epoch 36 | loss: 0.01791 | mse_mse: 0.01321 |  0:10:22s\n",
      "\n",
      "Early stopping occurred at epoch 36 with best_epoch = 26 and best_mse_mse = 0.0063\n"
     ]
    },
    {
     "name": "stderr",
     "output_type": "stream",
     "text": [
      "/usr/local/lib/python3.9/site-packages/pytorch_tabnet/callbacks.py:172: UserWarning: Best weights from best epoch are automatically used!\n",
      "  warnings.warn(wrn_msg)\n"
     ]
    },
    {
     "name": "stdout",
     "output_type": "stream",
     "text": [
      "MSE: 0.00639599107305163\n",
      "R2 Score: 0.9711458303577016\n",
      "\n",
      "Iteration 145/162\n",
      "Configuration batch size: 32 - epochs: 200 - n_d: 32 - n_a: 8 - steps: 3 - n_indipendent: 3\n"
     ]
    },
    {
     "name": "stderr",
     "output_type": "stream",
     "text": [
      "/usr/local/lib/python3.9/site-packages/pytorch_tabnet/abstract_model.py:75: UserWarning: Device used : cpu\n",
      "  warnings.warn(f\"Device used : {self.device}\")\n"
     ]
    },
    {
     "name": "stdout",
     "output_type": "stream",
     "text": [
      "epoch 0  | loss: 0.40238 | mse_mse: 0.14149 |  0:00:07s\n",
      "epoch 1  | loss: 0.09044 | mse_mse: 0.04593 |  0:00:14s\n",
      "epoch 2  | loss: 0.05801 | mse_mse: 0.03376 |  0:00:22s\n",
      "epoch 3  | loss: 0.04814 | mse_mse: 0.01744 |  0:00:30s\n",
      "epoch 4  | loss: 0.05168 | mse_mse: 0.14865 |  0:00:37s\n",
      "epoch 5  | loss: 0.0353  | mse_mse: 0.02703 |  0:00:45s\n",
      "epoch 6  | loss: 0.03472 | mse_mse: 0.01891 |  0:00:53s\n",
      "epoch 7  | loss: 0.03468 | mse_mse: 0.04205 |  0:01:00s\n",
      "epoch 8  | loss: 0.0279  | mse_mse: 0.0112  |  0:01:08s\n",
      "epoch 9  | loss: 0.03004 | mse_mse: 0.04864 |  0:01:16s\n",
      "epoch 10 | loss: 0.02718 | mse_mse: 0.01296 |  0:01:23s\n",
      "epoch 11 | loss: 0.02356 | mse_mse: 0.01381 |  0:01:31s\n",
      "epoch 12 | loss: 0.03156 | mse_mse: 0.02261 |  0:01:39s\n",
      "epoch 13 | loss: 0.02645 | mse_mse: 0.00916 |  0:01:47s\n",
      "epoch 14 | loss: 0.02471 | mse_mse: 0.01961 |  0:01:54s\n",
      "epoch 15 | loss: 0.02684 | mse_mse: 0.04149 |  0:02:02s\n",
      "epoch 16 | loss: 0.02559 | mse_mse: 0.01081 |  0:02:10s\n",
      "epoch 17 | loss: 0.02418 | mse_mse: 0.01008 |  0:02:17s\n",
      "epoch 18 | loss: 0.02767 | mse_mse: 0.02562 |  0:02:25s\n",
      "epoch 19 | loss: 0.02719 | mse_mse: 0.07906 |  0:02:33s\n",
      "epoch 20 | loss: 0.0261  | mse_mse: 0.01541 |  0:02:40s\n",
      "epoch 21 | loss: 0.0241  | mse_mse: 0.04952 |  0:02:48s\n",
      "epoch 22 | loss: 0.02721 | mse_mse: 0.04105 |  0:02:56s\n",
      "epoch 23 | loss: 0.02231 | mse_mse: 0.02947 |  0:03:03s\n",
      "\n",
      "Early stopping occurred at epoch 23 with best_epoch = 13 and best_mse_mse = 0.00916\n"
     ]
    },
    {
     "name": "stderr",
     "output_type": "stream",
     "text": [
      "/usr/local/lib/python3.9/site-packages/pytorch_tabnet/callbacks.py:172: UserWarning: Best weights from best epoch are automatically used!\n",
      "  warnings.warn(wrn_msg)\n"
     ]
    },
    {
     "name": "stdout",
     "output_type": "stream",
     "text": [
      "MSE: 0.009160248676005857\n",
      "R2 Score: 0.9586754630761227\n",
      "\n",
      "Iteration 146/162\n",
      "Configuration batch size: 32 - epochs: 200 - n_d: 32 - n_a: 8 - steps: 3 - n_indipendent: 5\n"
     ]
    },
    {
     "name": "stderr",
     "output_type": "stream",
     "text": [
      "/usr/local/lib/python3.9/site-packages/pytorch_tabnet/abstract_model.py:75: UserWarning: Device used : cpu\n",
      "  warnings.warn(f\"Device used : {self.device}\")\n"
     ]
    },
    {
     "name": "stdout",
     "output_type": "stream",
     "text": [
      "epoch 0  | loss: 0.40238 | mse_mse: 0.14149 |  0:00:07s\n",
      "epoch 1  | loss: 0.09044 | mse_mse: 0.04593 |  0:00:14s\n",
      "epoch 2  | loss: 0.05801 | mse_mse: 0.03376 |  0:00:22s\n",
      "epoch 3  | loss: 0.04814 | mse_mse: 0.01744 |  0:00:30s\n",
      "epoch 4  | loss: 0.05168 | mse_mse: 0.14865 |  0:00:37s\n",
      "epoch 5  | loss: 0.0353  | mse_mse: 0.02703 |  0:00:45s\n",
      "epoch 6  | loss: 0.03472 | mse_mse: 0.01891 |  0:00:53s\n",
      "epoch 7  | loss: 0.03468 | mse_mse: 0.04205 |  0:01:01s\n",
      "epoch 8  | loss: 0.0279  | mse_mse: 0.0112  |  0:01:08s\n",
      "epoch 9  | loss: 0.03004 | mse_mse: 0.04864 |  0:01:16s\n",
      "epoch 10 | loss: 0.02718 | mse_mse: 0.01296 |  0:01:24s\n",
      "epoch 11 | loss: 0.02356 | mse_mse: 0.01381 |  0:01:31s\n",
      "epoch 12 | loss: 0.03156 | mse_mse: 0.02261 |  0:01:39s\n",
      "epoch 13 | loss: 0.02645 | mse_mse: 0.00916 |  0:01:47s\n",
      "epoch 14 | loss: 0.02471 | mse_mse: 0.01961 |  0:01:54s\n",
      "epoch 15 | loss: 0.02684 | mse_mse: 0.04149 |  0:02:02s\n",
      "epoch 16 | loss: 0.02559 | mse_mse: 0.01081 |  0:02:10s\n",
      "epoch 17 | loss: 0.02418 | mse_mse: 0.01008 |  0:02:18s\n",
      "epoch 18 | loss: 0.02767 | mse_mse: 0.02562 |  0:02:25s\n",
      "epoch 19 | loss: 0.02719 | mse_mse: 0.07906 |  0:02:33s\n",
      "epoch 20 | loss: 0.0261  | mse_mse: 0.01541 |  0:02:41s\n",
      "epoch 21 | loss: 0.0241  | mse_mse: 0.04952 |  0:02:48s\n",
      "epoch 22 | loss: 0.02721 | mse_mse: 0.04105 |  0:02:56s\n",
      "epoch 23 | loss: 0.02231 | mse_mse: 0.02947 |  0:03:04s\n",
      "\n",
      "Early stopping occurred at epoch 23 with best_epoch = 13 and best_mse_mse = 0.00916\n"
     ]
    },
    {
     "name": "stderr",
     "output_type": "stream",
     "text": [
      "/usr/local/lib/python3.9/site-packages/pytorch_tabnet/callbacks.py:172: UserWarning: Best weights from best epoch are automatically used!\n",
      "  warnings.warn(wrn_msg)\n"
     ]
    },
    {
     "name": "stdout",
     "output_type": "stream",
     "text": [
      "MSE: 0.009160248676005857\n",
      "R2 Score: 0.9586754630761227\n",
      "\n",
      "Iteration 147/162\n",
      "Configuration batch size: 32 - epochs: 200 - n_d: 32 - n_a: 8 - steps: 5 - n_indipendent: 3\n"
     ]
    },
    {
     "name": "stderr",
     "output_type": "stream",
     "text": [
      "/usr/local/lib/python3.9/site-packages/pytorch_tabnet/abstract_model.py:75: UserWarning: Device used : cpu\n",
      "  warnings.warn(f\"Device used : {self.device}\")\n"
     ]
    },
    {
     "name": "stdout",
     "output_type": "stream",
     "text": [
      "epoch 0  | loss: 0.60828 | mse_mse: 0.14309 |  0:00:11s\n",
      "epoch 1  | loss: 0.10632 | mse_mse: 0.07446 |  0:00:23s\n",
      "epoch 2  | loss: 0.08203 | mse_mse: 0.04596 |  0:00:35s\n",
      "epoch 3  | loss: 0.06598 | mse_mse: 0.05947 |  0:00:47s\n",
      "epoch 4  | loss: 0.06294 | mse_mse: 0.042   |  0:00:59s\n",
      "epoch 5  | loss: 0.06151 | mse_mse: 0.05829 |  0:01:11s\n",
      "epoch 6  | loss: 0.0511  | mse_mse: 0.06484 |  0:01:23s\n",
      "epoch 7  | loss: 0.04502 | mse_mse: 0.02392 |  0:01:36s\n",
      "epoch 8  | loss: 0.03649 | mse_mse: 0.038   |  0:01:47s\n",
      "epoch 9  | loss: 0.02987 | mse_mse: 0.02438 |  0:02:00s\n",
      "epoch 10 | loss: 0.03295 | mse_mse: 0.03095 |  0:02:12s\n",
      "epoch 11 | loss: 0.02841 | mse_mse: 0.0169  |  0:02:24s\n",
      "epoch 12 | loss: 0.02658 | mse_mse: 0.01471 |  0:02:36s\n",
      "epoch 13 | loss: 0.02898 | mse_mse: 0.00693 |  0:02:48s\n",
      "epoch 14 | loss: 0.03046 | mse_mse: 0.05943 |  0:03:00s\n",
      "epoch 15 | loss: 0.02507 | mse_mse: 0.03534 |  0:03:12s\n",
      "epoch 16 | loss: 0.02519 | mse_mse: 0.08701 |  0:03:24s\n",
      "epoch 17 | loss: 0.02423 | mse_mse: 0.02149 |  0:03:36s\n",
      "epoch 18 | loss: 0.02592 | mse_mse: 0.02397 |  0:03:48s\n",
      "epoch 19 | loss: 0.02295 | mse_mse: 0.02649 |  0:04:00s\n",
      "epoch 20 | loss: 0.02297 | mse_mse: 0.01713 |  0:04:12s\n",
      "epoch 21 | loss: 0.02481 | mse_mse: 0.01957 |  0:04:24s\n",
      "epoch 22 | loss: 0.02399 | mse_mse: 0.03501 |  0:04:36s\n",
      "epoch 23 | loss: 0.02628 | mse_mse: 0.02736 |  0:04:48s\n",
      "\n",
      "Early stopping occurred at epoch 23 with best_epoch = 13 and best_mse_mse = 0.00693\n"
     ]
    },
    {
     "name": "stderr",
     "output_type": "stream",
     "text": [
      "/usr/local/lib/python3.9/site-packages/pytorch_tabnet/callbacks.py:172: UserWarning: Best weights from best epoch are automatically used!\n",
      "  warnings.warn(wrn_msg)\n"
     ]
    },
    {
     "name": "stdout",
     "output_type": "stream",
     "text": [
      "MSE: 0.006967463373131879\n",
      "R2 Score: 0.968567753167778\n",
      "\n",
      "Iteration 148/162\n",
      "Configuration batch size: 32 - epochs: 200 - n_d: 32 - n_a: 8 - steps: 5 - n_indipendent: 5\n"
     ]
    },
    {
     "name": "stderr",
     "output_type": "stream",
     "text": [
      "/usr/local/lib/python3.9/site-packages/pytorch_tabnet/abstract_model.py:75: UserWarning: Device used : cpu\n",
      "  warnings.warn(f\"Device used : {self.device}\")\n"
     ]
    },
    {
     "name": "stdout",
     "output_type": "stream",
     "text": [
      "epoch 0  | loss: 0.60828 | mse_mse: 0.14309 |  0:00:11s\n",
      "epoch 1  | loss: 0.10632 | mse_mse: 0.07446 |  0:00:23s\n",
      "epoch 2  | loss: 0.08203 | mse_mse: 0.04596 |  0:00:35s\n",
      "epoch 3  | loss: 0.06598 | mse_mse: 0.05947 |  0:00:47s\n",
      "epoch 4  | loss: 0.06294 | mse_mse: 0.042   |  0:00:59s\n",
      "epoch 5  | loss: 0.06151 | mse_mse: 0.05829 |  0:01:11s\n",
      "epoch 6  | loss: 0.0511  | mse_mse: 0.06484 |  0:01:23s\n",
      "epoch 7  | loss: 0.04502 | mse_mse: 0.02392 |  0:01:35s\n",
      "epoch 8  | loss: 0.03649 | mse_mse: 0.038   |  0:01:47s\n",
      "epoch 9  | loss: 0.02987 | mse_mse: 0.02438 |  0:01:59s\n",
      "epoch 10 | loss: 0.03295 | mse_mse: 0.03095 |  0:02:11s\n",
      "epoch 11 | loss: 0.02841 | mse_mse: 0.0169  |  0:02:23s\n",
      "epoch 12 | loss: 0.02658 | mse_mse: 0.01471 |  0:02:35s\n",
      "epoch 13 | loss: 0.02898 | mse_mse: 0.00693 |  0:02:47s\n",
      "epoch 14 | loss: 0.03046 | mse_mse: 0.05943 |  0:02:59s\n",
      "epoch 15 | loss: 0.02507 | mse_mse: 0.03534 |  0:03:11s\n",
      "epoch 16 | loss: 0.02519 | mse_mse: 0.08701 |  0:03:23s\n",
      "epoch 17 | loss: 0.02423 | mse_mse: 0.02149 |  0:03:35s\n",
      "epoch 18 | loss: 0.02592 | mse_mse: 0.02397 |  0:03:47s\n",
      "epoch 19 | loss: 0.02295 | mse_mse: 0.02649 |  0:03:59s\n",
      "epoch 20 | loss: 0.02297 | mse_mse: 0.01713 |  0:04:11s\n",
      "epoch 21 | loss: 0.02481 | mse_mse: 0.01957 |  0:04:23s\n",
      "epoch 22 | loss: 0.02399 | mse_mse: 0.03501 |  0:04:35s\n",
      "epoch 23 | loss: 0.02628 | mse_mse: 0.02736 |  0:04:48s\n",
      "\n",
      "Early stopping occurred at epoch 23 with best_epoch = 13 and best_mse_mse = 0.00693\n"
     ]
    },
    {
     "name": "stderr",
     "output_type": "stream",
     "text": [
      "/usr/local/lib/python3.9/site-packages/pytorch_tabnet/callbacks.py:172: UserWarning: Best weights from best epoch are automatically used!\n",
      "  warnings.warn(wrn_msg)\n"
     ]
    },
    {
     "name": "stdout",
     "output_type": "stream",
     "text": [
      "MSE: 0.006967463373131879\n",
      "R2 Score: 0.968567753167778\n",
      "\n",
      "Iteration 149/162\n",
      "Configuration batch size: 32 - epochs: 200 - n_d: 32 - n_a: 8 - steps: 7 - n_indipendent: 3\n"
     ]
    },
    {
     "name": "stderr",
     "output_type": "stream",
     "text": [
      "/usr/local/lib/python3.9/site-packages/pytorch_tabnet/abstract_model.py:75: UserWarning: Device used : cpu\n",
      "  warnings.warn(f\"Device used : {self.device}\")\n"
     ]
    },
    {
     "name": "stdout",
     "output_type": "stream",
     "text": [
      "epoch 0  | loss: 1.44356 | mse_mse: 0.2287  |  0:00:16s\n",
      "epoch 1  | loss: 0.16875 | mse_mse: 0.11566 |  0:00:32s\n",
      "epoch 2  | loss: 0.14336 | mse_mse: 0.14355 |  0:00:49s\n",
      "epoch 3  | loss: 0.1293  | mse_mse: 0.10012 |  0:01:06s\n",
      "epoch 4  | loss: 0.11137 | mse_mse: 0.08425 |  0:01:22s\n",
      "epoch 5  | loss: 0.08627 | mse_mse: 0.05146 |  0:01:39s\n",
      "epoch 6  | loss: 0.07032 | mse_mse: 0.04935 |  0:01:55s\n",
      "epoch 7  | loss: 0.05546 | mse_mse: 0.08308 |  0:02:12s\n",
      "epoch 8  | loss: 0.05391 | mse_mse: 0.02359 |  0:02:29s\n",
      "epoch 9  | loss: 0.04239 | mse_mse: 0.02194 |  0:02:45s\n",
      "epoch 10 | loss: 0.03438 | mse_mse: 0.01753 |  0:03:02s\n",
      "epoch 11 | loss: 0.03019 | mse_mse: 0.04335 |  0:03:18s\n",
      "epoch 12 | loss: 0.02924 | mse_mse: 0.0266  |  0:03:35s\n",
      "epoch 13 | loss: 0.03382 | mse_mse: 0.02439 |  0:03:51s\n",
      "epoch 14 | loss: 0.02929 | mse_mse: 0.02011 |  0:04:08s\n",
      "epoch 15 | loss: 0.02413 | mse_mse: 0.04263 |  0:04:24s\n",
      "epoch 16 | loss: 0.02692 | mse_mse: 0.0404  |  0:04:41s\n",
      "epoch 17 | loss: 0.02359 | mse_mse: 0.00763 |  0:04:57s\n",
      "epoch 18 | loss: 0.02504 | mse_mse: 0.00913 |  0:05:14s\n",
      "epoch 19 | loss: 0.02513 | mse_mse: 0.01574 |  0:05:31s\n",
      "epoch 20 | loss: 0.02237 | mse_mse: 0.00794 |  0:05:47s\n",
      "epoch 21 | loss: 0.02394 | mse_mse: 0.02235 |  0:06:04s\n",
      "epoch 22 | loss: 0.03085 | mse_mse: 0.0127  |  0:06:20s\n",
      "epoch 23 | loss: 0.02265 | mse_mse: 0.02135 |  0:06:37s\n",
      "epoch 24 | loss: 0.02776 | mse_mse: 0.02354 |  0:06:53s\n",
      "epoch 25 | loss: 0.02183 | mse_mse: 0.02224 |  0:07:10s\n",
      "epoch 26 | loss: 0.02296 | mse_mse: 0.00824 |  0:07:26s\n",
      "epoch 27 | loss: 0.02224 | mse_mse: 0.01838 |  0:07:43s\n",
      "\n",
      "Early stopping occurred at epoch 27 with best_epoch = 17 and best_mse_mse = 0.00763\n"
     ]
    },
    {
     "name": "stderr",
     "output_type": "stream",
     "text": [
      "/usr/local/lib/python3.9/site-packages/pytorch_tabnet/callbacks.py:172: UserWarning: Best weights from best epoch are automatically used!\n",
      "  warnings.warn(wrn_msg)\n"
     ]
    },
    {
     "name": "stdout",
     "output_type": "stream",
     "text": [
      "MSE: 0.008346014433027031\n",
      "R2 Score: 0.9623487097562919\n",
      "\n",
      "Iteration 150/162\n",
      "Configuration batch size: 32 - epochs: 200 - n_d: 32 - n_a: 8 - steps: 7 - n_indipendent: 5\n"
     ]
    },
    {
     "name": "stderr",
     "output_type": "stream",
     "text": [
      "/usr/local/lib/python3.9/site-packages/pytorch_tabnet/abstract_model.py:75: UserWarning: Device used : cpu\n",
      "  warnings.warn(f\"Device used : {self.device}\")\n"
     ]
    },
    {
     "name": "stdout",
     "output_type": "stream",
     "text": [
      "epoch 0  | loss: 1.44356 | mse_mse: 0.2287  |  0:00:15s\n",
      "epoch 1  | loss: 0.16875 | mse_mse: 0.11566 |  0:00:31s\n",
      "epoch 2  | loss: 0.14336 | mse_mse: 0.14355 |  0:00:47s\n",
      "epoch 3  | loss: 0.1293  | mse_mse: 0.10012 |  0:01:03s\n",
      "epoch 4  | loss: 0.11137 | mse_mse: 0.08425 |  0:01:19s\n",
      "epoch 5  | loss: 0.08627 | mse_mse: 0.05146 |  0:01:36s\n",
      "epoch 6  | loss: 0.07032 | mse_mse: 0.04935 |  0:01:52s\n",
      "epoch 7  | loss: 0.05546 | mse_mse: 0.08308 |  0:02:08s\n",
      "epoch 8  | loss: 0.05391 | mse_mse: 0.02359 |  0:02:25s\n",
      "epoch 9  | loss: 0.04239 | mse_mse: 0.02194 |  0:02:41s\n",
      "epoch 10 | loss: 0.03438 | mse_mse: 0.01753 |  0:02:57s\n",
      "epoch 11 | loss: 0.03019 | mse_mse: 0.04335 |  0:03:13s\n",
      "epoch 12 | loss: 0.02924 | mse_mse: 0.0266  |  0:03:30s\n",
      "epoch 13 | loss: 0.03382 | mse_mse: 0.02439 |  0:03:46s\n",
      "epoch 14 | loss: 0.02929 | mse_mse: 0.02011 |  0:04:02s\n",
      "epoch 15 | loss: 0.02413 | mse_mse: 0.04263 |  0:04:18s\n",
      "epoch 16 | loss: 0.02692 | mse_mse: 0.0404  |  0:04:35s\n",
      "epoch 17 | loss: 0.02359 | mse_mse: 0.00763 |  0:04:51s\n",
      "epoch 18 | loss: 0.02504 | mse_mse: 0.00913 |  0:05:07s\n",
      "epoch 19 | loss: 0.02513 | mse_mse: 0.01574 |  0:05:24s\n",
      "epoch 20 | loss: 0.02237 | mse_mse: 0.00794 |  0:05:40s\n",
      "epoch 21 | loss: 0.02394 | mse_mse: 0.02235 |  0:05:56s\n",
      "epoch 22 | loss: 0.03085 | mse_mse: 0.0127  |  0:06:12s\n",
      "epoch 23 | loss: 0.02265 | mse_mse: 0.02135 |  0:06:29s\n",
      "epoch 24 | loss: 0.02776 | mse_mse: 0.02354 |  0:06:45s\n",
      "epoch 25 | loss: 0.02183 | mse_mse: 0.02224 |  0:07:01s\n",
      "epoch 26 | loss: 0.02296 | mse_mse: 0.00824 |  0:07:18s\n",
      "epoch 27 | loss: 0.02224 | mse_mse: 0.01838 |  0:07:34s\n",
      "\n",
      "Early stopping occurred at epoch 27 with best_epoch = 17 and best_mse_mse = 0.00763\n"
     ]
    },
    {
     "name": "stderr",
     "output_type": "stream",
     "text": [
      "/usr/local/lib/python3.9/site-packages/pytorch_tabnet/callbacks.py:172: UserWarning: Best weights from best epoch are automatically used!\n",
      "  warnings.warn(wrn_msg)\n"
     ]
    },
    {
     "name": "stdout",
     "output_type": "stream",
     "text": [
      "MSE: 0.008346014433027031\n",
      "R2 Score: 0.9623487097562919\n",
      "\n",
      "Iteration 151/162\n",
      "Configuration batch size: 32 - epochs: 200 - n_d: 32 - n_a: 16 - steps: 3 - n_indipendent: 3\n"
     ]
    },
    {
     "name": "stderr",
     "output_type": "stream",
     "text": [
      "/usr/local/lib/python3.9/site-packages/pytorch_tabnet/abstract_model.py:75: UserWarning: Device used : cpu\n",
      "  warnings.warn(f\"Device used : {self.device}\")\n"
     ]
    },
    {
     "name": "stdout",
     "output_type": "stream",
     "text": [
      "epoch 0  | loss: 0.41398 | mse_mse: 0.05337 |  0:00:07s\n",
      "epoch 1  | loss: 0.09637 | mse_mse: 0.15379 |  0:00:15s\n",
      "epoch 2  | loss: 0.06628 | mse_mse: 0.03658 |  0:00:22s\n",
      "epoch 3  | loss: 0.04433 | mse_mse: 0.01891 |  0:00:30s\n",
      "epoch 4  | loss: 0.03941 | mse_mse: 0.01898 |  0:00:38s\n",
      "epoch 5  | loss: 0.03807 | mse_mse: 0.02371 |  0:00:46s\n",
      "epoch 6  | loss: 0.03601 | mse_mse: 0.0281  |  0:00:54s\n",
      "epoch 7  | loss: 0.0351  | mse_mse: 0.03624 |  0:01:02s\n",
      "epoch 8  | loss: 0.02805 | mse_mse: 0.01079 |  0:01:10s\n",
      "epoch 9  | loss: 0.02688 | mse_mse: 0.01665 |  0:01:18s\n",
      "epoch 10 | loss: 0.02648 | mse_mse: 0.01461 |  0:01:26s\n",
      "epoch 11 | loss: 0.0247  | mse_mse: 0.00969 |  0:01:34s\n",
      "epoch 12 | loss: 0.02379 | mse_mse: 0.01834 |  0:01:42s\n",
      "epoch 13 | loss: 0.02308 | mse_mse: 0.00865 |  0:01:50s\n",
      "epoch 14 | loss: 0.02551 | mse_mse: 0.05416 |  0:01:57s\n",
      "epoch 15 | loss: 0.02319 | mse_mse: 0.01529 |  0:02:05s\n",
      "epoch 16 | loss: 0.02265 | mse_mse: 0.02005 |  0:02:14s\n",
      "epoch 17 | loss: 0.02447 | mse_mse: 0.02019 |  0:02:22s\n",
      "epoch 18 | loss: 0.02377 | mse_mse: 0.00788 |  0:02:30s\n",
      "epoch 19 | loss: 0.02178 | mse_mse: 0.00749 |  0:02:38s\n",
      "epoch 20 | loss: 0.02231 | mse_mse: 0.0178  |  0:02:46s\n",
      "epoch 21 | loss: 0.02124 | mse_mse: 0.00902 |  0:02:53s\n",
      "epoch 22 | loss: 0.01901 | mse_mse: 0.02187 |  0:03:02s\n",
      "epoch 23 | loss: 0.02338 | mse_mse: 0.01485 |  0:03:10s\n",
      "epoch 24 | loss: 0.02403 | mse_mse: 0.0172  |  0:03:18s\n",
      "epoch 25 | loss: 0.01828 | mse_mse: 0.01907 |  0:03:26s\n",
      "epoch 26 | loss: 0.01821 | mse_mse: 0.02575 |  0:03:34s\n",
      "epoch 27 | loss: 0.01978 | mse_mse: 0.01343 |  0:03:42s\n",
      "epoch 28 | loss: 0.01523 | mse_mse: 0.01185 |  0:03:50s\n",
      "epoch 29 | loss: 0.01752 | mse_mse: 0.01683 |  0:03:58s\n",
      "\n",
      "Early stopping occurred at epoch 29 with best_epoch = 19 and best_mse_mse = 0.00749\n"
     ]
    },
    {
     "name": "stderr",
     "output_type": "stream",
     "text": [
      "/usr/local/lib/python3.9/site-packages/pytorch_tabnet/callbacks.py:172: UserWarning: Best weights from best epoch are automatically used!\n",
      "  warnings.warn(wrn_msg)\n"
     ]
    },
    {
     "name": "stdout",
     "output_type": "stream",
     "text": [
      "MSE: 0.007723682626929067\n",
      "R2 Score: 0.9651562289197578\n",
      "\n",
      "Iteration 152/162\n",
      "Configuration batch size: 32 - epochs: 200 - n_d: 32 - n_a: 16 - steps: 3 - n_indipendent: 5\n"
     ]
    },
    {
     "name": "stderr",
     "output_type": "stream",
     "text": [
      "/usr/local/lib/python3.9/site-packages/pytorch_tabnet/abstract_model.py:75: UserWarning: Device used : cpu\n",
      "  warnings.warn(f\"Device used : {self.device}\")\n"
     ]
    },
    {
     "name": "stdout",
     "output_type": "stream",
     "text": [
      "epoch 0  | loss: 0.41398 | mse_mse: 0.05337 |  0:00:07s\n",
      "epoch 1  | loss: 0.09637 | mse_mse: 0.15379 |  0:00:15s\n",
      "epoch 2  | loss: 0.06628 | mse_mse: 0.03658 |  0:00:23s\n",
      "epoch 3  | loss: 0.04433 | mse_mse: 0.01891 |  0:00:31s\n",
      "epoch 4  | loss: 0.03941 | mse_mse: 0.01898 |  0:00:39s\n",
      "epoch 5  | loss: 0.03807 | mse_mse: 0.02371 |  0:00:46s\n",
      "epoch 6  | loss: 0.03601 | mse_mse: 0.0281  |  0:00:54s\n",
      "epoch 7  | loss: 0.0351  | mse_mse: 0.03624 |  0:01:02s\n",
      "epoch 8  | loss: 0.02805 | mse_mse: 0.01079 |  0:01:10s\n",
      "epoch 9  | loss: 0.02688 | mse_mse: 0.01665 |  0:01:18s\n",
      "epoch 10 | loss: 0.02648 | mse_mse: 0.01461 |  0:01:26s\n",
      "epoch 11 | loss: 0.0247  | mse_mse: 0.00969 |  0:01:34s\n",
      "epoch 12 | loss: 0.02379 | mse_mse: 0.01834 |  0:01:42s\n",
      "epoch 13 | loss: 0.02308 | mse_mse: 0.00865 |  0:01:50s\n",
      "epoch 14 | loss: 0.02551 | mse_mse: 0.05416 |  0:01:58s\n",
      "epoch 15 | loss: 0.02319 | mse_mse: 0.01529 |  0:02:06s\n",
      "epoch 16 | loss: 0.02265 | mse_mse: 0.02005 |  0:02:14s\n",
      "epoch 17 | loss: 0.02447 | mse_mse: 0.02019 |  0:02:22s\n",
      "epoch 18 | loss: 0.02377 | mse_mse: 0.00788 |  0:02:30s\n",
      "epoch 19 | loss: 0.02178 | mse_mse: 0.00749 |  0:02:38s\n",
      "epoch 20 | loss: 0.02231 | mse_mse: 0.0178  |  0:02:46s\n",
      "epoch 21 | loss: 0.02124 | mse_mse: 0.00902 |  0:02:54s\n",
      "epoch 22 | loss: 0.01901 | mse_mse: 0.02187 |  0:03:02s\n",
      "epoch 23 | loss: 0.02338 | mse_mse: 0.01485 |  0:03:10s\n",
      "epoch 24 | loss: 0.02403 | mse_mse: 0.0172  |  0:03:19s\n",
      "epoch 25 | loss: 0.01828 | mse_mse: 0.01907 |  0:03:26s\n",
      "epoch 26 | loss: 0.01821 | mse_mse: 0.02575 |  0:03:34s\n",
      "epoch 27 | loss: 0.01978 | mse_mse: 0.01343 |  0:03:43s\n",
      "epoch 28 | loss: 0.01523 | mse_mse: 0.01185 |  0:03:51s\n",
      "epoch 29 | loss: 0.01752 | mse_mse: 0.01683 |  0:03:59s\n",
      "\n",
      "Early stopping occurred at epoch 29 with best_epoch = 19 and best_mse_mse = 0.00749\n"
     ]
    },
    {
     "name": "stderr",
     "output_type": "stream",
     "text": [
      "/usr/local/lib/python3.9/site-packages/pytorch_tabnet/callbacks.py:172: UserWarning: Best weights from best epoch are automatically used!\n",
      "  warnings.warn(wrn_msg)\n"
     ]
    },
    {
     "name": "stdout",
     "output_type": "stream",
     "text": [
      "MSE: 0.007723682626929067\n",
      "R2 Score: 0.9651562289197578\n",
      "\n",
      "Iteration 153/162\n",
      "Configuration batch size: 32 - epochs: 200 - n_d: 32 - n_a: 16 - steps: 5 - n_indipendent: 3\n"
     ]
    },
    {
     "name": "stderr",
     "output_type": "stream",
     "text": [
      "/usr/local/lib/python3.9/site-packages/pytorch_tabnet/abstract_model.py:75: UserWarning: Device used : cpu\n",
      "  warnings.warn(f\"Device used : {self.device}\")\n"
     ]
    },
    {
     "name": "stdout",
     "output_type": "stream",
     "text": [
      "epoch 0  | loss: 0.89221 | mse_mse: 0.09882 |  0:00:12s\n",
      "epoch 1  | loss: 0.11484 | mse_mse: 0.0621  |  0:00:24s\n",
      "epoch 2  | loss: 0.08063 | mse_mse: 0.04856 |  0:00:36s\n",
      "epoch 3  | loss: 0.06398 | mse_mse: 0.14018 |  0:00:48s\n",
      "epoch 4  | loss: 0.04554 | mse_mse: 0.02512 |  0:01:01s\n",
      "epoch 5  | loss: 0.04511 | mse_mse: 0.05468 |  0:01:14s\n",
      "epoch 6  | loss: 0.04368 | mse_mse: 0.08244 |  0:01:26s\n",
      "epoch 7  | loss: 0.04271 | mse_mse: 0.01051 |  0:01:39s\n",
      "epoch 8  | loss: 0.02692 | mse_mse: 0.03233 |  0:01:51s\n",
      "epoch 9  | loss: 0.03026 | mse_mse: 0.0349  |  0:02:04s\n",
      "epoch 10 | loss: 0.0467  | mse_mse: 0.28686 |  0:02:16s\n",
      "epoch 11 | loss: 0.04589 | mse_mse: 0.03872 |  0:02:29s\n",
      "epoch 12 | loss: 0.03359 | mse_mse: 0.02168 |  0:02:41s\n",
      "epoch 13 | loss: 0.03119 | mse_mse: 0.07952 |  0:02:54s\n",
      "epoch 14 | loss: 0.03421 | mse_mse: 0.01556 |  0:03:07s\n",
      "epoch 15 | loss: 0.02493 | mse_mse: 0.02037 |  0:03:19s\n",
      "epoch 16 | loss: 0.02537 | mse_mse: 0.0102  |  0:03:32s\n",
      "epoch 17 | loss: 0.02619 | mse_mse: 0.01474 |  0:03:45s\n",
      "epoch 18 | loss: 0.02421 | mse_mse: 0.01381 |  0:03:57s\n",
      "epoch 19 | loss: 0.02491 | mse_mse: 0.03139 |  0:04:10s\n",
      "epoch 20 | loss: 0.02926 | mse_mse: 0.05059 |  0:04:23s\n",
      "epoch 21 | loss: 0.02518 | mse_mse: 0.01858 |  0:04:35s\n",
      "epoch 22 | loss: 0.023   | mse_mse: 0.02211 |  0:04:48s\n",
      "epoch 23 | loss: 0.02781 | mse_mse: 0.01016 |  0:05:00s\n",
      "epoch 24 | loss: 0.02398 | mse_mse: 0.00868 |  0:05:13s\n",
      "epoch 25 | loss: 0.02728 | mse_mse: 0.02686 |  0:05:26s\n",
      "epoch 26 | loss: 0.02284 | mse_mse: 0.02577 |  0:05:38s\n",
      "epoch 27 | loss: 0.02249 | mse_mse: 0.01734 |  0:05:51s\n",
      "epoch 28 | loss: 0.01989 | mse_mse: 0.01062 |  0:06:03s\n",
      "epoch 29 | loss: 0.02114 | mse_mse: 0.02478 |  0:06:16s\n",
      "epoch 30 | loss: 0.01867 | mse_mse: 0.10305 |  0:06:29s\n",
      "epoch 31 | loss: 0.0221  | mse_mse: 0.02943 |  0:06:41s\n",
      "epoch 32 | loss: 0.01953 | mse_mse: 0.03316 |  0:06:54s\n",
      "epoch 33 | loss: 0.0216  | mse_mse: 0.0184  |  0:07:06s\n",
      "epoch 34 | loss: 0.01969 | mse_mse: 0.02889 |  0:07:19s\n",
      "\n",
      "Early stopping occurred at epoch 34 with best_epoch = 24 and best_mse_mse = 0.00868\n"
     ]
    },
    {
     "name": "stderr",
     "output_type": "stream",
     "text": [
      "/usr/local/lib/python3.9/site-packages/pytorch_tabnet/callbacks.py:172: UserWarning: Best weights from best epoch are automatically used!\n",
      "  warnings.warn(wrn_msg)\n"
     ]
    },
    {
     "name": "stdout",
     "output_type": "stream",
     "text": [
      "MSE: 0.00803667814896254\n",
      "R2 Score: 0.9637442153964612\n",
      "\n",
      "Iteration 154/162\n",
      "Configuration batch size: 32 - epochs: 200 - n_d: 32 - n_a: 16 - steps: 5 - n_indipendent: 5\n"
     ]
    },
    {
     "name": "stderr",
     "output_type": "stream",
     "text": [
      "/usr/local/lib/python3.9/site-packages/pytorch_tabnet/abstract_model.py:75: UserWarning: Device used : cpu\n",
      "  warnings.warn(f\"Device used : {self.device}\")\n"
     ]
    },
    {
     "name": "stdout",
     "output_type": "stream",
     "text": [
      "epoch 0  | loss: 0.89221 | mse_mse: 0.09882 |  0:00:11s\n",
      "epoch 1  | loss: 0.11484 | mse_mse: 0.0621  |  0:00:23s\n",
      "epoch 2  | loss: 0.08063 | mse_mse: 0.04856 |  0:00:36s\n",
      "epoch 3  | loss: 0.06398 | mse_mse: 0.14018 |  0:00:48s\n",
      "epoch 4  | loss: 0.04554 | mse_mse: 0.02512 |  0:01:01s\n",
      "epoch 5  | loss: 0.04511 | mse_mse: 0.05468 |  0:01:13s\n",
      "epoch 6  | loss: 0.04368 | mse_mse: 0.08244 |  0:01:26s\n",
      "epoch 7  | loss: 0.04271 | mse_mse: 0.01051 |  0:01:38s\n",
      "epoch 8  | loss: 0.02692 | mse_mse: 0.03233 |  0:01:51s\n",
      "epoch 9  | loss: 0.03026 | mse_mse: 0.0349  |  0:02:03s\n",
      "epoch 10 | loss: 0.0467  | mse_mse: 0.28686 |  0:02:16s\n",
      "epoch 11 | loss: 0.04589 | mse_mse: 0.03872 |  0:02:28s\n",
      "epoch 12 | loss: 0.03359 | mse_mse: 0.02168 |  0:02:41s\n",
      "epoch 13 | loss: 0.03119 | mse_mse: 0.07952 |  0:02:53s\n",
      "epoch 14 | loss: 0.03421 | mse_mse: 0.01556 |  0:03:06s\n",
      "epoch 15 | loss: 0.02493 | mse_mse: 0.02037 |  0:03:18s\n",
      "epoch 16 | loss: 0.02537 | mse_mse: 0.0102  |  0:03:31s\n",
      "epoch 17 | loss: 0.02619 | mse_mse: 0.01474 |  0:03:44s\n",
      "epoch 18 | loss: 0.02421 | mse_mse: 0.01381 |  0:03:56s\n",
      "epoch 19 | loss: 0.02491 | mse_mse: 0.03139 |  0:04:09s\n",
      "epoch 20 | loss: 0.02926 | mse_mse: 0.05059 |  0:04:22s\n",
      "epoch 21 | loss: 0.02518 | mse_mse: 0.01858 |  0:04:34s\n",
      "epoch 22 | loss: 0.023   | mse_mse: 0.02211 |  0:04:47s\n",
      "epoch 23 | loss: 0.02781 | mse_mse: 0.01016 |  0:04:59s\n",
      "epoch 24 | loss: 0.02398 | mse_mse: 0.00868 |  0:05:12s\n",
      "epoch 25 | loss: 0.02728 | mse_mse: 0.02686 |  0:05:25s\n",
      "epoch 26 | loss: 0.02284 | mse_mse: 0.02577 |  0:05:37s\n",
      "epoch 27 | loss: 0.02249 | mse_mse: 0.01734 |  0:05:50s\n",
      "epoch 28 | loss: 0.01989 | mse_mse: 0.01062 |  0:06:02s\n",
      "epoch 29 | loss: 0.02114 | mse_mse: 0.02478 |  0:06:15s\n",
      "epoch 30 | loss: 0.01867 | mse_mse: 0.10305 |  0:06:28s\n",
      "epoch 31 | loss: 0.0221  | mse_mse: 0.02943 |  0:06:40s\n",
      "epoch 32 | loss: 0.01953 | mse_mse: 0.03316 |  0:06:53s\n",
      "epoch 33 | loss: 0.0216  | mse_mse: 0.0184  |  0:07:06s\n",
      "epoch 34 | loss: 0.01969 | mse_mse: 0.02889 |  0:07:18s\n",
      "\n",
      "Early stopping occurred at epoch 34 with best_epoch = 24 and best_mse_mse = 0.00868\n"
     ]
    },
    {
     "name": "stderr",
     "output_type": "stream",
     "text": [
      "/usr/local/lib/python3.9/site-packages/pytorch_tabnet/callbacks.py:172: UserWarning: Best weights from best epoch are automatically used!\n",
      "  warnings.warn(wrn_msg)\n"
     ]
    },
    {
     "name": "stdout",
     "output_type": "stream",
     "text": [
      "MSE: 0.00803667814896254\n",
      "R2 Score: 0.9637442153964612\n",
      "\n",
      "Iteration 155/162\n",
      "Configuration batch size: 32 - epochs: 200 - n_d: 32 - n_a: 16 - steps: 7 - n_indipendent: 3\n"
     ]
    },
    {
     "name": "stderr",
     "output_type": "stream",
     "text": [
      "/usr/local/lib/python3.9/site-packages/pytorch_tabnet/abstract_model.py:75: UserWarning: Device used : cpu\n",
      "  warnings.warn(f\"Device used : {self.device}\")\n"
     ]
    },
    {
     "name": "stdout",
     "output_type": "stream",
     "text": [
      "epoch 0  | loss: 1.1804  | mse_mse: 0.1618  |  0:00:16s\n",
      "epoch 1  | loss: 0.15004 | mse_mse: 0.11072 |  0:00:32s\n",
      "epoch 2  | loss: 0.11268 | mse_mse: 0.0785  |  0:00:49s\n",
      "epoch 3  | loss: 0.09467 | mse_mse: 0.06678 |  0:01:06s\n",
      "epoch 4  | loss: 0.07279 | mse_mse: 0.03753 |  0:01:23s\n",
      "epoch 5  | loss: 0.05452 | mse_mse: 0.02592 |  0:01:40s\n",
      "epoch 6  | loss: 0.04315 | mse_mse: 0.03775 |  0:01:57s\n",
      "epoch 7  | loss: 0.04292 | mse_mse: 0.01982 |  0:02:14s\n",
      "epoch 8  | loss: 0.04113 | mse_mse: 0.04312 |  0:02:31s\n",
      "epoch 9  | loss: 0.03273 | mse_mse: 0.03548 |  0:02:49s\n",
      "epoch 10 | loss: 0.02839 | mse_mse: 0.02535 |  0:03:06s\n",
      "epoch 11 | loss: 0.02892 | mse_mse: 0.07589 |  0:03:23s\n",
      "epoch 12 | loss: 0.03941 | mse_mse: 0.05459 |  0:03:40s\n",
      "epoch 13 | loss: 0.04228 | mse_mse: 0.04204 |  0:03:57s\n",
      "epoch 14 | loss: 0.03048 | mse_mse: 0.08043 |  0:04:14s\n",
      "epoch 15 | loss: 0.02709 | mse_mse: 0.02454 |  0:04:32s\n",
      "epoch 16 | loss: 0.02584 | mse_mse: 0.02923 |  0:04:49s\n",
      "epoch 17 | loss: 0.02798 | mse_mse: 0.03034 |  0:05:06s\n",
      "\n",
      "Early stopping occurred at epoch 17 with best_epoch = 7 and best_mse_mse = 0.01982\n"
     ]
    },
    {
     "name": "stderr",
     "output_type": "stream",
     "text": [
      "/usr/local/lib/python3.9/site-packages/pytorch_tabnet/callbacks.py:172: UserWarning: Best weights from best epoch are automatically used!\n",
      "  warnings.warn(wrn_msg)\n"
     ]
    },
    {
     "name": "stdout",
     "output_type": "stream",
     "text": [
      "MSE: 0.019528381846768476\n",
      "R2 Score: 0.9119018090847031\n",
      "\n",
      "Iteration 156/162\n",
      "Configuration batch size: 32 - epochs: 200 - n_d: 32 - n_a: 16 - steps: 7 - n_indipendent: 5\n"
     ]
    },
    {
     "name": "stderr",
     "output_type": "stream",
     "text": [
      "/usr/local/lib/python3.9/site-packages/pytorch_tabnet/abstract_model.py:75: UserWarning: Device used : cpu\n",
      "  warnings.warn(f\"Device used : {self.device}\")\n"
     ]
    },
    {
     "name": "stdout",
     "output_type": "stream",
     "text": [
      "epoch 0  | loss: 1.1804  | mse_mse: 0.1618  |  0:00:15s\n",
      "epoch 1  | loss: 0.15004 | mse_mse: 0.11072 |  0:00:31s\n",
      "epoch 2  | loss: 0.11268 | mse_mse: 0.0785  |  0:00:48s\n",
      "epoch 3  | loss: 0.09467 | mse_mse: 0.06678 |  0:01:05s\n",
      "epoch 4  | loss: 0.07279 | mse_mse: 0.03753 |  0:01:22s\n",
      "epoch 5  | loss: 0.05452 | mse_mse: 0.02592 |  0:01:39s\n",
      "epoch 6  | loss: 0.04315 | mse_mse: 0.03775 |  0:01:56s\n",
      "epoch 7  | loss: 0.04292 | mse_mse: 0.01982 |  0:02:13s\n",
      "epoch 8  | loss: 0.04113 | mse_mse: 0.04312 |  0:02:30s\n",
      "epoch 9  | loss: 0.03273 | mse_mse: 0.03548 |  0:02:47s\n",
      "epoch 10 | loss: 0.02839 | mse_mse: 0.02535 |  0:03:04s\n",
      "epoch 11 | loss: 0.02892 | mse_mse: 0.07589 |  0:03:21s\n",
      "epoch 12 | loss: 0.03941 | mse_mse: 0.05459 |  0:03:38s\n",
      "epoch 13 | loss: 0.04228 | mse_mse: 0.04204 |  0:03:55s\n",
      "epoch 14 | loss: 0.03048 | mse_mse: 0.08043 |  0:04:12s\n",
      "epoch 15 | loss: 0.02709 | mse_mse: 0.02454 |  0:04:29s\n",
      "epoch 16 | loss: 0.02584 | mse_mse: 0.02923 |  0:04:47s\n",
      "epoch 17 | loss: 0.02798 | mse_mse: 0.03034 |  0:05:04s\n",
      "\n",
      "Early stopping occurred at epoch 17 with best_epoch = 7 and best_mse_mse = 0.01982\n"
     ]
    },
    {
     "name": "stderr",
     "output_type": "stream",
     "text": [
      "/usr/local/lib/python3.9/site-packages/pytorch_tabnet/callbacks.py:172: UserWarning: Best weights from best epoch are automatically used!\n",
      "  warnings.warn(wrn_msg)\n"
     ]
    },
    {
     "name": "stdout",
     "output_type": "stream",
     "text": [
      "MSE: 0.019528381846768476\n",
      "R2 Score: 0.9119018090847031\n",
      "\n",
      "Iteration 157/162\n",
      "Configuration batch size: 32 - epochs: 200 - n_d: 32 - n_a: 32 - steps: 3 - n_indipendent: 3\n"
     ]
    },
    {
     "name": "stderr",
     "output_type": "stream",
     "text": [
      "/usr/local/lib/python3.9/site-packages/pytorch_tabnet/abstract_model.py:75: UserWarning: Device used : cpu\n",
      "  warnings.warn(f\"Device used : {self.device}\")\n"
     ]
    },
    {
     "name": "stdout",
     "output_type": "stream",
     "text": [
      "epoch 0  | loss: 0.53272 | mse_mse: 0.09327 |  0:00:07s\n",
      "epoch 1  | loss: 0.09927 | mse_mse: 0.05571 |  0:00:14s\n",
      "epoch 2  | loss: 0.06748 | mse_mse: 0.04278 |  0:00:22s\n",
      "epoch 3  | loss: 0.05473 | mse_mse: 0.03433 |  0:00:30s\n",
      "epoch 4  | loss: 0.03789 | mse_mse: 0.03107 |  0:00:38s\n",
      "epoch 5  | loss: 0.0346  | mse_mse: 0.01532 |  0:00:46s\n",
      "epoch 6  | loss: 0.03341 | mse_mse: 0.01415 |  0:00:54s\n",
      "epoch 7  | loss: 0.03016 | mse_mse: 0.01451 |  0:01:02s\n",
      "epoch 8  | loss: 0.03004 | mse_mse: 0.01682 |  0:01:10s\n",
      "epoch 9  | loss: 0.028   | mse_mse: 0.03499 |  0:01:18s\n",
      "epoch 10 | loss: 0.02517 | mse_mse: 0.01642 |  0:01:26s\n",
      "epoch 11 | loss: 0.02765 | mse_mse: 0.01001 |  0:01:34s\n",
      "epoch 12 | loss: 0.02329 | mse_mse: 0.01223 |  0:01:42s\n",
      "epoch 13 | loss: 0.02556 | mse_mse: 0.02287 |  0:01:50s\n",
      "epoch 14 | loss: 0.02269 | mse_mse: 0.01248 |  0:01:58s\n",
      "epoch 15 | loss: 0.02498 | mse_mse: 0.02361 |  0:02:06s\n",
      "epoch 16 | loss: 0.02152 | mse_mse: 0.01    |  0:02:14s\n",
      "epoch 17 | loss: 0.02376 | mse_mse: 0.00979 |  0:02:22s\n",
      "epoch 18 | loss: 0.01818 | mse_mse: 0.01445 |  0:02:30s\n",
      "epoch 19 | loss: 0.02288 | mse_mse: 0.01291 |  0:02:38s\n",
      "epoch 20 | loss: 0.02622 | mse_mse: 0.00703 |  0:02:46s\n",
      "epoch 21 | loss: 0.02226 | mse_mse: 0.01128 |  0:02:54s\n",
      "epoch 22 | loss: 0.0226  | mse_mse: 0.03901 |  0:03:02s\n",
      "epoch 23 | loss: 0.02171 | mse_mse: 0.01031 |  0:03:10s\n",
      "epoch 24 | loss: 0.02143 | mse_mse: 0.01029 |  0:03:18s\n",
      "epoch 25 | loss: 0.01905 | mse_mse: 0.0223  |  0:03:27s\n",
      "epoch 26 | loss: 0.0197  | mse_mse: 0.05226 |  0:03:35s\n",
      "epoch 27 | loss: 0.01841 | mse_mse: 0.01057 |  0:03:43s\n",
      "epoch 28 | loss: 0.02057 | mse_mse: 0.0098  |  0:03:51s\n",
      "epoch 29 | loss: 0.02082 | mse_mse: 0.0159  |  0:03:59s\n",
      "epoch 30 | loss: 0.02016 | mse_mse: 0.00818 |  0:04:07s\n",
      "\n",
      "Early stopping occurred at epoch 30 with best_epoch = 20 and best_mse_mse = 0.00703\n"
     ]
    },
    {
     "name": "stderr",
     "output_type": "stream",
     "text": [
      "/usr/local/lib/python3.9/site-packages/pytorch_tabnet/callbacks.py:172: UserWarning: Best weights from best epoch are automatically used!\n",
      "  warnings.warn(wrn_msg)\n"
     ]
    },
    {
     "name": "stdout",
     "output_type": "stream",
     "text": [
      "MSE: 0.006678914291288763\n",
      "R2 Score: 0.9698694817134462\n",
      "\n",
      "Iteration 158/162\n",
      "Configuration batch size: 32 - epochs: 200 - n_d: 32 - n_a: 32 - steps: 3 - n_indipendent: 5\n"
     ]
    },
    {
     "name": "stderr",
     "output_type": "stream",
     "text": [
      "/usr/local/lib/python3.9/site-packages/pytorch_tabnet/abstract_model.py:75: UserWarning: Device used : cpu\n",
      "  warnings.warn(f\"Device used : {self.device}\")\n"
     ]
    },
    {
     "name": "stdout",
     "output_type": "stream",
     "text": [
      "epoch 0  | loss: 0.53272 | mse_mse: 0.09327 |  0:00:07s\n",
      "epoch 1  | loss: 0.09927 | mse_mse: 0.05571 |  0:00:15s\n",
      "epoch 2  | loss: 0.06748 | mse_mse: 0.04278 |  0:00:23s\n",
      "epoch 3  | loss: 0.05473 | mse_mse: 0.03433 |  0:00:31s\n",
      "epoch 4  | loss: 0.03789 | mse_mse: 0.03107 |  0:00:39s\n",
      "epoch 5  | loss: 0.0346  | mse_mse: 0.01532 |  0:00:47s\n",
      "epoch 6  | loss: 0.03341 | mse_mse: 0.01415 |  0:00:55s\n",
      "epoch 7  | loss: 0.03016 | mse_mse: 0.01451 |  0:01:03s\n",
      "epoch 8  | loss: 0.03004 | mse_mse: 0.01682 |  0:01:11s\n",
      "epoch 9  | loss: 0.028   | mse_mse: 0.03499 |  0:01:19s\n",
      "epoch 10 | loss: 0.02517 | mse_mse: 0.01642 |  0:01:27s\n",
      "epoch 11 | loss: 0.02765 | mse_mse: 0.01001 |  0:01:35s\n",
      "epoch 12 | loss: 0.02329 | mse_mse: 0.01223 |  0:01:43s\n",
      "epoch 13 | loss: 0.02556 | mse_mse: 0.02287 |  0:01:51s\n",
      "epoch 14 | loss: 0.02269 | mse_mse: 0.01248 |  0:01:59s\n",
      "epoch 15 | loss: 0.02498 | mse_mse: 0.02361 |  0:02:07s\n",
      "epoch 16 | loss: 0.02152 | mse_mse: 0.01    |  0:02:15s\n",
      "epoch 17 | loss: 0.02376 | mse_mse: 0.00979 |  0:02:23s\n",
      "epoch 18 | loss: 0.01818 | mse_mse: 0.01445 |  0:02:32s\n",
      "epoch 19 | loss: 0.02288 | mse_mse: 0.01291 |  0:02:40s\n",
      "epoch 20 | loss: 0.02622 | mse_mse: 0.00703 |  0:02:48s\n",
      "epoch 21 | loss: 0.02226 | mse_mse: 0.01128 |  0:02:56s\n",
      "epoch 22 | loss: 0.0226  | mse_mse: 0.03901 |  0:03:04s\n",
      "epoch 23 | loss: 0.02171 | mse_mse: 0.01031 |  0:03:12s\n",
      "epoch 24 | loss: 0.02143 | mse_mse: 0.01029 |  0:03:20s\n",
      "epoch 25 | loss: 0.01905 | mse_mse: 0.0223  |  0:03:28s\n",
      "epoch 26 | loss: 0.0197  | mse_mse: 0.05226 |  0:03:36s\n",
      "epoch 27 | loss: 0.01841 | mse_mse: 0.01057 |  0:03:45s\n",
      "epoch 28 | loss: 0.02057 | mse_mse: 0.0098  |  0:03:53s\n",
      "epoch 29 | loss: 0.02082 | mse_mse: 0.0159  |  0:04:01s\n",
      "epoch 30 | loss: 0.02016 | mse_mse: 0.00818 |  0:04:09s\n",
      "\n",
      "Early stopping occurred at epoch 30 with best_epoch = 20 and best_mse_mse = 0.00703\n"
     ]
    },
    {
     "name": "stderr",
     "output_type": "stream",
     "text": [
      "/usr/local/lib/python3.9/site-packages/pytorch_tabnet/callbacks.py:172: UserWarning: Best weights from best epoch are automatically used!\n",
      "  warnings.warn(wrn_msg)\n"
     ]
    },
    {
     "name": "stdout",
     "output_type": "stream",
     "text": [
      "MSE: 0.006678914291288763\n",
      "R2 Score: 0.9698694817134462\n",
      "\n",
      "Iteration 159/162\n",
      "Configuration batch size: 32 - epochs: 200 - n_d: 32 - n_a: 32 - steps: 5 - n_indipendent: 3\n"
     ]
    },
    {
     "name": "stderr",
     "output_type": "stream",
     "text": [
      "/usr/local/lib/python3.9/site-packages/pytorch_tabnet/abstract_model.py:75: UserWarning: Device used : cpu\n",
      "  warnings.warn(f\"Device used : {self.device}\")\n"
     ]
    },
    {
     "name": "stdout",
     "output_type": "stream",
     "text": [
      "epoch 0  | loss: 0.4864  | mse_mse: 0.13834 |  0:00:12s\n",
      "epoch 1  | loss: 0.14371 | mse_mse: 0.08797 |  0:00:23s\n",
      "epoch 2  | loss: 0.11149 | mse_mse: 0.0702  |  0:00:36s\n",
      "epoch 3  | loss: 0.09333 | mse_mse: 0.05799 |  0:00:48s\n",
      "epoch 4  | loss: 0.06997 | mse_mse: 0.124   |  0:01:01s\n",
      "epoch 5  | loss: 0.06115 | mse_mse: 0.03685 |  0:01:14s\n",
      "epoch 6  | loss: 0.04591 | mse_mse: 0.03201 |  0:01:26s\n",
      "epoch 7  | loss: 0.03945 | mse_mse: 0.05116 |  0:01:39s\n",
      "epoch 8  | loss: 0.03992 | mse_mse: 0.02092 |  0:01:51s\n",
      "epoch 9  | loss: 0.03394 | mse_mse: 0.01251 |  0:02:04s\n",
      "epoch 10 | loss: 0.03349 | mse_mse: 0.02926 |  0:02:17s\n",
      "epoch 11 | loss: 0.02875 | mse_mse: 0.04175 |  0:02:29s\n",
      "epoch 12 | loss: 0.0388  | mse_mse: 0.0238  |  0:02:42s\n",
      "epoch 13 | loss: 0.02509 | mse_mse: 0.01337 |  0:02:55s\n",
      "epoch 14 | loss: 0.02886 | mse_mse: 0.01708 |  0:03:07s\n",
      "epoch 15 | loss: 0.02616 | mse_mse: 0.00836 |  0:03:20s\n",
      "epoch 16 | loss: 0.02847 | mse_mse: 0.04065 |  0:03:33s\n",
      "epoch 17 | loss: 0.02951 | mse_mse: 0.03308 |  0:03:45s\n",
      "epoch 18 | loss: 0.03153 | mse_mse: 0.00843 |  0:03:58s\n",
      "epoch 19 | loss: 0.02468 | mse_mse: 0.0133  |  0:04:11s\n",
      "epoch 20 | loss: 0.02275 | mse_mse: 0.02381 |  0:04:24s\n",
      "epoch 21 | loss: 0.02451 | mse_mse: 0.0184  |  0:04:36s\n",
      "epoch 22 | loss: 0.02099 | mse_mse: 0.0162  |  0:04:49s\n",
      "epoch 23 | loss: 0.0226  | mse_mse: 0.02462 |  0:05:02s\n",
      "epoch 24 | loss: 0.02752 | mse_mse: 0.03719 |  0:05:14s\n",
      "epoch 25 | loss: 0.02213 | mse_mse: 0.01666 |  0:05:27s\n",
      "\n",
      "Early stopping occurred at epoch 25 with best_epoch = 15 and best_mse_mse = 0.00836\n"
     ]
    },
    {
     "name": "stderr",
     "output_type": "stream",
     "text": [
      "/usr/local/lib/python3.9/site-packages/pytorch_tabnet/callbacks.py:172: UserWarning: Best weights from best epoch are automatically used!\n",
      "  warnings.warn(wrn_msg)\n"
     ]
    },
    {
     "name": "stdout",
     "output_type": "stream",
     "text": [
      "MSE: 0.009663572196417787\n",
      "R2 Score: 0.9564048247845661\n",
      "\n",
      "Iteration 160/162\n",
      "Configuration batch size: 32 - epochs: 200 - n_d: 32 - n_a: 32 - steps: 5 - n_indipendent: 5\n"
     ]
    },
    {
     "name": "stderr",
     "output_type": "stream",
     "text": [
      "/usr/local/lib/python3.9/site-packages/pytorch_tabnet/abstract_model.py:75: UserWarning: Device used : cpu\n",
      "  warnings.warn(f\"Device used : {self.device}\")\n"
     ]
    },
    {
     "name": "stdout",
     "output_type": "stream",
     "text": [
      "epoch 0  | loss: 0.4864  | mse_mse: 0.13834 |  0:00:11s\n",
      "epoch 1  | loss: 0.14371 | mse_mse: 0.08797 |  0:00:23s\n",
      "epoch 2  | loss: 0.11149 | mse_mse: 0.0702  |  0:00:36s\n",
      "epoch 3  | loss: 0.09333 | mse_mse: 0.05799 |  0:00:48s\n",
      "epoch 4  | loss: 0.06997 | mse_mse: 0.124   |  0:01:01s\n",
      "epoch 5  | loss: 0.06115 | mse_mse: 0.03685 |  0:01:14s\n",
      "epoch 6  | loss: 0.04591 | mse_mse: 0.03201 |  0:01:27s\n",
      "epoch 7  | loss: 0.03945 | mse_mse: 0.05116 |  0:01:39s\n",
      "epoch 8  | loss: 0.03992 | mse_mse: 0.02092 |  0:01:52s\n",
      "epoch 9  | loss: 0.03394 | mse_mse: 0.01251 |  0:02:04s\n",
      "epoch 10 | loss: 0.03349 | mse_mse: 0.02926 |  0:02:17s\n",
      "epoch 11 | loss: 0.02875 | mse_mse: 0.04175 |  0:02:30s\n",
      "epoch 12 | loss: 0.0388  | mse_mse: 0.0238  |  0:02:42s\n",
      "epoch 13 | loss: 0.02509 | mse_mse: 0.01337 |  0:02:55s\n",
      "epoch 14 | loss: 0.02886 | mse_mse: 0.01708 |  0:03:08s\n",
      "epoch 15 | loss: 0.02616 | mse_mse: 0.00836 |  0:03:20s\n",
      "epoch 16 | loss: 0.02847 | mse_mse: 0.04065 |  0:03:33s\n",
      "epoch 17 | loss: 0.02951 | mse_mse: 0.03308 |  0:03:45s\n",
      "epoch 18 | loss: 0.03153 | mse_mse: 0.00843 |  0:03:58s\n",
      "epoch 19 | loss: 0.02468 | mse_mse: 0.0133  |  0:04:11s\n",
      "epoch 20 | loss: 0.02275 | mse_mse: 0.02381 |  0:04:24s\n",
      "epoch 21 | loss: 0.02451 | mse_mse: 0.0184  |  0:04:36s\n",
      "epoch 22 | loss: 0.02099 | mse_mse: 0.0162  |  0:04:49s\n",
      "epoch 23 | loss: 0.0226  | mse_mse: 0.02462 |  0:05:01s\n",
      "epoch 24 | loss: 0.02752 | mse_mse: 0.03719 |  0:05:14s\n",
      "epoch 25 | loss: 0.02213 | mse_mse: 0.01666 |  0:05:27s\n",
      "\n",
      "Early stopping occurred at epoch 25 with best_epoch = 15 and best_mse_mse = 0.00836\n"
     ]
    },
    {
     "name": "stderr",
     "output_type": "stream",
     "text": [
      "/usr/local/lib/python3.9/site-packages/pytorch_tabnet/callbacks.py:172: UserWarning: Best weights from best epoch are automatically used!\n",
      "  warnings.warn(wrn_msg)\n"
     ]
    },
    {
     "name": "stdout",
     "output_type": "stream",
     "text": [
      "MSE: 0.009663572196417787\n",
      "R2 Score: 0.9564048247845661\n",
      "\n",
      "Iteration 161/162\n",
      "Configuration batch size: 32 - epochs: 200 - n_d: 32 - n_a: 32 - steps: 7 - n_indipendent: 3\n"
     ]
    },
    {
     "name": "stderr",
     "output_type": "stream",
     "text": [
      "/usr/local/lib/python3.9/site-packages/pytorch_tabnet/abstract_model.py:75: UserWarning: Device used : cpu\n",
      "  warnings.warn(f\"Device used : {self.device}\")\n"
     ]
    },
    {
     "name": "stdout",
     "output_type": "stream",
     "text": [
      "epoch 0  | loss: 0.947   | mse_mse: 0.61709 |  0:00:16s\n",
      "epoch 1  | loss: 0.16289 | mse_mse: 0.15501 |  0:00:32s\n",
      "epoch 2  | loss: 0.12447 | mse_mse: 0.07389 |  0:00:49s\n",
      "epoch 3  | loss: 0.09397 | mse_mse: 0.06228 |  0:01:06s\n",
      "epoch 4  | loss: 0.0752  | mse_mse: 0.0422  |  0:01:23s\n",
      "epoch 5  | loss: 0.07073 | mse_mse: 0.06951 |  0:01:41s\n",
      "epoch 6  | loss: 0.07103 | mse_mse: 0.04148 |  0:01:58s\n",
      "epoch 7  | loss: 0.05323 | mse_mse: 0.04399 |  0:02:15s\n",
      "epoch 8  | loss: 0.05151 | mse_mse: 0.03945 |  0:02:32s\n",
      "epoch 9  | loss: 0.04488 | mse_mse: 0.024   |  0:02:50s\n",
      "epoch 10 | loss: 0.03314 | mse_mse: 0.02087 |  0:03:07s\n",
      "epoch 11 | loss: 0.03776 | mse_mse: 0.04919 |  0:03:24s\n",
      "epoch 12 | loss: 0.03407 | mse_mse: 0.01274 |  0:03:42s\n",
      "epoch 13 | loss: 0.03489 | mse_mse: 0.04426 |  0:03:59s\n",
      "epoch 14 | loss: 0.03635 | mse_mse: 0.0225  |  0:04:16s\n",
      "epoch 15 | loss: 0.03413 | mse_mse: 0.02547 |  0:04:33s\n",
      "epoch 16 | loss: 0.03653 | mse_mse: 0.04732 |  0:04:51s\n",
      "epoch 17 | loss: 0.03363 | mse_mse: 0.01634 |  0:05:08s\n",
      "epoch 18 | loss: 0.0302  | mse_mse: 0.02787 |  0:05:26s\n",
      "epoch 19 | loss: 0.02397 | mse_mse: 0.02139 |  0:05:43s\n",
      "epoch 20 | loss: 0.0251  | mse_mse: 0.02598 |  0:06:01s\n",
      "epoch 21 | loss: 0.02372 | mse_mse: 0.02174 |  0:06:18s\n",
      "epoch 22 | loss: 0.03192 | mse_mse: 0.04745 |  0:06:35s\n",
      "\n",
      "Early stopping occurred at epoch 22 with best_epoch = 12 and best_mse_mse = 0.01274\n"
     ]
    },
    {
     "name": "stderr",
     "output_type": "stream",
     "text": [
      "/usr/local/lib/python3.9/site-packages/pytorch_tabnet/callbacks.py:172: UserWarning: Best weights from best epoch are automatically used!\n",
      "  warnings.warn(wrn_msg)\n"
     ]
    },
    {
     "name": "stdout",
     "output_type": "stream",
     "text": [
      "MSE: 0.014322879234792673\n",
      "R2 Score: 0.9353853402097261\n",
      "\n",
      "Iteration 162/162\n",
      "Configuration batch size: 32 - epochs: 200 - n_d: 32 - n_a: 32 - steps: 7 - n_indipendent: 5\n"
     ]
    },
    {
     "name": "stderr",
     "output_type": "stream",
     "text": [
      "/usr/local/lib/python3.9/site-packages/pytorch_tabnet/abstract_model.py:75: UserWarning: Device used : cpu\n",
      "  warnings.warn(f\"Device used : {self.device}\")\n"
     ]
    },
    {
     "name": "stdout",
     "output_type": "stream",
     "text": [
      "epoch 0  | loss: 0.947   | mse_mse: 0.61709 |  0:00:16s\n",
      "epoch 1  | loss: 0.16289 | mse_mse: 0.15501 |  0:00:32s\n",
      "epoch 2  | loss: 0.12447 | mse_mse: 0.07389 |  0:00:49s\n",
      "epoch 3  | loss: 0.09397 | mse_mse: 0.06228 |  0:01:06s\n",
      "epoch 4  | loss: 0.0752  | mse_mse: 0.0422  |  0:01:23s\n",
      "epoch 5  | loss: 0.07073 | mse_mse: 0.06951 |  0:01:40s\n",
      "epoch 6  | loss: 0.07103 | mse_mse: 0.04148 |  0:01:58s\n",
      "epoch 7  | loss: 0.05323 | mse_mse: 0.04399 |  0:02:15s\n",
      "epoch 8  | loss: 0.05151 | mse_mse: 0.03945 |  0:02:32s\n",
      "epoch 9  | loss: 0.04488 | mse_mse: 0.024   |  0:02:49s\n",
      "epoch 10 | loss: 0.03314 | mse_mse: 0.02087 |  0:03:06s\n",
      "epoch 11 | loss: 0.03776 | mse_mse: 0.04919 |  0:03:25s\n",
      "epoch 12 | loss: 0.03407 | mse_mse: 0.01274 |  0:03:42s\n",
      "epoch 13 | loss: 0.03489 | mse_mse: 0.04426 |  0:03:59s\n",
      "epoch 14 | loss: 0.03635 | mse_mse: 0.0225  |  0:04:16s\n",
      "epoch 15 | loss: 0.03413 | mse_mse: 0.02547 |  0:04:34s\n",
      "epoch 16 | loss: 0.03653 | mse_mse: 0.04732 |  0:04:51s\n",
      "epoch 17 | loss: 0.03363 | mse_mse: 0.01634 |  0:05:08s\n",
      "epoch 18 | loss: 0.0302  | mse_mse: 0.02787 |  0:05:25s\n",
      "epoch 19 | loss: 0.02397 | mse_mse: 0.02139 |  0:05:43s\n",
      "epoch 20 | loss: 0.0251  | mse_mse: 0.02598 |  0:06:00s\n",
      "epoch 21 | loss: 0.02372 | mse_mse: 0.02174 |  0:06:17s\n",
      "epoch 22 | loss: 0.03192 | mse_mse: 0.04745 |  0:06:35s\n",
      "\n",
      "Early stopping occurred at epoch 22 with best_epoch = 12 and best_mse_mse = 0.01274\n"
     ]
    },
    {
     "name": "stderr",
     "output_type": "stream",
     "text": [
      "/usr/local/lib/python3.9/site-packages/pytorch_tabnet/callbacks.py:172: UserWarning: Best weights from best epoch are automatically used!\n",
      "  warnings.warn(wrn_msg)\n"
     ]
    },
    {
     "name": "stdout",
     "output_type": "stream",
     "text": [
      "MSE: 0.014322879234792673\n",
      "R2 Score: 0.9353853402097261\n"
     ]
    }
   ],
   "source": [
    "best_mse = float('inf')\n",
    "best_model = None\n",
    "best_params = None\n",
    "iter = 0\n",
    "for b, n_e, n_d, n_a, n_s, n_i in params:\n",
    "    iter += 1\n",
    "    print(f'\\nIteration {iter}/{comb}')\n",
    "    print(f\"Configuration batch size: {b} - epochs: {n_e} - n_d: {n_d} - n_a: {n_a} - steps: {n_s} - n_indipendent: {n_i}\")\n",
    "    \n",
    "    model = get_model(b, n_e, n_d, n_a, n_s, n_i)\n",
    "    #save results for each iteration with tensorboard\n",
    "    log = f'./results/TabNet/bach_size_{b}_nEpochs_{n_e}_nd_{n_d}_na_{n_a}_nSteps_{n_s}_nIndipendent_{n_i}'\n",
    "\n",
    "    if os.path.exists(\"./results/TabNet\"+log):\n",
    "        print(\"Model already trained. Skipping...\")\n",
    "        continue\n",
    "\n",
    "    writer = SummaryWriter(f'results/TabNet/bach_size_{b}_nEpochs_{n_e}_nd_{n_d}_na_{n_a}_nSteps_{n_s}_nIndipendent_{n_i}')\n",
    "    #fit model\n",
    "    model.fit(\n",
    "        X_train=X_train,\n",
    "        y_train=y_train,\n",
    "        eval_set=[(X_val, y_val)],\n",
    "        eval_name=['mse'],\n",
    "        patience=10,\n",
    "        batch_size=b\n",
    "    )\n",
    "\n",
    "    # evaluate model\n",
    "    y_pred = model.predict(X_test)\n",
    "    mse = mean_squared_error(y_test, y_pred)\n",
    "    r2 = r2_score(y_test, y_pred)\n",
    "    #save mse and r2 score for each iteration with tensorboard\n",
    "    writer.add_scalar('MSE', mse)\n",
    "    writer.add_scalar('R2 Score', r2)\n",
    "    print('MSE:', mse)\n",
    "    print('R2 Score:', r2)\n",
    "    if mse < best_mse:\n",
    "        best_mse = mse\n",
    "        best_model = copy.deepcopy(model)\n",
    "        best_params = (b, n_e, n_d, n_a, n_s, n_i)\n",
    "        print('Best model updated')\n",
    "    writer.close()\n",
    "            "
   ]
  },
  {
   "cell_type": "code",
   "execution_count": 39,
   "metadata": {},
   "outputs": [
    {
     "name": "stdout",
     "output_type": "stream",
     "text": [
      "TabNetRegressor(n_d=16, n_a=32, n_steps=7, gamma=1.3, cat_idxs=[], cat_dims=[], cat_emb_dim=1, n_independent=2, n_shared=2, epsilon=1e-15, momentum=0.02, lambda_sparse=0.001, seed=0, clip_value=1, verbose=1, optimizer_fn=<class 'torch.optim.adam.Adam'>, optimizer_params={'lr': 0.02}, scheduler_fn=None, scheduler_params={}, mask_type='sparsemax', input_dim=1128, output_dim=1, device_name='auto', n_shared_decoder=1, n_indep_decoder=1)\n",
      "Best MSE:  0.00639599107305163\n",
      "R2 score 0.9711458303577016\n"
     ]
    }
   ],
   "source": [
    "#pint the best model\n",
    "print(best_model)\n",
    "print(\"Best MSE: \", best_mse)\n",
    "print(\"R2 score\", r2_score(y_test, best_model.predict(X_test)))\n"
   ]
  }
 ],
 "metadata": {
  "kernelspec": {
   "display_name": "Python 3",
   "language": "python",
   "name": "python3"
  },
  "language_info": {
   "codemirror_mode": {
    "name": "ipython",
    "version": 3
   },
   "file_extension": ".py",
   "mimetype": "text/x-python",
   "name": "python",
   "nbconvert_exporter": "python",
   "pygments_lexer": "ipython3",
   "version": "3.9.10"
  },
  "orig_nbformat": 4,
  "vscode": {
   "interpreter": {
    "hash": "aee8b7b246df8f9039afb4144a1f6fd8d2ca17a180786b69acc140d282b71a49"
   }
  }
 },
 "nbformat": 4,
 "nbformat_minor": 2
}
