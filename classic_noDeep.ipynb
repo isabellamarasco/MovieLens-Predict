{
 "cells": [
  {
   "cell_type": "code",
   "execution_count": null,
   "metadata": {},
   "outputs": [],
   "source": [
    "#import\n",
    "import pandas as pd\n",
    "import matplotlib.pyplot as plt\n",
    "import numpy as np\n",
    "import seaborn as sns\n",
    "\n",
    "from sklearn.model_selection import train_test_split\n",
    "from sklearn.decomposition import PCA\n",
    "from sklearn.preprocessing import LabelEncoder\n",
    "from sklearn import linear_model\n",
    "from sklearn.metrics import r2_score\n",
    "from sklearn.metrics import mean_squared_error\n",
    "from sklearn.tree import DecisionTreeRegressor\n",
    "from itertools import product\n",
    "from sklearn.ensemble import RandomForestRegressor\n",
    "from sklearn.model_selection import GridSearchCV\n",
    "from sklearn.neighbors import KNeighborsRegressor\n",
    "from sklearn.linear_model import Ridge\n",
    "from torch.utils.tensorboard import SummaryWriter\n"
   ]
  },
  {
   "cell_type": "code",
   "execution_count": null,
   "metadata": {},
   "outputs": [],
   "source": [
    "#import dataset\n",
    "df = pd.read_csv('dataset-ml-25m/dataset.csv')"
   ]
  },
  {
   "attachments": {},
   "cell_type": "markdown",
   "metadata": {},
   "source": [
    "### Data Prepocessing"
   ]
  },
  {
   "cell_type": "code",
   "execution_count": null,
   "metadata": {},
   "outputs": [],
   "source": [
    "#split data and labels \n",
    "X = df.drop(['rating'], axis=1)\n",
    "y = df['rating']\n",
    "\n",
    "# Split the data into training and testing sets\n",
    "X_train, X_test, y_train, y_test = train_test_split(X, y, test_size=0.25, random_state=42)\n",
    "#count the numebr of x_train \n",
    "print(\"Number of train set: \", X_train.shape[0])\n",
    "print(\"Numebr of test set: \", X_test.shape[0])\n",
    "\n",
    "pca = PCA(n_components=0.95)\n",
    "pca.fit(X_train)\n",
    "X_train = pca.transform(X_train)\n",
    "X_test = pca.transform(X_test)"
   ]
  },
  {
   "cell_type": "code",
   "execution_count": null,
   "metadata": {},
   "outputs": [],
   "source": [
    "#plot dataset after PCA\n",
    "plt.figure(figsize=(8, 6))\n",
    "plt.scatter(X_train[:, 0], X_train[:, 1], c=y_train, cmap=\"Blues\")\n",
    "plt.xlabel('First principal component')\n",
    "plt.ylabel('Second Principal Component')\n",
    "plt.show()\n"
   ]
  },
  {
   "attachments": {},
   "cell_type": "markdown",
   "metadata": {},
   "source": [
    "### Linear Regressor"
   ]
  },
  {
   "cell_type": "code",
   "execution_count": null,
   "metadata": {},
   "outputs": [],
   "source": [
    "log_name = f\"linear_regression\"\n",
    "writer = SummaryWriter(f\"results/tradML/pca/LinearRegression/{log_name}\")\n",
    "\n",
    "lin_regr = linear_model.LinearRegression()\n",
    "lin_regr.fit(X_train, y_train)\n",
    "y_pred = lin_regr.predict(X_test)\n",
    "\n",
    "# Compute the RSS\n",
    "mse = mean_squared_error(y_test, y_pred) \n",
    "print('Mean Square Error:', mse)\n",
    "writer.add_scalar('Loss', mse)\n",
    "writer.flush()\n",
    "\n",
    "# Compute the R-square index\n",
    "rsquare = r2_score(y_test, y_pred) \n",
    "print('R-square:', rsquare)\n"
   ]
  },
  {
   "attachments": {},
   "cell_type": "markdown",
   "metadata": {},
   "source": [
    "### Random Forest Regressor\n",
    "modificare\n"
   ]
  },
  {
   "cell_type": "code",
   "execution_count": null,
   "metadata": {},
   "outputs": [],
   "source": [
    "param_grid = {\n",
    "                \"n_estimators\": [10, 50, 100, 200, 500, 1000],\n",
    "                \"criterion\": [\"squared_error\", \"absolute_error\", \"friedman_mse\", \"poisson\"]\n",
    "              }\n",
    "dt = RandomForestRegressor()\n",
    "dt.fit(X_train,y_train)\n",
    "grid_search = GridSearchCV(dt, param_grid, cv=5)\n",
    "grid_search.fit(X_train,y_train)\n",
    "best_no_leaves= grid_search.best_params_\n",
    "print(\"Best number of leaves: \", best_no_leaves)\n"
   ]
  },
  {
   "cell_type": "code",
   "execution_count": null,
   "metadata": {},
   "outputs": [],
   "source": [
    "df = pd.DataFrame.from_dict(grid_search.best_params_, orient='index', columns=['value'])\n",
    "df = df.T\n",
    "df.to_csv('best_params/pca/random_forest.csv', index=False)"
   ]
  },
  {
   "cell_type": "code",
   "execution_count": null,
   "metadata": {},
   "outputs": [],
   "source": [
    "n_tree = [ i for i in range(1, 10, 5)]\n",
    "criterion = [\"squared_error\", \"absolute_error\",\"friedman_mse\", \"poisson\"]\n",
    "\n",
    "rf = RandomForestRegressor()\n",
    "param_grid = {\n",
    "    'n_estimators': n_tree,\n",
    "    'criterion': criterion\n",
    "}\n",
    "grid_search = GridSearchCV(rf, param_grid=param_grid)\n",
    "\n",
    "# addestra il modello sul set di dati\n",
    "grid_search.fit(X_train, y_train)\n",
    "\n",
    "#stampa il valore ottimale per n_estimators\n",
    "print(grid_search.best_params_['n_estimators'])\n",
    "\n",
    "# Compute the RSS\n",
    "mse = mean_squared_error(y_test, y_pred) \n",
    "print('Mean Square Error:', mse)\n",
    "\n",
    "# Compute the R-square index\n",
    "rsquare = r2_score(y_test, y_pred) \n",
    "print('R-square:', rsquare)\n"
   ]
  },
  {
   "attachments": {},
   "cell_type": "markdown",
   "metadata": {},
   "source": [
    "### Decision tree regressor\n",
    "\n",
    "mse = 0.059635967667036244\n",
    "\n",
    "r2 = 0.7331558916326424"
   ]
  },
  {
   "cell_type": "code",
   "execution_count": 29,
   "metadata": {},
   "outputs": [
    {
     "name": "stdout",
     "output_type": "stream",
     "text": [
      "Best number of leaves:  {'max_depth': 7}\n"
     ]
    }
   ],
   "source": [
    "#search best parameters for decision tree\n",
    "param_grid = {\n",
    "                \"max_depth\": [7,10]\n",
    "              }\n",
    "dt = DecisionTreeRegressor()\n",
    "dt.fit(X_train,y_train)\n",
    "grid_search = GridSearchCV(dt, param_grid, cv=5)\n",
    "grid_search.fit(X_train,y_train)\n",
    "best_hyper= grid_search.best_params_\n",
    "print(\"Best number of leaves: \", best_hyper)"
   ]
  },
  {
   "cell_type": "code",
   "execution_count": 30,
   "metadata": {},
   "outputs": [],
   "source": [
    "df = pd.DataFrame.from_dict(grid_search.best_params_, orient='index', columns=['value'])\n",
    "df = df.T\n",
    "df.to_csv('best_params/pca/decision_tree.csv', index=False)"
   ]
  },
  {
   "cell_type": "code",
   "execution_count": 31,
   "metadata": {},
   "outputs": [
    {
     "name": "stdout",
     "output_type": "stream",
     "text": [
      "TRAIN SET\n",
      "Mean Squared Error:  0.04609258061576105\n",
      "R2 Score:  0.8062561153306504\n",
      "TEST SET\n",
      "Mean Squared Error:  0.059635967667036244\n",
      "R2 Score:  0.7331558916326424\n"
     ]
    }
   ],
   "source": [
    "dt = DecisionTreeRegressor(max_depth= 7)\n",
    "dt= dt.fit(X_train,y_train)\n",
    "\n",
    "y_pred= dt.predict(X_train)\n",
    "print (\"TRAIN SET\")\n",
    "print(\"Mean Squared Error: \", mean_squared_error(y_train, y_pred))\n",
    "print(\"R2 Score: \", r2_score(y_train, y_pred))\n",
    "\n",
    "y_pred= dt.predict(X_test)\n",
    "print (\"TEST SET\")\n",
    "print(\"Mean Squared Error: \", mean_squared_error(y_test, y_pred))\n",
    "print(\"R2 Score: \", r2_score(y_test, y_pred))"
   ]
  },
  {
   "attachments": {},
   "cell_type": "markdown",
   "metadata": {},
   "source": [
    "### Ridge Regressor\n",
    "Mean Squared Error:  0.006422342939029505\n",
    "\n",
    "R2 Score:  0.9712629065606324"
   ]
  },
  {
   "cell_type": "code",
   "execution_count": 32,
   "metadata": {},
   "outputs": [
    {
     "name": "stdout",
     "output_type": "stream",
     "text": [
      "Best number of leaves:  {'alpha': 0.1}\n"
     ]
    }
   ],
   "source": [
    "param_grid = {\n",
    "                \"alpha\":[0.0001, 0.001, 0.1, 0.5, 1, 5, 10, 20]\n",
    "              }\n",
    "rt = ridge = Ridge()\n",
    "rt.fit(X_train,y_train)\n",
    "grid_search = GridSearchCV(rt, param_grid, cv=5)\n",
    "grid_search.fit(X_train,y_train)\n",
    "best_hyper= grid_search.best_params_\n",
    "print(\"Best number of leaves: \", best_hyper)"
   ]
  },
  {
   "cell_type": "code",
   "execution_count": 33,
   "metadata": {},
   "outputs": [],
   "source": [
    "rt = pd.DataFrame.from_dict(grid_search.best_params_, orient='index', columns=['value'])\n",
    "rt = rt.T\n",
    "rt.to_csv('best_params/pca/ridge.csv', index=False)"
   ]
  },
  {
   "cell_type": "code",
   "execution_count": 34,
   "metadata": {},
   "outputs": [
    {
     "name": "stdout",
     "output_type": "stream",
     "text": [
      "TRAIN SET\n",
      "Mean Squared Error:  0.0054952486662387745\n",
      "R2 Score:  0.9769014707009678\n",
      "TEST SET\n",
      "Mean Squared Error:  0.006422342939029505\n",
      "R2 Score:  0.9712629065606324\n"
     ]
    }
   ],
   "source": [
    "ridge = Ridge(alpha=0.1)\n",
    "ridge.fit(X_train, y_train)\n",
    "\n",
    "y_pred = ridge.predict(X_train)\n",
    "print (\"TRAIN SET\")\n",
    "print(\"Mean Squared Error: \", mean_squared_error(y_train, y_pred))\n",
    "print(\"R2 Score: \", r2_score(y_train, y_pred))\n",
    "\n",
    "print(\"TEST SET\")\n",
    "y_pred= ridge.predict(X_test)\n",
    "print(\"Mean Squared Error: \", mean_squared_error(y_test, y_pred))\n",
    "print(\"R2 Score: \", r2_score(y_test, y_pred))"
   ]
  },
  {
   "attachments": {},
   "cell_type": "markdown",
   "metadata": {},
   "source": [
    "### KNN Regressor\n",
    "Mean Squared Error:  0.04392172471123978\n",
    "\n",
    "R2 Score:  0.8034700546159548"
   ]
  },
  {
   "cell_type": "code",
   "execution_count": null,
   "metadata": {},
   "outputs": [],
   "source": [
    "param_grid = {\n",
    "                'n_neighbors': [ 3, 4, 5, 7, 8, 9, 10],\n",
    "                'weights': ['uniform', 'distance']\n",
    "              }\n",
    "knn = KNeighborsRegressor()\n",
    "knn.fit(X_train,y_train)\n",
    "grid_search = GridSearchCV(knn, param_grid, cv=5)\n",
    "grid_search.fit(X_train,y_train)\n",
    "best_hyper= grid_search.best_params_\n",
    "print(\"Best number of leaves: \", best_hyper)"
   ]
  },
  {
   "cell_type": "code",
   "execution_count": null,
   "metadata": {},
   "outputs": [],
   "source": [
    "knn = pd.DataFrame.from_dict(grid_search.best_params_, orient='index', columns=['value'])\n",
    "knn = knn.T\n",
    "knn.to_csv('best_params/pca/knn.csv', index=False)\n"
   ]
  },
  {
   "cell_type": "code",
   "execution_count": null,
   "metadata": {},
   "outputs": [],
   "source": [
    "knn = KNeighborsRegressor(n_neighbors= 10, weights= 'distance')\n",
    "knn.fit(X_train, y_train)\n",
    "\n",
    "y_pred = knn.predict(X_train)\n",
    "print (\"TRAIN SET\")\n",
    "print(\"Mean Squared Error: \", mean_squared_error(y_train, y_pred))\n",
    "print(\"R2 Score: \", r2_score(y_train, y_pred))\n",
    "\n",
    "print(\"TEST SET\")\n",
    "y_pred= knn.predict(X_test)\n",
    "print(\"Mean Squared Error: \", mean_squared_error(y_test, y_pred))\n",
    "print(\"R2 Score: \", r2_score(y_test, y_pred))"
   ]
  },
  {
   "attachments": {},
   "cell_type": "markdown",
   "metadata": {},
   "source": [
    "### Lasso Regressor\n",
    "\n",
    "Mean Squared Error:  0.006402684362671739\n",
    "\n",
    "R2 Score:  0.971350869839928"
   ]
  },
  {
   "cell_type": "code",
   "execution_count": null,
   "metadata": {},
   "outputs": [],
   "source": [
    "from sklearn.linear_model import Lasso\n",
    "\n",
    "param_grid = {\n",
    "                'alpha':[1e-1, 1e-2, 1e-3, 1e-4, 1e-5, 1e-6]\n",
    "              }\n",
    "lasso = Lasso()\n",
    "lasso.fit(X_train,y_train)\n",
    "grid_search = GridSearchCV(lasso, param_grid, cv=5)\n",
    "grid_search.fit(X_train,y_train)\n",
    "best_hyper= grid_search.best_params_\n",
    "print(\"Best values - Hyperparameters: \", best_hyper)"
   ]
  },
  {
   "cell_type": "code",
   "execution_count": null,
   "metadata": {},
   "outputs": [],
   "source": [
    "lasso = pd.DataFrame.from_dict(grid_search.best_params_, orient='index', columns=['value'])\n",
    "lasso= lasso.T\n",
    "lasso.to_csv('best_params/pca/lasso.csv', index=False)"
   ]
  },
  {
   "cell_type": "code",
   "execution_count": null,
   "metadata": {},
   "outputs": [],
   "source": [
    "lasso = Lasso(alpha = 1e-05)\n",
    "lasso.fit(X_train, y_train)\n",
    "\n",
    "y_pred = lasso.predict(X_train)\n",
    "print (\"TRAIN SET\")\n",
    "print(\"Mean Squared Error: \", mean_squared_error(y_train, y_pred))\n",
    "print(\"R2 Score: \", r2_score(y_train, y_pred))\n",
    "\n",
    "print(\"TEST SET\")\n",
    "y_pred= lasso.predict(X_test)\n",
    "print(\"Mean Squared Error: \", mean_squared_error(y_test, y_pred))\n",
    "print(\"R2 Score: \", r2_score(y_test, y_pred))"
   ]
  }
 ],
 "metadata": {
  "kernelspec": {
   "display_name": "Python 3",
   "language": "python",
   "name": "python3"
  },
  "language_info": {
   "codemirror_mode": {
    "name": "ipython",
    "version": 3
   },
   "file_extension": ".py",
   "mimetype": "text/x-python",
   "name": "python",
   "nbconvert_exporter": "python",
   "pygments_lexer": "ipython3",
   "version": "3.9.10"
  },
  "orig_nbformat": 4
 },
 "nbformat": 4,
 "nbformat_minor": 2
}
