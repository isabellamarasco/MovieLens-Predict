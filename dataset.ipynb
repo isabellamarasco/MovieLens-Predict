{
 "cells": [
  {
   "cell_type": "code",
   "execution_count": null,
   "metadata": {},
   "outputs": [],
   "source": [
    "#import\n",
    "import pandas as pd\n",
    "from sklearn.preprocessing import MultiLabelBinarizer\n",
    "\n",
    "path = '/Users/isabella/Desktop/dataset-ml-25m/'\n",
    "movies = pd.read_csv(path + 'movies.csv', sep=',')"
   ]
  },
  {
   "cell_type": "code",
   "execution_count": null,
   "metadata": {},
   "outputs": [],
   "source": [
    "# La lista di generi che vuoi codificare\n",
    "genres_list = [\"Action\",\"Adventure\",\"Animation\",\"Children\",\n",
    "\"Comedy\",\"Crime\",\"Documentary\",\"Drama\",\"Fantasy\",\"Film-Noir\",\"Horror\",\"IMAX\",\n",
    "\"Musical\",\"Mystery\",\"Romance\",\"Sci-Fi\",\"Thriller\",\"War\",\"Western\",\"(no genres listed)\"]\n",
    "\n",
    "# Crea un'istanza della classe MultiLabelBinarizer\n",
    "mlb = MultiLabelBinarizer(classes=genres_list)\n",
    "\n",
    "# Suddividi la colonna genres in più colonne, una per ogni genere\n",
    "movies_genres = movies['genres'].str.get_dummies(sep='|')\n",
    "\n",
    "# Seleziona solo le colonne corrispondenti ai generi presenti in genres_list\n",
    "movies_genres = movies_genres[genres_list]\n",
    "\n",
    "# Aggiungi le colonne codificate a dummy variables al dataframe originale\n",
    "movies = pd.concat([movies, movies_genres], axis=1)\n",
    "\n",
    "#drop genres column\n",
    "movies = movies.drop('genres', axis=1)"
   ]
  },
  {
   "cell_type": "code",
   "execution_count": null,
   "metadata": {},
   "outputs": [],
   "source": [
    "movies.head()\n",
    "print(movies)\n",
    "#print movies in csv\n",
    "movies.to_csv(path + 'movies_modify.csv')"
   ]
  },
  {
   "cell_type": "code",
   "execution_count": null,
   "metadata": {},
   "outputs": [],
   "source": [
    "#print the number of rows and columns\n",
    "#print(\"Dataframe shape: \", movies.shape)\n",
    "#print(\"Numero di righe:\", movies.shape[0])\n",
    "#print(\"Numero di colonne:\", movies.shape[1])\n",
    "\n",
    "#Analizza la distribuzione delle valutazioni:\n",
    "#print(movies.describe())\n",
    "#print the dataframe info\n",
    "#print(\"Dataframe info: \", movies.info())\n",
    "\n",
    "#count the null values in each column\n",
    "#print(\"Null values: \", movies.isna().sum())\n",
    "\n",
    "#print duplicates\n",
    "#print(\"Duplicates: \", movies.duplicated().sum())"
   ]
  },
  {
   "cell_type": "code",
   "execution_count": null,
   "metadata": {},
   "outputs": [],
   "source": [
    "#count for each genre_list the number of movies\n",
    "#print(\"Number of movies for each genre: \", movies[genres_list].sum())\n",
    "#plot the number of movies for each genre\n",
    "#movies[genres_list].sum().plot(kind='bar', figsize=(15,5), title='Number of movies for each genre')"
   ]
  },
  {
   "cell_type": "code",
   "execution_count": null,
   "metadata": {},
   "outputs": [],
   "source": [
    "# Merge tag and movies and create columns for each tag\n",
    "gen_tags = pd.read_csv(path + 'genome-tags.csv', sep=',')\n",
    "gen_scores = pd.read_csv(path + 'genome-scores.csv', sep=',')\n",
    "\n",
    "#print(\"Null values: \", gen_tags.isna().sum())\n",
    "#print(\"Null values: \", gen_scores.isna().sum())\n",
    "#print duplicates\n",
    "#print(\"Duplicates: \", gen_tags.duplicated().sum())\n",
    "#print(\"Duplicates: \", gen_scores.duplicated().sum())"
   ]
  },
  {
   "cell_type": "code",
   "execution_count": null,
   "metadata": {},
   "outputs": [],
   "source": [
    "df = movies.merge(gen_scores,on='movieId')\n",
    "df = df.merge(gen_tags, on='tagId')\n",
    "df =df.pivot_table(index=['movieId','title','Action','Adventure','Animation','Children','Comedy','Crime',\n",
    "                'Documentary','Drama','Fantasy','Film-Noir','Horror',\n",
    "                'IMAX','Musical','Mystery','Romance','Sci-Fi','Thriller','War','Western','(no genres listed)'],\n",
    "                columns='tag', values='relevance', fill_value=0).reset_index().rename_axis(None,axis=1)\n",
    "\n",
    "df.to_csv(path + \"movies_genome.csv\",index=False)"
   ]
  },
  {
   "cell_type": "code",
   "execution_count": null,
   "metadata": {},
   "outputs": [],
   "source": [
    "#Merge movies_genome with film rating\n",
    "ratings = pd.read_csv(path + 'ratings.csv', sep=',')\n",
    "movies = pd.read_csv(path + 'movies_genome.csv', sep=',')\n",
    "\n",
    "ratings = ratings.groupby(['movieId'])['rating'].mean().reset_index()\n",
    "\n",
    "df.to_csv(path + \"movies_rating.csv\",index=False)\n",
    "\n",
    "#Rounded to the nearest 0.5\n",
    "def myround(x, prec=2, base=.5):\n",
    "  return round(base * round(float(x)/base),prec)\n",
    "\n",
    "ratings[\"rating\"] = ratings[\"rating\"].apply(lambda x:myround(x))\n",
    "df = ratings.merge(movies,on='movieId')\n",
    "\n",
    "dataset = df.drop('title', axis=1)"
   ]
  },
  {
   "cell_type": "code",
   "execution_count": null,
   "metadata": {},
   "outputs": [],
   "source": [
    "dataset.to_csv(path + \"dataset.csv\",index=False)"
   ]
  }
 ],
 "metadata": {
  "kernelspec": {
   "display_name": "Python 3",
   "language": "python",
   "name": "python3"
  },
  "language_info": {
   "codemirror_mode": {
    "name": "ipython",
    "version": 3
   },
   "file_extension": ".py",
   "mimetype": "text/x-python",
   "name": "python",
   "nbconvert_exporter": "python",
   "pygments_lexer": "ipython3",
   "version": "3.9.10"
  },
  "orig_nbformat": 4,
  "vscode": {
   "interpreter": {
    "hash": "aee8b7b246df8f9039afb4144a1f6fd8d2ca17a180786b69acc140d282b71a49"
   }
  }
 },
 "nbformat": 4,
 "nbformat_minor": 2
}
